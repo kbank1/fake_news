{
 "cells": [
  {
   "cell_type": "code",
   "execution_count": 10,
   "id": "31167258",
   "metadata": {},
   "outputs": [],
   "source": [
    "#Import all the necessary libraries\n",
    "\n",
    "import pandas as pd\n",
    "import numpy as np\n",
    "\n",
    "from sklearn.pipeline import make_pipeline\n",
    "from sklearn.model_selection import train_test_split\n",
    "from sklearn.naive_bayes import MultinomialNB\n",
    "from sklearn.feature_extraction.text import CountVectorizer, TfidfVectorizer\n",
    "\n",
    "import nltk\n",
    "import string\n",
    "from nltk import word_tokenize\n",
    "from nltk.corpus import stopwords\n",
    "\n",
    "from sklearn.metrics import classification_report"
   ]
  },
  {
   "cell_type": "markdown",
   "id": "99e2e6cc",
   "metadata": {
    "heading_collapsed": true
   },
   "source": [
    "# Data Fake News Detection (Fakenewsnet)"
   ]
  },
  {
   "cell_type": "markdown",
   "id": "bf00afed",
   "metadata": {
    "hidden": true
   },
   "source": [
    "## Import & basic cleaning"
   ]
  },
  {
   "cell_type": "markdown",
   "id": "27e8db8d",
   "metadata": {
    "hidden": true
   },
   "source": [
    "### Import Data"
   ]
  },
  {
   "cell_type": "code",
   "execution_count": 2,
   "id": "c7bc0614",
   "metadata": {
    "hidden": true
   },
   "outputs": [
    {
     "data": {
      "text/html": [
       "<div>\n",
       "<style scoped>\n",
       "    .dataframe tbody tr th:only-of-type {\n",
       "        vertical-align: middle;\n",
       "    }\n",
       "\n",
       "    .dataframe tbody tr th {\n",
       "        vertical-align: top;\n",
       "    }\n",
       "\n",
       "    .dataframe thead th {\n",
       "        text-align: right;\n",
       "    }\n",
       "</style>\n",
       "<table border=\"1\" class=\"dataframe\">\n",
       "  <thead>\n",
       "    <tr style=\"text-align: right;\">\n",
       "      <th></th>\n",
       "      <th>id</th>\n",
       "      <th>text</th>\n",
       "      <th>title</th>\n",
       "      <th>description</th>\n",
       "    </tr>\n",
       "  </thead>\n",
       "  <tbody>\n",
       "    <tr>\n",
       "      <th>0</th>\n",
       "      <td>politifact8769</td>\n",
       "      <td>The award-winning, nonpartisan intel you can t...</td>\n",
       "      <td>Legislative Tracking Software</td>\n",
       "      <td>Track federal legislation with expert policy a...</td>\n",
       "    </tr>\n",
       "    <tr>\n",
       "      <th>1</th>\n",
       "      <td>politifact12052</td>\n",
       "      <td>At the CNN debate in Miami, GOP candidates spa...</td>\n",
       "      <td>The CNN Miami Republican debate transcript, an...</td>\n",
       "      <td>Washington Post reporters add insight and anal...</td>\n",
       "    </tr>\n",
       "    <tr>\n",
       "      <th>2</th>\n",
       "      <td>politifact4858</td>\n",
       "      <td>It’s that time of year again – white elephant ...</td>\n",
       "      <td>Mitt v Mitt</td>\n",
       "      <td>Yup, Mitt vs Mitt aja. Rame!</td>\n",
       "    </tr>\n",
       "    <tr>\n",
       "      <th>3</th>\n",
       "      <td>politifact10945</td>\n",
       "      <td>Thank you! Oh, thank you all! Thank you so ver...</td>\n",
       "      <td>Hillary Clinton Transcript: Read Full Text of ...</td>\n",
       "      <td>Hillary Clinton held the first major rally of ...</td>\n",
       "    </tr>\n",
       "    <tr>\n",
       "      <th>4</th>\n",
       "      <td>politifact14511</td>\n",
       "      <td>Maddow on Trump indictment: 'He knew it was wr...</td>\n",
       "      <td>'Discriminatory animus': Trump sued on DACA</td>\n",
       "      <td>New York Attorney General Eric Schneiderman ta...</td>\n",
       "    </tr>\n",
       "  </tbody>\n",
       "</table>\n",
       "</div>"
      ],
      "text/plain": [
       "                id                                               text  \\\n",
       "0   politifact8769  The award-winning, nonpartisan intel you can t...   \n",
       "1  politifact12052  At the CNN debate in Miami, GOP candidates spa...   \n",
       "2   politifact4858  It’s that time of year again – white elephant ...   \n",
       "3  politifact10945  Thank you! Oh, thank you all! Thank you so ver...   \n",
       "4  politifact14511  Maddow on Trump indictment: 'He knew it was wr...   \n",
       "\n",
       "                                               title  \\\n",
       "0                      Legislative Tracking Software   \n",
       "1  The CNN Miami Republican debate transcript, an...   \n",
       "2                                        Mitt v Mitt   \n",
       "3  Hillary Clinton Transcript: Read Full Text of ...   \n",
       "4        'Discriminatory animus': Trump sued on DACA   \n",
       "\n",
       "                                         description  \n",
       "0  Track federal legislation with expert policy a...  \n",
       "1  Washington Post reporters add insight and anal...  \n",
       "2                       Yup, Mitt vs Mitt aja. Rame!  \n",
       "3  Hillary Clinton held the first major rally of ...  \n",
       "4  New York Attorney General Eric Schneiderman ta...  "
      ]
     },
     "execution_count": 2,
     "metadata": {},
     "output_type": "execute_result"
    }
   ],
   "source": [
    "pol_real=pd.read_json(\"/home/kathrin/code/kbank1/fake_news/raw_data/politifact_hr.json\", orient='index')\n",
    "pol_real.head()"
   ]
  },
  {
   "cell_type": "code",
   "execution_count": 3,
   "id": "63a6618d",
   "metadata": {
    "hidden": true
   },
   "outputs": [
    {
     "data": {
      "text/html": [
       "<div>\n",
       "<style scoped>\n",
       "    .dataframe tbody tr th:only-of-type {\n",
       "        vertical-align: middle;\n",
       "    }\n",
       "\n",
       "    .dataframe tbody tr th {\n",
       "        vertical-align: top;\n",
       "    }\n",
       "\n",
       "    .dataframe thead th {\n",
       "        text-align: right;\n",
       "    }\n",
       "</style>\n",
       "<table border=\"1\" class=\"dataframe\">\n",
       "  <thead>\n",
       "    <tr style=\"text-align: right;\">\n",
       "      <th></th>\n",
       "      <th>id</th>\n",
       "      <th>text</th>\n",
       "      <th>title</th>\n",
       "      <th>description</th>\n",
       "    </tr>\n",
       "  </thead>\n",
       "  <tbody>\n",
       "    <tr>\n",
       "      <th>0</th>\n",
       "      <td>politifact11773</td>\n",
       "      <td>Republican attacks on transgendered Americans ...</td>\n",
       "      <td>Virginia Republican Wants Schools To Check Chi...</td>\n",
       "      <td>Republican attacks on transgendered Americans ...</td>\n",
       "    </tr>\n",
       "    <tr>\n",
       "      <th>1</th>\n",
       "      <td>politifact13827</td>\n",
       "      <td>Whoopi Goldberg is in hot water after comments...</td>\n",
       "      <td>Whoopi Goldberg: Navy SEAL Widow was “Looking ...</td>\n",
       "      <td>Whoopi Goldberg is in hot water after comments...</td>\n",
       "    </tr>\n",
       "    <tr>\n",
       "      <th>2</th>\n",
       "      <td>politifact13570</td>\n",
       "      <td>Washington, DC — A former Secret Service agent...</td>\n",
       "      <td>Secret Service Agent Says Obama Is Muslim &amp; Ga...</td>\n",
       "      <td>Washington, DC — A former Secret Service agent...</td>\n",
       "    </tr>\n",
       "    <tr>\n",
       "      <th>3</th>\n",
       "      <td>politifact14947</td>\n",
       "      <td>Bill Clinton’s hitman has confessed to more th...</td>\n",
       "      <td>Bill Clinton’s Hitman Confesses On His Deathbe...</td>\n",
       "      <td>Bill Clinton’s hitman has confessed to more th...</td>\n",
       "    </tr>\n",
       "    <tr>\n",
       "      <th>4</th>\n",
       "      <td>politifact14517</td>\n",
       "      <td>About Trendolizer™\\n\\nTrendolizer™ (patent pen...</td>\n",
       "      <td>UPDATE: Florida Governor Rick Scott Now Listed...</td>\n",
       "      <td>Scott&amp;#8217;s prognosis isn&amp;#8217;t good. (via...</td>\n",
       "    </tr>\n",
       "  </tbody>\n",
       "</table>\n",
       "</div>"
      ],
      "text/plain": [
       "                id                                               text  \\\n",
       "0  politifact11773  Republican attacks on transgendered Americans ...   \n",
       "1  politifact13827  Whoopi Goldberg is in hot water after comments...   \n",
       "2  politifact13570  Washington, DC — A former Secret Service agent...   \n",
       "3  politifact14947  Bill Clinton’s hitman has confessed to more th...   \n",
       "4  politifact14517  About Trendolizer™\\n\\nTrendolizer™ (patent pen...   \n",
       "\n",
       "                                               title  \\\n",
       "0  Virginia Republican Wants Schools To Check Chi...   \n",
       "1  Whoopi Goldberg: Navy SEAL Widow was “Looking ...   \n",
       "2  Secret Service Agent Says Obama Is Muslim & Ga...   \n",
       "3  Bill Clinton’s Hitman Confesses On His Deathbe...   \n",
       "4  UPDATE: Florida Governor Rick Scott Now Listed...   \n",
       "\n",
       "                                         description  \n",
       "0  Republican attacks on transgendered Americans ...  \n",
       "1  Whoopi Goldberg is in hot water after comments...  \n",
       "2  Washington, DC — A former Secret Service agent...  \n",
       "3  Bill Clinton’s hitman has confessed to more th...  \n",
       "4  Scott&#8217;s prognosis isn&#8217;t good. (via...  "
      ]
     },
     "execution_count": 3,
     "metadata": {},
     "output_type": "execute_result"
    }
   ],
   "source": [
    "pol_fake=pd.read_json(\"/home/kathrin/code/kbank1/fake_news/raw_data/politifact_hf.json\", orient='index')\n",
    "pol_fake.head()"
   ]
  },
  {
   "cell_type": "code",
   "execution_count": 4,
   "id": "9b06dd4e",
   "metadata": {
    "hidden": true
   },
   "outputs": [
    {
     "data": {
      "text/html": [
       "<div>\n",
       "<style scoped>\n",
       "    .dataframe tbody tr th:only-of-type {\n",
       "        vertical-align: middle;\n",
       "    }\n",
       "\n",
       "    .dataframe tbody tr th {\n",
       "        vertical-align: top;\n",
       "    }\n",
       "\n",
       "    .dataframe thead th {\n",
       "        text-align: right;\n",
       "    }\n",
       "</style>\n",
       "<table border=\"1\" class=\"dataframe\">\n",
       "  <thead>\n",
       "    <tr style=\"text-align: right;\">\n",
       "      <th></th>\n",
       "      <th>id</th>\n",
       "      <th>text</th>\n",
       "      <th>title</th>\n",
       "      <th>description</th>\n",
       "    </tr>\n",
       "  </thead>\n",
       "  <tbody>\n",
       "    <tr>\n",
       "      <th>0</th>\n",
       "      <td>gossipcop-1991455469</td>\n",
       "      <td>✕ Close Meghan Markle and Prince Harry have an...</td>\n",
       "      <td>As it happened: Prince Harry and Meghan Markle...</td>\n",
       "      <td>The wedding will take place in spring 2018</td>\n",
       "    </tr>\n",
       "    <tr>\n",
       "      <th>1</th>\n",
       "      <td>gossipcop-7798039260</td>\n",
       "      <td>Kim Kardashian and Kanye West are pulling out ...</td>\n",
       "      <td>Kim &amp; Kanye Install At-Home Panic Room After P...</td>\n",
       "      <td>'Keeping the kids safe is the couples number o...</td>\n",
       "    </tr>\n",
       "    <tr>\n",
       "      <th>2</th>\n",
       "      <td>gossipcop-7817725290</td>\n",
       "      <td>Prince Harry and Meghan currently live at Kens...</td>\n",
       "      <td>£1.4million spent renovating Prince Harry and ...</td>\n",
       "      <td>Prince Harry and Meghan might not be living in...</td>\n",
       "    </tr>\n",
       "    <tr>\n",
       "      <th>3</th>\n",
       "      <td>gossipcop-5111151830</td>\n",
       "      <td>They can't get enough of the Biebs on this sho...</td>\n",
       "      <td>Photos from Dancing With the Stars: Special Gu...</td>\n",
       "      <td>Photos from Dancing With the Stars: Special Gu...</td>\n",
       "    </tr>\n",
       "    <tr>\n",
       "      <th>4</th>\n",
       "      <td>gossipcop-9658632569</td>\n",
       "      <td>Ben Affleck is keeping life with his three kid...</td>\n",
       "      <td>Jennifer Garner ‘Doesn’t Want’ Her Kids Around...</td>\n",
       "      <td>Jennifer Garner ‘doesn’t want’ her three kids ...</td>\n",
       "    </tr>\n",
       "  </tbody>\n",
       "</table>\n",
       "</div>"
      ],
      "text/plain": [
       "                     id                                               text  \\\n",
       "0  gossipcop-1991455469  ✕ Close Meghan Markle and Prince Harry have an...   \n",
       "1  gossipcop-7798039260  Kim Kardashian and Kanye West are pulling out ...   \n",
       "2  gossipcop-7817725290  Prince Harry and Meghan currently live at Kens...   \n",
       "3  gossipcop-5111151830  They can't get enough of the Biebs on this sho...   \n",
       "4  gossipcop-9658632569  Ben Affleck is keeping life with his three kid...   \n",
       "\n",
       "                                               title  \\\n",
       "0  As it happened: Prince Harry and Meghan Markle...   \n",
       "1  Kim & Kanye Install At-Home Panic Room After P...   \n",
       "2  £1.4million spent renovating Prince Harry and ...   \n",
       "3  Photos from Dancing With the Stars: Special Gu...   \n",
       "4  Jennifer Garner ‘Doesn’t Want’ Her Kids Around...   \n",
       "\n",
       "                                         description  \n",
       "0         The wedding will take place in spring 2018  \n",
       "1  'Keeping the kids safe is the couples number o...  \n",
       "2  Prince Harry and Meghan might not be living in...  \n",
       "3  Photos from Dancing With the Stars: Special Gu...  \n",
       "4  Jennifer Garner ‘doesn’t want’ her three kids ...  "
      ]
     },
     "execution_count": 4,
     "metadata": {},
     "output_type": "execute_result"
    }
   ],
   "source": [
    "gossip_fake=pd.read_json(\"/home/kathrin/code/kbank1/fake_news/raw_data/gossipcop_hf.json\", orient='index')\n",
    "gossip_fake.head()"
   ]
  },
  {
   "cell_type": "code",
   "execution_count": 5,
   "id": "6ee0d3a5",
   "metadata": {
    "hidden": true
   },
   "outputs": [
    {
     "data": {
      "text/html": [
       "<div>\n",
       "<style scoped>\n",
       "    .dataframe tbody tr th:only-of-type {\n",
       "        vertical-align: middle;\n",
       "    }\n",
       "\n",
       "    .dataframe tbody tr th {\n",
       "        vertical-align: top;\n",
       "    }\n",
       "\n",
       "    .dataframe thead th {\n",
       "        text-align: right;\n",
       "    }\n",
       "</style>\n",
       "<table border=\"1\" class=\"dataframe\">\n",
       "  <thead>\n",
       "    <tr style=\"text-align: right;\">\n",
       "      <th></th>\n",
       "      <th>id</th>\n",
       "      <th>text</th>\n",
       "      <th>title</th>\n",
       "      <th>description</th>\n",
       "    </tr>\n",
       "  </thead>\n",
       "  <tbody>\n",
       "    <tr>\n",
       "      <th>0</th>\n",
       "      <td>gossipcop-951329</td>\n",
       "      <td>11 Summer Camp Movies That'll Make You Nostalg...</td>\n",
       "      <td>11 Summer Camp Movies That'll Make You Nostalg...</td>\n",
       "      <td>Nothing says summer like watching a movie all ...</td>\n",
       "    </tr>\n",
       "    <tr>\n",
       "      <th>1</th>\n",
       "      <td>gossipcop-861360</td>\n",
       "      <td>Info Category: Richest Business › Executives N...</td>\n",
       "      <td>Charrisse Jackson Jordan Net Worth</td>\n",
       "      <td>What is Charrisse Jackson Jordan's net worth?</td>\n",
       "    </tr>\n",
       "    <tr>\n",
       "      <th>2</th>\n",
       "      <td>gossipcop-911046</td>\n",
       "      <td>Warning: This story contains major spoilers fr...</td>\n",
       "      <td>Raúl Esparza exits Law &amp; Order: SVU after six ...</td>\n",
       "      <td>The actor reveals why he decided to leave the ...</td>\n",
       "    </tr>\n",
       "    <tr>\n",
       "      <th>3</th>\n",
       "      <td>gossipcop-899120</td>\n",
       "      <td>Lil Peep died of an overdose of fentanyl and g...</td>\n",
       "      <td>Lil Peep Cause of Death Revealed</td>\n",
       "      <td>Pima County Office of the Medical Examiner con...</td>\n",
       "    </tr>\n",
       "    <tr>\n",
       "      <th>4</th>\n",
       "      <td>gossipcop-919455</td>\n",
       "      <td>Goop is kicking off its weekly podcast in a bi...</td>\n",
       "      <td>Gwyneth Paltrow, Oprah talk Weinstein, #MeToo’...</td>\n",
       "      <td>Goop is kicking off its weekly podcast in a bi...</td>\n",
       "    </tr>\n",
       "  </tbody>\n",
       "</table>\n",
       "</div>"
      ],
      "text/plain": [
       "                 id                                               text  \\\n",
       "0  gossipcop-951329  11 Summer Camp Movies That'll Make You Nostalg...   \n",
       "1  gossipcop-861360  Info Category: Richest Business › Executives N...   \n",
       "2  gossipcop-911046  Warning: This story contains major spoilers fr...   \n",
       "3  gossipcop-899120  Lil Peep died of an overdose of fentanyl and g...   \n",
       "4  gossipcop-919455  Goop is kicking off its weekly podcast in a bi...   \n",
       "\n",
       "                                               title  \\\n",
       "0  11 Summer Camp Movies That'll Make You Nostalg...   \n",
       "1                 Charrisse Jackson Jordan Net Worth   \n",
       "2  Raúl Esparza exits Law & Order: SVU after six ...   \n",
       "3                   Lil Peep Cause of Death Revealed   \n",
       "4  Gwyneth Paltrow, Oprah talk Weinstein, #MeToo’...   \n",
       "\n",
       "                                         description  \n",
       "0  Nothing says summer like watching a movie all ...  \n",
       "1      What is Charrisse Jackson Jordan's net worth?  \n",
       "2  The actor reveals why he decided to leave the ...  \n",
       "3  Pima County Office of the Medical Examiner con...  \n",
       "4  Goop is kicking off its weekly podcast in a bi...  "
      ]
     },
     "execution_count": 5,
     "metadata": {},
     "output_type": "execute_result"
    }
   ],
   "source": [
    "gossip_real=pd.read_json(\"/home/kathrin/code/kbank1/fake_news/raw_data/gossipcop_hr.json\", orient='index')\n",
    "gossip_real.head()"
   ]
  },
  {
   "cell_type": "markdown",
   "id": "c9afa54d",
   "metadata": {
    "hidden": true
   },
   "source": [
    "### Concat Data"
   ]
  },
  {
   "cell_type": "code",
   "execution_count": 6,
   "id": "c7d5e75d",
   "metadata": {
    "hidden": true
   },
   "outputs": [
    {
     "name": "stdout",
     "output_type": "stream",
     "text": [
      "(194, 4)\n",
      "(97, 4)\n",
      "(8168, 4)\n",
      "(4084, 4)\n"
     ]
    }
   ],
   "source": [
    "print(pol_real.shape)\n",
    "print(pol_fake.shape)\n",
    "print(gossip_real.shape)\n",
    "print(gossip_fake.shape)"
   ]
  },
  {
   "cell_type": "code",
   "execution_count": 7,
   "id": "ee247ea2",
   "metadata": {
    "hidden": true
   },
   "outputs": [],
   "source": [
    "pol_real[\"fake\"]=0\n",
    "pol_fake[\"fake\"]=1\n",
    "gossip_real[\"fake\"]=0\n",
    "gossip_fake[\"fake\"]=1"
   ]
  },
  {
   "cell_type": "code",
   "execution_count": 8,
   "id": "46618d37",
   "metadata": {
    "hidden": true
   },
   "outputs": [],
   "source": [
    "data=pd.concat((pol_fake, pol_real, gossip_fake, gossip_real),axis=0, ignore_index=True)"
   ]
  },
  {
   "cell_type": "code",
   "execution_count": 9,
   "id": "7d96a6bd",
   "metadata": {
    "hidden": true
   },
   "outputs": [
    {
     "data": {
      "text/plain": [
       "(12543, 5)"
      ]
     },
     "execution_count": 9,
     "metadata": {},
     "output_type": "execute_result"
    }
   ],
   "source": [
    "data.shape"
   ]
  },
  {
   "cell_type": "code",
   "execution_count": 10,
   "id": "260c6345",
   "metadata": {
    "hidden": true
   },
   "outputs": [
    {
     "data": {
      "text/html": [
       "<div>\n",
       "<style scoped>\n",
       "    .dataframe tbody tr th:only-of-type {\n",
       "        vertical-align: middle;\n",
       "    }\n",
       "\n",
       "    .dataframe tbody tr th {\n",
       "        vertical-align: top;\n",
       "    }\n",
       "\n",
       "    .dataframe thead th {\n",
       "        text-align: right;\n",
       "    }\n",
       "</style>\n",
       "<table border=\"1\" class=\"dataframe\">\n",
       "  <thead>\n",
       "    <tr style=\"text-align: right;\">\n",
       "      <th></th>\n",
       "      <th>id</th>\n",
       "      <th>text</th>\n",
       "      <th>title</th>\n",
       "      <th>description</th>\n",
       "      <th>fake</th>\n",
       "    </tr>\n",
       "  </thead>\n",
       "  <tbody>\n",
       "    <tr>\n",
       "      <th>0</th>\n",
       "      <td>politifact11773</td>\n",
       "      <td>Republican attacks on transgendered Americans ...</td>\n",
       "      <td>Virginia Republican Wants Schools To Check Chi...</td>\n",
       "      <td>Republican attacks on transgendered Americans ...</td>\n",
       "      <td>1</td>\n",
       "    </tr>\n",
       "    <tr>\n",
       "      <th>1</th>\n",
       "      <td>politifact13827</td>\n",
       "      <td>Whoopi Goldberg is in hot water after comments...</td>\n",
       "      <td>Whoopi Goldberg: Navy SEAL Widow was “Looking ...</td>\n",
       "      <td>Whoopi Goldberg is in hot water after comments...</td>\n",
       "      <td>1</td>\n",
       "    </tr>\n",
       "    <tr>\n",
       "      <th>2</th>\n",
       "      <td>politifact13570</td>\n",
       "      <td>Washington, DC — A former Secret Service agent...</td>\n",
       "      <td>Secret Service Agent Says Obama Is Muslim &amp; Ga...</td>\n",
       "      <td>Washington, DC — A former Secret Service agent...</td>\n",
       "      <td>1</td>\n",
       "    </tr>\n",
       "    <tr>\n",
       "      <th>3</th>\n",
       "      <td>politifact14947</td>\n",
       "      <td>Bill Clinton’s hitman has confessed to more th...</td>\n",
       "      <td>Bill Clinton’s Hitman Confesses On His Deathbe...</td>\n",
       "      <td>Bill Clinton’s hitman has confessed to more th...</td>\n",
       "      <td>1</td>\n",
       "    </tr>\n",
       "    <tr>\n",
       "      <th>4</th>\n",
       "      <td>politifact14517</td>\n",
       "      <td>About Trendolizer™\\n\\nTrendolizer™ (patent pen...</td>\n",
       "      <td>UPDATE: Florida Governor Rick Scott Now Listed...</td>\n",
       "      <td>Scott&amp;#8217;s prognosis isn&amp;#8217;t good. (via...</td>\n",
       "      <td>1</td>\n",
       "    </tr>\n",
       "  </tbody>\n",
       "</table>\n",
       "</div>"
      ],
      "text/plain": [
       "                id                                               text  \\\n",
       "0  politifact11773  Republican attacks on transgendered Americans ...   \n",
       "1  politifact13827  Whoopi Goldberg is in hot water after comments...   \n",
       "2  politifact13570  Washington, DC — A former Secret Service agent...   \n",
       "3  politifact14947  Bill Clinton’s hitman has confessed to more th...   \n",
       "4  politifact14517  About Trendolizer™\\n\\nTrendolizer™ (patent pen...   \n",
       "\n",
       "                                               title  \\\n",
       "0  Virginia Republican Wants Schools To Check Chi...   \n",
       "1  Whoopi Goldberg: Navy SEAL Widow was “Looking ...   \n",
       "2  Secret Service Agent Says Obama Is Muslim & Ga...   \n",
       "3  Bill Clinton’s Hitman Confesses On His Deathbe...   \n",
       "4  UPDATE: Florida Governor Rick Scott Now Listed...   \n",
       "\n",
       "                                         description  fake  \n",
       "0  Republican attacks on transgendered Americans ...     1  \n",
       "1  Whoopi Goldberg is in hot water after comments...     1  \n",
       "2  Washington, DC — A former Secret Service agent...     1  \n",
       "3  Bill Clinton’s hitman has confessed to more th...     1  \n",
       "4  Scott&#8217;s prognosis isn&#8217;t good. (via...     1  "
      ]
     },
     "execution_count": 10,
     "metadata": {},
     "output_type": "execute_result"
    }
   ],
   "source": [
    "data.head()"
   ]
  },
  {
   "cell_type": "code",
   "execution_count": 11,
   "id": "5ee4e455",
   "metadata": {
    "hidden": true
   },
   "outputs": [
    {
     "data": {
      "text/plain": [
       "0    8362\n",
       "1    4181\n",
       "Name: fake, dtype: int64"
      ]
     },
     "execution_count": 11,
     "metadata": {},
     "output_type": "execute_result"
    }
   ],
   "source": [
    "data[\"fake\"].value_counts()"
   ]
  },
  {
   "cell_type": "markdown",
   "id": "b4d7c15f",
   "metadata": {
    "hidden": true
   },
   "source": [
    "### Check for duplicates and missing values, remove duplicate texts"
   ]
  },
  {
   "cell_type": "code",
   "execution_count": 12,
   "id": "41e09b67",
   "metadata": {
    "hidden": true,
    "scrolled": true
   },
   "outputs": [
    {
     "data": {
      "text/html": [
       "<div>\n",
       "<style scoped>\n",
       "    .dataframe tbody tr th:only-of-type {\n",
       "        vertical-align: middle;\n",
       "    }\n",
       "\n",
       "    .dataframe tbody tr th {\n",
       "        vertical-align: top;\n",
       "    }\n",
       "\n",
       "    .dataframe thead th {\n",
       "        text-align: right;\n",
       "    }\n",
       "</style>\n",
       "<table border=\"1\" class=\"dataframe\">\n",
       "  <thead>\n",
       "    <tr style=\"text-align: right;\">\n",
       "      <th></th>\n",
       "      <th>id</th>\n",
       "      <th>text</th>\n",
       "      <th>title</th>\n",
       "      <th>description</th>\n",
       "      <th>fake</th>\n",
       "    </tr>\n",
       "  </thead>\n",
       "  <tbody>\n",
       "  </tbody>\n",
       "</table>\n",
       "</div>"
      ],
      "text/plain": [
       "Empty DataFrame\n",
       "Columns: [id, text, title, description, fake]\n",
       "Index: []"
      ]
     },
     "execution_count": 12,
     "metadata": {},
     "output_type": "execute_result"
    }
   ],
   "source": [
    "data[data.duplicated()]"
   ]
  },
  {
   "cell_type": "code",
   "execution_count": 13,
   "id": "371fa56f",
   "metadata": {
    "hidden": true
   },
   "outputs": [
    {
     "name": "stdout",
     "output_type": "stream",
     "text": [
      "<class 'pandas.core.frame.DataFrame'>\n",
      "RangeIndex: 12543 entries, 0 to 12542\n",
      "Data columns (total 5 columns):\n",
      " #   Column       Non-Null Count  Dtype \n",
      "---  ------       --------------  ----- \n",
      " 0   id           12543 non-null  object\n",
      " 1   text         12543 non-null  object\n",
      " 2   title        12543 non-null  object\n",
      " 3   description  12543 non-null  object\n",
      " 4   fake         12543 non-null  int64 \n",
      "dtypes: int64(1), object(4)\n",
      "memory usage: 490.1+ KB\n"
     ]
    }
   ],
   "source": [
    "data.info()"
   ]
  },
  {
   "cell_type": "markdown",
   "id": "8753d867",
   "metadata": {
    "hidden": true
   },
   "source": [
    "#### Delete duplicates from within fake/real categories (keep 1)"
   ]
  },
  {
   "cell_type": "code",
   "execution_count": 14,
   "id": "48703c6d",
   "metadata": {
    "hidden": true
   },
   "outputs": [
    {
     "data": {
      "text/html": [
       "<div>\n",
       "<style scoped>\n",
       "    .dataframe tbody tr th:only-of-type {\n",
       "        vertical-align: middle;\n",
       "    }\n",
       "\n",
       "    .dataframe tbody tr th {\n",
       "        vertical-align: top;\n",
       "    }\n",
       "\n",
       "    .dataframe thead th {\n",
       "        text-align: right;\n",
       "    }\n",
       "</style>\n",
       "<table border=\"1\" class=\"dataframe\">\n",
       "  <thead>\n",
       "    <tr style=\"text-align: right;\">\n",
       "      <th></th>\n",
       "      <th>id</th>\n",
       "      <th>text</th>\n",
       "      <th>title</th>\n",
       "      <th>description</th>\n",
       "      <th>fake</th>\n",
       "    </tr>\n",
       "  </thead>\n",
       "  <tbody>\n",
       "    <tr>\n",
       "      <th>20</th>\n",
       "      <td>politifact14490</td>\n",
       "      <td>About Trendolizer™\\n\\nTrendolizer™ (patent pen...</td>\n",
       "      <td>BREAKING NEWS: Prince William and Harry donate...</td>\n",
       "      <td>Hurricane Harvey has devastated communities ac...</td>\n",
       "      <td>1</td>\n",
       "    </tr>\n",
       "    <tr>\n",
       "      <th>23</th>\n",
       "      <td>politifact14859</td>\n",
       "      <td>About Trendolizer™\\n\\nTrendolizer™ (patent pen...</td>\n",
       "      <td>Alabama State Police Arrest 3 Poll Workers In ...</td>\n",
       "      <td>Alabama State Police have arrested three women...</td>\n",
       "      <td>1</td>\n",
       "    </tr>\n",
       "    <tr>\n",
       "      <th>75</th>\n",
       "      <td>politifact13816</td>\n",
       "      <td>The Bodybuilding community has long coveted th...</td>\n",
       "      <td>Historical blog about Seattle, as well as the ...</td>\n",
       "      <td>Tribune</td>\n",
       "      <td>1</td>\n",
       "    </tr>\n",
       "    <tr>\n",
       "      <th>94</th>\n",
       "      <td>politifact15419</td>\n",
       "      <td>Yes, you can transfer your domain to any regis...</td>\n",
       "      <td>JumboReport.com is for sale</td>\n",
       "      <td>Shop a wide selection of domains at HugeDomain...</td>\n",
       "      <td>1</td>\n",
       "    </tr>\n",
       "    <tr>\n",
       "      <th>108</th>\n",
       "      <td>politifact4411</td>\n",
       "      <td>The award-winning, nonpartisan intel you can t...</td>\n",
       "      <td>Legislative Tracking Software</td>\n",
       "      <td>Track federal legislation with expert policy a...</td>\n",
       "      <td>0</td>\n",
       "    </tr>\n",
       "    <tr>\n",
       "      <th>...</th>\n",
       "      <td>...</td>\n",
       "      <td>...</td>\n",
       "      <td>...</td>\n",
       "      <td>...</td>\n",
       "      <td>...</td>\n",
       "    </tr>\n",
       "    <tr>\n",
       "      <th>12502</th>\n",
       "      <td>gossipcop-846427</td>\n",
       "      <td>Or sign in with one of these services</td>\n",
       "      <td>The Awards and Nominations Thread</td>\n",
       "      <td>Quote\\n\\t\\n\\n\\t\\n\\t\\t\\n\\t\\t\\tHe[ Sam] is way b...</td>\n",
       "      <td>0</td>\n",
       "    </tr>\n",
       "    <tr>\n",
       "      <th>12508</th>\n",
       "      <td>gossipcop-898681</td>\n",
       "      <td>Unbothered\\n\\nI Anglicized My Name For My Care...</td>\n",
       "      <td>Dax Shepard Raising Daughters Empowered, Feminist</td>\n",
       "      <td>The \"CHiPs\" star insists it's not that hard.</td>\n",
       "      <td>0</td>\n",
       "    </tr>\n",
       "    <tr>\n",
       "      <th>12518</th>\n",
       "      <td>gossipcop-944231</td>\n",
       "      <td>My name is Nwando Kate (Kartia) Onyeka. I am a...</td>\n",
       "      <td>Why Frances McDormand’s Green Pantsuit and Fur...</td>\n",
       "      <td>my style by katia</td>\n",
       "      <td>0</td>\n",
       "    </tr>\n",
       "    <tr>\n",
       "      <th>12526</th>\n",
       "      <td>gossipcop-882057</td>\n",
       "      <td>It's hard to believe, but \"The Bachelor\" and i...</td>\n",
       "      <td>Here are all the couples from 'The Bachelor' a...</td>\n",
       "      <td>It's hard to believe, but there have been 34 s...</td>\n",
       "      <td>0</td>\n",
       "    </tr>\n",
       "    <tr>\n",
       "      <th>12537</th>\n",
       "      <td>gossipcop-861230</td>\n",
       "      <td>Unbothered\\n\\nTwo Men Convicted For The 1965 A...</td>\n",
       "      <td>Karrueche Tran Chris Brown Permanent Restraini...</td>\n",
       "      <td>She says she fears for her safety due to her e...</td>\n",
       "      <td>0</td>\n",
       "    </tr>\n",
       "  </tbody>\n",
       "</table>\n",
       "<p>1098 rows × 5 columns</p>\n",
       "</div>"
      ],
      "text/plain": [
       "                     id                                               text  \\\n",
       "20      politifact14490  About Trendolizer™\\n\\nTrendolizer™ (patent pen...   \n",
       "23      politifact14859  About Trendolizer™\\n\\nTrendolizer™ (patent pen...   \n",
       "75      politifact13816  The Bodybuilding community has long coveted th...   \n",
       "94      politifact15419  Yes, you can transfer your domain to any regis...   \n",
       "108      politifact4411  The award-winning, nonpartisan intel you can t...   \n",
       "...                 ...                                                ...   \n",
       "12502  gossipcop-846427              Or sign in with one of these services   \n",
       "12508  gossipcop-898681  Unbothered\\n\\nI Anglicized My Name For My Care...   \n",
       "12518  gossipcop-944231  My name is Nwando Kate (Kartia) Onyeka. I am a...   \n",
       "12526  gossipcop-882057  It's hard to believe, but \"The Bachelor\" and i...   \n",
       "12537  gossipcop-861230  Unbothered\\n\\nTwo Men Convicted For The 1965 A...   \n",
       "\n",
       "                                                   title  \\\n",
       "20     BREAKING NEWS: Prince William and Harry donate...   \n",
       "23     Alabama State Police Arrest 3 Poll Workers In ...   \n",
       "75     Historical blog about Seattle, as well as the ...   \n",
       "94                           JumboReport.com is for sale   \n",
       "108                        Legislative Tracking Software   \n",
       "...                                                  ...   \n",
       "12502                  The Awards and Nominations Thread   \n",
       "12508  Dax Shepard Raising Daughters Empowered, Feminist   \n",
       "12518  Why Frances McDormand’s Green Pantsuit and Fur...   \n",
       "12526  Here are all the couples from 'The Bachelor' a...   \n",
       "12537  Karrueche Tran Chris Brown Permanent Restraini...   \n",
       "\n",
       "                                             description  fake  \n",
       "20     Hurricane Harvey has devastated communities ac...     1  \n",
       "23     Alabama State Police have arrested three women...     1  \n",
       "75                                               Tribune     1  \n",
       "94     Shop a wide selection of domains at HugeDomain...     1  \n",
       "108    Track federal legislation with expert policy a...     0  \n",
       "...                                                  ...   ...  \n",
       "12502  Quote\\n\\t\\n\\n\\t\\n\\t\\t\\n\\t\\t\\tHe[ Sam] is way b...     0  \n",
       "12508       The \"CHiPs\" star insists it's not that hard.     0  \n",
       "12518                                  my style by katia     0  \n",
       "12526  It's hard to believe, but there have been 34 s...     0  \n",
       "12537  She says she fears for her safety due to her e...     0  \n",
       "\n",
       "[1098 rows x 5 columns]"
      ]
     },
     "execution_count": 14,
     "metadata": {},
     "output_type": "execute_result"
    }
   ],
   "source": [
    "data[data.duplicated(subset=(\"text\", \"fake\"))]"
   ]
  },
  {
   "cell_type": "code",
   "execution_count": 15,
   "id": "6cba0372",
   "metadata": {
    "hidden": true
   },
   "outputs": [],
   "source": [
    "data=data.drop_duplicates(subset=(\"text\", \"fake\"), keep='first', ignore_index=True)"
   ]
  },
  {
   "cell_type": "code",
   "execution_count": 16,
   "id": "09eab40f",
   "metadata": {
    "hidden": true
   },
   "outputs": [
    {
     "data": {
      "text/plain": [
       "(11445, 5)"
      ]
     },
     "execution_count": 16,
     "metadata": {},
     "output_type": "execute_result"
    }
   ],
   "source": [
    "data.shape"
   ]
  },
  {
   "cell_type": "code",
   "execution_count": 17,
   "id": "1d29b085",
   "metadata": {
    "hidden": true,
    "scrolled": true
   },
   "outputs": [
    {
     "data": {
      "text/plain": [
       "0    7764\n",
       "1    3681\n",
       "Name: fake, dtype: int64"
      ]
     },
     "execution_count": 17,
     "metadata": {},
     "output_type": "execute_result"
    }
   ],
   "source": [
    "data[\"fake\"].value_counts()"
   ]
  },
  {
   "cell_type": "markdown",
   "id": "618df0fb",
   "metadata": {
    "hidden": true
   },
   "source": [
    "#### Delete duplicates from within fake/real categories (delete both)"
   ]
  },
  {
   "cell_type": "code",
   "execution_count": 18,
   "id": "3d4f6504",
   "metadata": {
    "hidden": true
   },
   "outputs": [
    {
     "data": {
      "text/html": [
       "<div>\n",
       "<style scoped>\n",
       "    .dataframe tbody tr th:only-of-type {\n",
       "        vertical-align: middle;\n",
       "    }\n",
       "\n",
       "    .dataframe tbody tr th {\n",
       "        vertical-align: top;\n",
       "    }\n",
       "\n",
       "    .dataframe thead th {\n",
       "        text-align: right;\n",
       "    }\n",
       "</style>\n",
       "<table border=\"1\" class=\"dataframe\">\n",
       "  <thead>\n",
       "    <tr style=\"text-align: right;\">\n",
       "      <th></th>\n",
       "      <th>id</th>\n",
       "      <th>text</th>\n",
       "      <th>title</th>\n",
       "      <th>description</th>\n",
       "      <th>fake</th>\n",
       "    </tr>\n",
       "  </thead>\n",
       "  <tbody>\n",
       "    <tr>\n",
       "      <th>219</th>\n",
       "      <td>politifact14940</td>\n",
       "      <td>It is for that reason that I rise today, to ta...</td>\n",
       "      <td>Full text: Jeff Flake on Trump speech transcript</td>\n",
       "      <td>Sen. Flake delivered the speech to the Senate ...</td>\n",
       "      <td>0</td>\n",
       "    </tr>\n",
       "    <tr>\n",
       "      <th>3890</th>\n",
       "      <td>gossipcop-921150</td>\n",
       "      <td>Yes, you can transfer your domain to any regis...</td>\n",
       "      <td>WuShack.com is for sale</td>\n",
       "      <td>Customer service is our #1 priority. Get a pre...</td>\n",
       "      <td>0</td>\n",
       "    </tr>\n",
       "    <tr>\n",
       "      <th>3896</th>\n",
       "      <td>gossipcop-892835</td>\n",
       "      <td>Melanie “Mel B” Brown and husband Stephen Bela...</td>\n",
       "      <td>Mel B and Estranged Husband Stephen Belafonte ...</td>\n",
       "      <td>Melanie \"Mel B\" Brown and husband Stephen Bela...</td>\n",
       "      <td>0</td>\n",
       "    </tr>\n",
       "    <tr>\n",
       "      <th>3905</th>\n",
       "      <td>gossipcop-859786</td>\n",
       "      <td>Sunday marked a big night for “Hello, Dolly!” ...</td>\n",
       "      <td>Tony Awards 2017: Complete Winners List</td>\n",
       "      <td>Sunday marked a big night for “Hello, Dolly!” ...</td>\n",
       "      <td>0</td>\n",
       "    </tr>\n",
       "    <tr>\n",
       "      <th>3945</th>\n",
       "      <td>gossipcop-896317</td>\n",
       "      <td>By clicking Subscribe, you confirm that you ha...</td>\n",
       "      <td>WINNER - BEST NEW - Image 1 from Soul Train Aw...</td>\n",
       "      <td>Check out the Soul Train Awards winners.</td>\n",
       "      <td>0</td>\n",
       "    </tr>\n",
       "    <tr>\n",
       "      <th>...</th>\n",
       "      <td>...</td>\n",
       "      <td>...</td>\n",
       "      <td>...</td>\n",
       "      <td>...</td>\n",
       "      <td>...</td>\n",
       "    </tr>\n",
       "    <tr>\n",
       "      <th>10709</th>\n",
       "      <td>gossipcop-869945</td>\n",
       "      <td>George Clooney is one proud papa! The Academy ...</td>\n",
       "      <td>George Clooney Shows Off Pics of His Twins, Jo...</td>\n",
       "      <td>George Clooney showed off pics of his twins wi...</td>\n",
       "      <td>0</td>\n",
       "    </tr>\n",
       "    <tr>\n",
       "      <th>10867</th>\n",
       "      <td>gossipcop-858455</td>\n",
       "      <td>For those wondering how much Taylor Swift is s...</td>\n",
       "      <td>How Taylor Swift and Joe Alwyn's Private Roman...</td>\n",
       "      <td>A rare status update, in case you were concerned.</td>\n",
       "      <td>0</td>\n",
       "    </tr>\n",
       "    <tr>\n",
       "      <th>11041</th>\n",
       "      <td>gossipcop-940492</td>\n",
       "      <td>Speaking her truth. Nicole Kidman opened up ab...</td>\n",
       "      <td>Nicole Kidman Had Two Miscarriages During Tom ...</td>\n",
       "      <td>Nicole Kidman reflected on her relationship wi...</td>\n",
       "      <td>0</td>\n",
       "    </tr>\n",
       "    <tr>\n",
       "      <th>11085</th>\n",
       "      <td>gossipcop-866892</td>\n",
       "      <td>DWTS judge and actress Julianne Hough married ...</td>\n",
       "      <td>Julianne Hough Wedding: Derek Hough on Sister ...</td>\n",
       "      <td>The DWTS star served as a groomsman in his sis...</td>\n",
       "      <td>0</td>\n",
       "    </tr>\n",
       "    <tr>\n",
       "      <th>11382</th>\n",
       "      <td>gossipcop-896770</td>\n",
       "      <td>The 2018 Grammys, the 60th installment of the ...</td>\n",
       "      <td>Grammy winners 2018: the complete list</td>\n",
       "      <td>Bruno Mars was the night’s biggest winner, tak...</td>\n",
       "      <td>0</td>\n",
       "    </tr>\n",
       "  </tbody>\n",
       "</table>\n",
       "<p>95 rows × 5 columns</p>\n",
       "</div>"
      ],
      "text/plain": [
       "                     id                                               text  \\\n",
       "219     politifact14940  It is for that reason that I rise today, to ta...   \n",
       "3890   gossipcop-921150  Yes, you can transfer your domain to any regis...   \n",
       "3896   gossipcop-892835  Melanie “Mel B” Brown and husband Stephen Bela...   \n",
       "3905   gossipcop-859786  Sunday marked a big night for “Hello, Dolly!” ...   \n",
       "3945   gossipcop-896317  By clicking Subscribe, you confirm that you ha...   \n",
       "...                 ...                                                ...   \n",
       "10709  gossipcop-869945  George Clooney is one proud papa! The Academy ...   \n",
       "10867  gossipcop-858455  For those wondering how much Taylor Swift is s...   \n",
       "11041  gossipcop-940492  Speaking her truth. Nicole Kidman opened up ab...   \n",
       "11085  gossipcop-866892  DWTS judge and actress Julianne Hough married ...   \n",
       "11382  gossipcop-896770  The 2018 Grammys, the 60th installment of the ...   \n",
       "\n",
       "                                                   title  \\\n",
       "219     Full text: Jeff Flake on Trump speech transcript   \n",
       "3890                             WuShack.com is for sale   \n",
       "3896   Mel B and Estranged Husband Stephen Belafonte ...   \n",
       "3905             Tony Awards 2017: Complete Winners List   \n",
       "3945   WINNER - BEST NEW - Image 1 from Soul Train Aw...   \n",
       "...                                                  ...   \n",
       "10709  George Clooney Shows Off Pics of His Twins, Jo...   \n",
       "10867  How Taylor Swift and Joe Alwyn's Private Roman...   \n",
       "11041  Nicole Kidman Had Two Miscarriages During Tom ...   \n",
       "11085  Julianne Hough Wedding: Derek Hough on Sister ...   \n",
       "11382             Grammy winners 2018: the complete list   \n",
       "\n",
       "                                             description  fake  \n",
       "219    Sen. Flake delivered the speech to the Senate ...     0  \n",
       "3890   Customer service is our #1 priority. Get a pre...     0  \n",
       "3896   Melanie \"Mel B\" Brown and husband Stephen Bela...     0  \n",
       "3905   Sunday marked a big night for “Hello, Dolly!” ...     0  \n",
       "3945            Check out the Soul Train Awards winners.     0  \n",
       "...                                                  ...   ...  \n",
       "10709  George Clooney showed off pics of his twins wi...     0  \n",
       "10867  A rare status update, in case you were concerned.     0  \n",
       "11041  Nicole Kidman reflected on her relationship wi...     0  \n",
       "11085  The DWTS star served as a groomsman in his sis...     0  \n",
       "11382  Bruno Mars was the night’s biggest winner, tak...     0  \n",
       "\n",
       "[95 rows x 5 columns]"
      ]
     },
     "execution_count": 18,
     "metadata": {},
     "output_type": "execute_result"
    }
   ],
   "source": [
    "data[data.duplicated(subset=(\"text\"))]"
   ]
  },
  {
   "cell_type": "code",
   "execution_count": 19,
   "id": "4d68a681",
   "metadata": {
    "hidden": true
   },
   "outputs": [],
   "source": [
    "data=data.drop_duplicates(subset=(\"text\"), keep=False, ignore_index=True)"
   ]
  },
  {
   "cell_type": "code",
   "execution_count": 20,
   "id": "604bca5a",
   "metadata": {
    "hidden": true
   },
   "outputs": [
    {
     "data": {
      "text/plain": [
       "(11255, 5)"
      ]
     },
     "execution_count": 20,
     "metadata": {},
     "output_type": "execute_result"
    }
   ],
   "source": [
    "data.shape"
   ]
  },
  {
   "cell_type": "code",
   "execution_count": 21,
   "id": "acfb8935",
   "metadata": {
    "hidden": true
   },
   "outputs": [
    {
     "data": {
      "text/plain": [
       "0    7669\n",
       "1    3586\n",
       "Name: fake, dtype: int64"
      ]
     },
     "execution_count": 21,
     "metadata": {},
     "output_type": "execute_result"
    }
   ],
   "source": [
    "data[\"fake\"].value_counts()"
   ]
  },
  {
   "cell_type": "markdown",
   "id": "ef26b12a",
   "metadata": {
    "hidden": true
   },
   "source": [
    "### Check for invalid texts, remove invalid texts"
   ]
  },
  {
   "cell_type": "code",
   "execution_count": 22,
   "id": "d931ce40",
   "metadata": {
    "hidden": true
   },
   "outputs": [],
   "source": [
    "data[\"text_len\"] = data['text'].str.len()\n",
    "data[\"title_len\"]=data['title'].str.len()"
   ]
  },
  {
   "cell_type": "code",
   "execution_count": 23,
   "id": "75980b88",
   "metadata": {
    "hidden": true,
    "scrolled": false
   },
   "outputs": [
    {
     "data": {
      "text/plain": [
       "(22, 7)"
      ]
     },
     "execution_count": 23,
     "metadata": {},
     "output_type": "execute_result"
    }
   ],
   "source": [
    "data[data[\"text_len\"]<data[\"title_len\"]].shape"
   ]
  },
  {
   "cell_type": "code",
   "execution_count": 24,
   "id": "9c9c68f8",
   "metadata": {
    "hidden": true
   },
   "outputs": [
    {
     "data": {
      "text/html": [
       "<div>\n",
       "<style scoped>\n",
       "    .dataframe tbody tr th:only-of-type {\n",
       "        vertical-align: middle;\n",
       "    }\n",
       "\n",
       "    .dataframe tbody tr th {\n",
       "        vertical-align: top;\n",
       "    }\n",
       "\n",
       "    .dataframe thead th {\n",
       "        text-align: right;\n",
       "    }\n",
       "</style>\n",
       "<table border=\"1\" class=\"dataframe\">\n",
       "  <thead>\n",
       "    <tr style=\"text-align: right;\">\n",
       "      <th></th>\n",
       "      <th>id</th>\n",
       "      <th>text</th>\n",
       "      <th>title</th>\n",
       "      <th>description</th>\n",
       "      <th>fake</th>\n",
       "      <th>text_len</th>\n",
       "      <th>title_len</th>\n",
       "    </tr>\n",
       "  </thead>\n",
       "  <tbody>\n",
       "    <tr>\n",
       "      <th>40</th>\n",
       "      <td>politifact14794</td>\n",
       "      <td>ARE YOU READY? GET IT NOW!\\n\\nIncrease more th...</td>\n",
       "      <td>Singer Tina Turner: “This Thanksgiving Is The ...</td>\n",
       "      <td>Actress Tina Turner: “This Thanksgiving Is The...</td>\n",
       "      <td>1</td>\n",
       "      <td>134</td>\n",
       "      <td>200</td>\n",
       "    </tr>\n",
       "    <tr>\n",
       "      <th>131</th>\n",
       "      <td>politifact14225</td>\n",
       "      <td>Log in to comment on videos and join in on the...</td>\n",
       "      <td>Ivanka Trump: Father feels 'vindicated' after ...</td>\n",
       "      <td>The president's daughter weighs in</td>\n",
       "      <td>0</td>\n",
       "      <td>51</td>\n",
       "      <td>59</td>\n",
       "    </tr>\n",
       "    <tr>\n",
       "      <th>1304</th>\n",
       "      <td>gossipcop-5832684435</td>\n",
       "      <td>Passengers 'infuriated' by dad's behaviour on ...</td>\n",
       "      <td>Parenting - Latest news headlines in Australia...</td>\n",
       "      <td>Check out how-to tips, news and advice on ever...</td>\n",
       "      <td>1</td>\n",
       "      <td>102</td>\n",
       "      <td>115</td>\n",
       "    </tr>\n",
       "    <tr>\n",
       "      <th>1314</th>\n",
       "      <td>gossipcop-7938752346</td>\n",
       "      <td>Is this Zendaya's new boyfriend?</td>\n",
       "      <td>Is this Lady Gaga's new boyfriend?</td>\n",
       "      <td>She's been seen getting close to Christian Carino</td>\n",
       "      <td>1</td>\n",
       "      <td>32</td>\n",
       "      <td>34</td>\n",
       "    </tr>\n",
       "    <tr>\n",
       "      <th>1475</th>\n",
       "      <td>gossipcop-7134675583</td>\n",
       "      <td>Up Next 'Transformers: Rise of the Beasts' Fin...</td>\n",
       "      <td>Ellen DeGeneres and Portia De Rossi Rock Coord...</td>\n",
       "      <td>The lovebirds stepped out on Sunday in Los Ang...</td>\n",
       "      <td>1</td>\n",
       "      <td>56</td>\n",
       "      <td>92</td>\n",
       "    </tr>\n",
       "    <tr>\n",
       "      <th>1671</th>\n",
       "      <td>gossipcop-6751025589</td>\n",
       "      <td>UFOmania - the truth is out there</td>\n",
       "      <td>Beyoncé Caught Shapeshifting In Front Of Celeb...</td>\n",
       "      <td>Beyoncé’s legions of fans were dealt a devasta...</td>\n",
       "      <td>1</td>\n",
       "      <td>33</td>\n",
       "      <td>75</td>\n",
       "    </tr>\n",
       "    <tr>\n",
       "      <th>1759</th>\n",
       "      <td>gossipcop-9755892564</td>\n",
       "      <td>Up Next 'Average Joe' Official Trailer (Exclus...</td>\n",
       "      <td>Kim Kardashian Reveals Her Limit on Kids With ...</td>\n",
       "      <td>The reality star opened up about her family li...</td>\n",
       "      <td>1</td>\n",
       "      <td>50</td>\n",
       "      <td>56</td>\n",
       "    </tr>\n",
       "    <tr>\n",
       "      <th>1948</th>\n",
       "      <td>gossipcop-6250034139</td>\n",
       "      <td>The Ultimate Source\\n\\nFor all the best News f...</td>\n",
       "      <td>Jennifer Aniston showing off “Revenge Body” fo...</td>\n",
       "      <td>﻿\\r\\nJennifer Aniston showing off “Revenge Bod...</td>\n",
       "      <td>1</td>\n",
       "      <td>62</td>\n",
       "      <td>73</td>\n",
       "    </tr>\n",
       "    <tr>\n",
       "      <th>2202</th>\n",
       "      <td>gossipcop-3836977114</td>\n",
       "      <td>Might watch this just for Jennifer Lawrence.</td>\n",
       "      <td>Jennifer Lawrence Looks Terrified (But Still H...</td>\n",
       "      <td>Might watch this just for Jennifer Lawrence.</td>\n",
       "      <td>1</td>\n",
       "      <td>44</td>\n",
       "      <td>74</td>\n",
       "    </tr>\n",
       "    <tr>\n",
       "      <th>2266</th>\n",
       "      <td>gossipcop-6630473431</td>\n",
       "      <td>Up Next Shawn Mendes and Camila Cabello Show O...</td>\n",
       "      <td>Jessica Biel Was Shocked By the Pressure to Lo...</td>\n",
       "      <td>The actress and her business partner, Saundra ...</td>\n",
       "      <td>1</td>\n",
       "      <td>59</td>\n",
       "      <td>74</td>\n",
       "    </tr>\n",
       "    <tr>\n",
       "      <th>3313</th>\n",
       "      <td>gossipcop-8306634484</td>\n",
       "      <td>6\\n\\nWhen She Did This in Public and Solidifie...</td>\n",
       "      <td>Warning: These Sexy Gigi Hadid Moments Will Le...</td>\n",
       "      <td>Just in case you forgot that Gigi Hadid is one...</td>\n",
       "      <td>1</td>\n",
       "      <td>82</td>\n",
       "      <td>83</td>\n",
       "    </tr>\n",
       "    <tr>\n",
       "      <th>4041</th>\n",
       "      <td>gossipcop-936991</td>\n",
       "      <td>Sign up for our daily newsletter HERE!</td>\n",
       "      <td>Photobombs to teary eyes: All the viral moment...</td>\n",
       "      <td>Photobombs to teary eyes: All the viral moment...</td>\n",
       "      <td>0</td>\n",
       "      <td>38</td>\n",
       "      <td>71</td>\n",
       "    </tr>\n",
       "    <tr>\n",
       "      <th>4921</th>\n",
       "      <td>gossipcop-901135</td>\n",
       "      <td>El Poder en Ti</td>\n",
       "      <td>Khloe Kardashian Covers Her Baby Bump With Bab...</td>\n",
       "      <td>These cute cousins look like they're filled wi...</td>\n",
       "      <td>0</td>\n",
       "      <td>14</td>\n",
       "      <td>97</td>\n",
       "    </tr>\n",
       "    <tr>\n",
       "      <th>5119</th>\n",
       "      <td>gossipcop-875225</td>\n",
       "      <td>Stars step out in Los Angeles for the network’...</td>\n",
       "      <td>MTV Video Music Awards 2017: Red Carpet Arriva...</td>\n",
       "      <td>Stars step out in Los Angeles for the network'...</td>\n",
       "      <td>0</td>\n",
       "      <td>66</td>\n",
       "      <td>80</td>\n",
       "    </tr>\n",
       "    <tr>\n",
       "      <th>6695</th>\n",
       "      <td>gossipcop-859486</td>\n",
       "      <td>There's a lot more to the man than you might t...</td>\n",
       "      <td>James Corden: British Actor, TV Presenter &amp; Ca...</td>\n",
       "      <td>James Corden: The latest news, photos &amp; videos...</td>\n",
       "      <td>0</td>\n",
       "      <td>50</td>\n",
       "      <td>65</td>\n",
       "    </tr>\n",
       "    <tr>\n",
       "      <th>8153</th>\n",
       "      <td>gossipcop-880321</td>\n",
       "      <td>Sorry, ”Manifest“: You ran into that ”Roseanne...</td>\n",
       "      <td>21 New Fall TV Shows Ranked by Premiere Viewer...</td>\n",
       "      <td>Sorry, \"Manifest\": You ran into that \"Roseanne...</td>\n",
       "      <td>0</td>\n",
       "      <td>55</td>\n",
       "      <td>89</td>\n",
       "    </tr>\n",
       "    <tr>\n",
       "      <th>8301</th>\n",
       "      <td>gossipcop-867983</td>\n",
       "      <td>Not every Hall H panel is created equal</td>\n",
       "      <td>Comic-Con 2017: The Winners and Losers (Photos)</td>\n",
       "      <td>Not every Hall H panel is created equal</td>\n",
       "      <td>0</td>\n",
       "      <td>39</td>\n",
       "      <td>47</td>\n",
       "    </tr>\n",
       "    <tr>\n",
       "      <th>8443</th>\n",
       "      <td>gossipcop-930693</td>\n",
       "      <td>Engaged stars hit up the biggest country music...</td>\n",
       "      <td>Joe Jonas, Sophie Turner and More Stars Flock ...</td>\n",
       "      <td>Engaged stars hit up the biggest country music...</td>\n",
       "      <td>0</td>\n",
       "      <td>68</td>\n",
       "      <td>88</td>\n",
       "    </tr>\n",
       "    <tr>\n",
       "      <th>8548</th>\n",
       "      <td>gossipcop-915010</td>\n",
       "      <td>How will Jazmine Sullivan and Eric Church soun...</td>\n",
       "      <td>13 Worst Celebrity National Anthem Performance...</td>\n",
       "      <td>How will Jazmine Sullivan and Eric Church soun...</td>\n",
       "      <td>0</td>\n",
       "      <td>84</td>\n",
       "      <td>99</td>\n",
       "    </tr>\n",
       "    <tr>\n",
       "      <th>8688</th>\n",
       "      <td>gossipcop-849701</td>\n",
       "      <td>Including a bar brawl, a lawsuit and a show ca...</td>\n",
       "      <td>7 Most Outrageous HGTV Scandals: From ‘Propert...</td>\n",
       "      <td>Including a bar brawl, a lawsuit and a show ca...</td>\n",
       "      <td>0</td>\n",
       "      <td>82</td>\n",
       "      <td>84</td>\n",
       "    </tr>\n",
       "    <tr>\n",
       "      <th>10373</th>\n",
       "      <td>gossipcop-907442</td>\n",
       "      <td>Your First Look at The Real Housewives of Atla...</td>\n",
       "      <td>Watch Your First Look at The Real Housewives o...</td>\n",
       "      <td>Season 11 Preview: Get ready for new 'Wives, n...</td>\n",
       "      <td>0</td>\n",
       "      <td>59</td>\n",
       "      <td>65</td>\n",
       "    </tr>\n",
       "    <tr>\n",
       "      <th>11104</th>\n",
       "      <td>gossipcop-951505</td>\n",
       "      <td>Keep up to date\\n\\nGet the latest Over60 news,...</td>\n",
       "      <td>The truth about Michael J. Fox and Tracy Polla...</td>\n",
       "      <td>Michael J. Fox and Tracy Pollan share how they...</td>\n",
       "      <td>0</td>\n",
       "      <td>65</td>\n",
       "      <td>78</td>\n",
       "    </tr>\n",
       "  </tbody>\n",
       "</table>\n",
       "</div>"
      ],
      "text/plain": [
       "                         id  \\\n",
       "40          politifact14794   \n",
       "131         politifact14225   \n",
       "1304   gossipcop-5832684435   \n",
       "1314   gossipcop-7938752346   \n",
       "1475   gossipcop-7134675583   \n",
       "1671   gossipcop-6751025589   \n",
       "1759   gossipcop-9755892564   \n",
       "1948   gossipcop-6250034139   \n",
       "2202   gossipcop-3836977114   \n",
       "2266   gossipcop-6630473431   \n",
       "3313   gossipcop-8306634484   \n",
       "4041       gossipcop-936991   \n",
       "4921       gossipcop-901135   \n",
       "5119       gossipcop-875225   \n",
       "6695       gossipcop-859486   \n",
       "8153       gossipcop-880321   \n",
       "8301       gossipcop-867983   \n",
       "8443       gossipcop-930693   \n",
       "8548       gossipcop-915010   \n",
       "8688       gossipcop-849701   \n",
       "10373      gossipcop-907442   \n",
       "11104      gossipcop-951505   \n",
       "\n",
       "                                                    text  \\\n",
       "40     ARE YOU READY? GET IT NOW!\\n\\nIncrease more th...   \n",
       "131    Log in to comment on videos and join in on the...   \n",
       "1304   Passengers 'infuriated' by dad's behaviour on ...   \n",
       "1314                    Is this Zendaya's new boyfriend?   \n",
       "1475   Up Next 'Transformers: Rise of the Beasts' Fin...   \n",
       "1671                   UFOmania - the truth is out there   \n",
       "1759   Up Next 'Average Joe' Official Trailer (Exclus...   \n",
       "1948   The Ultimate Source\\n\\nFor all the best News f...   \n",
       "2202        Might watch this just for Jennifer Lawrence.   \n",
       "2266   Up Next Shawn Mendes and Camila Cabello Show O...   \n",
       "3313   6\\n\\nWhen She Did This in Public and Solidifie...   \n",
       "4041              Sign up for our daily newsletter HERE!   \n",
       "4921                                      El Poder en Ti   \n",
       "5119   Stars step out in Los Angeles for the network’...   \n",
       "6695   There's a lot more to the man than you might t...   \n",
       "8153   Sorry, ”Manifest“: You ran into that ”Roseanne...   \n",
       "8301             Not every Hall H panel is created equal   \n",
       "8443   Engaged stars hit up the biggest country music...   \n",
       "8548   How will Jazmine Sullivan and Eric Church soun...   \n",
       "8688   Including a bar brawl, a lawsuit and a show ca...   \n",
       "10373  Your First Look at The Real Housewives of Atla...   \n",
       "11104  Keep up to date\\n\\nGet the latest Over60 news,...   \n",
       "\n",
       "                                                   title  \\\n",
       "40     Singer Tina Turner: “This Thanksgiving Is The ...   \n",
       "131    Ivanka Trump: Father feels 'vindicated' after ...   \n",
       "1304   Parenting - Latest news headlines in Australia...   \n",
       "1314                  Is this Lady Gaga's new boyfriend?   \n",
       "1475   Ellen DeGeneres and Portia De Rossi Rock Coord...   \n",
       "1671   Beyoncé Caught Shapeshifting In Front Of Celeb...   \n",
       "1759   Kim Kardashian Reveals Her Limit on Kids With ...   \n",
       "1948   Jennifer Aniston showing off “Revenge Body” fo...   \n",
       "2202   Jennifer Lawrence Looks Terrified (But Still H...   \n",
       "2266   Jessica Biel Was Shocked By the Pressure to Lo...   \n",
       "3313   Warning: These Sexy Gigi Hadid Moments Will Le...   \n",
       "4041   Photobombs to teary eyes: All the viral moment...   \n",
       "4921   Khloe Kardashian Covers Her Baby Bump With Bab...   \n",
       "5119   MTV Video Music Awards 2017: Red Carpet Arriva...   \n",
       "6695   James Corden: British Actor, TV Presenter & Ca...   \n",
       "8153   21 New Fall TV Shows Ranked by Premiere Viewer...   \n",
       "8301     Comic-Con 2017: The Winners and Losers (Photos)   \n",
       "8443   Joe Jonas, Sophie Turner and More Stars Flock ...   \n",
       "8548   13 Worst Celebrity National Anthem Performance...   \n",
       "8688   7 Most Outrageous HGTV Scandals: From ‘Propert...   \n",
       "10373  Watch Your First Look at The Real Housewives o...   \n",
       "11104  The truth about Michael J. Fox and Tracy Polla...   \n",
       "\n",
       "                                             description  fake  text_len  \\\n",
       "40     Actress Tina Turner: “This Thanksgiving Is The...     1       134   \n",
       "131                   The president's daughter weighs in     0        51   \n",
       "1304   Check out how-to tips, news and advice on ever...     1       102   \n",
       "1314   She's been seen getting close to Christian Carino     1        32   \n",
       "1475   The lovebirds stepped out on Sunday in Los Ang...     1        56   \n",
       "1671   Beyoncé’s legions of fans were dealt a devasta...     1        33   \n",
       "1759   The reality star opened up about her family li...     1        50   \n",
       "1948   ﻿\\r\\nJennifer Aniston showing off “Revenge Bod...     1        62   \n",
       "2202        Might watch this just for Jennifer Lawrence.     1        44   \n",
       "2266   The actress and her business partner, Saundra ...     1        59   \n",
       "3313   Just in case you forgot that Gigi Hadid is one...     1        82   \n",
       "4041   Photobombs to teary eyes: All the viral moment...     0        38   \n",
       "4921   These cute cousins look like they're filled wi...     0        14   \n",
       "5119   Stars step out in Los Angeles for the network'...     0        66   \n",
       "6695   James Corden: The latest news, photos & videos...     0        50   \n",
       "8153   Sorry, \"Manifest\": You ran into that \"Roseanne...     0        55   \n",
       "8301             Not every Hall H panel is created equal     0        39   \n",
       "8443   Engaged stars hit up the biggest country music...     0        68   \n",
       "8548   How will Jazmine Sullivan and Eric Church soun...     0        84   \n",
       "8688   Including a bar brawl, a lawsuit and a show ca...     0        82   \n",
       "10373  Season 11 Preview: Get ready for new 'Wives, n...     0        59   \n",
       "11104  Michael J. Fox and Tracy Pollan share how they...     0        65   \n",
       "\n",
       "       title_len  \n",
       "40           200  \n",
       "131           59  \n",
       "1304         115  \n",
       "1314          34  \n",
       "1475          92  \n",
       "1671          75  \n",
       "1759          56  \n",
       "1948          73  \n",
       "2202          74  \n",
       "2266          74  \n",
       "3313          83  \n",
       "4041          71  \n",
       "4921          97  \n",
       "5119          80  \n",
       "6695          65  \n",
       "8153          89  \n",
       "8301          47  \n",
       "8443          88  \n",
       "8548          99  \n",
       "8688          84  \n",
       "10373         65  \n",
       "11104         78  "
      ]
     },
     "execution_count": 24,
     "metadata": {},
     "output_type": "execute_result"
    }
   ],
   "source": [
    "data[data[\"text_len\"]<data[\"title_len\"]]"
   ]
  },
  {
   "cell_type": "code",
   "execution_count": 25,
   "id": "10f1199e",
   "metadata": {
    "hidden": true
   },
   "outputs": [],
   "source": [
    "data=data[data[\"text_len\"]>=data[\"title_len\"]]"
   ]
  },
  {
   "cell_type": "code",
   "execution_count": 26,
   "id": "6e6432e1",
   "metadata": {
    "hidden": true
   },
   "outputs": [
    {
     "data": {
      "text/plain": [
       "(11233, 7)"
      ]
     },
     "execution_count": 26,
     "metadata": {},
     "output_type": "execute_result"
    }
   ],
   "source": [
    "data.shape"
   ]
  },
  {
   "cell_type": "code",
   "execution_count": 27,
   "id": "ddba9a62",
   "metadata": {
    "hidden": true,
    "scrolled": true
   },
   "outputs": [
    {
     "data": {
      "text/plain": [
       "0    7657\n",
       "1    3576\n",
       "Name: fake, dtype: int64"
      ]
     },
     "execution_count": 27,
     "metadata": {},
     "output_type": "execute_result"
    }
   ],
   "source": [
    "data[\"fake\"].value_counts()"
   ]
  },
  {
   "cell_type": "markdown",
   "id": "89ffaaa0",
   "metadata": {},
   "source": [
    "# Cleaning functions"
   ]
  },
  {
   "cell_type": "code",
   "execution_count": 11,
   "id": "cf77fb43",
   "metadata": {},
   "outputs": [],
   "source": [
    "def load_target_concat():\n",
    "    \n",
    "    #load data\n",
    "    pol_real=pd.read_json(\"/home/kathrin/code/kbank1/fake_news/raw_data/politifact_hr.json\", orient='index')\n",
    "    pol_fake=pd.read_json(\"/home/kathrin/code/kbank1/fake_news/raw_data/politifact_hf.json\", orient='index')\n",
    "    gossip_fake=pd.read_json(\"/home/kathrin/code/kbank1/fake_news/raw_data/gossipcop_hf.json\", orient='index')\n",
    "    gossip_real=pd.read_json(\"/home/kathrin/code/kbank1/fake_news/raw_data/gossipcop_hr.json\", orient='index')\n",
    "    \n",
    "    #define target\n",
    "    pol_real[\"fake\"]=0\n",
    "    pol_fake[\"fake\"]=1\n",
    "    gossip_real[\"fake\"]=0\n",
    "    gossip_fake[\"fake\"]=1\n",
    "    \n",
    "    #concat\n",
    "    data=pd.concat((pol_fake, pol_real, gossip_fake, gossip_real),axis=0, ignore_index=True)\n",
    "    \n",
    "    print(\"✅ data loaded, target defined, data concatenated\")\n",
    "    \n",
    "    return data"
   ]
  },
  {
   "cell_type": "code",
   "execution_count": 12,
   "id": "b3ce8bfb",
   "metadata": {},
   "outputs": [
    {
     "name": "stdout",
     "output_type": "stream",
     "text": [
      "✅ data loaded, target defined, data concatenated\n"
     ]
    }
   ],
   "source": [
    "data=load_target_concat()"
   ]
  },
  {
   "cell_type": "code",
   "execution_count": 13,
   "id": "9603baff",
   "metadata": {},
   "outputs": [
    {
     "data": {
      "text/plain": [
       "(12543, 5)"
      ]
     },
     "execution_count": 13,
     "metadata": {},
     "output_type": "execute_result"
    }
   ],
   "source": [
    "data.shape"
   ]
  },
  {
   "cell_type": "code",
   "execution_count": 14,
   "id": "44fbc595",
   "metadata": {},
   "outputs": [],
   "source": [
    "def remove_duplicates_errors(data: pd.DataFrame) -> pd.DataFrame:\n",
    "    \"\"\"\n",
    "    Clean raw data by\n",
    "    - removing duplicates within fake-category (keep 1)\n",
    "    - removing duplicates across fake-categories (delete both)\n",
    "    - deleting texts that are shorter than their title (error messages, headers etc.)\n",
    "    \"\"\"\n",
    "    # Remove duplicates within fake-category\n",
    "    data =data.drop_duplicates(subset=(\"text\", \"fake\"), keep='first', ignore_index=True)\n",
    "\n",
    "    # Remove duplicates across fake-category\n",
    "    data=data.drop_duplicates(subset=(\"text\"), keep=False, ignore_index=True)\n",
    "\n",
    "    # Delete false texts\n",
    "    data[\"text_len\"] = data['text'].str.len()\n",
    "    data[\"title_len\"]=data['title'].str.len()\n",
    "    data=data[data[\"text_len\"]>=data[\"title_len\"]]\n",
    "\n",
    "    print(\"✅ duplicates and errors removed\")\n",
    "\n",
    "    return data"
   ]
  },
  {
   "cell_type": "code",
   "execution_count": 15,
   "id": "308ebef4",
   "metadata": {},
   "outputs": [
    {
     "name": "stdout",
     "output_type": "stream",
     "text": [
      "✅ duplicates and errors removed\n"
     ]
    }
   ],
   "source": [
    "data=remove_duplicates_errors(data)"
   ]
  },
  {
   "cell_type": "code",
   "execution_count": 16,
   "id": "4c654af0",
   "metadata": {},
   "outputs": [
    {
     "data": {
      "text/plain": [
       "(11233, 7)"
      ]
     },
     "execution_count": 16,
     "metadata": {},
     "output_type": "execute_result"
    }
   ],
   "source": [
    "data.shape"
   ]
  },
  {
   "cell_type": "code",
   "execution_count": 17,
   "id": "77a6e97d",
   "metadata": {},
   "outputs": [
    {
     "name": "stdout",
     "output_type": "stream",
     "text": [
      "Requirement already satisfied: nltk in /home/kathrin/.pyenv/versions/3.10.6/envs/fake_news/lib/python3.10/site-packages (3.9.1)\r\n",
      "Requirement already satisfied: click in /home/kathrin/.pyenv/versions/3.10.6/envs/fake_news/lib/python3.10/site-packages (from nltk) (8.1.8)\r\n",
      "Requirement already satisfied: joblib in /home/kathrin/.pyenv/versions/3.10.6/envs/fake_news/lib/python3.10/site-packages (from nltk) (1.4.2)\r\n",
      "Requirement already satisfied: regex>=2021.8.3 in /home/kathrin/.pyenv/versions/3.10.6/envs/fake_news/lib/python3.10/site-packages (from nltk) (2024.11.6)\r\n",
      "Requirement already satisfied: tqdm in /home/kathrin/.pyenv/versions/3.10.6/envs/fake_news/lib/python3.10/site-packages (from nltk) (4.67.1)\r\n"
     ]
    }
   ],
   "source": [
    "!pip install nltk"
   ]
  },
  {
   "cell_type": "code",
   "execution_count": 18,
   "id": "47fa1557",
   "metadata": {},
   "outputs": [
    {
     "name": "stderr",
     "output_type": "stream",
     "text": [
      "[nltk_data] Downloading package stopwords to\n",
      "[nltk_data]     /home/kathrin/nltk_data...\n",
      "[nltk_data]   Package stopwords is already up-to-date!\n",
      "[nltk_data] Downloading package punkt to /home/kathrin/nltk_data...\n",
      "[nltk_data]   Package punkt is already up-to-date!\n",
      "[nltk_data] Downloading package wordnet to /home/kathrin/nltk_data...\n",
      "[nltk_data]   Package wordnet is already up-to-date!\n",
      "[nltk_data] Downloading package omw-1.4 to /home/kathrin/nltk_data...\n",
      "[nltk_data]   Package omw-1.4 is already up-to-date!\n",
      "[nltk_data] Downloading package punkt_tab to\n",
      "[nltk_data]     /home/kathrin/nltk_data...\n",
      "[nltk_data]   Package punkt_tab is already up-to-date!\n"
     ]
    },
    {
     "data": {
      "text/plain": [
       "True"
      ]
     },
     "execution_count": 18,
     "metadata": {},
     "output_type": "execute_result"
    }
   ],
   "source": [
    "import nltk\n",
    "\n",
    "nltk.download('stopwords')\n",
    "nltk.download('punkt')\n",
    "nltk.download('wordnet')\n",
    "nltk.download('omw-1.4')\n",
    "nltk.download('punkt_tab')"
   ]
  },
  {
   "cell_type": "code",
   "execution_count": 19,
   "id": "f308d587",
   "metadata": {},
   "outputs": [],
   "source": [
    "import string\n",
    "from nltk import word_tokenize\n",
    "from nltk.corpus import stopwords\n",
    "from nltk.stem import WordNetLemmatizer"
   ]
  },
  {
   "cell_type": "code",
   "execution_count": 20,
   "id": "966991dd",
   "metadata": {},
   "outputs": [],
   "source": [
    "def preprocessing(text):\n",
    "\n",
    "    # Removing whitespaces\n",
    "    text = text.strip()\n",
    "    # Lowercasing\n",
    "    text = text.lower()\n",
    "    # Removing numbers\n",
    "    text = ''.join(char for char in text if not char.isdigit())\n",
    "    # Removing punctuation\n",
    "    for punctuation in string.punctuation:\n",
    "        text = text.replace(punctuation, '')\n",
    "    # Tokenizing\n",
    "    tokenized = word_tokenize(text)\n",
    "    \n",
    "    # Removing stopwords\n",
    "    stop_words = set(stopwords.words('english')) \n",
    "    without_stopwords = [word for word in tokenized if not word in stop_words]\n",
    "    \n",
    "    cleaned_sentence = \" \".join(without_stopwords)\n",
    "    \n",
    "    return cleaned_sentence\n"
   ]
  },
  {
   "cell_type": "code",
   "execution_count": 21,
   "id": "4a876cba",
   "metadata": {},
   "outputs": [],
   "source": [
    "data['text'] = data.text.apply(preprocessing)"
   ]
  },
  {
   "cell_type": "code",
   "execution_count": 22,
   "id": "6f0e6f93",
   "metadata": {},
   "outputs": [
    {
     "data": {
      "text/plain": [
       "(11233, 7)"
      ]
     },
     "execution_count": 22,
     "metadata": {},
     "output_type": "execute_result"
    }
   ],
   "source": [
    "data.shape"
   ]
  },
  {
   "cell_type": "code",
   "execution_count": 23,
   "id": "c223e4b9",
   "metadata": {
    "scrolled": true
   },
   "outputs": [
    {
     "data": {
      "text/html": [
       "<div>\n",
       "<style scoped>\n",
       "    .dataframe tbody tr th:only-of-type {\n",
       "        vertical-align: middle;\n",
       "    }\n",
       "\n",
       "    .dataframe tbody tr th {\n",
       "        vertical-align: top;\n",
       "    }\n",
       "\n",
       "    .dataframe thead th {\n",
       "        text-align: right;\n",
       "    }\n",
       "</style>\n",
       "<table border=\"1\" class=\"dataframe\">\n",
       "  <thead>\n",
       "    <tr style=\"text-align: right;\">\n",
       "      <th></th>\n",
       "      <th>id</th>\n",
       "      <th>text</th>\n",
       "      <th>title</th>\n",
       "      <th>description</th>\n",
       "      <th>fake</th>\n",
       "      <th>text_len</th>\n",
       "      <th>title_len</th>\n",
       "    </tr>\n",
       "  </thead>\n",
       "  <tbody>\n",
       "    <tr>\n",
       "      <th>0</th>\n",
       "      <td>politifact11773</td>\n",
       "      <td>republican attacks transgendered americans rel...</td>\n",
       "      <td>Virginia Republican Wants Schools To Check Chi...</td>\n",
       "      <td>Republican attacks on transgendered Americans ...</td>\n",
       "      <td>1</td>\n",
       "      <td>1995</td>\n",
       "      <td>84</td>\n",
       "    </tr>\n",
       "    <tr>\n",
       "      <th>1</th>\n",
       "      <td>politifact13827</td>\n",
       "      <td>whoopi goldberg hot water comments made wednes...</td>\n",
       "      <td>Whoopi Goldberg: Navy SEAL Widow was “Looking ...</td>\n",
       "      <td>Whoopi Goldberg is in hot water after comments...</td>\n",
       "      <td>1</td>\n",
       "      <td>771</td>\n",
       "      <td>60</td>\n",
       "    </tr>\n",
       "    <tr>\n",
       "      <th>2</th>\n",
       "      <td>politifact13570</td>\n",
       "      <td>washington dc — former secret service agent wh...</td>\n",
       "      <td>Secret Service Agent Says Obama Is Muslim &amp; Ga...</td>\n",
       "      <td>Washington, DC — A former Secret Service agent...</td>\n",
       "      <td>1</td>\n",
       "      <td>2523</td>\n",
       "      <td>68</td>\n",
       "    </tr>\n",
       "    <tr>\n",
       "      <th>3</th>\n",
       "      <td>politifact14947</td>\n",
       "      <td>bill clinton ’ hitman confessed murders carrie...</td>\n",
       "      <td>Bill Clinton’s Hitman Confesses On His Deathbe...</td>\n",
       "      <td>Bill Clinton’s hitman has confessed to more th...</td>\n",
       "      <td>1</td>\n",
       "      <td>1691</td>\n",
       "      <td>65</td>\n",
       "    </tr>\n",
       "    <tr>\n",
       "      <th>4</th>\n",
       "      <td>politifact14840</td>\n",
       "      <td>fda published conclusive proof website dtap va...</td>\n",
       "      <td>NOW IT’S OFFICIAL: FDA Announced That Vaccines...</td>\n",
       "      <td>The FDA has published conclusive proof on thei...</td>\n",
       "      <td>1</td>\n",
       "      <td>4591</td>\n",
       "      <td>66</td>\n",
       "    </tr>\n",
       "  </tbody>\n",
       "</table>\n",
       "</div>"
      ],
      "text/plain": [
       "                id                                               text  \\\n",
       "0  politifact11773  republican attacks transgendered americans rel...   \n",
       "1  politifact13827  whoopi goldberg hot water comments made wednes...   \n",
       "2  politifact13570  washington dc — former secret service agent wh...   \n",
       "3  politifact14947  bill clinton ’ hitman confessed murders carrie...   \n",
       "4  politifact14840  fda published conclusive proof website dtap va...   \n",
       "\n",
       "                                               title  \\\n",
       "0  Virginia Republican Wants Schools To Check Chi...   \n",
       "1  Whoopi Goldberg: Navy SEAL Widow was “Looking ...   \n",
       "2  Secret Service Agent Says Obama Is Muslim & Ga...   \n",
       "3  Bill Clinton’s Hitman Confesses On His Deathbe...   \n",
       "4  NOW IT’S OFFICIAL: FDA Announced That Vaccines...   \n",
       "\n",
       "                                         description  fake  text_len  \\\n",
       "0  Republican attacks on transgendered Americans ...     1      1995   \n",
       "1  Whoopi Goldberg is in hot water after comments...     1       771   \n",
       "2  Washington, DC — A former Secret Service agent...     1      2523   \n",
       "3  Bill Clinton’s hitman has confessed to more th...     1      1691   \n",
       "4  The FDA has published conclusive proof on thei...     1      4591   \n",
       "\n",
       "   title_len  \n",
       "0         84  \n",
       "1         60  \n",
       "2         68  \n",
       "3         65  \n",
       "4         66  "
      ]
     },
     "execution_count": 23,
     "metadata": {},
     "output_type": "execute_result"
    }
   ],
   "source": [
    "data.head()"
   ]
  },
  {
   "cell_type": "markdown",
   "id": "ec4210c8",
   "metadata": {
    "heading_collapsed": true
   },
   "source": [
    "## statement length"
   ]
  },
  {
   "cell_type": "code",
   "execution_count": 42,
   "id": "381a9f54",
   "metadata": {
    "hidden": true,
    "scrolled": true
   },
   "outputs": [],
   "source": [
    "data[\"nwords\"] = data[\"text\"].apply(lambda x: len(word_tokenize(x)))"
   ]
  },
  {
   "cell_type": "code",
   "execution_count": 43,
   "id": "5a972e0e",
   "metadata": {
    "hidden": true
   },
   "outputs": [],
   "source": [
    "real=data[data[\"fake\"]==0]\n",
    "fake=data[data[\"fake\"]==1]"
   ]
  },
  {
   "cell_type": "code",
   "execution_count": 44,
   "id": "5b40b4f8",
   "metadata": {
    "hidden": true
   },
   "outputs": [],
   "source": [
    "import seaborn as sns\n",
    "import matplotlib.pyplot as plt"
   ]
  },
  {
   "cell_type": "code",
   "execution_count": 45,
   "id": "c3ee4ed9",
   "metadata": {
    "hidden": true
   },
   "outputs": [
    {
     "data": {
      "image/png": "[encoded data removed]",
      "text/plain": [
       "<Figure size 500x500 with 1 Axes>"
      ]
     },
     "metadata": {},
     "output_type": "display_data"
    }
   ],
   "source": [
    "sns.displot(x='nwords', data=real);\n",
    "\n",
    "plt.title(\"Distribution lenght of statement, real text\");"
   ]
  },
  {
   "cell_type": "code",
   "execution_count": 46,
   "id": "198acc52",
   "metadata": {
    "hidden": true
   },
   "outputs": [
    {
     "data": {
      "image/png": "[encoded data removed]",
      "text/plain": [
       "<Figure size 500x500 with 1 Axes>"
      ]
     },
     "metadata": {},
     "output_type": "display_data"
    }
   ],
   "source": [
    "sns.displot(x='nwords', data=fake);\n",
    "\n",
    "plt.title(\"Distribution lenght of statement, fake text\");"
   ]
  },
  {
   "cell_type": "code",
   "execution_count": 47,
   "id": "e80fa7b6",
   "metadata": {
    "hidden": true
   },
   "outputs": [
    {
     "data": {
      "text/html": [
       "<div>\n",
       "<style scoped>\n",
       "    .dataframe tbody tr th:only-of-type {\n",
       "        vertical-align: middle;\n",
       "    }\n",
       "\n",
       "    .dataframe tbody tr th {\n",
       "        vertical-align: top;\n",
       "    }\n",
       "\n",
       "    .dataframe thead th {\n",
       "        text-align: right;\n",
       "    }\n",
       "</style>\n",
       "<table border=\"1\" class=\"dataframe\">\n",
       "  <thead>\n",
       "    <tr style=\"text-align: right;\">\n",
       "      <th></th>\n",
       "      <th>fake</th>\n",
       "      <th>text_len</th>\n",
       "      <th>title_len</th>\n",
       "      <th>nwords</th>\n",
       "    </tr>\n",
       "  </thead>\n",
       "  <tbody>\n",
       "    <tr>\n",
       "      <th>count</th>\n",
       "      <td>7657.0</td>\n",
       "      <td>7657.000000</td>\n",
       "      <td>7657.000000</td>\n",
       "      <td>7657.000000</td>\n",
       "    </tr>\n",
       "    <tr>\n",
       "      <th>mean</th>\n",
       "      <td>0.0</td>\n",
       "      <td>3440.715032</td>\n",
       "      <td>68.343607</td>\n",
       "      <td>343.097819</td>\n",
       "    </tr>\n",
       "    <tr>\n",
       "      <th>std</th>\n",
       "      <td>0.0</td>\n",
       "      <td>6217.620199</td>\n",
       "      <td>19.989224</td>\n",
       "      <td>593.753227</td>\n",
       "    </tr>\n",
       "    <tr>\n",
       "      <th>min</th>\n",
       "      <td>0.0</td>\n",
       "      <td>21.000000</td>\n",
       "      <td>4.000000</td>\n",
       "      <td>2.000000</td>\n",
       "    </tr>\n",
       "    <tr>\n",
       "      <th>25%</th>\n",
       "      <td>0.0</td>\n",
       "      <td>1342.000000</td>\n",
       "      <td>56.000000</td>\n",
       "      <td>138.000000</td>\n",
       "    </tr>\n",
       "    <tr>\n",
       "      <th>50%</th>\n",
       "      <td>0.0</td>\n",
       "      <td>2100.000000</td>\n",
       "      <td>67.000000</td>\n",
       "      <td>213.000000</td>\n",
       "    </tr>\n",
       "    <tr>\n",
       "      <th>75%</th>\n",
       "      <td>0.0</td>\n",
       "      <td>3403.000000</td>\n",
       "      <td>81.000000</td>\n",
       "      <td>341.000000</td>\n",
       "    </tr>\n",
       "    <tr>\n",
       "      <th>max</th>\n",
       "      <td>0.0</td>\n",
       "      <td>100000.000000</td>\n",
       "      <td>175.000000</td>\n",
       "      <td>11116.000000</td>\n",
       "    </tr>\n",
       "  </tbody>\n",
       "</table>\n",
       "</div>"
      ],
      "text/plain": [
       "         fake       text_len    title_len        nwords\n",
       "count  7657.0    7657.000000  7657.000000   7657.000000\n",
       "mean      0.0    3440.715032    68.343607    343.097819\n",
       "std       0.0    6217.620199    19.989224    593.753227\n",
       "min       0.0      21.000000     4.000000      2.000000\n",
       "25%       0.0    1342.000000    56.000000    138.000000\n",
       "50%       0.0    2100.000000    67.000000    213.000000\n",
       "75%       0.0    3403.000000    81.000000    341.000000\n",
       "max       0.0  100000.000000   175.000000  11116.000000"
      ]
     },
     "execution_count": 47,
     "metadata": {},
     "output_type": "execute_result"
    }
   ],
   "source": [
    "real.describe()"
   ]
  },
  {
   "cell_type": "code",
   "execution_count": 48,
   "id": "ac52e992",
   "metadata": {
    "hidden": true
   },
   "outputs": [
    {
     "data": {
      "text/html": [
       "<div>\n",
       "<style scoped>\n",
       "    .dataframe tbody tr th:only-of-type {\n",
       "        vertical-align: middle;\n",
       "    }\n",
       "\n",
       "    .dataframe tbody tr th {\n",
       "        vertical-align: top;\n",
       "    }\n",
       "\n",
       "    .dataframe thead th {\n",
       "        text-align: right;\n",
       "    }\n",
       "</style>\n",
       "<table border=\"1\" class=\"dataframe\">\n",
       "  <thead>\n",
       "    <tr style=\"text-align: right;\">\n",
       "      <th></th>\n",
       "      <th>fake</th>\n",
       "      <th>text_len</th>\n",
       "      <th>title_len</th>\n",
       "      <th>nwords</th>\n",
       "    </tr>\n",
       "  </thead>\n",
       "  <tbody>\n",
       "    <tr>\n",
       "      <th>count</th>\n",
       "      <td>3576.0</td>\n",
       "      <td>3576.000000</td>\n",
       "      <td>3576.000000</td>\n",
       "      <td>3576.000000</td>\n",
       "    </tr>\n",
       "    <tr>\n",
       "      <th>mean</th>\n",
       "      <td>1.0</td>\n",
       "      <td>2707.906040</td>\n",
       "      <td>70.092841</td>\n",
       "      <td>273.144016</td>\n",
       "    </tr>\n",
       "    <tr>\n",
       "      <th>std</th>\n",
       "      <td>0.0</td>\n",
       "      <td>3770.255239</td>\n",
       "      <td>20.954904</td>\n",
       "      <td>393.622809</td>\n",
       "    </tr>\n",
       "    <tr>\n",
       "      <th>min</th>\n",
       "      <td>1.0</td>\n",
       "      <td>27.000000</td>\n",
       "      <td>5.000000</td>\n",
       "      <td>2.000000</td>\n",
       "    </tr>\n",
       "    <tr>\n",
       "      <th>25%</th>\n",
       "      <td>1.0</td>\n",
       "      <td>1236.500000</td>\n",
       "      <td>57.000000</td>\n",
       "      <td>125.000000</td>\n",
       "    </tr>\n",
       "    <tr>\n",
       "      <th>50%</th>\n",
       "      <td>1.0</td>\n",
       "      <td>1986.000000</td>\n",
       "      <td>69.000000</td>\n",
       "      <td>201.000000</td>\n",
       "    </tr>\n",
       "    <tr>\n",
       "      <th>75%</th>\n",
       "      <td>1.0</td>\n",
       "      <td>2830.250000</td>\n",
       "      <td>83.000000</td>\n",
       "      <td>285.000000</td>\n",
       "    </tr>\n",
       "    <tr>\n",
       "      <th>max</th>\n",
       "      <td>1.0</td>\n",
       "      <td>100000.000000</td>\n",
       "      <td>200.000000</td>\n",
       "      <td>11124.000000</td>\n",
       "    </tr>\n",
       "  </tbody>\n",
       "</table>\n",
       "</div>"
      ],
      "text/plain": [
       "         fake       text_len    title_len        nwords\n",
       "count  3576.0    3576.000000  3576.000000   3576.000000\n",
       "mean      1.0    2707.906040    70.092841    273.144016\n",
       "std       0.0    3770.255239    20.954904    393.622809\n",
       "min       1.0      27.000000     5.000000      2.000000\n",
       "25%       1.0    1236.500000    57.000000    125.000000\n",
       "50%       1.0    1986.000000    69.000000    201.000000\n",
       "75%       1.0    2830.250000    83.000000    285.000000\n",
       "max       1.0  100000.000000   200.000000  11124.000000"
      ]
     },
     "execution_count": 48,
     "metadata": {},
     "output_type": "execute_result"
    }
   ],
   "source": [
    "fake.describe()"
   ]
  },
  {
   "cell_type": "markdown",
   "id": "ba3398a1",
   "metadata": {},
   "source": [
    "# baseline model"
   ]
  },
  {
   "cell_type": "code",
   "execution_count": 24,
   "id": "4373ffbc",
   "metadata": {},
   "outputs": [
    {
     "data": {
      "text/plain": [
       "(3500, 7)"
      ]
     },
     "execution_count": 24,
     "metadata": {},
     "output_type": "execute_result"
    }
   ],
   "source": [
    "true = data[data['fake'] == 0].sample(n=3500)\n",
    "true.shape"
   ]
  },
  {
   "cell_type": "code",
   "execution_count": 25,
   "id": "5ef81545",
   "metadata": {},
   "outputs": [
    {
     "data": {
      "text/plain": [
       "(3500, 7)"
      ]
     },
     "execution_count": 25,
     "metadata": {},
     "output_type": "execute_result"
    }
   ],
   "source": [
    "false = data[data['fake'] == 1].sample(n=3500)\n",
    "false.shape"
   ]
  },
  {
   "cell_type": "code",
   "execution_count": 26,
   "id": "87057230",
   "metadata": {},
   "outputs": [
    {
     "data": {
      "text/plain": [
       "(7000, 7)"
      ]
     },
     "execution_count": 26,
     "metadata": {},
     "output_type": "execute_result"
    }
   ],
   "source": [
    "files = [true, false]\n",
    "\n",
    "data = pd.concat(files, ignore_index=True)\n",
    "data.shape"
   ]
  },
  {
   "cell_type": "code",
   "execution_count": 27,
   "id": "d1cae934",
   "metadata": {},
   "outputs": [],
   "source": [
    "X = data['text']\n",
    "y = data['fake']"
   ]
  },
  {
   "cell_type": "code",
   "execution_count": 28,
   "id": "2822703a",
   "metadata": {
    "scrolled": true
   },
   "outputs": [
    {
     "data": {
      "text/plain": [
       "0    0.5\n",
       "1    0.5\n",
       "Name: fake, dtype: float64"
      ]
     },
     "execution_count": 28,
     "metadata": {},
     "output_type": "execute_result"
    }
   ],
   "source": [
    "# Check the balance of the dataset\n",
    "round(y.value_counts(normalize = True), 2)"
   ]
  },
  {
   "cell_type": "code",
   "execution_count": 29,
   "id": "5eec8915",
   "metadata": {},
   "outputs": [],
   "source": [
    "# Create a train/test split\n",
    "\n",
    "X_train, X_test, y_train, y_test = train_test_split(X, y, test_size = 0.20, random_state=0)"
   ]
  },
  {
   "cell_type": "code",
   "execution_count": 30,
   "id": "77560c9f",
   "metadata": {},
   "outputs": [
    {
     "data": {
      "text/html": [
       "<style>#sk-container-id-1 {color: black;}#sk-container-id-1 pre{padding: 0;}#sk-container-id-1 div.sk-toggleable {background-color: white;}#sk-container-id-1 label.sk-toggleable__label {cursor: pointer;display: block;width: 100%;margin-bottom: 0;padding: 0.3em;box-sizing: border-box;text-align: center;}#sk-container-id-1 label.sk-toggleable__label-arrow:before {content: \"▸\";float: left;margin-right: 0.25em;color: #696969;}#sk-container-id-1 label.sk-toggleable__label-arrow:hover:before {color: black;}#sk-container-id-1 div.sk-estimator:hover label.sk-toggleable__label-arrow:before {color: black;}#sk-container-id-1 div.sk-toggleable__content {max-height: 0;max-width: 0;overflow: hidden;text-align: left;background-color: #f0f8ff;}#sk-container-id-1 div.sk-toggleable__content pre {margin: 0.2em;color: black;border-radius: 0.25em;background-color: #f0f8ff;}#sk-container-id-1 input.sk-toggleable__control:checked~div.sk-toggleable__content {max-height: 200px;max-width: 100%;overflow: auto;}#sk-container-id-1 input.sk-toggleable__control:checked~label.sk-toggleable__label-arrow:before {content: \"▾\";}#sk-container-id-1 div.sk-estimator input.sk-toggleable__control:checked~label.sk-toggleable__label {background-color: #d4ebff;}#sk-container-id-1 div.sk-label input.sk-toggleable__control:checked~label.sk-toggleable__label {background-color: #d4ebff;}#sk-container-id-1 input.sk-hidden--visually {border: 0;clip: rect(1px 1px 1px 1px);clip: rect(1px, 1px, 1px, 1px);height: 1px;margin: -1px;overflow: hidden;padding: 0;position: absolute;width: 1px;}#sk-container-id-1 div.sk-estimator {font-family: monospace;background-color: #f0f8ff;border: 1px dotted black;border-radius: 0.25em;box-sizing: border-box;margin-bottom: 0.5em;}#sk-container-id-1 div.sk-estimator:hover {background-color: #d4ebff;}#sk-container-id-1 div.sk-parallel-item::after {content: \"\";width: 100%;border-bottom: 1px solid gray;flex-grow: 1;}#sk-container-id-1 div.sk-label:hover label.sk-toggleable__label {background-color: #d4ebff;}#sk-container-id-1 div.sk-serial::before {content: \"\";position: absolute;border-left: 1px solid gray;box-sizing: border-box;top: 0;bottom: 0;left: 50%;z-index: 0;}#sk-container-id-1 div.sk-serial {display: flex;flex-direction: column;align-items: center;background-color: white;padding-right: 0.2em;padding-left: 0.2em;position: relative;}#sk-container-id-1 div.sk-item {position: relative;z-index: 1;}#sk-container-id-1 div.sk-parallel {display: flex;align-items: stretch;justify-content: center;background-color: white;position: relative;}#sk-container-id-1 div.sk-item::before, #sk-container-id-1 div.sk-parallel-item::before {content: \"\";position: absolute;border-left: 1px solid gray;box-sizing: border-box;top: 0;bottom: 0;left: 50%;z-index: -1;}#sk-container-id-1 div.sk-parallel-item {display: flex;flex-direction: column;z-index: 1;position: relative;background-color: white;}#sk-container-id-1 div.sk-parallel-item:first-child::after {align-self: flex-end;width: 50%;}#sk-container-id-1 div.sk-parallel-item:last-child::after {align-self: flex-start;width: 50%;}#sk-container-id-1 div.sk-parallel-item:only-child::after {width: 0;}#sk-container-id-1 div.sk-dashed-wrapped {border: 1px dashed gray;margin: 0 0.4em 0.5em 0.4em;box-sizing: border-box;padding-bottom: 0.4em;background-color: white;}#sk-container-id-1 div.sk-label label {font-family: monospace;font-weight: bold;display: inline-block;line-height: 1.2em;}#sk-container-id-1 div.sk-label-container {text-align: center;}#sk-container-id-1 div.sk-container {/* jupyter's `normalize.less` sets `[hidden] { display: none; }` but bootstrap.min.css set `[hidden] { display: none !important; }` so we also need the `!important` here to be able to override the default hidden behavior on the sphinx rendered scikit-learn.org. See: https://github.com/scikit-learn/scikit-learn/issues/21755 */display: inline-block !important;position: relative;}#sk-container-id-1 div.sk-text-repr-fallback {display: none;}</style><div id=\"sk-container-id-1\" class=\"sk-top-container\"><div class=\"sk-text-repr-fallback\"><pre>Pipeline(steps=[(&#x27;countvectorizer&#x27;, CountVectorizer()),\n",
       "                (&#x27;multinomialnb&#x27;, MultinomialNB())])</pre><b>In a Jupyter environment, please rerun this cell to show the HTML representation or trust the notebook. <br />On GitHub, the HTML representation is unable to render, please try loading this page with nbviewer.org.</b></div><div class=\"sk-container\" hidden><div class=\"sk-item sk-dashed-wrapped\"><div class=\"sk-label-container\"><div class=\"sk-label sk-toggleable\"><input class=\"sk-toggleable__control sk-hidden--visually\" id=\"sk-estimator-id-1\" type=\"checkbox\" ><label for=\"sk-estimator-id-1\" class=\"sk-toggleable__label sk-toggleable__label-arrow\">Pipeline</label><div class=\"sk-toggleable__content\"><pre>Pipeline(steps=[(&#x27;countvectorizer&#x27;, CountVectorizer()),\n",
       "                (&#x27;multinomialnb&#x27;, MultinomialNB())])</pre></div></div></div><div class=\"sk-serial\"><div class=\"sk-item\"><div class=\"sk-estimator sk-toggleable\"><input class=\"sk-toggleable__control sk-hidden--visually\" id=\"sk-estimator-id-2\" type=\"checkbox\" ><label for=\"sk-estimator-id-2\" class=\"sk-toggleable__label sk-toggleable__label-arrow\">CountVectorizer</label><div class=\"sk-toggleable__content\"><pre>CountVectorizer()</pre></div></div></div><div class=\"sk-item\"><div class=\"sk-estimator sk-toggleable\"><input class=\"sk-toggleable__control sk-hidden--visually\" id=\"sk-estimator-id-3\" type=\"checkbox\" ><label for=\"sk-estimator-id-3\" class=\"sk-toggleable__label sk-toggleable__label-arrow\">MultinomialNB</label><div class=\"sk-toggleable__content\"><pre>MultinomialNB()</pre></div></div></div></div></div></div></div>"
      ],
      "text/plain": [
       "Pipeline(steps=[('countvectorizer', CountVectorizer()),\n",
       "                ('multinomialnb', MultinomialNB())])"
      ]
     },
     "execution_count": 30,
     "metadata": {},
     "output_type": "execute_result"
    }
   ],
   "source": [
    "# Create the model pipeline\n",
    "\n",
    "pipe = make_pipeline(CountVectorizer(), MultinomialNB())\n",
    "pipe"
   ]
  },
  {
   "cell_type": "code",
   "execution_count": 31,
   "id": "6ebe1c21",
   "metadata": {},
   "outputs": [
    {
     "data": {
      "text/html": [
       "<style>#sk-container-id-2 {color: black;}#sk-container-id-2 pre{padding: 0;}#sk-container-id-2 div.sk-toggleable {background-color: white;}#sk-container-id-2 label.sk-toggleable__label {cursor: pointer;display: block;width: 100%;margin-bottom: 0;padding: 0.3em;box-sizing: border-box;text-align: center;}#sk-container-id-2 label.sk-toggleable__label-arrow:before {content: \"▸\";float: left;margin-right: 0.25em;color: #696969;}#sk-container-id-2 label.sk-toggleable__label-arrow:hover:before {color: black;}#sk-container-id-2 div.sk-estimator:hover label.sk-toggleable__label-arrow:before {color: black;}#sk-container-id-2 div.sk-toggleable__content {max-height: 0;max-width: 0;overflow: hidden;text-align: left;background-color: #f0f8ff;}#sk-container-id-2 div.sk-toggleable__content pre {margin: 0.2em;color: black;border-radius: 0.25em;background-color: #f0f8ff;}#sk-container-id-2 input.sk-toggleable__control:checked~div.sk-toggleable__content {max-height: 200px;max-width: 100%;overflow: auto;}#sk-container-id-2 input.sk-toggleable__control:checked~label.sk-toggleable__label-arrow:before {content: \"▾\";}#sk-container-id-2 div.sk-estimator input.sk-toggleable__control:checked~label.sk-toggleable__label {background-color: #d4ebff;}#sk-container-id-2 div.sk-label input.sk-toggleable__control:checked~label.sk-toggleable__label {background-color: #d4ebff;}#sk-container-id-2 input.sk-hidden--visually {border: 0;clip: rect(1px 1px 1px 1px);clip: rect(1px, 1px, 1px, 1px);height: 1px;margin: -1px;overflow: hidden;padding: 0;position: absolute;width: 1px;}#sk-container-id-2 div.sk-estimator {font-family: monospace;background-color: #f0f8ff;border: 1px dotted black;border-radius: 0.25em;box-sizing: border-box;margin-bottom: 0.5em;}#sk-container-id-2 div.sk-estimator:hover {background-color: #d4ebff;}#sk-container-id-2 div.sk-parallel-item::after {content: \"\";width: 100%;border-bottom: 1px solid gray;flex-grow: 1;}#sk-container-id-2 div.sk-label:hover label.sk-toggleable__label {background-color: #d4ebff;}#sk-container-id-2 div.sk-serial::before {content: \"\";position: absolute;border-left: 1px solid gray;box-sizing: border-box;top: 0;bottom: 0;left: 50%;z-index: 0;}#sk-container-id-2 div.sk-serial {display: flex;flex-direction: column;align-items: center;background-color: white;padding-right: 0.2em;padding-left: 0.2em;position: relative;}#sk-container-id-2 div.sk-item {position: relative;z-index: 1;}#sk-container-id-2 div.sk-parallel {display: flex;align-items: stretch;justify-content: center;background-color: white;position: relative;}#sk-container-id-2 div.sk-item::before, #sk-container-id-2 div.sk-parallel-item::before {content: \"\";position: absolute;border-left: 1px solid gray;box-sizing: border-box;top: 0;bottom: 0;left: 50%;z-index: -1;}#sk-container-id-2 div.sk-parallel-item {display: flex;flex-direction: column;z-index: 1;position: relative;background-color: white;}#sk-container-id-2 div.sk-parallel-item:first-child::after {align-self: flex-end;width: 50%;}#sk-container-id-2 div.sk-parallel-item:last-child::after {align-self: flex-start;width: 50%;}#sk-container-id-2 div.sk-parallel-item:only-child::after {width: 0;}#sk-container-id-2 div.sk-dashed-wrapped {border: 1px dashed gray;margin: 0 0.4em 0.5em 0.4em;box-sizing: border-box;padding-bottom: 0.4em;background-color: white;}#sk-container-id-2 div.sk-label label {font-family: monospace;font-weight: bold;display: inline-block;line-height: 1.2em;}#sk-container-id-2 div.sk-label-container {text-align: center;}#sk-container-id-2 div.sk-container {/* jupyter's `normalize.less` sets `[hidden] { display: none; }` but bootstrap.min.css set `[hidden] { display: none !important; }` so we also need the `!important` here to be able to override the default hidden behavior on the sphinx rendered scikit-learn.org. See: https://github.com/scikit-learn/scikit-learn/issues/21755 */display: inline-block !important;position: relative;}#sk-container-id-2 div.sk-text-repr-fallback {display: none;}</style><div id=\"sk-container-id-2\" class=\"sk-top-container\"><div class=\"sk-text-repr-fallback\"><pre>Pipeline(steps=[(&#x27;countvectorizer&#x27;, CountVectorizer()),\n",
       "                (&#x27;multinomialnb&#x27;, MultinomialNB())])</pre><b>In a Jupyter environment, please rerun this cell to show the HTML representation or trust the notebook. <br />On GitHub, the HTML representation is unable to render, please try loading this page with nbviewer.org.</b></div><div class=\"sk-container\" hidden><div class=\"sk-item sk-dashed-wrapped\"><div class=\"sk-label-container\"><div class=\"sk-label sk-toggleable\"><input class=\"sk-toggleable__control sk-hidden--visually\" id=\"sk-estimator-id-4\" type=\"checkbox\" ><label for=\"sk-estimator-id-4\" class=\"sk-toggleable__label sk-toggleable__label-arrow\">Pipeline</label><div class=\"sk-toggleable__content\"><pre>Pipeline(steps=[(&#x27;countvectorizer&#x27;, CountVectorizer()),\n",
       "                (&#x27;multinomialnb&#x27;, MultinomialNB())])</pre></div></div></div><div class=\"sk-serial\"><div class=\"sk-item\"><div class=\"sk-estimator sk-toggleable\"><input class=\"sk-toggleable__control sk-hidden--visually\" id=\"sk-estimator-id-5\" type=\"checkbox\" ><label for=\"sk-estimator-id-5\" class=\"sk-toggleable__label sk-toggleable__label-arrow\">CountVectorizer</label><div class=\"sk-toggleable__content\"><pre>CountVectorizer()</pre></div></div></div><div class=\"sk-item\"><div class=\"sk-estimator sk-toggleable\"><input class=\"sk-toggleable__control sk-hidden--visually\" id=\"sk-estimator-id-6\" type=\"checkbox\" ><label for=\"sk-estimator-id-6\" class=\"sk-toggleable__label sk-toggleable__label-arrow\">MultinomialNB</label><div class=\"sk-toggleable__content\"><pre>MultinomialNB()</pre></div></div></div></div></div></div></div>"
      ],
      "text/plain": [
       "Pipeline(steps=[('countvectorizer', CountVectorizer()),\n",
       "                ('multinomialnb', MultinomialNB())])"
      ]
     },
     "execution_count": 31,
     "metadata": {},
     "output_type": "execute_result"
    }
   ],
   "source": [
    "# Train the pipeline and score\n",
    "\n",
    "pipe.fit(X_train, y_train)\n",
    "\n",
    "#pipe.score(X_test, y_test)"
   ]
  },
  {
   "cell_type": "code",
   "execution_count": 32,
   "id": "9f7906ab",
   "metadata": {
    "scrolled": false
   },
   "outputs": [
    {
     "data": {
      "text/plain": [
       "{'0': {'precision': 0.7619783616692427,\n",
       "  'recall': 0.7176128093158661,\n",
       "  'f1-score': 0.7391304347826086,\n",
       "  'support': 687.0},\n",
       " '1': {'precision': 0.7423638778220452,\n",
       "  'recall': 0.7840112201963534,\n",
       "  'f1-score': 0.7626193724420192,\n",
       "  'support': 713.0},\n",
       " 'accuracy': 0.7514285714285714,\n",
       " 'macro avg': {'precision': 0.752171119745644,\n",
       "  'recall': 0.7508120147561097,\n",
       "  'f1-score': 0.7508749036123139,\n",
       "  'support': 1400.0},\n",
       " 'weighted avg': {'precision': 0.7519889852527771,\n",
       "  'recall': 0.7514285714285714,\n",
       "  'f1-score': 0.7510930151762941,\n",
       "  'support': 1400.0}}"
      ]
     },
     "execution_count": 32,
     "metadata": {},
     "output_type": "execute_result"
    }
   ],
   "source": [
    "y_pred = pipe.predict(X_test)\n",
    "\n",
    "classification_report(y_test, y_pred, output_dict=True)"
   ]
  },
  {
   "cell_type": "code",
   "execution_count": 58,
   "id": "fe537b14",
   "metadata": {},
   "outputs": [
    {
     "data": {
      "text/plain": [
       "array([[0.  , 1.  ],\n",
       "       [1.  , 0.  ],\n",
       "       [1.  , 0.  ],\n",
       "       ...,\n",
       "       [1.  , 0.  ],\n",
       "       [0.03, 0.97],\n",
       "       [1.  , 0.  ]])"
      ]
     },
     "execution_count": 58,
     "metadata": {},
     "output_type": "execute_result"
    }
   ],
   "source": [
    "y_prob=np.round(pipe.predict_proba(X_test),2)\n",
    "y_prob"
   ]
  },
  {
   "cell_type": "code",
   "execution_count": 59,
   "id": "d9e3439d",
   "metadata": {},
   "outputs": [
    {
     "data": {
      "text/plain": [
       "array([0.  , 0.01, 0.02, 0.03, 0.04, 0.05, 0.06, 0.07, 0.08, 0.09, 0.1 ,\n",
       "       0.12, 0.13, 0.14, 0.15, 0.16, 0.17, 0.18, 0.19, 0.2 , 0.21, 0.22,\n",
       "       0.23, 0.24, 0.25, 0.26, 0.27, 0.29, 0.3 , 0.31, 0.32, 0.33, 0.34,\n",
       "       0.35, 0.37, 0.38, 0.39, 0.4 , 0.41, 0.42, 0.43, 0.44, 0.46, 0.47,\n",
       "       0.48, 0.49, 0.5 , 0.51, 0.52, 0.53, 0.54, 0.56, 0.57, 0.58, 0.59,\n",
       "       0.6 , 0.61, 0.62, 0.63, 0.65, 0.66, 0.67, 0.68, 0.69, 0.7 , 0.71,\n",
       "       0.73, 0.74, 0.75, 0.76, 0.77, 0.78, 0.79, 0.8 , 0.81, 0.82, 0.83,\n",
       "       0.84, 0.85, 0.86, 0.87, 0.88, 0.9 , 0.91, 0.92, 0.93, 0.94, 0.95,\n",
       "       0.96, 0.97, 0.98, 0.99, 1.  ])"
      ]
     },
     "execution_count": 59,
     "metadata": {},
     "output_type": "execute_result"
    }
   ],
   "source": [
    "np.unique(y_prob)"
   ]
  },
  {
   "cell_type": "code",
   "execution_count": 60,
   "id": "756178fe",
   "metadata": {},
   "outputs": [],
   "source": [
    "y_prob_df=pd.DataFrame(y_prob)"
   ]
  },
  {
   "cell_type": "code",
   "execution_count": 61,
   "id": "e9db3f0e",
   "metadata": {},
   "outputs": [
    {
     "data": {
      "text/plain": [
       "0     1   \n",
       "0.00  1.00    634\n",
       "1.00  0.00    577\n",
       "0.99  0.01     25\n",
       "0.01  0.99     12\n",
       "0.02  0.98      9\n",
       "             ... \n",
       "0.59  0.41      1\n",
       "0.60  0.40      1\n",
       "0.62  0.38      1\n",
       "0.65  0.35      1\n",
       "0.56  0.44      1\n",
       "Length: 76, dtype: int64"
      ]
     },
     "execution_count": 61,
     "metadata": {},
     "output_type": "execute_result"
    }
   ],
   "source": [
    "y_prob_df.value_counts()"
   ]
  },
  {
   "cell_type": "markdown",
   "id": "b9882d60",
   "metadata": {},
   "source": [
    "# tests with new data"
   ]
  },
  {
   "cell_type": "markdown",
   "id": "ba9671bf",
   "metadata": {
    "heading_collapsed": true
   },
   "source": [
    "## isot"
   ]
  },
  {
   "cell_type": "code",
   "execution_count": 62,
   "id": "b150ce6f",
   "metadata": {
    "hidden": true
   },
   "outputs": [
    {
     "data": {
      "text/html": [
       "<div>\n",
       "<style scoped>\n",
       "    .dataframe tbody tr th:only-of-type {\n",
       "        vertical-align: middle;\n",
       "    }\n",
       "\n",
       "    .dataframe tbody tr th {\n",
       "        vertical-align: top;\n",
       "    }\n",
       "\n",
       "    .dataframe thead th {\n",
       "        text-align: right;\n",
       "    }\n",
       "</style>\n",
       "<table border=\"1\" class=\"dataframe\">\n",
       "  <thead>\n",
       "    <tr style=\"text-align: right;\">\n",
       "      <th></th>\n",
       "      <th>title</th>\n",
       "      <th>text</th>\n",
       "      <th>subject</th>\n",
       "      <th>date</th>\n",
       "    </tr>\n",
       "  </thead>\n",
       "  <tbody>\n",
       "    <tr>\n",
       "      <th>0</th>\n",
       "      <td>As U.S. budget fight looms, Republicans flip t...</td>\n",
       "      <td>WASHINGTON (Reuters) - The head of a conservat...</td>\n",
       "      <td>politicsNews</td>\n",
       "      <td>December 31, 2017</td>\n",
       "    </tr>\n",
       "    <tr>\n",
       "      <th>1</th>\n",
       "      <td>U.S. military to accept transgender recruits o...</td>\n",
       "      <td>WASHINGTON (Reuters) - Transgender people will...</td>\n",
       "      <td>politicsNews</td>\n",
       "      <td>December 29, 2017</td>\n",
       "    </tr>\n",
       "    <tr>\n",
       "      <th>2</th>\n",
       "      <td>Senior U.S. Republican senator: 'Let Mr. Muell...</td>\n",
       "      <td>WASHINGTON (Reuters) - The special counsel inv...</td>\n",
       "      <td>politicsNews</td>\n",
       "      <td>December 31, 2017</td>\n",
       "    </tr>\n",
       "    <tr>\n",
       "      <th>3</th>\n",
       "      <td>FBI Russia probe helped by Australian diplomat...</td>\n",
       "      <td>WASHINGTON (Reuters) - Trump campaign adviser ...</td>\n",
       "      <td>politicsNews</td>\n",
       "      <td>December 30, 2017</td>\n",
       "    </tr>\n",
       "    <tr>\n",
       "      <th>4</th>\n",
       "      <td>Trump wants Postal Service to charge 'much mor...</td>\n",
       "      <td>SEATTLE/WASHINGTON (Reuters) - President Donal...</td>\n",
       "      <td>politicsNews</td>\n",
       "      <td>December 29, 2017</td>\n",
       "    </tr>\n",
       "  </tbody>\n",
       "</table>\n",
       "</div>"
      ],
      "text/plain": [
       "                                               title  \\\n",
       "0  As U.S. budget fight looms, Republicans flip t...   \n",
       "1  U.S. military to accept transgender recruits o...   \n",
       "2  Senior U.S. Republican senator: 'Let Mr. Muell...   \n",
       "3  FBI Russia probe helped by Australian diplomat...   \n",
       "4  Trump wants Postal Service to charge 'much mor...   \n",
       "\n",
       "                                                text       subject  \\\n",
       "0  WASHINGTON (Reuters) - The head of a conservat...  politicsNews   \n",
       "1  WASHINGTON (Reuters) - Transgender people will...  politicsNews   \n",
       "2  WASHINGTON (Reuters) - The special counsel inv...  politicsNews   \n",
       "3  WASHINGTON (Reuters) - Trump campaign adviser ...  politicsNews   \n",
       "4  SEATTLE/WASHINGTON (Reuters) - President Donal...  politicsNews   \n",
       "\n",
       "                 date  \n",
       "0  December 31, 2017   \n",
       "1  December 29, 2017   \n",
       "2  December 31, 2017   \n",
       "3  December 30, 2017   \n",
       "4  December 29, 2017   "
      ]
     },
     "execution_count": 62,
     "metadata": {},
     "output_type": "execute_result"
    }
   ],
   "source": [
    "#load new data\n",
    "isot_real=pd.read_csv(\"/home/kathrin/code/kbank1/fake_news/raw_data/isot/True.csv\")\n",
    "isot_real.head()"
   ]
  },
  {
   "cell_type": "code",
   "execution_count": 63,
   "id": "698fecd4",
   "metadata": {
    "hidden": true
   },
   "outputs": [
    {
     "data": {
      "text/plain": [
       "(21417, 4)"
      ]
     },
     "execution_count": 63,
     "metadata": {},
     "output_type": "execute_result"
    }
   ],
   "source": [
    "isot_real.shape"
   ]
  },
  {
   "cell_type": "code",
   "execution_count": 64,
   "id": "aae73609",
   "metadata": {
    "hidden": true
   },
   "outputs": [
    {
     "data": {
      "text/html": [
       "<div>\n",
       "<style scoped>\n",
       "    .dataframe tbody tr th:only-of-type {\n",
       "        vertical-align: middle;\n",
       "    }\n",
       "\n",
       "    .dataframe tbody tr th {\n",
       "        vertical-align: top;\n",
       "    }\n",
       "\n",
       "    .dataframe thead th {\n",
       "        text-align: right;\n",
       "    }\n",
       "</style>\n",
       "<table border=\"1\" class=\"dataframe\">\n",
       "  <thead>\n",
       "    <tr style=\"text-align: right;\">\n",
       "      <th></th>\n",
       "      <th>title</th>\n",
       "      <th>text</th>\n",
       "      <th>subject</th>\n",
       "      <th>date</th>\n",
       "    </tr>\n",
       "  </thead>\n",
       "  <tbody>\n",
       "    <tr>\n",
       "      <th>0</th>\n",
       "      <td>Donald Trump Sends Out Embarrassing New Year’...</td>\n",
       "      <td>Donald Trump just couldn t wish all Americans ...</td>\n",
       "      <td>News</td>\n",
       "      <td>December 31, 2017</td>\n",
       "    </tr>\n",
       "    <tr>\n",
       "      <th>1</th>\n",
       "      <td>Drunk Bragging Trump Staffer Started Russian ...</td>\n",
       "      <td>House Intelligence Committee Chairman Devin Nu...</td>\n",
       "      <td>News</td>\n",
       "      <td>December 31, 2017</td>\n",
       "    </tr>\n",
       "    <tr>\n",
       "      <th>2</th>\n",
       "      <td>Sheriff David Clarke Becomes An Internet Joke...</td>\n",
       "      <td>On Friday, it was revealed that former Milwauk...</td>\n",
       "      <td>News</td>\n",
       "      <td>December 30, 2017</td>\n",
       "    </tr>\n",
       "    <tr>\n",
       "      <th>3</th>\n",
       "      <td>Trump Is So Obsessed He Even Has Obama’s Name...</td>\n",
       "      <td>On Christmas day, Donald Trump announced that ...</td>\n",
       "      <td>News</td>\n",
       "      <td>December 29, 2017</td>\n",
       "    </tr>\n",
       "    <tr>\n",
       "      <th>4</th>\n",
       "      <td>Pope Francis Just Called Out Donald Trump Dur...</td>\n",
       "      <td>Pope Francis used his annual Christmas Day mes...</td>\n",
       "      <td>News</td>\n",
       "      <td>December 25, 2017</td>\n",
       "    </tr>\n",
       "  </tbody>\n",
       "</table>\n",
       "</div>"
      ],
      "text/plain": [
       "                                               title  \\\n",
       "0   Donald Trump Sends Out Embarrassing New Year’...   \n",
       "1   Drunk Bragging Trump Staffer Started Russian ...   \n",
       "2   Sheriff David Clarke Becomes An Internet Joke...   \n",
       "3   Trump Is So Obsessed He Even Has Obama’s Name...   \n",
       "4   Pope Francis Just Called Out Donald Trump Dur...   \n",
       "\n",
       "                                                text subject  \\\n",
       "0  Donald Trump just couldn t wish all Americans ...    News   \n",
       "1  House Intelligence Committee Chairman Devin Nu...    News   \n",
       "2  On Friday, it was revealed that former Milwauk...    News   \n",
       "3  On Christmas day, Donald Trump announced that ...    News   \n",
       "4  Pope Francis used his annual Christmas Day mes...    News   \n",
       "\n",
       "                date  \n",
       "0  December 31, 2017  \n",
       "1  December 31, 2017  \n",
       "2  December 30, 2017  \n",
       "3  December 29, 2017  \n",
       "4  December 25, 2017  "
      ]
     },
     "execution_count": 64,
     "metadata": {},
     "output_type": "execute_result"
    }
   ],
   "source": [
    "isot_fake=pd.read_csv(\"/home/kathrin/code/kbank1/fake_news/raw_data/isot/Fake.csv\")\n",
    "isot_fake.head()"
   ]
  },
  {
   "cell_type": "code",
   "execution_count": 65,
   "id": "b2beeb82",
   "metadata": {
    "hidden": true
   },
   "outputs": [
    {
     "data": {
      "text/plain": [
       "(23481, 4)"
      ]
     },
     "execution_count": 65,
     "metadata": {},
     "output_type": "execute_result"
    }
   ],
   "source": [
    "isot_fake.shape"
   ]
  },
  {
   "cell_type": "markdown",
   "id": "7a5425be",
   "metadata": {
    "hidden": true
   },
   "source": [
    "Isot is too old and uses politifact -> we might have data leakage.\n",
    "LIAR is also old and also uses Politifact."
   ]
  },
  {
   "cell_type": "markdown",
   "id": "8d9a4fd3",
   "metadata": {
    "heading_collapsed": true
   },
   "source": [
    "## test with one recent article"
   ]
  },
  {
   "cell_type": "code",
   "execution_count": 66,
   "id": "1a020070",
   "metadata": {
    "hidden": true,
    "scrolled": true
   },
   "outputs": [
    {
     "data": {
      "text/plain": [
       "2849    prince harry meghan markle photo xinhua news a...\n",
       "1235    tlc finally revealed derick dillard hasnt part...\n",
       "2883    grammy awards pink carpet filled daring hair m...\n",
       "4764    immediate future james bond franchise chaos su...\n",
       "521     ’ thanksgiving elizabeth hurley thankful nonet...\n",
       "                              ...                        \n",
       "3438    conners back roseanne revival — includingbelov...\n",
       "2769    sneaky sneaky get away murder ’ karla souza we...\n",
       "1246    thought last year ’ american music awards hila...\n",
       "675     love time true crime women taught fear bogeyma...\n",
       "381     spoiler alert read yet watched “ bachelor wint...\n",
       "Name: text, Length: 1400, dtype: object"
      ]
     },
     "execution_count": 66,
     "metadata": {},
     "output_type": "execute_result"
    }
   ],
   "source": [
    "X_test"
   ]
  },
  {
   "cell_type": "code",
   "execution_count": 67,
   "id": "b93a17d7",
   "metadata": {
    "hidden": true
   },
   "outputs": [],
   "source": [
    "text=\"US President Donald Trump has offered buyout packages to almost all federal employees, a major move designed to shrink and reform the US government. In an email sent on Tuesday, his administration told workers they had to decide by 6 February whether they wanted to be part of a deferred resignation programme. If they agree by then to quit in September, the message said, they would receive about eight months worth of salary as a severance package. The Trump administration expects up to 10% of employees to accept the offer - which equates to about 200,000 of the more than two million people who work for the federal government, according to the BBCs US partner CBS News. Senior Trump officials told US media that the buyouts could save the government up to $100bn (£80bn). The message from the US Office of Personnel Management (OPM), the governments HR agency, highlighted planned reforms to the government, including a requirement that most employees work in their offices five days a week. Since returning to the White House last week, Trump has already declared the end of Covid-era home working practices. The OPM said the offer was available to all full-time federal employees - excluding certain staff such as postal workers, members of the military, immigration officials, and some national security teams. Workers wishing to take the deal were asked to reply to the email with the word resign in the subject line. The offer includes both pay and benefits for workers until 30 September, and has been described as very generous by the White House. The message also warned of future downsizing that could impact those who chose to stay. We cannot give you full assurance regarding the certainty of your position or agency but should your position be eliminated you will be treated with dignity, it read. Stephen Miller, the White House deputy chief of staff for policy, told CNN that the governments workers were overwhelmingly left of centre, and that it was essential for Trump to get control of government. The move has been condemned. In a statement to US media, the head of the American Federation of Government Employees (AFGE) union warned that this purging process would have vast, unintended consequences that will cause chaos for the Americans who depend on a functioning federal government. Democratic Senator Tim Kaine was among those questioning Trumps power to make such deals. If you accept that offer and resign, hell stiff you just like he stiffed contractors, he said. He doesnt have any authority to do this. Do not be fooled by this guy. The returning US president repeatedly pledged to cut the size of the government and slash federal spending while on the campaign trail. He tasked Elon Musk and Vivek Ramaswamy with leading an advisory body focused on cutting regulations, spending, and headcounts within the federal government. Ramaswamy has since left this new Department of Government Efficiency (Doge). But the email on Tuesday bore resemblance to one sent to employees of Twitter, now X, in late 2022 after Musk bought the social media platform. He asked for an emailed response if they wanted to remain at the company. The mass buyout offer came at the end of an at-times chaotic day in Washington, following a memo Trump issued which said he would pause federal grants, loans and other assistance. A district judge suspended the order - which was initially set to go into effect on Tuesday afternoon - until next Monday. In the hours before that decision, there was widespread confusion over which federal programmes and organisations would be impacted. The White House repeatedly sought to assuage concerns that Social Security payments and Medicaid access could be disrupted.  In a letter to the White House, top Democrats expressed extreme alarm about the plan to pause funding. Also on Tuesday, Trump signed an executive order aimed at restricting gender care for young people. The order, titled Protecting Children from Chemical and Surgical Mutilation, says it would prevent those aged under 19 from making life-altering choices. It is the policy of the United States that it will not fund, sponsor, promote, assist, or support the so-called transition of a child from one sex to another, the order said. It is unclear, however, how the order would be implemented and it is likely to be challenged in court.\""
   ]
  },
  {
   "cell_type": "code",
   "execution_count": 68,
   "id": "6d5be2ee",
   "metadata": {
    "hidden": true
   },
   "outputs": [],
   "source": [
    "df = pd.DataFrame({\"text\": [text]})"
   ]
  },
  {
   "cell_type": "code",
   "execution_count": 69,
   "id": "7ac02918",
   "metadata": {
    "hidden": true
   },
   "outputs": [],
   "source": [
    "X_test_new=df[\"text\"]"
   ]
  },
  {
   "cell_type": "code",
   "execution_count": 70,
   "id": "0ca1ece2",
   "metadata": {
    "hidden": true
   },
   "outputs": [
    {
     "data": {
      "text/plain": [
       "0    US President Donald Trump has offered buyout p...\n",
       "Name: text, dtype: object"
      ]
     },
     "execution_count": 70,
     "metadata": {},
     "output_type": "execute_result"
    }
   ],
   "source": [
    "X_test_new"
   ]
  },
  {
   "cell_type": "code",
   "execution_count": 71,
   "id": "af394735",
   "metadata": {
    "hidden": true
   },
   "outputs": [],
   "source": [
    "y_pred_new=pipe.predict(X_test_new)"
   ]
  },
  {
   "cell_type": "code",
   "execution_count": 72,
   "id": "2a841b6d",
   "metadata": {
    "hidden": true
   },
   "outputs": [
    {
     "data": {
      "text/plain": [
       "array([0])"
      ]
     },
     "execution_count": 72,
     "metadata": {},
     "output_type": "execute_result"
    }
   ],
   "source": [
    "y_pred_new"
   ]
  },
  {
   "cell_type": "code",
   "execution_count": 73,
   "id": "4c753171",
   "metadata": {
    "hidden": true
   },
   "outputs": [
    {
     "data": {
      "text/plain": [
       "array([[1., 0.]])"
      ]
     },
     "execution_count": 73,
     "metadata": {},
     "output_type": "execute_result"
    }
   ],
   "source": [
    "y_prob_new=np.round(pipe.predict_proba(X_test_new),5)\n",
    "y_prob_new"
   ]
  },
  {
   "cell_type": "markdown",
   "id": "40dbf4a2",
   "metadata": {
    "heading_collapsed": true
   },
   "source": [
    "## test with 2023 guardian articles"
   ]
  },
  {
   "cell_type": "code",
   "execution_count": 147,
   "id": "1d341a0d",
   "metadata": {
    "hidden": true
   },
   "outputs": [
    {
     "data": {
      "text/html": [
       "<div>\n",
       "<style scoped>\n",
       "    .dataframe tbody tr th:only-of-type {\n",
       "        vertical-align: middle;\n",
       "    }\n",
       "\n",
       "    .dataframe tbody tr th {\n",
       "        vertical-align: top;\n",
       "    }\n",
       "\n",
       "    .dataframe thead th {\n",
       "        text-align: right;\n",
       "    }\n",
       "</style>\n",
       "<table border=\"1\" class=\"dataframe\">\n",
       "  <thead>\n",
       "    <tr style=\"text-align: right;\">\n",
       "      <th></th>\n",
       "      <th>URL</th>\n",
       "      <th>Title</th>\n",
       "      <th>Description</th>\n",
       "      <th>Content</th>\n",
       "      <th>Time</th>\n",
       "      <th>Tags</th>\n",
       "    </tr>\n",
       "  </thead>\n",
       "  <tbody>\n",
       "    <tr>\n",
       "      <th>187997</th>\n",
       "      <td>https://www.theguardian.com/money/2023/nov/22/...</td>\n",
       "      <td>Seasonal cherrypicker from Chile files unfair ...</td>\n",
       "      <td>Julia Quecaño Casimiro becomes first worker on...</td>\n",
       "      <td>When Julia Quecaño Casimiro left Chile to pick...</td>\n",
       "      <td>Wed 22 Nov 2023 00.00 EST</td>\n",
       "      <td>['Employment tribunals', 'Employment law', 'Fo...</td>\n",
       "    </tr>\n",
       "    <tr>\n",
       "      <th>187998</th>\n",
       "      <td>https://www.theguardian.com/money/2023/nov/23/...</td>\n",
       "      <td>What is national insurance and who will benefi...</td>\n",
       "      <td>With national insurance at the centre of the a...</td>\n",
       "      <td>A big national insurance cut was the centrepie...</td>\n",
       "      <td>Thu 23 Nov 2023 10.20 EST</td>\n",
       "      <td>['National insurance', 'Tax', 'Jeremy Hunt', '...</td>\n",
       "    </tr>\n",
       "    <tr>\n",
       "      <th>187999</th>\n",
       "      <td>https://www.theguardian.com/money/2023/nov/23/...</td>\n",
       "      <td>Ofgem energy price cap: what does the new year...</td>\n",
       "      <td>Campaigners say the rise comes at the ‘worst p...</td>\n",
       "      <td>The Ofgem price cap is climbing again and will...</td>\n",
       "      <td>Thu 23 Nov 2023 06.27 EST</td>\n",
       "      <td>['Energy bills', 'Consumer affairs', 'Househol...</td>\n",
       "    </tr>\n",
       "    <tr>\n",
       "      <th>188000</th>\n",
       "      <td>https://www.theguardian.com/money/2023/nov/23/...</td>\n",
       "      <td>Energy bills in Great Britain to rise by 5% fr...</td>\n",
       "      <td>Ofgem increases maximum price suppliers can ch...</td>\n",
       "      <td>Households will begin the new year with a 5% i...</td>\n",
       "      <td>Thu 23 Nov 2023 04.00 EST</td>\n",
       "      <td>['Energy bills', 'Energy industry', 'Consumer ...</td>\n",
       "    </tr>\n",
       "    <tr>\n",
       "      <th>188001</th>\n",
       "      <td>https://www.theguardian.com/money/2023/nov/23/...</td>\n",
       "      <td>HP says I should have known its £399 laptop ba...</td>\n",
       "      <td>Then it grabbed it back mid-delivery and is bl...</td>\n",
       "      <td>HP kept emailing me special offers so I checke...</td>\n",
       "      <td>Thu 23 Nov 2023 02.00 EST</td>\n",
       "      <td>['Consumer rights', 'Your problems, with Anna ...</td>\n",
       "    </tr>\n",
       "  </tbody>\n",
       "</table>\n",
       "</div>"
      ],
      "text/plain": [
       "                                                      URL  \\\n",
       "187997  https://www.theguardian.com/money/2023/nov/22/...   \n",
       "187998  https://www.theguardian.com/money/2023/nov/23/...   \n",
       "187999  https://www.theguardian.com/money/2023/nov/23/...   \n",
       "188000  https://www.theguardian.com/money/2023/nov/23/...   \n",
       "188001  https://www.theguardian.com/money/2023/nov/23/...   \n",
       "\n",
       "                                                    Title  \\\n",
       "187997  Seasonal cherrypicker from Chile files unfair ...   \n",
       "187998  What is national insurance and who will benefi...   \n",
       "187999  Ofgem energy price cap: what does the new year...   \n",
       "188000  Energy bills in Great Britain to rise by 5% fr...   \n",
       "188001  HP says I should have known its £399 laptop ba...   \n",
       "\n",
       "                                              Description  \\\n",
       "187997  Julia Quecaño Casimiro becomes first worker on...   \n",
       "187998  With national insurance at the centre of the a...   \n",
       "187999  Campaigners say the rise comes at the ‘worst p...   \n",
       "188000  Ofgem increases maximum price suppliers can ch...   \n",
       "188001  Then it grabbed it back mid-delivery and is bl...   \n",
       "\n",
       "                                                  Content  \\\n",
       "187997  When Julia Quecaño Casimiro left Chile to pick...   \n",
       "187998  A big national insurance cut was the centrepie...   \n",
       "187999  The Ofgem price cap is climbing again and will...   \n",
       "188000  Households will begin the new year with a 5% i...   \n",
       "188001  HP kept emailing me special offers so I checke...   \n",
       "\n",
       "                             Time  \\\n",
       "187997  Wed 22 Nov 2023 00.00 EST   \n",
       "187998  Thu 23 Nov 2023 10.20 EST   \n",
       "187999  Thu 23 Nov 2023 06.27 EST   \n",
       "188000  Thu 23 Nov 2023 04.00 EST   \n",
       "188001  Thu 23 Nov 2023 02.00 EST   \n",
       "\n",
       "                                                     Tags  \n",
       "187997  ['Employment tribunals', 'Employment law', 'Fo...  \n",
       "187998  ['National insurance', 'Tax', 'Jeremy Hunt', '...  \n",
       "187999  ['Energy bills', 'Consumer affairs', 'Househol...  \n",
       "188000  ['Energy bills', 'Energy industry', 'Consumer ...  \n",
       "188001  ['Consumer rights', 'Your problems, with Anna ...  "
      ]
     },
     "execution_count": 147,
     "metadata": {},
     "output_type": "execute_result"
    }
   ],
   "source": [
    "#import guardian data, test model on 2023 guardian articles\n",
    "#load new data\n",
    "guardian=pd.read_csv(\"/home/kathrin/code/kbank1/fake_news/raw_data/guardian/the_guardian_full.csv\")\n",
    "guardian.tail()"
   ]
  },
  {
   "cell_type": "code",
   "execution_count": 148,
   "id": "30b50dfe",
   "metadata": {
    "hidden": true
   },
   "outputs": [],
   "source": [
    "#newest articles are on the end\n",
    "#take the newest 10000\n",
    "guardian=guardian.tail(10000)"
   ]
  },
  {
   "cell_type": "code",
   "execution_count": 149,
   "id": "9171e8a9",
   "metadata": {
    "hidden": true
   },
   "outputs": [
    {
     "name": "stdout",
     "output_type": "stream",
     "text": [
      "<class 'pandas.core.frame.DataFrame'>\n",
      "RangeIndex: 10000 entries, 178002 to 188001\n",
      "Data columns (total 6 columns):\n",
      " #   Column       Non-Null Count  Dtype \n",
      "---  ------       --------------  ----- \n",
      " 0   URL          10000 non-null  object\n",
      " 1   Title        9998 non-null   object\n",
      " 2   Description  9998 non-null   object\n",
      " 3   Content      9963 non-null   object\n",
      " 4   Time         9963 non-null   object\n",
      " 5   Tags         10000 non-null  object\n",
      "dtypes: object(6)\n",
      "memory usage: 468.9+ KB\n"
     ]
    }
   ],
   "source": [
    "guardian.info()"
   ]
  },
  {
   "cell_type": "code",
   "execution_count": 150,
   "id": "15314dc2",
   "metadata": {
    "hidden": true
   },
   "outputs": [],
   "source": [
    "guardian= guardian.dropna()"
   ]
  },
  {
   "cell_type": "code",
   "execution_count": 151,
   "id": "abea9310",
   "metadata": {
    "collapsed": true,
    "hidden": true
   },
   "outputs": [
    {
     "data": {
      "text/html": [
       "<div>\n",
       "<style scoped>\n",
       "    .dataframe tbody tr th:only-of-type {\n",
       "        vertical-align: middle;\n",
       "    }\n",
       "\n",
       "    .dataframe tbody tr th {\n",
       "        vertical-align: top;\n",
       "    }\n",
       "\n",
       "    .dataframe thead th {\n",
       "        text-align: right;\n",
       "    }\n",
       "</style>\n",
       "<table border=\"1\" class=\"dataframe\">\n",
       "  <thead>\n",
       "    <tr style=\"text-align: right;\">\n",
       "      <th></th>\n",
       "      <th>URL</th>\n",
       "      <th>Title</th>\n",
       "      <th>Description</th>\n",
       "      <th>Content</th>\n",
       "      <th>Time</th>\n",
       "      <th>Tags</th>\n",
       "    </tr>\n",
       "  </thead>\n",
       "  <tbody>\n",
       "    <tr>\n",
       "      <th>187997</th>\n",
       "      <td>https://www.theguardian.com/money/2023/nov/22/...</td>\n",
       "      <td>Seasonal cherrypicker from Chile files unfair ...</td>\n",
       "      <td>Julia Quecaño Casimiro becomes first worker on...</td>\n",
       "      <td>When Julia Quecaño Casimiro left Chile to pick...</td>\n",
       "      <td>Wed 22 Nov 2023 00.00 EST</td>\n",
       "      <td>['Employment tribunals', 'Employment law', 'Fo...</td>\n",
       "    </tr>\n",
       "    <tr>\n",
       "      <th>187998</th>\n",
       "      <td>https://www.theguardian.com/money/2023/nov/23/...</td>\n",
       "      <td>What is national insurance and who will benefi...</td>\n",
       "      <td>With national insurance at the centre of the a...</td>\n",
       "      <td>A big national insurance cut was the centrepie...</td>\n",
       "      <td>Thu 23 Nov 2023 10.20 EST</td>\n",
       "      <td>['National insurance', 'Tax', 'Jeremy Hunt', '...</td>\n",
       "    </tr>\n",
       "    <tr>\n",
       "      <th>187999</th>\n",
       "      <td>https://www.theguardian.com/money/2023/nov/23/...</td>\n",
       "      <td>Ofgem energy price cap: what does the new year...</td>\n",
       "      <td>Campaigners say the rise comes at the ‘worst p...</td>\n",
       "      <td>The Ofgem price cap is climbing again and will...</td>\n",
       "      <td>Thu 23 Nov 2023 06.27 EST</td>\n",
       "      <td>['Energy bills', 'Consumer affairs', 'Househol...</td>\n",
       "    </tr>\n",
       "    <tr>\n",
       "      <th>188000</th>\n",
       "      <td>https://www.theguardian.com/money/2023/nov/23/...</td>\n",
       "      <td>Energy bills in Great Britain to rise by 5% fr...</td>\n",
       "      <td>Ofgem increases maximum price suppliers can ch...</td>\n",
       "      <td>Households will begin the new year with a 5% i...</td>\n",
       "      <td>Thu 23 Nov 2023 04.00 EST</td>\n",
       "      <td>['Energy bills', 'Energy industry', 'Consumer ...</td>\n",
       "    </tr>\n",
       "    <tr>\n",
       "      <th>188001</th>\n",
       "      <td>https://www.theguardian.com/money/2023/nov/23/...</td>\n",
       "      <td>HP says I should have known its £399 laptop ba...</td>\n",
       "      <td>Then it grabbed it back mid-delivery and is bl...</td>\n",
       "      <td>HP kept emailing me special offers so I checke...</td>\n",
       "      <td>Thu 23 Nov 2023 02.00 EST</td>\n",
       "      <td>['Consumer rights', 'Your problems, with Anna ...</td>\n",
       "    </tr>\n",
       "  </tbody>\n",
       "</table>\n",
       "</div>"
      ],
      "text/plain": [
       "                                                      URL  \\\n",
       "187997  https://www.theguardian.com/money/2023/nov/22/...   \n",
       "187998  https://www.theguardian.com/money/2023/nov/23/...   \n",
       "187999  https://www.theguardian.com/money/2023/nov/23/...   \n",
       "188000  https://www.theguardian.com/money/2023/nov/23/...   \n",
       "188001  https://www.theguardian.com/money/2023/nov/23/...   \n",
       "\n",
       "                                                    Title  \\\n",
       "187997  Seasonal cherrypicker from Chile files unfair ...   \n",
       "187998  What is national insurance and who will benefi...   \n",
       "187999  Ofgem energy price cap: what does the new year...   \n",
       "188000  Energy bills in Great Britain to rise by 5% fr...   \n",
       "188001  HP says I should have known its £399 laptop ba...   \n",
       "\n",
       "                                              Description  \\\n",
       "187997  Julia Quecaño Casimiro becomes first worker on...   \n",
       "187998  With national insurance at the centre of the a...   \n",
       "187999  Campaigners say the rise comes at the ‘worst p...   \n",
       "188000  Ofgem increases maximum price suppliers can ch...   \n",
       "188001  Then it grabbed it back mid-delivery and is bl...   \n",
       "\n",
       "                                                  Content  \\\n",
       "187997  When Julia Quecaño Casimiro left Chile to pick...   \n",
       "187998  A big national insurance cut was the centrepie...   \n",
       "187999  The Ofgem price cap is climbing again and will...   \n",
       "188000  Households will begin the new year with a 5% i...   \n",
       "188001  HP kept emailing me special offers so I checke...   \n",
       "\n",
       "                             Time  \\\n",
       "187997  Wed 22 Nov 2023 00.00 EST   \n",
       "187998  Thu 23 Nov 2023 10.20 EST   \n",
       "187999  Thu 23 Nov 2023 06.27 EST   \n",
       "188000  Thu 23 Nov 2023 04.00 EST   \n",
       "188001  Thu 23 Nov 2023 02.00 EST   \n",
       "\n",
       "                                                     Tags  \n",
       "187997  ['Employment tribunals', 'Employment law', 'Fo...  \n",
       "187998  ['National insurance', 'Tax', 'Jeremy Hunt', '...  \n",
       "187999  ['Energy bills', 'Consumer affairs', 'Househol...  \n",
       "188000  ['Energy bills', 'Energy industry', 'Consumer ...  \n",
       "188001  ['Consumer rights', 'Your problems, with Anna ...  "
      ]
     },
     "execution_count": 151,
     "metadata": {},
     "output_type": "execute_result"
    }
   ],
   "source": [
    "guardian.tail()"
   ]
  },
  {
   "cell_type": "code",
   "execution_count": 152,
   "id": "4b7ee19c",
   "metadata": {
    "collapsed": true,
    "hidden": true
   },
   "outputs": [
    {
     "name": "stdout",
     "output_type": "stream",
     "text": [
      "<class 'pandas.core.frame.DataFrame'>\n",
      "Int64Index: 9963 entries, 178002 to 188001\n",
      "Data columns (total 6 columns):\n",
      " #   Column       Non-Null Count  Dtype \n",
      "---  ------       --------------  ----- \n",
      " 0   URL          9963 non-null   object\n",
      " 1   Title        9963 non-null   object\n",
      " 2   Description  9963 non-null   object\n",
      " 3   Content      9963 non-null   object\n",
      " 4   Time         9963 non-null   object\n",
      " 5   Tags         9963 non-null   object\n",
      "dtypes: object(6)\n",
      "memory usage: 544.9+ KB\n"
     ]
    }
   ],
   "source": [
    "guardian.info()"
   ]
  },
  {
   "cell_type": "code",
   "execution_count": 77,
   "id": "f4061ba7",
   "metadata": {
    "collapsed": true,
    "hidden": true
   },
   "outputs": [
    {
     "data": {
      "text/plain": [
       "'Households will begin the new year with a 5% increase in energy bills after the regulator raised the price cap to an average of £1,928 a year for the typical gas and electricity bill.Ofgem raised the maximum price that energy suppliers can charge their customers from £1,834 a year for the typical household between October to December, after a rise in global gas market prices after the start of the Israel-Hamas war last month.From January to March the price cap will rise to £1,928 a year, which will determine the energy bills for most households.Ofgem’s chief executive, Jonathan Brearley, said: “This is a difficult time for many people, and any increase in bills will be worrying. But this rise – around the levels we saw in August – is a result of the wholesale cost of gas and electricity rising, which needs to be reflected in the price that we all pay.“It is important that customers are supported and we have made clear to suppliers that we expect them to identify and offer help to those who are struggling with bills.”The regulator set out the price cap rise the day after the Treasury’s autumn statement, which offered a package of tax cuts for companies which plan to make investments. This is expected to be particularly helpful for capital intensive green industries such as solar and offshore wind, which will also benefit from a new exemption from the government’s energy windfall tax.However, consumer campaigners heaped criticism on the Treasury for failing to put forward measures to help hard-pressed households pay their energy bills or insulate their homes.Jess Ralston, the head of energy at the Energy and Climate Intelligence Unit, a thinktank, said the government should also be spending more on improving home energy efficiency.She said: “Millions of people living in leaky homes are facing a bleak start to 2024 with around £700 extra on bills to heat and power their homes. It didn’t have to be this way. The government has presided over a slowdown in home insulation for struggling households during a gas crisis. The PM’s decision to scrap insulation requirements for landlords means renters are now locked into higher energy bills for years to come. The autumn statement included nothing of note on energy efficiency.”Ed Miliband, Labour’s shadow energy security secretary, said: “While the out-of-touch chancellor tried to pretend yesterday that the cost of living crisis was over, these new figures show the truth: energy bills are rising again to an unaffordable level for millions of families.“Despite this, the government has absolutely no plan to get bills down, even admitting that their flagship energy bill will not lower bills by a penny. The Conservatives have no clue how to even try and bring down energy bills for British families.”The Labour party has promised to tighten the UK’s windfall tax on oil and gas giants and use the proceeds to reduce household energy bills. It also plans to accelerate the rollout of clean energy to reduce the UK’s reliance on volatile fossil fuel market prices.Concern over rising energy costs has been compounded by the increase in standing charges, which suppliers add to bills as a flat daily fee, often likened to line rental for a phone, to cover the cost of connecting households to their energy supplier.The energy regulator last week opened a review of standing charges, which for some households have doubled over the past two years. From 1 October the amount these charges add to a typical dual fuel bill rose to above £300 a year – a figure that some argue unfairly penalises low-income households. There was no new increase announced today.'"
      ]
     },
     "execution_count": 77,
     "metadata": {},
     "output_type": "execute_result"
    }
   ],
   "source": [
    "guardian.Content[188000]"
   ]
  },
  {
   "cell_type": "code",
   "execution_count": 153,
   "id": "ee6a6571",
   "metadata": {
    "hidden": true
   },
   "outputs": [],
   "source": [
    "X_test_new=guardian[\"Content\"]"
   ]
  },
  {
   "cell_type": "code",
   "execution_count": 154,
   "id": "c8434529",
   "metadata": {
    "hidden": true
   },
   "outputs": [],
   "source": [
    "y_pred_new=pipe.predict(X_test_new)"
   ]
  },
  {
   "cell_type": "code",
   "execution_count": 155,
   "id": "3e0ef460",
   "metadata": {
    "hidden": true
   },
   "outputs": [
    {
     "data": {
      "text/plain": [
       "array([0, 1])"
      ]
     },
     "execution_count": 155,
     "metadata": {},
     "output_type": "execute_result"
    }
   ],
   "source": [
    "np.unique(y_pred_new)"
   ]
  },
  {
   "cell_type": "code",
   "execution_count": 156,
   "id": "4b291459",
   "metadata": {
    "hidden": true
   },
   "outputs": [],
   "source": [
    "y_pred_new_df=pd.DataFrame(y_pred_new)"
   ]
  },
  {
   "cell_type": "code",
   "execution_count": 157,
   "id": "b6ab6522",
   "metadata": {
    "hidden": true
   },
   "outputs": [
    {
     "data": {
      "text/plain": [
       "0    9956\n",
       "1       7\n",
       "dtype: int64"
      ]
     },
     "execution_count": 157,
     "metadata": {},
     "output_type": "execute_result"
    }
   ],
   "source": [
    "y_pred_new_df.value_counts()"
   ]
  },
  {
   "cell_type": "code",
   "execution_count": 83,
   "id": "a1c02f61",
   "metadata": {
    "hidden": true
   },
   "outputs": [],
   "source": [
    "y_prob_new=np.round(pipe.predict_proba(X_test_new),2)"
   ]
  },
  {
   "cell_type": "code",
   "execution_count": 84,
   "id": "2d24cfb7",
   "metadata": {
    "hidden": true
   },
   "outputs": [],
   "source": [
    "y_prob_new_df=pd.DataFrame(y_prob_new)"
   ]
  },
  {
   "cell_type": "code",
   "execution_count": 85,
   "id": "71aaf895",
   "metadata": {
    "hidden": true
   },
   "outputs": [
    {
     "data": {
      "text/plain": [
       "0     1   \n",
       "1.00  0.00    998\n",
       "0.75  0.25      1\n",
       "0.99  0.01      1\n",
       "dtype: int64"
      ]
     },
     "execution_count": 85,
     "metadata": {},
     "output_type": "execute_result"
    }
   ],
   "source": [
    "y_prob_new_df.value_counts()"
   ]
  },
  {
   "cell_type": "markdown",
   "id": "09f11055",
   "metadata": {
    "heading_collapsed": true
   },
   "source": [
    "## test on politifact data post 2019 (fakenewsnet is from 2018/19)"
   ]
  },
  {
   "cell_type": "code",
   "execution_count": 86,
   "id": "9fbfc956",
   "metadata": {
    "hidden": true
   },
   "outputs": [
    {
     "data": {
      "text/html": [
       "<div>\n",
       "<style scoped>\n",
       "    .dataframe tbody tr th:only-of-type {\n",
       "        vertical-align: middle;\n",
       "    }\n",
       "\n",
       "    .dataframe tbody tr th {\n",
       "        vertical-align: top;\n",
       "    }\n",
       "\n",
       "    .dataframe thead th {\n",
       "        text-align: right;\n",
       "    }\n",
       "</style>\n",
       "<table border=\"1\" class=\"dataframe\">\n",
       "  <thead>\n",
       "    <tr style=\"text-align: right;\">\n",
       "      <th></th>\n",
       "      <th>verdict</th>\n",
       "      <th>statement_originator</th>\n",
       "      <th>statement</th>\n",
       "      <th>statement_date</th>\n",
       "      <th>statement_source</th>\n",
       "      <th>factchecker</th>\n",
       "      <th>factcheck_date</th>\n",
       "      <th>factcheck_analysis_link</th>\n",
       "    </tr>\n",
       "  </thead>\n",
       "  <tbody>\n",
       "    <tr>\n",
       "      <th>0</th>\n",
       "      <td>true</td>\n",
       "      <td>Barack Obama</td>\n",
       "      <td>John McCain opposed bankruptcy protections for...</td>\n",
       "      <td>6/11/2008</td>\n",
       "      <td>speech</td>\n",
       "      <td>Adriel Bettelheim</td>\n",
       "      <td>6/16/2008</td>\n",
       "      <td>https://www.politifact.com/factchecks/2008/jun...</td>\n",
       "    </tr>\n",
       "    <tr>\n",
       "      <th>1</th>\n",
       "      <td>false</td>\n",
       "      <td>Matt Gaetz</td>\n",
       "      <td>\"Bennie Thompson actively cheer-led riots in t...</td>\n",
       "      <td>6/7/2022</td>\n",
       "      <td>television</td>\n",
       "      <td>Yacob Reyes</td>\n",
       "      <td>6/13/2022</td>\n",
       "      <td>https://www.politifact.com/factchecks/2022/jun...</td>\n",
       "    </tr>\n",
       "    <tr>\n",
       "      <th>2</th>\n",
       "      <td>mostly-true</td>\n",
       "      <td>Kelly Ayotte</td>\n",
       "      <td>Says Maggie Hassan was \"out of state on 30 day...</td>\n",
       "      <td>5/18/2016</td>\n",
       "      <td>news</td>\n",
       "      <td>Clay Wirestone</td>\n",
       "      <td>5/27/2016</td>\n",
       "      <td>https://www.politifact.com/factchecks/2016/may...</td>\n",
       "    </tr>\n",
       "    <tr>\n",
       "      <th>3</th>\n",
       "      <td>false</td>\n",
       "      <td>Bloggers</td>\n",
       "      <td>\"BUSTED: CDC Inflated COVID Numbers, Accused o...</td>\n",
       "      <td>2/1/2021</td>\n",
       "      <td>blog</td>\n",
       "      <td>Madison Czopek</td>\n",
       "      <td>2/5/2021</td>\n",
       "      <td>https://www.politifact.com/factchecks/2021/feb...</td>\n",
       "    </tr>\n",
       "    <tr>\n",
       "      <th>4</th>\n",
       "      <td>half-true</td>\n",
       "      <td>Bobby Jindal</td>\n",
       "      <td>\"I'm the only (Republican) candidate that has ...</td>\n",
       "      <td>8/30/2015</td>\n",
       "      <td>television</td>\n",
       "      <td>Linda Qiu</td>\n",
       "      <td>8/30/2015</td>\n",
       "      <td>https://www.politifact.com/factchecks/2015/aug...</td>\n",
       "    </tr>\n",
       "  </tbody>\n",
       "</table>\n",
       "</div>"
      ],
      "text/plain": [
       "       verdict statement_originator  \\\n",
       "0         true         Barack Obama   \n",
       "1        false           Matt Gaetz   \n",
       "2  mostly-true         Kelly Ayotte   \n",
       "3        false             Bloggers   \n",
       "4    half-true         Bobby Jindal   \n",
       "\n",
       "                                           statement statement_date  \\\n",
       "0  John McCain opposed bankruptcy protections for...      6/11/2008   \n",
       "1  \"Bennie Thompson actively cheer-led riots in t...       6/7/2022   \n",
       "2  Says Maggie Hassan was \"out of state on 30 day...      5/18/2016   \n",
       "3  \"BUSTED: CDC Inflated COVID Numbers, Accused o...       2/1/2021   \n",
       "4  \"I'm the only (Republican) candidate that has ...      8/30/2015   \n",
       "\n",
       "  statement_source        factchecker factcheck_date  \\\n",
       "0           speech  Adriel Bettelheim      6/16/2008   \n",
       "1       television        Yacob Reyes      6/13/2022   \n",
       "2             news     Clay Wirestone      5/27/2016   \n",
       "3             blog     Madison Czopek       2/5/2021   \n",
       "4       television          Linda Qiu      8/30/2015   \n",
       "\n",
       "                             factcheck_analysis_link  \n",
       "0  https://www.politifact.com/factchecks/2008/jun...  \n",
       "1  https://www.politifact.com/factchecks/2022/jun...  \n",
       "2  https://www.politifact.com/factchecks/2016/may...  \n",
       "3  https://www.politifact.com/factchecks/2021/feb...  \n",
       "4  https://www.politifact.com/factchecks/2015/aug...  "
      ]
     },
     "execution_count": 86,
     "metadata": {},
     "output_type": "execute_result"
    }
   ],
   "source": [
    "politifact=pd.read_json(\"/home/kathrin/code/kbank1/fake_news/raw_data/politifact/politifact_factcheck_data.json\", lines=True)\n",
    "\n",
    "politifact.head()"
   ]
  },
  {
   "cell_type": "code",
   "execution_count": 87,
   "id": "92fd5152",
   "metadata": {
    "hidden": true
   },
   "outputs": [
    {
     "name": "stdout",
     "output_type": "stream",
     "text": [
      "<class 'pandas.core.frame.DataFrame'>\n",
      "RangeIndex: 21152 entries, 0 to 21151\n",
      "Data columns (total 8 columns):\n",
      " #   Column                   Non-Null Count  Dtype \n",
      "---  ------                   --------------  ----- \n",
      " 0   verdict                  21152 non-null  object\n",
      " 1   statement_originator     21152 non-null  object\n",
      " 2   statement                21152 non-null  object\n",
      " 3   statement_date           21152 non-null  object\n",
      " 4   statement_source         21152 non-null  object\n",
      " 5   factchecker              21152 non-null  object\n",
      " 6   factcheck_date           21152 non-null  object\n",
      " 7   factcheck_analysis_link  21152 non-null  object\n",
      "dtypes: object(8)\n",
      "memory usage: 1.3+ MB\n"
     ]
    }
   ],
   "source": [
    "politifact.info()"
   ]
  },
  {
   "cell_type": "code",
   "execution_count": 88,
   "id": "f52ad3f4",
   "metadata": {
    "hidden": true
   },
   "outputs": [],
   "source": [
    "politifact['statement_date'] = pd.to_datetime(politifact['statement_date'])"
   ]
  },
  {
   "cell_type": "code",
   "execution_count": 89,
   "id": "967ddaff",
   "metadata": {
    "hidden": true
   },
   "outputs": [
    {
     "name": "stdout",
     "output_type": "stream",
     "text": [
      "<class 'pandas.core.frame.DataFrame'>\n",
      "RangeIndex: 21152 entries, 0 to 21151\n",
      "Data columns (total 8 columns):\n",
      " #   Column                   Non-Null Count  Dtype         \n",
      "---  ------                   --------------  -----         \n",
      " 0   verdict                  21152 non-null  object        \n",
      " 1   statement_originator     21152 non-null  object        \n",
      " 2   statement                21152 non-null  object        \n",
      " 3   statement_date           21152 non-null  datetime64[ns]\n",
      " 4   statement_source         21152 non-null  object        \n",
      " 5   factchecker              21152 non-null  object        \n",
      " 6   factcheck_date           21152 non-null  object        \n",
      " 7   factcheck_analysis_link  21152 non-null  object        \n",
      "dtypes: datetime64[ns](1), object(7)\n",
      "memory usage: 1.3+ MB\n"
     ]
    }
   ],
   "source": [
    "politifact.info()"
   ]
  },
  {
   "cell_type": "code",
   "execution_count": 90,
   "id": "e03d2400",
   "metadata": {
    "hidden": true
   },
   "outputs": [],
   "source": [
    "politifact[\"year\"]=politifact[\"statement_date\"].dt.year"
   ]
  },
  {
   "cell_type": "code",
   "execution_count": 91,
   "id": "cff5361f",
   "metadata": {
    "hidden": true
   },
   "outputs": [
    {
     "data": {
      "text/plain": [
       "2020    2112\n",
       "2012    1942\n",
       "2011    1898\n",
       "2016    1757\n",
       "2021    1668\n",
       "2010    1574\n",
       "2014    1548\n",
       "2013    1419\n",
       "2018    1375\n",
       "2019    1355\n",
       "2015    1290\n",
       "2017    1275\n",
       "2022     891\n",
       "2009     449\n",
       "2008     438\n",
       "2007     159\n",
       "2000       1\n",
       "2002       1\n",
       "Name: year, dtype: int64"
      ]
     },
     "execution_count": 91,
     "metadata": {},
     "output_type": "execute_result"
    }
   ],
   "source": [
    "politifact.year.value_counts()"
   ]
  },
  {
   "cell_type": "code",
   "execution_count": 92,
   "id": "2ebc69f7",
   "metadata": {
    "hidden": true
   },
   "outputs": [
    {
     "data": {
      "text/plain": [
       "false           5625\n",
       "half-true       3597\n",
       "mostly-false    3432\n",
       "mostly-true     3332\n",
       "pants-fire      2703\n",
       "true            2463\n",
       "Name: verdict, dtype: int64"
      ]
     },
     "execution_count": 92,
     "metadata": {},
     "output_type": "execute_result"
    }
   ],
   "source": [
    "politifact.verdict.value_counts()"
   ]
  },
  {
   "cell_type": "code",
   "execution_count": 93,
   "id": "f3dc9947",
   "metadata": {
    "hidden": true
   },
   "outputs": [],
   "source": [
    "politifact=politifact[politifact[\"year\"]>2019]"
   ]
  },
  {
   "cell_type": "code",
   "execution_count": 94,
   "id": "56c8304e",
   "metadata": {
    "hidden": true
   },
   "outputs": [
    {
     "data": {
      "text/plain": [
       "false           2299\n",
       "pants-fire       810\n",
       "mostly-false     653\n",
       "half-true        438\n",
       "mostly-true      280\n",
       "true             191\n",
       "Name: verdict, dtype: int64"
      ]
     },
     "execution_count": 94,
     "metadata": {},
     "output_type": "execute_result"
    }
   ],
   "source": [
    "politifact.verdict.value_counts()"
   ]
  },
  {
   "cell_type": "code",
   "execution_count": 95,
   "id": "f4e3a2c8",
   "metadata": {
    "hidden": true
   },
   "outputs": [],
   "source": [
    "politifact= politifact[politifact[\"verdict\"].isin([\"false\", \"pants-fire\", \"true\"])]"
   ]
  },
  {
   "cell_type": "code",
   "execution_count": 96,
   "id": "7c028026",
   "metadata": {
    "hidden": true
   },
   "outputs": [],
   "source": [
    "politifact[\"fake\"] = 0  # Default to 0\n",
    "politifact.loc[politifact[\"verdict\"].isin([\"false\", \"pants-fire\"]), \"fake\"] = 1"
   ]
  },
  {
   "cell_type": "code",
   "execution_count": 97,
   "id": "57a1fd7d",
   "metadata": {
    "hidden": true,
    "scrolled": true
   },
   "outputs": [
    {
     "data": {
      "text/html": [
       "<div>\n",
       "<style scoped>\n",
       "    .dataframe tbody tr th:only-of-type {\n",
       "        vertical-align: middle;\n",
       "    }\n",
       "\n",
       "    .dataframe tbody tr th {\n",
       "        vertical-align: top;\n",
       "    }\n",
       "\n",
       "    .dataframe thead th {\n",
       "        text-align: right;\n",
       "    }\n",
       "</style>\n",
       "<table border=\"1\" class=\"dataframe\">\n",
       "  <thead>\n",
       "    <tr style=\"text-align: right;\">\n",
       "      <th></th>\n",
       "      <th>verdict</th>\n",
       "      <th>statement_originator</th>\n",
       "      <th>statement</th>\n",
       "      <th>statement_date</th>\n",
       "      <th>statement_source</th>\n",
       "      <th>factchecker</th>\n",
       "      <th>factcheck_date</th>\n",
       "      <th>factcheck_analysis_link</th>\n",
       "      <th>year</th>\n",
       "      <th>fake</th>\n",
       "    </tr>\n",
       "  </thead>\n",
       "  <tbody>\n",
       "    <tr>\n",
       "      <th>1</th>\n",
       "      <td>false</td>\n",
       "      <td>Matt Gaetz</td>\n",
       "      <td>\"Bennie Thompson actively cheer-led riots in t...</td>\n",
       "      <td>2022-06-07</td>\n",
       "      <td>television</td>\n",
       "      <td>Yacob Reyes</td>\n",
       "      <td>6/13/2022</td>\n",
       "      <td>https://www.politifact.com/factchecks/2022/jun...</td>\n",
       "      <td>2022</td>\n",
       "      <td>1</td>\n",
       "    </tr>\n",
       "    <tr>\n",
       "      <th>3</th>\n",
       "      <td>false</td>\n",
       "      <td>Bloggers</td>\n",
       "      <td>\"BUSTED: CDC Inflated COVID Numbers, Accused o...</td>\n",
       "      <td>2021-02-01</td>\n",
       "      <td>blog</td>\n",
       "      <td>Madison Czopek</td>\n",
       "      <td>2/5/2021</td>\n",
       "      <td>https://www.politifact.com/factchecks/2021/feb...</td>\n",
       "      <td>2021</td>\n",
       "      <td>1</td>\n",
       "    </tr>\n",
       "    <tr>\n",
       "      <th>9</th>\n",
       "      <td>true</td>\n",
       "      <td>Mandela Barnes</td>\n",
       "      <td>\"Since 1978, CEO compensation rose over 1,000%...</td>\n",
       "      <td>2021-05-23</td>\n",
       "      <td>social_media</td>\n",
       "      <td>Madeline Heim</td>\n",
       "      <td>6/2/2021</td>\n",
       "      <td>https://www.politifact.com/factchecks/2021/jun...</td>\n",
       "      <td>2021</td>\n",
       "      <td>0</td>\n",
       "    </tr>\n",
       "    <tr>\n",
       "      <th>13</th>\n",
       "      <td>false</td>\n",
       "      <td>Sidney Powell</td>\n",
       "      <td>\"At least 450,000 ballots in the key states .....</td>\n",
       "      <td>2020-11-08</td>\n",
       "      <td>news</td>\n",
       "      <td>Samantha Putterman</td>\n",
       "      <td>11/20/2020</td>\n",
       "      <td>https://www.politifact.com/factchecks/2020/nov...</td>\n",
       "      <td>2020</td>\n",
       "      <td>1</td>\n",
       "    </tr>\n",
       "    <tr>\n",
       "      <th>19</th>\n",
       "      <td>false</td>\n",
       "      <td>The Gateway Pundit</td>\n",
       "      <td>\"Newly discovered video shows late night deliv...</td>\n",
       "      <td>2021-02-05</td>\n",
       "      <td>news</td>\n",
       "      <td>Clara Hendrickson</td>\n",
       "      <td>2/5/2021</td>\n",
       "      <td>https://www.politifact.com/factchecks/2021/feb...</td>\n",
       "      <td>2021</td>\n",
       "      <td>1</td>\n",
       "    </tr>\n",
       "  </tbody>\n",
       "</table>\n",
       "</div>"
      ],
      "text/plain": [
       "   verdict statement_originator  \\\n",
       "1    false           Matt Gaetz   \n",
       "3    false             Bloggers   \n",
       "9     true       Mandela Barnes   \n",
       "13   false        Sidney Powell   \n",
       "19   false   The Gateway Pundit   \n",
       "\n",
       "                                            statement statement_date  \\\n",
       "1   \"Bennie Thompson actively cheer-led riots in t...     2022-06-07   \n",
       "3   \"BUSTED: CDC Inflated COVID Numbers, Accused o...     2021-02-01   \n",
       "9   \"Since 1978, CEO compensation rose over 1,000%...     2021-05-23   \n",
       "13  \"At least 450,000 ballots in the key states .....     2020-11-08   \n",
       "19  \"Newly discovered video shows late night deliv...     2021-02-05   \n",
       "\n",
       "   statement_source         factchecker factcheck_date  \\\n",
       "1        television         Yacob Reyes      6/13/2022   \n",
       "3              blog      Madison Czopek       2/5/2021   \n",
       "9      social_media       Madeline Heim       6/2/2021   \n",
       "13             news  Samantha Putterman     11/20/2020   \n",
       "19             news   Clara Hendrickson       2/5/2021   \n",
       "\n",
       "                              factcheck_analysis_link  year  fake  \n",
       "1   https://www.politifact.com/factchecks/2022/jun...  2022     1  \n",
       "3   https://www.politifact.com/factchecks/2021/feb...  2021     1  \n",
       "9   https://www.politifact.com/factchecks/2021/jun...  2021     0  \n",
       "13  https://www.politifact.com/factchecks/2020/nov...  2020     1  \n",
       "19  https://www.politifact.com/factchecks/2021/feb...  2021     1  "
      ]
     },
     "execution_count": 97,
     "metadata": {},
     "output_type": "execute_result"
    }
   ],
   "source": [
    "politifact.head()"
   ]
  },
  {
   "cell_type": "code",
   "execution_count": 98,
   "id": "dca3aff6",
   "metadata": {
    "hidden": true
   },
   "outputs": [],
   "source": [
    "X_test_new=politifact[\"statement\"]\n",
    "y_test_new=politifact[\"fake\"]"
   ]
  },
  {
   "cell_type": "code",
   "execution_count": 99,
   "id": "22bd19a5",
   "metadata": {
    "hidden": true
   },
   "outputs": [],
   "source": [
    "y_pred_new=pipe.predict(X_test_new)"
   ]
  },
  {
   "cell_type": "code",
   "execution_count": 100,
   "id": "f24376f3",
   "metadata": {
    "hidden": true
   },
   "outputs": [
    {
     "data": {
      "text/plain": [
       "{'0': {'precision': 0.0651862464183381,\n",
       "  'recall': 0.9528795811518325,\n",
       "  'f1-score': 0.1220248072410325,\n",
       "  'support': 191.0},\n",
       " '1': {'precision': 0.9822834645669292,\n",
       "  'recall': 0.1605017690575748,\n",
       "  'f1-score': 0.2759192701133536,\n",
       "  'support': 3109.0},\n",
       " 'accuracy': 0.20636363636363636,\n",
       " 'macro avg': {'precision': 0.5237348554926337,\n",
       "  'recall': 0.5566906751047036,\n",
       "  'f1-score': 0.19897203867719304,\n",
       "  'support': 3300.0},\n",
       " 'weighted avg': {'precision': 0.9292029892134804,\n",
       "  'recall': 0.20636363636363636,\n",
       "  'f1-score': 0.2670120451410465,\n",
       "  'support': 3300.0}}"
      ]
     },
     "execution_count": 100,
     "metadata": {},
     "output_type": "execute_result"
    }
   ],
   "source": [
    "classification_report(y_test_new, y_pred_new, output_dict=True)"
   ]
  },
  {
   "cell_type": "markdown",
   "id": "b52a0570",
   "metadata": {
    "hidden": true
   },
   "source": [
    "model is able to detect 89% of the real statements, but only 28% of the fake ones.\n",
    "the overall accuracy is 32% only."
   ]
  },
  {
   "cell_type": "code",
   "execution_count": 101,
   "id": "418fa3ef",
   "metadata": {
    "hidden": true
   },
   "outputs": [
    {
     "data": {
      "text/plain": [
       "false         2299\n",
       "pants-fire     810\n",
       "true           191\n",
       "Name: verdict, dtype: int64"
      ]
     },
     "execution_count": 101,
     "metadata": {},
     "output_type": "execute_result"
    }
   ],
   "source": [
    "politifact.verdict.value_counts()"
   ]
  },
  {
   "cell_type": "code",
   "execution_count": 102,
   "id": "716d25a6",
   "metadata": {
    "hidden": true
   },
   "outputs": [
    {
     "data": {
      "text/plain": [
       "social_media     2297\n",
       "news              334\n",
       "blog              267\n",
       "speech            124\n",
       "advertisement      52\n",
       "television         49\n",
       "other              49\n",
       "radio              36\n",
       "campaign           34\n",
       "statement          27\n",
       "email              11\n",
       "testimony          11\n",
       "meeting             9\n",
       "Name: statement_source, dtype: int64"
      ]
     },
     "execution_count": 102,
     "metadata": {},
     "output_type": "execute_result"
    }
   ],
   "source": [
    "politifact.statement_source.value_counts()"
   ]
  },
  {
   "cell_type": "markdown",
   "id": "c1f1c55e",
   "metadata": {
    "hidden": true
   },
   "source": [
    "### test on news only"
   ]
  },
  {
   "cell_type": "code",
   "execution_count": 103,
   "id": "765c9b97",
   "metadata": {
    "hidden": true
   },
   "outputs": [],
   "source": [
    "politifact=politifact[politifact[\"statement_source\"]==\"news\"]"
   ]
  },
  {
   "cell_type": "code",
   "execution_count": 104,
   "id": "df7e7133",
   "metadata": {
    "hidden": true
   },
   "outputs": [
    {
     "data": {
      "text/plain": [
       "false         212\n",
       "pants-fire     65\n",
       "true           57\n",
       "Name: verdict, dtype: int64"
      ]
     },
     "execution_count": 104,
     "metadata": {},
     "output_type": "execute_result"
    }
   ],
   "source": [
    "politifact.verdict.value_counts()"
   ]
  },
  {
   "cell_type": "code",
   "execution_count": 105,
   "id": "87c2548f",
   "metadata": {
    "hidden": true
   },
   "outputs": [],
   "source": [
    "X_test_new=politifact[\"statement\"]\n",
    "y_test_new=politifact[\"fake\"]"
   ]
  },
  {
   "cell_type": "code",
   "execution_count": 106,
   "id": "f0430977",
   "metadata": {
    "hidden": true
   },
   "outputs": [],
   "source": [
    "y_pred_new=pipe.predict(X_test_new)"
   ]
  },
  {
   "cell_type": "code",
   "execution_count": 109,
   "id": "2e7a589a",
   "metadata": {
    "collapsed": true,
    "hidden": true
   },
   "outputs": [
    {
     "data": {
      "text/plain": [
       "{'0': {'precision': 0.18430034129692832,\n",
       "  'recall': 0.9473684210526315,\n",
       "  'f1-score': 0.30857142857142855,\n",
       "  'support': 57.0},\n",
       " '1': {'precision': 0.926829268292683,\n",
       "  'recall': 0.1371841155234657,\n",
       "  'f1-score': 0.2389937106918239,\n",
       "  'support': 277.0},\n",
       " 'accuracy': 0.2754491017964072,\n",
       " 'macro avg': {'precision': 0.5555648047948056,\n",
       "  'recall': 0.5422762682880486,\n",
       "  'f1-score': 0.2737825696316262,\n",
       "  'support': 334.0},\n",
       " 'weighted avg': {'precision': 0.8001102597934076,\n",
       "  'recall': 0.2754491017964072,\n",
       "  'f1-score': 0.2508677523658882,\n",
       "  'support': 334.0}}"
      ]
     },
     "execution_count": 109,
     "metadata": {},
     "output_type": "execute_result"
    }
   ],
   "source": [
    "classification_report(y_test_new, y_pred_new, output_dict=True)"
   ]
  },
  {
   "cell_type": "markdown",
   "id": "5a9c7813",
   "metadata": {
    "heading_collapsed": true
   },
   "source": [
    "## test on sample of fakenewscorpus fake news"
   ]
  },
  {
   "cell_type": "code",
   "execution_count": 110,
   "id": "ab8fe285",
   "metadata": {
    "collapsed": true,
    "hidden": true
   },
   "outputs": [
    {
     "data": {
      "text/html": [
       "<div>\n",
       "<style scoped>\n",
       "    .dataframe tbody tr th:only-of-type {\n",
       "        vertical-align: middle;\n",
       "    }\n",
       "\n",
       "    .dataframe tbody tr th {\n",
       "        vertical-align: top;\n",
       "    }\n",
       "\n",
       "    .dataframe thead th {\n",
       "        text-align: right;\n",
       "    }\n",
       "</style>\n",
       "<table border=\"1\" class=\"dataframe\">\n",
       "  <thead>\n",
       "    <tr style=\"text-align: right;\">\n",
       "      <th></th>\n",
       "      <th>Unnamed: 0</th>\n",
       "      <th>id</th>\n",
       "      <th>domain</th>\n",
       "      <th>type</th>\n",
       "      <th>url</th>\n",
       "      <th>content</th>\n",
       "      <th>scraped_at</th>\n",
       "      <th>inserted_at</th>\n",
       "      <th>updated_at</th>\n",
       "      <th>title</th>\n",
       "      <th>authors</th>\n",
       "      <th>keywords</th>\n",
       "      <th>meta_keywords</th>\n",
       "      <th>meta_description</th>\n",
       "      <th>tags</th>\n",
       "      <th>summary</th>\n",
       "      <th>source</th>\n",
       "    </tr>\n",
       "  </thead>\n",
       "  <tbody>\n",
       "    <tr>\n",
       "      <th>0</th>\n",
       "      <td>0</td>\n",
       "      <td>2</td>\n",
       "      <td>express.co.uk</td>\n",
       "      <td>rumor</td>\n",
       "      <td>https://www.express.co.uk/news/science/738402/...</td>\n",
       "      <td>Life is an illusion, at least on a quantum lev...</td>\n",
       "      <td>2018-01-25 16:17:44.789555</td>\n",
       "      <td>2018-02-02 01:19:41.756632</td>\n",
       "      <td>2018-02-02 01:19:41.756664</td>\n",
       "      <td>Is life an ILLUSION? Researchers prove 'realit...</td>\n",
       "      <td>Sean Martin</td>\n",
       "      <td>NaN</td>\n",
       "      <td>['']</td>\n",
       "      <td>THE UNIVERSE ceases to exist when we are not l...</td>\n",
       "      <td>NaN</td>\n",
       "      <td>NaN</td>\n",
       "      <td>NaN</td>\n",
       "    </tr>\n",
       "    <tr>\n",
       "      <th>1</th>\n",
       "      <td>1</td>\n",
       "      <td>6</td>\n",
       "      <td>barenakedislam.com</td>\n",
       "      <td>hate</td>\n",
       "      <td>http://barenakedislam.com/category/donald-trum...</td>\n",
       "      <td>Unfortunately, he hasn’t yet attacked her for ...</td>\n",
       "      <td>2018-01-25 16:17:44.789555</td>\n",
       "      <td>2018-02-02 01:19:41.756632</td>\n",
       "      <td>2018-02-02 01:19:41.756664</td>\n",
       "      <td>Donald Trump</td>\n",
       "      <td>Linda Rivera, Conrad Calvano, Az Gal, Lincoln ...</td>\n",
       "      <td>NaN</td>\n",
       "      <td>['']</td>\n",
       "      <td>NaN</td>\n",
       "      <td>NaN</td>\n",
       "      <td>NaN</td>\n",
       "      <td>NaN</td>\n",
       "    </tr>\n",
       "    <tr>\n",
       "      <th>2</th>\n",
       "      <td>2</td>\n",
       "      <td>7</td>\n",
       "      <td>barenakedislam.com</td>\n",
       "      <td>hate</td>\n",
       "      <td>http://barenakedislam.com/category/donald-trum...</td>\n",
       "      <td>The Los Angeles Police Department has been den...</td>\n",
       "      <td>2018-01-25 16:17:44.789555</td>\n",
       "      <td>2018-02-02 01:19:41.756632</td>\n",
       "      <td>2018-02-02 01:19:41.756664</td>\n",
       "      <td>Donald Trump</td>\n",
       "      <td>Linda Rivera, Conrad Calvano, Az Gal, Lincoln ...</td>\n",
       "      <td>NaN</td>\n",
       "      <td>['']</td>\n",
       "      <td>NaN</td>\n",
       "      <td>NaN</td>\n",
       "      <td>NaN</td>\n",
       "      <td>NaN</td>\n",
       "    </tr>\n",
       "    <tr>\n",
       "      <th>3</th>\n",
       "      <td>3</td>\n",
       "      <td>8</td>\n",
       "      <td>barenakedislam.com</td>\n",
       "      <td>hate</td>\n",
       "      <td>http://barenakedislam.com/2017/12/24/more-winn...</td>\n",
       "      <td>The White House has decided to quietly withdra...</td>\n",
       "      <td>2018-01-25 16:17:44.789555</td>\n",
       "      <td>2018-02-02 01:19:41.756632</td>\n",
       "      <td>2018-02-02 01:19:41.756664</td>\n",
       "      <td>MORE WINNING! Israeli intelligence source, DEB...</td>\n",
       "      <td>Cleavis Nowell, Cleavisnowell, Clarence J. Fei...</td>\n",
       "      <td>NaN</td>\n",
       "      <td>['']</td>\n",
       "      <td>NaN</td>\n",
       "      <td>NaN</td>\n",
       "      <td>NaN</td>\n",
       "      <td>NaN</td>\n",
       "    </tr>\n",
       "    <tr>\n",
       "      <th>4</th>\n",
       "      <td>4</td>\n",
       "      <td>9</td>\n",
       "      <td>barenakedislam.com</td>\n",
       "      <td>hate</td>\n",
       "      <td>http://barenakedislam.com/2017/12/25/oh-trump-...</td>\n",
       "      <td>“The time has come to cut off the tongues of t...</td>\n",
       "      <td>2018-01-25 16:17:44.789555</td>\n",
       "      <td>2018-02-02 01:19:41.756632</td>\n",
       "      <td>2018-02-02 01:19:41.756664</td>\n",
       "      <td>“Oh, Trump, you coward, you just wait, we will...</td>\n",
       "      <td>F.N. Lehner, Don Spilman, Clarence J. Feinour,...</td>\n",
       "      <td>NaN</td>\n",
       "      <td>['']</td>\n",
       "      <td>NaN</td>\n",
       "      <td>NaN</td>\n",
       "      <td>NaN</td>\n",
       "      <td>NaN</td>\n",
       "    </tr>\n",
       "  </tbody>\n",
       "</table>\n",
       "</div>"
      ],
      "text/plain": [
       "   Unnamed: 0  id              domain   type  \\\n",
       "0           0   2       express.co.uk  rumor   \n",
       "1           1   6  barenakedislam.com   hate   \n",
       "2           2   7  barenakedislam.com   hate   \n",
       "3           3   8  barenakedislam.com   hate   \n",
       "4           4   9  barenakedislam.com   hate   \n",
       "\n",
       "                                                 url  \\\n",
       "0  https://www.express.co.uk/news/science/738402/...   \n",
       "1  http://barenakedislam.com/category/donald-trum...   \n",
       "2  http://barenakedislam.com/category/donald-trum...   \n",
       "3  http://barenakedislam.com/2017/12/24/more-winn...   \n",
       "4  http://barenakedislam.com/2017/12/25/oh-trump-...   \n",
       "\n",
       "                                             content  \\\n",
       "0  Life is an illusion, at least on a quantum lev...   \n",
       "1  Unfortunately, he hasn’t yet attacked her for ...   \n",
       "2  The Los Angeles Police Department has been den...   \n",
       "3  The White House has decided to quietly withdra...   \n",
       "4  “The time has come to cut off the tongues of t...   \n",
       "\n",
       "                   scraped_at                 inserted_at  \\\n",
       "0  2018-01-25 16:17:44.789555  2018-02-02 01:19:41.756632   \n",
       "1  2018-01-25 16:17:44.789555  2018-02-02 01:19:41.756632   \n",
       "2  2018-01-25 16:17:44.789555  2018-02-02 01:19:41.756632   \n",
       "3  2018-01-25 16:17:44.789555  2018-02-02 01:19:41.756632   \n",
       "4  2018-01-25 16:17:44.789555  2018-02-02 01:19:41.756632   \n",
       "\n",
       "                   updated_at  \\\n",
       "0  2018-02-02 01:19:41.756664   \n",
       "1  2018-02-02 01:19:41.756664   \n",
       "2  2018-02-02 01:19:41.756664   \n",
       "3  2018-02-02 01:19:41.756664   \n",
       "4  2018-02-02 01:19:41.756664   \n",
       "\n",
       "                                               title  \\\n",
       "0  Is life an ILLUSION? Researchers prove 'realit...   \n",
       "1                                       Donald Trump   \n",
       "2                                       Donald Trump   \n",
       "3  MORE WINNING! Israeli intelligence source, DEB...   \n",
       "4  “Oh, Trump, you coward, you just wait, we will...   \n",
       "\n",
       "                                             authors  keywords meta_keywords  \\\n",
       "0                                        Sean Martin       NaN          ['']   \n",
       "1  Linda Rivera, Conrad Calvano, Az Gal, Lincoln ...       NaN          ['']   \n",
       "2  Linda Rivera, Conrad Calvano, Az Gal, Lincoln ...       NaN          ['']   \n",
       "3  Cleavis Nowell, Cleavisnowell, Clarence J. Fei...       NaN          ['']   \n",
       "4  F.N. Lehner, Don Spilman, Clarence J. Feinour,...       NaN          ['']   \n",
       "\n",
       "                                    meta_description tags  summary  source  \n",
       "0  THE UNIVERSE ceases to exist when we are not l...  NaN      NaN     NaN  \n",
       "1                                                NaN  NaN      NaN     NaN  \n",
       "2                                                NaN  NaN      NaN     NaN  \n",
       "3                                                NaN  NaN      NaN     NaN  \n",
       "4                                                NaN  NaN      NaN     NaN  "
      ]
     },
     "execution_count": 110,
     "metadata": {},
     "output_type": "execute_result"
    }
   ],
   "source": [
    "corpus=pd.read_csv(\"/home/kathrin/code/kbank1/fake_news/raw_data/fakenewscorpus/news_1.csv\", nrows=20000)\n",
    "\n",
    "corpus.head()"
   ]
  },
  {
   "cell_type": "code",
   "execution_count": 111,
   "id": "41f90116",
   "metadata": {
    "collapsed": true,
    "hidden": true
   },
   "outputs": [
    {
     "data": {
      "text/plain": [
       "fake          10502\n",
       "conspiracy     3724\n",
       "political      2723\n",
       "junksci         587\n",
       "unreliable      505\n",
       "bias            406\n",
       "hate            259\n",
       "reliable        202\n",
       "satire          200\n",
       "clickbait       198\n",
       "unknown          89\n",
       "rumor            63\n",
       "Name: type, dtype: int64"
      ]
     },
     "execution_count": 111,
     "metadata": {},
     "output_type": "execute_result"
    }
   ],
   "source": [
    "corpus.type.value_counts()"
   ]
  },
  {
   "cell_type": "code",
   "execution_count": 112,
   "id": "1ff0ac0e",
   "metadata": {
    "hidden": true,
    "scrolled": true
   },
   "outputs": [],
   "source": [
    "#keep only fakes\n",
    "corpus=corpus[corpus[\"type\"]==\"fake\"]"
   ]
  },
  {
   "cell_type": "code",
   "execution_count": 113,
   "id": "af0d320b",
   "metadata": {
    "hidden": true
   },
   "outputs": [
    {
     "name": "stdout",
     "output_type": "stream",
     "text": [
      "<class 'pandas.core.frame.DataFrame'>\n",
      "Int64Index: 10502 entries, 27 to 19999\n",
      "Data columns (total 17 columns):\n",
      " #   Column            Non-Null Count  Dtype  \n",
      "---  ------            --------------  -----  \n",
      " 0   Unnamed: 0        10502 non-null  int64  \n",
      " 1   id                10502 non-null  int64  \n",
      " 2   domain            10502 non-null  object \n",
      " 3   type              10502 non-null  object \n",
      " 4   url               10502 non-null  object \n",
      " 5   content           10502 non-null  object \n",
      " 6   scraped_at        10502 non-null  object \n",
      " 7   inserted_at       10502 non-null  object \n",
      " 8   updated_at        10502 non-null  object \n",
      " 9   title             10502 non-null  object \n",
      " 10  authors           7124 non-null   object \n",
      " 11  keywords          0 non-null      float64\n",
      " 12  meta_keywords     10502 non-null  object \n",
      " 13  meta_description  8 non-null      object \n",
      " 14  tags              394 non-null    object \n",
      " 15  summary           0 non-null      float64\n",
      " 16  source            0 non-null      float64\n",
      "dtypes: float64(3), int64(2), object(12)\n",
      "memory usage: 1.4+ MB\n"
     ]
    }
   ],
   "source": [
    "corpus.info()"
   ]
  },
  {
   "cell_type": "code",
   "execution_count": 114,
   "id": "c7c65236",
   "metadata": {
    "hidden": true
   },
   "outputs": [],
   "source": [
    "corpus[\"date\"]=pd.to_datetime(corpus[\"scraped_at\"])"
   ]
  },
  {
   "cell_type": "code",
   "execution_count": 115,
   "id": "d0c2e45b",
   "metadata": {
    "collapsed": true,
    "hidden": true
   },
   "outputs": [
    {
     "data": {
      "text/html": [
       "<div>\n",
       "<style scoped>\n",
       "    .dataframe tbody tr th:only-of-type {\n",
       "        vertical-align: middle;\n",
       "    }\n",
       "\n",
       "    .dataframe tbody tr th {\n",
       "        vertical-align: top;\n",
       "    }\n",
       "\n",
       "    .dataframe thead th {\n",
       "        text-align: right;\n",
       "    }\n",
       "</style>\n",
       "<table border=\"1\" class=\"dataframe\">\n",
       "  <thead>\n",
       "    <tr style=\"text-align: right;\">\n",
       "      <th></th>\n",
       "      <th>Unnamed: 0</th>\n",
       "      <th>id</th>\n",
       "      <th>domain</th>\n",
       "      <th>type</th>\n",
       "      <th>url</th>\n",
       "      <th>content</th>\n",
       "      <th>scraped_at</th>\n",
       "      <th>inserted_at</th>\n",
       "      <th>updated_at</th>\n",
       "      <th>title</th>\n",
       "      <th>authors</th>\n",
       "      <th>keywords</th>\n",
       "      <th>meta_keywords</th>\n",
       "      <th>meta_description</th>\n",
       "      <th>tags</th>\n",
       "      <th>summary</th>\n",
       "      <th>source</th>\n",
       "      <th>date</th>\n",
       "    </tr>\n",
       "  </thead>\n",
       "  <tbody>\n",
       "    <tr>\n",
       "      <th>27</th>\n",
       "      <td>27</td>\n",
       "      <td>34</td>\n",
       "      <td>beforeitsnews.com</td>\n",
       "      <td>fake</td>\n",
       "      <td>http://beforeitsnews.com/opinion-conservative/...</td>\n",
       "      <td>Headline: Bitcoin &amp; Blockchain Searches Exceed...</td>\n",
       "      <td>2018-01-25 16:17:44.789555</td>\n",
       "      <td>2018-02-02 01:19:41.756632</td>\n",
       "      <td>2018-02-02 01:19:41.756664</td>\n",
       "      <td>Surprise: Socialist Hotbed Of Venezuela Has Lo...</td>\n",
       "      <td>The Pirate'S Cove</td>\n",
       "      <td>NaN</td>\n",
       "      <td>['']</td>\n",
       "      <td>NaN</td>\n",
       "      <td>NaN</td>\n",
       "      <td>NaN</td>\n",
       "      <td>NaN</td>\n",
       "      <td>2018-01-25 16:17:44.789555</td>\n",
       "    </tr>\n",
       "    <tr>\n",
       "      <th>28</th>\n",
       "      <td>28</td>\n",
       "      <td>35</td>\n",
       "      <td>beforeitsnews.com</td>\n",
       "      <td>fake</td>\n",
       "      <td>http://beforeitsnews.com/politics/2018/01/wate...</td>\n",
       "      <td>Water Cooler 1/25/18 Open Thread; Fake News ? ...</td>\n",
       "      <td>2018-01-25 16:17:44.789555</td>\n",
       "      <td>2018-02-02 01:19:41.756632</td>\n",
       "      <td>2018-02-02 01:19:41.756664</td>\n",
       "      <td>Water Cooler 1/25/18 Open Thread; Fake News ? ...</td>\n",
       "      <td>NaN</td>\n",
       "      <td>NaN</td>\n",
       "      <td>['']</td>\n",
       "      <td>NaN</td>\n",
       "      <td>NaN</td>\n",
       "      <td>NaN</td>\n",
       "      <td>NaN</td>\n",
       "      <td>2018-01-25 16:17:44.789555</td>\n",
       "    </tr>\n",
       "    <tr>\n",
       "      <th>29</th>\n",
       "      <td>29</td>\n",
       "      <td>36</td>\n",
       "      <td>beforeitsnews.com</td>\n",
       "      <td>fake</td>\n",
       "      <td>http://beforeitsnews.com/politics/2018/01/vete...</td>\n",
       "      <td>Veteran Commentator Calls Out the Growing “Eth...</td>\n",
       "      <td>2018-01-25 16:17:44.789555</td>\n",
       "      <td>2018-02-02 01:19:41.756632</td>\n",
       "      <td>2018-02-02 01:19:41.756664</td>\n",
       "      <td>Veteran Commentator Calls Out the Growing “Eth...</td>\n",
       "      <td>NaN</td>\n",
       "      <td>NaN</td>\n",
       "      <td>['']</td>\n",
       "      <td>NaN</td>\n",
       "      <td>NaN</td>\n",
       "      <td>NaN</td>\n",
       "      <td>NaN</td>\n",
       "      <td>2018-01-25 16:17:44.789555</td>\n",
       "    </tr>\n",
       "    <tr>\n",
       "      <th>30</th>\n",
       "      <td>30</td>\n",
       "      <td>37</td>\n",
       "      <td>beforeitsnews.com</td>\n",
       "      <td>fake</td>\n",
       "      <td>http://beforeitsnews.com/arts/2018/01/lost-wor...</td>\n",
       "      <td>Lost Words, Hidden Words, Otters, Banks and Bo...</td>\n",
       "      <td>2018-01-25 16:17:44.789555</td>\n",
       "      <td>2018-02-02 01:19:41.756632</td>\n",
       "      <td>2018-02-02 01:19:41.756664</td>\n",
       "      <td>Lost Words, Hidden Words, Otters, Banks and Books</td>\n",
       "      <td>Jackie Morris Artist</td>\n",
       "      <td>NaN</td>\n",
       "      <td>['']</td>\n",
       "      <td>NaN</td>\n",
       "      <td>NaN</td>\n",
       "      <td>NaN</td>\n",
       "      <td>NaN</td>\n",
       "      <td>2018-01-25 16:17:44.789555</td>\n",
       "    </tr>\n",
       "    <tr>\n",
       "      <th>31</th>\n",
       "      <td>31</td>\n",
       "      <td>38</td>\n",
       "      <td>beforeitsnews.com</td>\n",
       "      <td>fake</td>\n",
       "      <td>http://beforeitsnews.com/financial-markets/201...</td>\n",
       "      <td>Red Alert: Bond Yields Are SCREAMING “Inflatio...</td>\n",
       "      <td>2018-01-25 16:17:44.789555</td>\n",
       "      <td>2018-02-02 01:19:41.756632</td>\n",
       "      <td>2018-02-02 01:19:41.756664</td>\n",
       "      <td>Red Alert: Bond Yields Are SCREAMING “Inflatio...</td>\n",
       "      <td>Phoenix Capital Research</td>\n",
       "      <td>NaN</td>\n",
       "      <td>['']</td>\n",
       "      <td>NaN</td>\n",
       "      <td>NaN</td>\n",
       "      <td>NaN</td>\n",
       "      <td>NaN</td>\n",
       "      <td>2018-01-25 16:17:44.789555</td>\n",
       "    </tr>\n",
       "  </tbody>\n",
       "</table>\n",
       "</div>"
      ],
      "text/plain": [
       "    Unnamed: 0  id             domain  type  \\\n",
       "27          27  34  beforeitsnews.com  fake   \n",
       "28          28  35  beforeitsnews.com  fake   \n",
       "29          29  36  beforeitsnews.com  fake   \n",
       "30          30  37  beforeitsnews.com  fake   \n",
       "31          31  38  beforeitsnews.com  fake   \n",
       "\n",
       "                                                  url  \\\n",
       "27  http://beforeitsnews.com/opinion-conservative/...   \n",
       "28  http://beforeitsnews.com/politics/2018/01/wate...   \n",
       "29  http://beforeitsnews.com/politics/2018/01/vete...   \n",
       "30  http://beforeitsnews.com/arts/2018/01/lost-wor...   \n",
       "31  http://beforeitsnews.com/financial-markets/201...   \n",
       "\n",
       "                                              content  \\\n",
       "27  Headline: Bitcoin & Blockchain Searches Exceed...   \n",
       "28  Water Cooler 1/25/18 Open Thread; Fake News ? ...   \n",
       "29  Veteran Commentator Calls Out the Growing “Eth...   \n",
       "30  Lost Words, Hidden Words, Otters, Banks and Bo...   \n",
       "31  Red Alert: Bond Yields Are SCREAMING “Inflatio...   \n",
       "\n",
       "                    scraped_at                 inserted_at  \\\n",
       "27  2018-01-25 16:17:44.789555  2018-02-02 01:19:41.756632   \n",
       "28  2018-01-25 16:17:44.789555  2018-02-02 01:19:41.756632   \n",
       "29  2018-01-25 16:17:44.789555  2018-02-02 01:19:41.756632   \n",
       "30  2018-01-25 16:17:44.789555  2018-02-02 01:19:41.756632   \n",
       "31  2018-01-25 16:17:44.789555  2018-02-02 01:19:41.756632   \n",
       "\n",
       "                    updated_at  \\\n",
       "27  2018-02-02 01:19:41.756664   \n",
       "28  2018-02-02 01:19:41.756664   \n",
       "29  2018-02-02 01:19:41.756664   \n",
       "30  2018-02-02 01:19:41.756664   \n",
       "31  2018-02-02 01:19:41.756664   \n",
       "\n",
       "                                                title  \\\n",
       "27  Surprise: Socialist Hotbed Of Venezuela Has Lo...   \n",
       "28  Water Cooler 1/25/18 Open Thread; Fake News ? ...   \n",
       "29  Veteran Commentator Calls Out the Growing “Eth...   \n",
       "30  Lost Words, Hidden Words, Otters, Banks and Books   \n",
       "31  Red Alert: Bond Yields Are SCREAMING “Inflatio...   \n",
       "\n",
       "                     authors  keywords meta_keywords meta_description tags  \\\n",
       "27         The Pirate'S Cove       NaN          ['']              NaN  NaN   \n",
       "28                       NaN       NaN          ['']              NaN  NaN   \n",
       "29                       NaN       NaN          ['']              NaN  NaN   \n",
       "30      Jackie Morris Artist       NaN          ['']              NaN  NaN   \n",
       "31  Phoenix Capital Research       NaN          ['']              NaN  NaN   \n",
       "\n",
       "    summary  source                       date  \n",
       "27      NaN     NaN 2018-01-25 16:17:44.789555  \n",
       "28      NaN     NaN 2018-01-25 16:17:44.789555  \n",
       "29      NaN     NaN 2018-01-25 16:17:44.789555  \n",
       "30      NaN     NaN 2018-01-25 16:17:44.789555  \n",
       "31      NaN     NaN 2018-01-25 16:17:44.789555  "
      ]
     },
     "execution_count": 115,
     "metadata": {},
     "output_type": "execute_result"
    }
   ],
   "source": [
    "corpus.head()"
   ]
  },
  {
   "cell_type": "code",
   "execution_count": 116,
   "id": "99e28c3d",
   "metadata": {
    "hidden": true
   },
   "outputs": [],
   "source": [
    "corpus[\"year\"]=corpus[\"date\"].dt.year"
   ]
  },
  {
   "cell_type": "code",
   "execution_count": 117,
   "id": "1a4a163a",
   "metadata": {
    "collapsed": true,
    "hidden": true
   },
   "outputs": [
    {
     "data": {
      "text/html": [
       "<div>\n",
       "<style scoped>\n",
       "    .dataframe tbody tr th:only-of-type {\n",
       "        vertical-align: middle;\n",
       "    }\n",
       "\n",
       "    .dataframe tbody tr th {\n",
       "        vertical-align: top;\n",
       "    }\n",
       "\n",
       "    .dataframe thead th {\n",
       "        text-align: right;\n",
       "    }\n",
       "</style>\n",
       "<table border=\"1\" class=\"dataframe\">\n",
       "  <thead>\n",
       "    <tr style=\"text-align: right;\">\n",
       "      <th></th>\n",
       "      <th>Unnamed: 0</th>\n",
       "      <th>id</th>\n",
       "      <th>domain</th>\n",
       "      <th>type</th>\n",
       "      <th>url</th>\n",
       "      <th>content</th>\n",
       "      <th>scraped_at</th>\n",
       "      <th>inserted_at</th>\n",
       "      <th>updated_at</th>\n",
       "      <th>title</th>\n",
       "      <th>authors</th>\n",
       "      <th>keywords</th>\n",
       "      <th>meta_keywords</th>\n",
       "      <th>meta_description</th>\n",
       "      <th>tags</th>\n",
       "      <th>summary</th>\n",
       "      <th>source</th>\n",
       "      <th>date</th>\n",
       "      <th>year</th>\n",
       "    </tr>\n",
       "  </thead>\n",
       "  <tbody>\n",
       "    <tr>\n",
       "      <th>27</th>\n",
       "      <td>27</td>\n",
       "      <td>34</td>\n",
       "      <td>beforeitsnews.com</td>\n",
       "      <td>fake</td>\n",
       "      <td>http://beforeitsnews.com/opinion-conservative/...</td>\n",
       "      <td>Headline: Bitcoin &amp; Blockchain Searches Exceed...</td>\n",
       "      <td>2018-01-25 16:17:44.789555</td>\n",
       "      <td>2018-02-02 01:19:41.756632</td>\n",
       "      <td>2018-02-02 01:19:41.756664</td>\n",
       "      <td>Surprise: Socialist Hotbed Of Venezuela Has Lo...</td>\n",
       "      <td>The Pirate'S Cove</td>\n",
       "      <td>NaN</td>\n",
       "      <td>['']</td>\n",
       "      <td>NaN</td>\n",
       "      <td>NaN</td>\n",
       "      <td>NaN</td>\n",
       "      <td>NaN</td>\n",
       "      <td>2018-01-25 16:17:44.789555</td>\n",
       "      <td>2018</td>\n",
       "    </tr>\n",
       "    <tr>\n",
       "      <th>28</th>\n",
       "      <td>28</td>\n",
       "      <td>35</td>\n",
       "      <td>beforeitsnews.com</td>\n",
       "      <td>fake</td>\n",
       "      <td>http://beforeitsnews.com/politics/2018/01/wate...</td>\n",
       "      <td>Water Cooler 1/25/18 Open Thread; Fake News ? ...</td>\n",
       "      <td>2018-01-25 16:17:44.789555</td>\n",
       "      <td>2018-02-02 01:19:41.756632</td>\n",
       "      <td>2018-02-02 01:19:41.756664</td>\n",
       "      <td>Water Cooler 1/25/18 Open Thread; Fake News ? ...</td>\n",
       "      <td>NaN</td>\n",
       "      <td>NaN</td>\n",
       "      <td>['']</td>\n",
       "      <td>NaN</td>\n",
       "      <td>NaN</td>\n",
       "      <td>NaN</td>\n",
       "      <td>NaN</td>\n",
       "      <td>2018-01-25 16:17:44.789555</td>\n",
       "      <td>2018</td>\n",
       "    </tr>\n",
       "    <tr>\n",
       "      <th>29</th>\n",
       "      <td>29</td>\n",
       "      <td>36</td>\n",
       "      <td>beforeitsnews.com</td>\n",
       "      <td>fake</td>\n",
       "      <td>http://beforeitsnews.com/politics/2018/01/vete...</td>\n",
       "      <td>Veteran Commentator Calls Out the Growing “Eth...</td>\n",
       "      <td>2018-01-25 16:17:44.789555</td>\n",
       "      <td>2018-02-02 01:19:41.756632</td>\n",
       "      <td>2018-02-02 01:19:41.756664</td>\n",
       "      <td>Veteran Commentator Calls Out the Growing “Eth...</td>\n",
       "      <td>NaN</td>\n",
       "      <td>NaN</td>\n",
       "      <td>['']</td>\n",
       "      <td>NaN</td>\n",
       "      <td>NaN</td>\n",
       "      <td>NaN</td>\n",
       "      <td>NaN</td>\n",
       "      <td>2018-01-25 16:17:44.789555</td>\n",
       "      <td>2018</td>\n",
       "    </tr>\n",
       "    <tr>\n",
       "      <th>30</th>\n",
       "      <td>30</td>\n",
       "      <td>37</td>\n",
       "      <td>beforeitsnews.com</td>\n",
       "      <td>fake</td>\n",
       "      <td>http://beforeitsnews.com/arts/2018/01/lost-wor...</td>\n",
       "      <td>Lost Words, Hidden Words, Otters, Banks and Bo...</td>\n",
       "      <td>2018-01-25 16:17:44.789555</td>\n",
       "      <td>2018-02-02 01:19:41.756632</td>\n",
       "      <td>2018-02-02 01:19:41.756664</td>\n",
       "      <td>Lost Words, Hidden Words, Otters, Banks and Books</td>\n",
       "      <td>Jackie Morris Artist</td>\n",
       "      <td>NaN</td>\n",
       "      <td>['']</td>\n",
       "      <td>NaN</td>\n",
       "      <td>NaN</td>\n",
       "      <td>NaN</td>\n",
       "      <td>NaN</td>\n",
       "      <td>2018-01-25 16:17:44.789555</td>\n",
       "      <td>2018</td>\n",
       "    </tr>\n",
       "    <tr>\n",
       "      <th>31</th>\n",
       "      <td>31</td>\n",
       "      <td>38</td>\n",
       "      <td>beforeitsnews.com</td>\n",
       "      <td>fake</td>\n",
       "      <td>http://beforeitsnews.com/financial-markets/201...</td>\n",
       "      <td>Red Alert: Bond Yields Are SCREAMING “Inflatio...</td>\n",
       "      <td>2018-01-25 16:17:44.789555</td>\n",
       "      <td>2018-02-02 01:19:41.756632</td>\n",
       "      <td>2018-02-02 01:19:41.756664</td>\n",
       "      <td>Red Alert: Bond Yields Are SCREAMING “Inflatio...</td>\n",
       "      <td>Phoenix Capital Research</td>\n",
       "      <td>NaN</td>\n",
       "      <td>['']</td>\n",
       "      <td>NaN</td>\n",
       "      <td>NaN</td>\n",
       "      <td>NaN</td>\n",
       "      <td>NaN</td>\n",
       "      <td>2018-01-25 16:17:44.789555</td>\n",
       "      <td>2018</td>\n",
       "    </tr>\n",
       "  </tbody>\n",
       "</table>\n",
       "</div>"
      ],
      "text/plain": [
       "    Unnamed: 0  id             domain  type  \\\n",
       "27          27  34  beforeitsnews.com  fake   \n",
       "28          28  35  beforeitsnews.com  fake   \n",
       "29          29  36  beforeitsnews.com  fake   \n",
       "30          30  37  beforeitsnews.com  fake   \n",
       "31          31  38  beforeitsnews.com  fake   \n",
       "\n",
       "                                                  url  \\\n",
       "27  http://beforeitsnews.com/opinion-conservative/...   \n",
       "28  http://beforeitsnews.com/politics/2018/01/wate...   \n",
       "29  http://beforeitsnews.com/politics/2018/01/vete...   \n",
       "30  http://beforeitsnews.com/arts/2018/01/lost-wor...   \n",
       "31  http://beforeitsnews.com/financial-markets/201...   \n",
       "\n",
       "                                              content  \\\n",
       "27  Headline: Bitcoin & Blockchain Searches Exceed...   \n",
       "28  Water Cooler 1/25/18 Open Thread; Fake News ? ...   \n",
       "29  Veteran Commentator Calls Out the Growing “Eth...   \n",
       "30  Lost Words, Hidden Words, Otters, Banks and Bo...   \n",
       "31  Red Alert: Bond Yields Are SCREAMING “Inflatio...   \n",
       "\n",
       "                    scraped_at                 inserted_at  \\\n",
       "27  2018-01-25 16:17:44.789555  2018-02-02 01:19:41.756632   \n",
       "28  2018-01-25 16:17:44.789555  2018-02-02 01:19:41.756632   \n",
       "29  2018-01-25 16:17:44.789555  2018-02-02 01:19:41.756632   \n",
       "30  2018-01-25 16:17:44.789555  2018-02-02 01:19:41.756632   \n",
       "31  2018-01-25 16:17:44.789555  2018-02-02 01:19:41.756632   \n",
       "\n",
       "                    updated_at  \\\n",
       "27  2018-02-02 01:19:41.756664   \n",
       "28  2018-02-02 01:19:41.756664   \n",
       "29  2018-02-02 01:19:41.756664   \n",
       "30  2018-02-02 01:19:41.756664   \n",
       "31  2018-02-02 01:19:41.756664   \n",
       "\n",
       "                                                title  \\\n",
       "27  Surprise: Socialist Hotbed Of Venezuela Has Lo...   \n",
       "28  Water Cooler 1/25/18 Open Thread; Fake News ? ...   \n",
       "29  Veteran Commentator Calls Out the Growing “Eth...   \n",
       "30  Lost Words, Hidden Words, Otters, Banks and Books   \n",
       "31  Red Alert: Bond Yields Are SCREAMING “Inflatio...   \n",
       "\n",
       "                     authors  keywords meta_keywords meta_description tags  \\\n",
       "27         The Pirate'S Cove       NaN          ['']              NaN  NaN   \n",
       "28                       NaN       NaN          ['']              NaN  NaN   \n",
       "29                       NaN       NaN          ['']              NaN  NaN   \n",
       "30      Jackie Morris Artist       NaN          ['']              NaN  NaN   \n",
       "31  Phoenix Capital Research       NaN          ['']              NaN  NaN   \n",
       "\n",
       "    summary  source                       date  year  \n",
       "27      NaN     NaN 2018-01-25 16:17:44.789555  2018  \n",
       "28      NaN     NaN 2018-01-25 16:17:44.789555  2018  \n",
       "29      NaN     NaN 2018-01-25 16:17:44.789555  2018  \n",
       "30      NaN     NaN 2018-01-25 16:17:44.789555  2018  \n",
       "31      NaN     NaN 2018-01-25 16:17:44.789555  2018  "
      ]
     },
     "execution_count": 117,
     "metadata": {},
     "output_type": "execute_result"
    }
   ],
   "source": [
    "corpus.head()"
   ]
  },
  {
   "cell_type": "code",
   "execution_count": 118,
   "id": "1ea76264",
   "metadata": {
    "hidden": true
   },
   "outputs": [
    {
     "data": {
      "text/plain": [
       "2018    10502\n",
       "Name: year, dtype: int64"
      ]
     },
     "execution_count": 118,
     "metadata": {},
     "output_type": "execute_result"
    }
   ],
   "source": [
    "corpus.year.value_counts()"
   ]
  },
  {
   "cell_type": "code",
   "execution_count": 119,
   "id": "5f4dd1b6",
   "metadata": {
    "hidden": true
   },
   "outputs": [],
   "source": [
    "#preprocess content\n",
    "corpus['content'] = corpus.content.apply(preprocessing)"
   ]
  },
  {
   "cell_type": "code",
   "execution_count": 120,
   "id": "1761c7de",
   "metadata": {
    "hidden": true
   },
   "outputs": [],
   "source": [
    "#create x and y\n",
    "corpus[\"fake\"]=1\n",
    "X_test_new=corpus[\"content\"]\n",
    "y_test_new=corpus[\"fake\"]"
   ]
  },
  {
   "cell_type": "code",
   "execution_count": 128,
   "id": "4b3e4b6f",
   "metadata": {
    "hidden": true
   },
   "outputs": [],
   "source": [
    "y_pred_new=pipe.predict(X_test_new)"
   ]
  },
  {
   "cell_type": "code",
   "execution_count": 129,
   "id": "d2a025fc",
   "metadata": {
    "hidden": true
   },
   "outputs": [
    {
     "data": {
      "text/plain": [
       "0    9333\n",
       "1    1169\n",
       "dtype: int64"
      ]
     },
     "execution_count": 129,
     "metadata": {},
     "output_type": "execute_result"
    }
   ],
   "source": [
    "y_pred_new_df=pd.DataFrame(y_pred_new)\n",
    "y_pred_new_df.value_counts()"
   ]
  },
  {
   "cell_type": "markdown",
   "id": "7cf665d9",
   "metadata": {
    "heading_collapsed": true
   },
   "source": [
    "# create function for politifact test set "
   ]
  },
  {
   "cell_type": "code",
   "execution_count": 137,
   "id": "7cc957a5",
   "metadata": {
    "hidden": true
   },
   "outputs": [],
   "source": [
    "#save subset of politifact dataset\n",
    "#load data\n",
    "politifact=pd.read_json(\"/home/kathrin/code/kbank1/fake_news/raw_data/politifact/politifact_factcheck_data.json\", lines=True)\n",
    "#extract year\n",
    "politifact['statement_date'] = pd.to_datetime(politifact['statement_date'])\n",
    "politifact[\"year\"]=politifact[\"statement_date\"].dt.year\n",
    "#select obs after 2019\n",
    "politifact=politifact[politifact[\"year\"]>2019]\n",
    "#only keep true, false and pants on fire\n",
    "politifact= politifact[politifact[\"verdict\"].isin([\"false\", \"pants-fire\", \"true\"])]\n",
    "#create variable fake that is 0 if real, 1 if fake\n",
    "politifact[\"fake\"] = 0  # Default to 0\n",
    "politifact.loc[politifact[\"verdict\"].isin([\"false\", \"pants-fire\"]), \"fake\"] = 1\n",
    "\n",
    "#save\n",
    "politifact.to_csv(\"/home/kathrin/code/kbank1/fake_news/raw_data/politifact/politifact_test.csv\")"
   ]
  },
  {
   "cell_type": "code",
   "execution_count": 134,
   "id": "e7ea093f",
   "metadata": {
    "hidden": true
   },
   "outputs": [],
   "source": [
    "def test_score(pipe):\n",
    "    \"\"\"\n",
    "    input a pipe (preprocessing and modeling)\n",
    "    apply preprocessing\n",
    "    output a classification report on the test set\n",
    "    \"\"\"\n",
    "    \n",
    "    #load data\n",
    "    politifact= pd.read_csv(\"/home/kathrin/code/kbank1/fake_news/raw_data/politifact/politifact_test.csv\")\n",
    "    #apply preprocessing\n",
    "    politifact['statement'] = politifact.statement.apply(preprocessing)\n",
    "    \n",
    "    #create X and y\n",
    "    X_test_new=politifact[\"statement\"]\n",
    "    y_test_new=politifact[\"fake\"]\n",
    "    #predict the label\n",
    "    y_pred_new=pipe.predict(X_test_new)\n",
    "    #make a classification report\n",
    "    report=classification_report(y_test_new, y_pred_new, output_dict=True)\n",
    "    \n",
    "    return report\n",
    "    "
   ]
  },
  {
   "cell_type": "code",
   "execution_count": 135,
   "id": "c85108f3",
   "metadata": {
    "collapsed": true,
    "hidden": true
   },
   "outputs": [
    {
     "data": {
      "text/plain": [
       "{'0': {'precision': 0.07058326289095519,\n",
       "  'recall': 0.8743455497382199,\n",
       "  'f1-score': 0.13062182244818146,\n",
       "  'support': 191.0},\n",
       " '1': {'precision': 0.974304068522484,\n",
       "  'recall': 0.29269861691862337,\n",
       "  'f1-score': 0.45016077170418006,\n",
       "  'support': 3109.0},\n",
       " 'accuracy': 0.32636363636363636,\n",
       " 'macro avg': {'precision': 0.5224436657067196,\n",
       "  'recall': 0.5835220833284216,\n",
       "  'f1-score': 0.2903912970761808,\n",
       "  'support': 3300.0},\n",
       " 'weighted avg': {'precision': 0.9219978037116895,\n",
       "  'recall': 0.32636363636363636,\n",
       "  'f1-score': 0.4316662446411814,\n",
       "  'support': 3300.0}}"
      ]
     },
     "execution_count": 135,
     "metadata": {},
     "output_type": "execute_result"
    }
   ],
   "source": [
    "test_score(pipe)"
   ]
  },
  {
   "cell_type": "markdown",
   "id": "1a63c4bc",
   "metadata": {},
   "source": [
    "# create function for several test sets"
   ]
  },
  {
   "cell_type": "code",
   "execution_count": 33,
   "id": "233d47b8",
   "metadata": {},
   "outputs": [],
   "source": [
    "import pandas as pd"
   ]
  },
  {
   "cell_type": "code",
   "execution_count": 34,
   "id": "68c3cea6",
   "metadata": {},
   "outputs": [],
   "source": [
    "#save subset of politifact dataset\n",
    "#load data\n",
    "politifact=pd.read_json(\"/home/kathrin/code/kbank1/fake_news/raw_data/politifact/politifact_factcheck_data.json\", lines=True)\n",
    "#extract year\n",
    "politifact['statement_date'] = pd.to_datetime(politifact['statement_date'])\n",
    "politifact[\"year\"]=politifact[\"statement_date\"].dt.year\n",
    "#select obs after 2019\n",
    "politifact=politifact[politifact[\"year\"]>2019]\n",
    "#only keep true, false and pants on fire\n",
    "politifact= politifact[politifact[\"verdict\"].isin([\"false\", \"pants-fire\", \"true\"])]\n",
    "#create variable fake that is 0 if real, 1 if fake\n",
    "politifact[\"fake\"] = 0  # Default to 0\n",
    "politifact.loc[politifact[\"verdict\"].isin([\"false\", \"pants-fire\"]), \"fake\"] = 1\n",
    "\n",
    "politifact[\"text\"]=politifact[\"statement\"]\n",
    "\n",
    "#save\n",
    "politifact.to_csv(\"/home/kathrin/code/kbank1/fake_news/raw_data/test/politifact_test.csv\")"
   ]
  },
  {
   "cell_type": "code",
   "execution_count": 35,
   "id": "98b6f238",
   "metadata": {},
   "outputs": [],
   "source": [
    "#load and save subset of guardian\n",
    "#import guardian data, test model on 2023 guardian articles\n",
    "#load new data\n",
    "guardian=pd.read_csv(\"/home/kathrin/code/kbank1/fake_news/raw_data/guardian/the_guardian_full.csv\")\n",
    "guardian= guardian.tail(10000)\n",
    "guardian=guardian.dropna()\n",
    "guardian[\"fake\"]=0\n",
    "guardian[\"text\"]=guardian[\"Content\"]\n",
    "#save\n",
    "guardian.to_csv(\"/home/kathrin/code/kbank1/fake_news/raw_data/test/guardian_test.csv\")\n"
   ]
  },
  {
   "cell_type": "code",
   "execution_count": 36,
   "id": "05d1591b",
   "metadata": {},
   "outputs": [],
   "source": [
    "#load and save subset of corpus\n",
    "corpus=pd.read_csv(\"/home/kathrin/code/kbank1/fake_news/raw_data/fakenewscorpus/news_1.csv\", nrows=20000)\n",
    "#keep only fakes\n",
    "corpus=corpus[corpus[\"type\"]==\"fake\"]\n",
    "corpus[\"fake\"]=1\n",
    "corpus[\"text\"]=corpus[\"content\"]\n",
    "#save\n",
    "corpus.to_csv(\"/home/kathrin/code/kbank1/fake_news/raw_data/test/corpus_test.csv\")"
   ]
  },
  {
   "cell_type": "code",
   "execution_count": 43,
   "id": "dcc74795",
   "metadata": {},
   "outputs": [],
   "source": [
    "def test_score(pipe, dataset_name):\n",
    "    \"\"\"\n",
    "    input a pipe (preprocessing and modeling)\n",
    "    output a classification report on the test set\n",
    "    \"\"\"\n",
    "    \n",
    "    #load data\n",
    "    df=pd.read_csv(\"/home/kathrin/code/kbank1/fake_news/raw_data/test/\"+dataset_name+\"_test.csv\")\n",
    "    \n",
    "    #apply preprocessing\n",
    "    df['text'] = df.text.apply(preprocessing)\n",
    "    \n",
    "    #create X and y\n",
    "    X_test_new=df[\"text\"]\n",
    "    y_test_new=df[\"fake\"]\n",
    "    #predict the label\n",
    "    y_pred_new=pipe.predict(X_test_new)\n",
    "    #make a classification report\n",
    "    report=classification_report(y_test_new, y_pred_new, output_dict=True)\n",
    "    \n",
    "    return report"
   ]
  },
  {
   "cell_type": "markdown",
   "id": "0e8ed1be",
   "metadata": {},
   "source": [
    "## test of function with baseline model"
   ]
  },
  {
   "cell_type": "code",
   "execution_count": 44,
   "id": "781beb45",
   "metadata": {
    "collapsed": true
   },
   "outputs": [
    {
     "data": {
      "text/plain": [
       "{'0': {'precision': 0.07016840417000803,\n",
       "  'recall': 0.9162303664921466,\n",
       "  'f1-score': 0.13035381750465552,\n",
       "  'support': 191.0},\n",
       " '1': {'precision': 0.9801488833746899,\n",
       "  'recall': 0.2541009971051785,\n",
       "  'f1-score': 0.4035759897828864,\n",
       "  'support': 3109.0},\n",
       " 'accuracy': 0.2924242424242424,\n",
       " 'macro avg': {'precision': 0.525158643772349,\n",
       "  'recall': 0.5851656817986626,\n",
       "  'f1-score': 0.26696490364377096,\n",
       "  'support': 3300.0},\n",
       " 'weighted avg': {'precision': 0.9274803162449643,\n",
       "  'recall': 0.2924242424242424,\n",
       "  'f1-score': 0.3877622216298131,\n",
       "  'support': 3300.0}}"
      ]
     },
     "execution_count": 44,
     "metadata": {},
     "output_type": "execute_result"
    }
   ],
   "source": [
    "test_score(pipe, \"politifact\")"
   ]
  },
  {
   "cell_type": "code",
   "execution_count": 45,
   "id": "b87df165",
   "metadata": {
    "collapsed": true
   },
   "outputs": [
    {
     "name": "stderr",
     "output_type": "stream",
     "text": [
      "/home/kathrin/.pyenv/versions/3.10.6/envs/fake_news/lib/python3.10/site-packages/sklearn/metrics/_classification.py:1469: UndefinedMetricWarning: Recall and F-score are ill-defined and being set to 0.0 in labels with no true samples. Use `zero_division` parameter to control this behavior.\n",
      "  _warn_prf(average, modifier, msg_start, len(result))\n",
      "/home/kathrin/.pyenv/versions/3.10.6/envs/fake_news/lib/python3.10/site-packages/sklearn/metrics/_classification.py:1469: UndefinedMetricWarning: Recall and F-score are ill-defined and being set to 0.0 in labels with no true samples. Use `zero_division` parameter to control this behavior.\n",
      "  _warn_prf(average, modifier, msg_start, len(result))\n",
      "/home/kathrin/.pyenv/versions/3.10.6/envs/fake_news/lib/python3.10/site-packages/sklearn/metrics/_classification.py:1469: UndefinedMetricWarning: Recall and F-score are ill-defined and being set to 0.0 in labels with no true samples. Use `zero_division` parameter to control this behavior.\n",
      "  _warn_prf(average, modifier, msg_start, len(result))\n"
     ]
    },
    {
     "data": {
      "text/plain": [
       "{'0': {'precision': 1.0,\n",
       "  'recall': 0.912476161798655,\n",
       "  'f1-score': 0.95423533116406,\n",
       "  'support': 9963.0},\n",
       " '1': {'precision': 0.0, 'recall': 0.0, 'f1-score': 0.0, 'support': 0.0},\n",
       " 'accuracy': 0.912476161798655,\n",
       " 'macro avg': {'precision': 0.5,\n",
       "  'recall': 0.4562380808993275,\n",
       "  'f1-score': 0.47711766558203,\n",
       "  'support': 9963.0},\n",
       " 'weighted avg': {'precision': 1.0,\n",
       "  'recall': 0.912476161798655,\n",
       "  'f1-score': 0.95423533116406,\n",
       "  'support': 9963.0}}"
      ]
     },
     "execution_count": 45,
     "metadata": {},
     "output_type": "execute_result"
    }
   ],
   "source": [
    "test_score(pipe, \"guardian\")"
   ]
  },
  {
   "cell_type": "code",
   "execution_count": 46,
   "id": "87c61754",
   "metadata": {
    "collapsed": true
   },
   "outputs": [
    {
     "name": "stderr",
     "output_type": "stream",
     "text": [
      "/home/kathrin/.pyenv/versions/3.10.6/envs/fake_news/lib/python3.10/site-packages/sklearn/metrics/_classification.py:1469: UndefinedMetricWarning: Recall and F-score are ill-defined and being set to 0.0 in labels with no true samples. Use `zero_division` parameter to control this behavior.\n",
      "  _warn_prf(average, modifier, msg_start, len(result))\n",
      "/home/kathrin/.pyenv/versions/3.10.6/envs/fake_news/lib/python3.10/site-packages/sklearn/metrics/_classification.py:1469: UndefinedMetricWarning: Recall and F-score are ill-defined and being set to 0.0 in labels with no true samples. Use `zero_division` parameter to control this behavior.\n",
      "  _warn_prf(average, modifier, msg_start, len(result))\n",
      "/home/kathrin/.pyenv/versions/3.10.6/envs/fake_news/lib/python3.10/site-packages/sklearn/metrics/_classification.py:1469: UndefinedMetricWarning: Recall and F-score are ill-defined and being set to 0.0 in labels with no true samples. Use `zero_division` parameter to control this behavior.\n",
      "  _warn_prf(average, modifier, msg_start, len(result))\n"
     ]
    },
    {
     "data": {
      "text/plain": [
       "{'0': {'precision': 0.0, 'recall': 0.0, 'f1-score': 0.0, 'support': 0.0},\n",
       " '1': {'precision': 1.0,\n",
       "  'recall': 0.08712626166444487,\n",
       "  'f1-score': 0.16028729088201807,\n",
       "  'support': 10502.0},\n",
       " 'accuracy': 0.08712626166444487,\n",
       " 'macro avg': {'precision': 0.5,\n",
       "  'recall': 0.043563130832222435,\n",
       "  'f1-score': 0.08014364544100903,\n",
       "  'support': 10502.0},\n",
       " 'weighted avg': {'precision': 1.0,\n",
       "  'recall': 0.08712626166444487,\n",
       "  'f1-score': 0.16028729088201807,\n",
       "  'support': 10502.0}}"
      ]
     },
     "execution_count": 46,
     "metadata": {},
     "output_type": "execute_result"
    }
   ],
   "source": [
    "test_score(pipe, \"corpus\")"
   ]
  },
  {
   "cell_type": "markdown",
   "id": "712c3740",
   "metadata": {},
   "source": [
    "# test models"
   ]
  },
  {
   "cell_type": "markdown",
   "id": "91ac8e35",
   "metadata": {},
   "source": [
    "## Naive Bayes"
   ]
  },
  {
   "cell_type": "code",
   "execution_count": 120,
   "id": "7f243c85",
   "metadata": {},
   "outputs": [
    {
     "data": {
      "text/html": [
       "<style>#sk-container-id-4 {color: black;}#sk-container-id-4 pre{padding: 0;}#sk-container-id-4 div.sk-toggleable {background-color: white;}#sk-container-id-4 label.sk-toggleable__label {cursor: pointer;display: block;width: 100%;margin-bottom: 0;padding: 0.3em;box-sizing: border-box;text-align: center;}#sk-container-id-4 label.sk-toggleable__label-arrow:before {content: \"▸\";float: left;margin-right: 0.25em;color: #696969;}#sk-container-id-4 label.sk-toggleable__label-arrow:hover:before {color: black;}#sk-container-id-4 div.sk-estimator:hover label.sk-toggleable__label-arrow:before {color: black;}#sk-container-id-4 div.sk-toggleable__content {max-height: 0;max-width: 0;overflow: hidden;text-align: left;background-color: #f0f8ff;}#sk-container-id-4 div.sk-toggleable__content pre {margin: 0.2em;color: black;border-radius: 0.25em;background-color: #f0f8ff;}#sk-container-id-4 input.sk-toggleable__control:checked~div.sk-toggleable__content {max-height: 200px;max-width: 100%;overflow: auto;}#sk-container-id-4 input.sk-toggleable__control:checked~label.sk-toggleable__label-arrow:before {content: \"▾\";}#sk-container-id-4 div.sk-estimator input.sk-toggleable__control:checked~label.sk-toggleable__label {background-color: #d4ebff;}#sk-container-id-4 div.sk-label input.sk-toggleable__control:checked~label.sk-toggleable__label {background-color: #d4ebff;}#sk-container-id-4 input.sk-hidden--visually {border: 0;clip: rect(1px 1px 1px 1px);clip: rect(1px, 1px, 1px, 1px);height: 1px;margin: -1px;overflow: hidden;padding: 0;position: absolute;width: 1px;}#sk-container-id-4 div.sk-estimator {font-family: monospace;background-color: #f0f8ff;border: 1px dotted black;border-radius: 0.25em;box-sizing: border-box;margin-bottom: 0.5em;}#sk-container-id-4 div.sk-estimator:hover {background-color: #d4ebff;}#sk-container-id-4 div.sk-parallel-item::after {content: \"\";width: 100%;border-bottom: 1px solid gray;flex-grow: 1;}#sk-container-id-4 div.sk-label:hover label.sk-toggleable__label {background-color: #d4ebff;}#sk-container-id-4 div.sk-serial::before {content: \"\";position: absolute;border-left: 1px solid gray;box-sizing: border-box;top: 0;bottom: 0;left: 50%;z-index: 0;}#sk-container-id-4 div.sk-serial {display: flex;flex-direction: column;align-items: center;background-color: white;padding-right: 0.2em;padding-left: 0.2em;position: relative;}#sk-container-id-4 div.sk-item {position: relative;z-index: 1;}#sk-container-id-4 div.sk-parallel {display: flex;align-items: stretch;justify-content: center;background-color: white;position: relative;}#sk-container-id-4 div.sk-item::before, #sk-container-id-4 div.sk-parallel-item::before {content: \"\";position: absolute;border-left: 1px solid gray;box-sizing: border-box;top: 0;bottom: 0;left: 50%;z-index: -1;}#sk-container-id-4 div.sk-parallel-item {display: flex;flex-direction: column;z-index: 1;position: relative;background-color: white;}#sk-container-id-4 div.sk-parallel-item:first-child::after {align-self: flex-end;width: 50%;}#sk-container-id-4 div.sk-parallel-item:last-child::after {align-self: flex-start;width: 50%;}#sk-container-id-4 div.sk-parallel-item:only-child::after {width: 0;}#sk-container-id-4 div.sk-dashed-wrapped {border: 1px dashed gray;margin: 0 0.4em 0.5em 0.4em;box-sizing: border-box;padding-bottom: 0.4em;background-color: white;}#sk-container-id-4 div.sk-label label {font-family: monospace;font-weight: bold;display: inline-block;line-height: 1.2em;}#sk-container-id-4 div.sk-label-container {text-align: center;}#sk-container-id-4 div.sk-container {/* jupyter's `normalize.less` sets `[hidden] { display: none; }` but bootstrap.min.css set `[hidden] { display: none !important; }` so we also need the `!important` here to be able to override the default hidden behavior on the sphinx rendered scikit-learn.org. See: https://github.com/scikit-learn/scikit-learn/issues/21755 */display: inline-block !important;position: relative;}#sk-container-id-4 div.sk-text-repr-fallback {display: none;}</style><div id=\"sk-container-id-4\" class=\"sk-top-container\"><div class=\"sk-text-repr-fallback\"><pre>Pipeline(steps=[(&#x27;tfidfvectorizer&#x27;, TfidfVectorizer(max_features=300)),\n",
       "                (&#x27;multinomialnb&#x27;, MultinomialNB(alpha=0.1))])</pre><b>In a Jupyter environment, please rerun this cell to show the HTML representation or trust the notebook. <br />On GitHub, the HTML representation is unable to render, please try loading this page with nbviewer.org.</b></div><div class=\"sk-container\" hidden><div class=\"sk-item sk-dashed-wrapped\"><div class=\"sk-label-container\"><div class=\"sk-label sk-toggleable\"><input class=\"sk-toggleable__control sk-hidden--visually\" id=\"sk-estimator-id-10\" type=\"checkbox\" ><label for=\"sk-estimator-id-10\" class=\"sk-toggleable__label sk-toggleable__label-arrow\">Pipeline</label><div class=\"sk-toggleable__content\"><pre>Pipeline(steps=[(&#x27;tfidfvectorizer&#x27;, TfidfVectorizer(max_features=300)),\n",
       "                (&#x27;multinomialnb&#x27;, MultinomialNB(alpha=0.1))])</pre></div></div></div><div class=\"sk-serial\"><div class=\"sk-item\"><div class=\"sk-estimator sk-toggleable\"><input class=\"sk-toggleable__control sk-hidden--visually\" id=\"sk-estimator-id-11\" type=\"checkbox\" ><label for=\"sk-estimator-id-11\" class=\"sk-toggleable__label sk-toggleable__label-arrow\">TfidfVectorizer</label><div class=\"sk-toggleable__content\"><pre>TfidfVectorizer(max_features=300)</pre></div></div></div><div class=\"sk-item\"><div class=\"sk-estimator sk-toggleable\"><input class=\"sk-toggleable__control sk-hidden--visually\" id=\"sk-estimator-id-12\" type=\"checkbox\" ><label for=\"sk-estimator-id-12\" class=\"sk-toggleable__label sk-toggleable__label-arrow\">MultinomialNB</label><div class=\"sk-toggleable__content\"><pre>MultinomialNB(alpha=0.1)</pre></div></div></div></div></div></div></div>"
      ],
      "text/plain": [
       "Pipeline(steps=[('tfidfvectorizer', TfidfVectorizer(max_features=300)),\n",
       "                ('multinomialnb', MultinomialNB(alpha=0.1))])"
      ]
     },
     "execution_count": 120,
     "metadata": {},
     "output_type": "execute_result"
    }
   ],
   "source": [
    "pipe2 = make_pipeline(TfidfVectorizer(max_features=300), MultinomialNB(alpha=0.1))\n",
    "pipe2.fit(X_train, y_train)"
   ]
  },
  {
   "cell_type": "code",
   "execution_count": 121,
   "id": "25e7ba20",
   "metadata": {
    "collapsed": true
   },
   "outputs": [
    {
     "data": {
      "text/plain": [
       "{'0': {'precision': 0.6972833117723156,\n",
       "  'recall': 0.784570596797671,\n",
       "  'f1-score': 0.7383561643835616,\n",
       "  'support': 687.0},\n",
       " '1': {'precision': 0.7639553429027113,\n",
       "  'recall': 0.6718092566619915,\n",
       "  'f1-score': 0.7149253731343282,\n",
       "  'support': 713.0},\n",
       " 'accuracy': 0.7271428571428571,\n",
       " 'macro avg': {'precision': 0.7306193273375134,\n",
       "  'recall': 0.7281899267298313,\n",
       "  'f1-score': 0.7266407687589449,\n",
       "  'support': 1400.0},\n",
       " 'weighted avg': {'precision': 0.7312384247694386,\n",
       "  'recall': 0.7271428571428571,\n",
       "  'f1-score': 0.7264231971259163,\n",
       "  'support': 1400.0}}"
      ]
     },
     "execution_count": 121,
     "metadata": {},
     "output_type": "execute_result"
    }
   ],
   "source": [
    "y_pred = pipe2.predict(X_test)\n",
    "\n",
    "classification_report(y_test, y_pred, output_dict=True)"
   ]
  },
  {
   "cell_type": "code",
   "execution_count": 122,
   "id": "49a8c26a",
   "metadata": {
    "collapsed": true
   },
   "outputs": [
    {
     "data": {
      "text/plain": [
       "{'0': {'precision': 0.05813953488372093,\n",
       "  'recall': 0.7329842931937173,\n",
       "  'f1-score': 0.10773374374759523,\n",
       "  'support': 191.0},\n",
       " '1': {'precision': 0.9428251121076233,\n",
       "  'recall': 0.2705049855258926,\n",
       "  'f1-score': 0.4203949012746814,\n",
       "  'support': 3109.0},\n",
       " 'accuracy': 0.2972727272727273,\n",
       " 'macro avg': {'precision': 0.5004823234956721,\n",
       "  'recall': 0.501744639359805,\n",
       "  'f1-score': 0.2640643225111383,\n",
       "  'support': 3300.0},\n",
       " 'weighted avg': {'precision': 0.891620583244058,\n",
       "  'recall': 0.2972727272727273,\n",
       "  'f1-score': 0.4022984524602348,\n",
       "  'support': 3300.0}}"
      ]
     },
     "execution_count": 122,
     "metadata": {},
     "output_type": "execute_result"
    }
   ],
   "source": [
    "test_score(pipe2, \"politifact\")"
   ]
  },
  {
   "cell_type": "code",
   "execution_count": 123,
   "id": "df9f4650",
   "metadata": {
    "collapsed": true
   },
   "outputs": [
    {
     "name": "stderr",
     "output_type": "stream",
     "text": [
      "/home/kathrin/.pyenv/versions/3.10.6/envs/fake_news/lib/python3.10/site-packages/sklearn/metrics/_classification.py:1469: UndefinedMetricWarning: Recall and F-score are ill-defined and being set to 0.0 in labels with no true samples. Use `zero_division` parameter to control this behavior.\n",
      "  _warn_prf(average, modifier, msg_start, len(result))\n",
      "/home/kathrin/.pyenv/versions/3.10.6/envs/fake_news/lib/python3.10/site-packages/sklearn/metrics/_classification.py:1469: UndefinedMetricWarning: Recall and F-score are ill-defined and being set to 0.0 in labels with no true samples. Use `zero_division` parameter to control this behavior.\n",
      "  _warn_prf(average, modifier, msg_start, len(result))\n",
      "/home/kathrin/.pyenv/versions/3.10.6/envs/fake_news/lib/python3.10/site-packages/sklearn/metrics/_classification.py:1469: UndefinedMetricWarning: Recall and F-score are ill-defined and being set to 0.0 in labels with no true samples. Use `zero_division` parameter to control this behavior.\n",
      "  _warn_prf(average, modifier, msg_start, len(result))\n"
     ]
    },
    {
     "data": {
      "text/plain": [
       "{'0': {'precision': 1.0,\n",
       "  'recall': 0.967580046170832,\n",
       "  'f1-score': 0.9835229301637505,\n",
       "  'support': 9963.0},\n",
       " '1': {'precision': 0.0, 'recall': 0.0, 'f1-score': 0.0, 'support': 0.0},\n",
       " 'accuracy': 0.967580046170832,\n",
       " 'macro avg': {'precision': 0.5,\n",
       "  'recall': 0.483790023085416,\n",
       "  'f1-score': 0.49176146508187524,\n",
       "  'support': 9963.0},\n",
       " 'weighted avg': {'precision': 1.0,\n",
       "  'recall': 0.967580046170832,\n",
       "  'f1-score': 0.9835229301637505,\n",
       "  'support': 9963.0}}"
      ]
     },
     "execution_count": 123,
     "metadata": {},
     "output_type": "execute_result"
    }
   ],
   "source": [
    "test_score(pipe2, \"guardian\")"
   ]
  },
  {
   "cell_type": "code",
   "execution_count": 124,
   "id": "adc79a68",
   "metadata": {
    "collapsed": true
   },
   "outputs": [
    {
     "name": "stderr",
     "output_type": "stream",
     "text": [
      "/home/kathrin/.pyenv/versions/3.10.6/envs/fake_news/lib/python3.10/site-packages/sklearn/metrics/_classification.py:1469: UndefinedMetricWarning: Recall and F-score are ill-defined and being set to 0.0 in labels with no true samples. Use `zero_division` parameter to control this behavior.\n",
      "  _warn_prf(average, modifier, msg_start, len(result))\n",
      "/home/kathrin/.pyenv/versions/3.10.6/envs/fake_news/lib/python3.10/site-packages/sklearn/metrics/_classification.py:1469: UndefinedMetricWarning: Recall and F-score are ill-defined and being set to 0.0 in labels with no true samples. Use `zero_division` parameter to control this behavior.\n",
      "  _warn_prf(average, modifier, msg_start, len(result))\n",
      "/home/kathrin/.pyenv/versions/3.10.6/envs/fake_news/lib/python3.10/site-packages/sklearn/metrics/_classification.py:1469: UndefinedMetricWarning: Recall and F-score are ill-defined and being set to 0.0 in labels with no true samples. Use `zero_division` parameter to control this behavior.\n",
      "  _warn_prf(average, modifier, msg_start, len(result))\n"
     ]
    },
    {
     "data": {
      "text/plain": [
       "{'0': {'precision': 0.0, 'recall': 0.0, 'f1-score': 0.0, 'support': 0.0},\n",
       " '1': {'precision': 1.0,\n",
       "  'recall': 0.3607884212530946,\n",
       "  'f1-score': 0.5302638023931145,\n",
       "  'support': 10502.0},\n",
       " 'accuracy': 0.3607884212530946,\n",
       " 'macro avg': {'precision': 0.5,\n",
       "  'recall': 0.1803942106265473,\n",
       "  'f1-score': 0.2651319011965573,\n",
       "  'support': 10502.0},\n",
       " 'weighted avg': {'precision': 1.0,\n",
       "  'recall': 0.3607884212530946,\n",
       "  'f1-score': 0.5302638023931145,\n",
       "  'support': 10502.0}}"
      ]
     },
     "execution_count": 124,
     "metadata": {},
     "output_type": "execute_result"
    }
   ],
   "source": [
    "test_score(pipe2, \"corpus\")"
   ]
  },
  {
   "cell_type": "markdown",
   "id": "ebebbc48",
   "metadata": {},
   "source": [
    "## SVM"
   ]
  },
  {
   "cell_type": "code",
   "execution_count": 52,
   "id": "bcb6c63d",
   "metadata": {},
   "outputs": [],
   "source": [
    "from sklearn.svm import SVC"
   ]
  },
  {
   "cell_type": "code",
   "execution_count": 53,
   "id": "febfe116",
   "metadata": {
    "collapsed": true
   },
   "outputs": [
    {
     "data": {
      "text/plain": [
       "{'0': {'precision': 0.7265060240963855,\n",
       "  'recall': 0.8777292576419214,\n",
       "  'f1-score': 0.7949901120632827,\n",
       "  'support': 687.0},\n",
       " '1': {'precision': 0.8526315789473684,\n",
       "  'recall': 0.6816269284712483,\n",
       "  'f1-score': 0.7575993764614185,\n",
       "  'support': 713.0},\n",
       " 'accuracy': 0.7778571428571428,\n",
       " 'macro avg': {'precision': 0.7895688015218769,\n",
       "  'recall': 0.7796780930565849,\n",
       "  'f1-score': 0.7762947442623507,\n",
       "  'support': 1400.0},\n",
       " 'weighted avg': {'precision': 0.7907399673883504,\n",
       "  'recall': 0.7778571428571428,\n",
       "  'f1-score': 0.775947544574619,\n",
       "  'support': 1400.0}}"
      ]
     },
     "execution_count": 53,
     "metadata": {},
     "output_type": "execute_result"
    }
   ],
   "source": [
    "pipe3 = make_pipeline(TfidfVectorizer(), SVC(kernel=\"rbf\"))\n",
    "pipe3.fit(X_train, y_train)\n",
    "y_pred = pipe3.predict(X_test)\n",
    "classification_report(y_test, y_pred, output_dict=True)"
   ]
  },
  {
   "cell_type": "code",
   "execution_count": 58,
   "id": "ce297e8f",
   "metadata": {
    "collapsed": true
   },
   "outputs": [
    {
     "data": {
      "text/plain": [
       "{'memory': None,\n",
       " 'steps': [('tfidfvectorizer', TfidfVectorizer()), ('svc', SVC())],\n",
       " 'verbose': False,\n",
       " 'tfidfvectorizer': TfidfVectorizer(),\n",
       " 'svc': SVC(),\n",
       " 'tfidfvectorizer__analyzer': 'word',\n",
       " 'tfidfvectorizer__binary': False,\n",
       " 'tfidfvectorizer__decode_error': 'strict',\n",
       " 'tfidfvectorizer__dtype': numpy.float64,\n",
       " 'tfidfvectorizer__encoding': 'utf-8',\n",
       " 'tfidfvectorizer__input': 'content',\n",
       " 'tfidfvectorizer__lowercase': True,\n",
       " 'tfidfvectorizer__max_df': 1.0,\n",
       " 'tfidfvectorizer__max_features': None,\n",
       " 'tfidfvectorizer__min_df': 1,\n",
       " 'tfidfvectorizer__ngram_range': (1, 1),\n",
       " 'tfidfvectorizer__norm': 'l2',\n",
       " 'tfidfvectorizer__preprocessor': None,\n",
       " 'tfidfvectorizer__smooth_idf': True,\n",
       " 'tfidfvectorizer__stop_words': None,\n",
       " 'tfidfvectorizer__strip_accents': None,\n",
       " 'tfidfvectorizer__sublinear_tf': False,\n",
       " 'tfidfvectorizer__token_pattern': '(?u)\\\\b\\\\w\\\\w+\\\\b',\n",
       " 'tfidfvectorizer__tokenizer': None,\n",
       " 'tfidfvectorizer__use_idf': True,\n",
       " 'tfidfvectorizer__vocabulary': None,\n",
       " 'svc__C': 1.0,\n",
       " 'svc__break_ties': False,\n",
       " 'svc__cache_size': 200,\n",
       " 'svc__class_weight': None,\n",
       " 'svc__coef0': 0.0,\n",
       " 'svc__decision_function_shape': 'ovr',\n",
       " 'svc__degree': 3,\n",
       " 'svc__gamma': 'scale',\n",
       " 'svc__kernel': 'rbf',\n",
       " 'svc__max_iter': -1,\n",
       " 'svc__probability': False,\n",
       " 'svc__random_state': None,\n",
       " 'svc__shrinking': True,\n",
       " 'svc__tol': 0.001,\n",
       " 'svc__verbose': False}"
      ]
     },
     "execution_count": 58,
     "metadata": {},
     "output_type": "execute_result"
    }
   ],
   "source": [
    "pipe3.get_params()"
   ]
  },
  {
   "cell_type": "code",
   "execution_count": 54,
   "id": "054a4238",
   "metadata": {
    "collapsed": true
   },
   "outputs": [
    {
     "data": {
      "text/plain": [
       "{'0': {'precision': 0.05889967637540453,\n",
       "  'recall': 0.9528795811518325,\n",
       "  'f1-score': 0.11094178604084119,\n",
       "  'support': 191.0},\n",
       " '1': {'precision': 0.9571428571428572,\n",
       "  'recall': 0.0646510131875201,\n",
       "  'f1-score': 0.121120819523953,\n",
       "  'support': 3109.0},\n",
       " 'accuracy': 0.11606060606060606,\n",
       " 'macro avg': {'precision': 0.5080212667591308,\n",
       "  'recall': 0.5087652971696763,\n",
       "  'f1-score': 0.1160313027823971,\n",
       "  'support': 3300.0},\n",
       " 'weighted avg': {'precision': 0.9051536306196502,\n",
       "  'recall': 0.11606060606060606,\n",
       "  'f1-score': 0.1205316694041729,\n",
       "  'support': 3300.0}}"
      ]
     },
     "execution_count": 54,
     "metadata": {},
     "output_type": "execute_result"
    }
   ],
   "source": [
    "test_score(pipe3, \"politifact\")"
   ]
  },
  {
   "cell_type": "code",
   "execution_count": 55,
   "id": "1c29150d",
   "metadata": {
    "collapsed": true
   },
   "outputs": [
    {
     "name": "stderr",
     "output_type": "stream",
     "text": [
      "/home/kathrin/.pyenv/versions/3.10.6/envs/fake_news/lib/python3.10/site-packages/sklearn/metrics/_classification.py:1469: UndefinedMetricWarning: Recall and F-score are ill-defined and being set to 0.0 in labels with no true samples. Use `zero_division` parameter to control this behavior.\n",
      "  _warn_prf(average, modifier, msg_start, len(result))\n",
      "/home/kathrin/.pyenv/versions/3.10.6/envs/fake_news/lib/python3.10/site-packages/sklearn/metrics/_classification.py:1469: UndefinedMetricWarning: Recall and F-score are ill-defined and being set to 0.0 in labels with no true samples. Use `zero_division` parameter to control this behavior.\n",
      "  _warn_prf(average, modifier, msg_start, len(result))\n",
      "/home/kathrin/.pyenv/versions/3.10.6/envs/fake_news/lib/python3.10/site-packages/sklearn/metrics/_classification.py:1469: UndefinedMetricWarning: Recall and F-score are ill-defined and being set to 0.0 in labels with no true samples. Use `zero_division` parameter to control this behavior.\n",
      "  _warn_prf(average, modifier, msg_start, len(result))\n"
     ]
    },
    {
     "data": {
      "text/plain": [
       "{'0': {'precision': 1.0,\n",
       "  'recall': 0.9812305530462712,\n",
       "  'f1-score': 0.9905263691169766,\n",
       "  'support': 9963.0},\n",
       " '1': {'precision': 0.0, 'recall': 0.0, 'f1-score': 0.0, 'support': 0.0},\n",
       " 'accuracy': 0.9812305530462712,\n",
       " 'macro avg': {'precision': 0.5,\n",
       "  'recall': 0.4906152765231356,\n",
       "  'f1-score': 0.4952631845584883,\n",
       "  'support': 9963.0},\n",
       " 'weighted avg': {'precision': 1.0,\n",
       "  'recall': 0.9812305530462712,\n",
       "  'f1-score': 0.9905263691169767,\n",
       "  'support': 9963.0}}"
      ]
     },
     "execution_count": 55,
     "metadata": {},
     "output_type": "execute_result"
    }
   ],
   "source": [
    "test_score(pipe3, \"guardian\")"
   ]
  },
  {
   "cell_type": "code",
   "execution_count": 56,
   "id": "924a2c4e",
   "metadata": {
    "collapsed": true
   },
   "outputs": [
    {
     "name": "stderr",
     "output_type": "stream",
     "text": [
      "/home/kathrin/.pyenv/versions/3.10.6/envs/fake_news/lib/python3.10/site-packages/sklearn/metrics/_classification.py:1469: UndefinedMetricWarning: Recall and F-score are ill-defined and being set to 0.0 in labels with no true samples. Use `zero_division` parameter to control this behavior.\n",
      "  _warn_prf(average, modifier, msg_start, len(result))\n",
      "/home/kathrin/.pyenv/versions/3.10.6/envs/fake_news/lib/python3.10/site-packages/sklearn/metrics/_classification.py:1469: UndefinedMetricWarning: Recall and F-score are ill-defined and being set to 0.0 in labels with no true samples. Use `zero_division` parameter to control this behavior.\n",
      "  _warn_prf(average, modifier, msg_start, len(result))\n",
      "/home/kathrin/.pyenv/versions/3.10.6/envs/fake_news/lib/python3.10/site-packages/sklearn/metrics/_classification.py:1469: UndefinedMetricWarning: Recall and F-score are ill-defined and being set to 0.0 in labels with no true samples. Use `zero_division` parameter to control this behavior.\n",
      "  _warn_prf(average, modifier, msg_start, len(result))\n"
     ]
    },
    {
     "data": {
      "text/plain": [
       "{'0': {'precision': 0.0, 'recall': 0.0, 'f1-score': 0.0, 'support': 0.0},\n",
       " '1': {'precision': 1.0,\n",
       "  'recall': 0.1461626356884403,\n",
       "  'f1-score': 0.25504693860596495,\n",
       "  'support': 10502.0},\n",
       " 'accuracy': 0.1461626356884403,\n",
       " 'macro avg': {'precision': 0.5,\n",
       "  'recall': 0.07308131784422014,\n",
       "  'f1-score': 0.12752346930298247,\n",
       "  'support': 10502.0},\n",
       " 'weighted avg': {'precision': 1.0,\n",
       "  'recall': 0.1461626356884403,\n",
       "  'f1-score': 0.25504693860596495,\n",
       "  'support': 10502.0}}"
      ]
     },
     "execution_count": 56,
     "metadata": {},
     "output_type": "execute_result"
    }
   ],
   "source": [
    "test_score(pipe3, \"corpus\")"
   ]
  },
  {
   "cell_type": "code",
   "execution_count": 75,
   "id": "f57027d7",
   "metadata": {
    "collapsed": true
   },
   "outputs": [
    {
     "data": {
      "text/plain": [
       "{'0': {'precision': 0.7073474470734745,\n",
       "  'recall': 0.826783114992722,\n",
       "  'f1-score': 0.7624161073825503,\n",
       "  'support': 687.0},\n",
       " '1': {'precision': 0.8006700167504187,\n",
       "  'recall': 0.6704067321178121,\n",
       "  'f1-score': 0.7297709923664122,\n",
       "  'support': 713.0},\n",
       " 'accuracy': 0.7471428571428571,\n",
       " 'macro avg': {'precision': 0.7540087319119466,\n",
       "  'recall': 0.748594923555267,\n",
       "  'f1-score': 0.7460935498744812,\n",
       "  'support': 1400.0},\n",
       " 'weighted avg': {'precision': 0.7548752986303755,\n",
       "  'recall': 0.7471428571428571,\n",
       "  'f1-score': 0.7457904166636172,\n",
       "  'support': 1400.0}}"
      ]
     },
     "execution_count": 75,
     "metadata": {},
     "output_type": "execute_result"
    }
   ],
   "source": [
    "pipe4 = make_pipeline(TfidfVectorizer(max_features=300), SVC(kernel=\"rbf\"))\n",
    "pipe4.fit(X_train, y_train)\n",
    "y_pred = pipe4.predict(X_test)\n",
    "classification_report(y_test, y_pred, output_dict=True)"
   ]
  },
  {
   "cell_type": "code",
   "execution_count": 76,
   "id": "3f0f60c3",
   "metadata": {
    "collapsed": true
   },
   "outputs": [
    {
     "data": {
      "text/plain": [
       "{'0': {'precision': 0.057685009487666035,\n",
       "  'recall': 0.7958115183246073,\n",
       "  'f1-score': 0.10757254069355979,\n",
       "  'support': 191.0},\n",
       " '1': {'precision': 0.9413533834586466,\n",
       "  'recall': 0.20135091669347058,\n",
       "  'f1-score': 0.3317435082140965,\n",
       "  'support': 3109.0},\n",
       " 'accuracy': 0.23575757575757575,\n",
       " 'macro avg': {'precision': 0.49951919647315635,\n",
       "  'recall': 0.49858121750903894,\n",
       "  'f1-score': 0.21965802445382815,\n",
       "  'support': 3300.0},\n",
       " 'weighted avg': {'precision': 0.8902077290863868,\n",
       "  'recall': 0.23575757575757575,\n",
       "  'f1-score': 0.31876876433639273,\n",
       "  'support': 3300.0}}"
      ]
     },
     "execution_count": 76,
     "metadata": {},
     "output_type": "execute_result"
    }
   ],
   "source": [
    "test_score(pipe4, \"politifact\")"
   ]
  },
  {
   "cell_type": "code",
   "execution_count": 77,
   "id": "c4dd45b5",
   "metadata": {
    "collapsed": true
   },
   "outputs": [
    {
     "name": "stderr",
     "output_type": "stream",
     "text": [
      "/home/kathrin/.pyenv/versions/3.10.6/envs/fake_news/lib/python3.10/site-packages/sklearn/metrics/_classification.py:1469: UndefinedMetricWarning: Recall and F-score are ill-defined and being set to 0.0 in labels with no true samples. Use `zero_division` parameter to control this behavior.\n",
      "  _warn_prf(average, modifier, msg_start, len(result))\n",
      "/home/kathrin/.pyenv/versions/3.10.6/envs/fake_news/lib/python3.10/site-packages/sklearn/metrics/_classification.py:1469: UndefinedMetricWarning: Recall and F-score are ill-defined and being set to 0.0 in labels with no true samples. Use `zero_division` parameter to control this behavior.\n",
      "  _warn_prf(average, modifier, msg_start, len(result))\n",
      "/home/kathrin/.pyenv/versions/3.10.6/envs/fake_news/lib/python3.10/site-packages/sklearn/metrics/_classification.py:1469: UndefinedMetricWarning: Recall and F-score are ill-defined and being set to 0.0 in labels with no true samples. Use `zero_division` parameter to control this behavior.\n",
      "  _warn_prf(average, modifier, msg_start, len(result))\n"
     ]
    },
    {
     "data": {
      "text/plain": [
       "{'0': {'precision': 1.0,\n",
       "  'recall': 0.9114724480578139,\n",
       "  'f1-score': 0.9536862003780718,\n",
       "  'support': 9963.0},\n",
       " '1': {'precision': 0.0, 'recall': 0.0, 'f1-score': 0.0, 'support': 0.0},\n",
       " 'accuracy': 0.9114724480578139,\n",
       " 'macro avg': {'precision': 0.5,\n",
       "  'recall': 0.45573622402890696,\n",
       "  'f1-score': 0.4768431001890359,\n",
       "  'support': 9963.0},\n",
       " 'weighted avg': {'precision': 1.0,\n",
       "  'recall': 0.9114724480578139,\n",
       "  'f1-score': 0.9536862003780718,\n",
       "  'support': 9963.0}}"
      ]
     },
     "execution_count": 77,
     "metadata": {},
     "output_type": "execute_result"
    }
   ],
   "source": [
    "test_score(pipe4, \"guardian\")"
   ]
  },
  {
   "cell_type": "code",
   "execution_count": 134,
   "id": "5f577452",
   "metadata": {},
   "outputs": [
    {
     "name": "stderr",
     "output_type": "stream",
     "text": [
      "/home/kathrin/.pyenv/versions/3.10.6/envs/fake_news/lib/python3.10/site-packages/sklearn/metrics/_classification.py:1469: UndefinedMetricWarning: Recall and F-score are ill-defined and being set to 0.0 in labels with no true samples. Use `zero_division` parameter to control this behavior.\n",
      "  _warn_prf(average, modifier, msg_start, len(result))\n",
      "/home/kathrin/.pyenv/versions/3.10.6/envs/fake_news/lib/python3.10/site-packages/sklearn/metrics/_classification.py:1469: UndefinedMetricWarning: Recall and F-score are ill-defined and being set to 0.0 in labels with no true samples. Use `zero_division` parameter to control this behavior.\n",
      "  _warn_prf(average, modifier, msg_start, len(result))\n",
      "/home/kathrin/.pyenv/versions/3.10.6/envs/fake_news/lib/python3.10/site-packages/sklearn/metrics/_classification.py:1469: UndefinedMetricWarning: Recall and F-score are ill-defined and being set to 0.0 in labels with no true samples. Use `zero_division` parameter to control this behavior.\n",
      "  _warn_prf(average, modifier, msg_start, len(result))\n"
     ]
    },
    {
     "data": {
      "text/plain": [
       "{'0': {'precision': 0.0, 'recall': 0.0, 'f1-score': 0.0, 'support': 0.0},\n",
       " '1': {'precision': 1.0,\n",
       "  'recall': 0.6015996952961341,\n",
       "  'f1-score': 0.7512485136741973,\n",
       "  'support': 10502.0},\n",
       " 'accuracy': 0.6015996952961341,\n",
       " 'macro avg': {'precision': 0.5,\n",
       "  'recall': 0.30079984764806705,\n",
       "  'f1-score': 0.37562425683709866,\n",
       "  'support': 10502.0},\n",
       " 'weighted avg': {'precision': 1.0,\n",
       "  'recall': 0.6015996952961341,\n",
       "  'f1-score': 0.7512485136741973,\n",
       "  'support': 10502.0}}"
      ]
     },
     "execution_count": 134,
     "metadata": {},
     "output_type": "execute_result"
    }
   ],
   "source": [
    "test_score(pipe4, \"corpus\")"
   ]
  },
  {
   "cell_type": "markdown",
   "id": "6e635f0a",
   "metadata": {},
   "source": [
    "# LSTM\n",
    "\n"
   ]
  },
  {
   "cell_type": "markdown",
   "id": "2a901e14",
   "metadata": {},
   "source": [
    "## Keras embedding"
   ]
  },
  {
   "cell_type": "code",
   "execution_count": 94,
   "id": "55210d11",
   "metadata": {
    "collapsed": true
   },
   "outputs": [
    {
     "name": "stdout",
     "output_type": "stream",
     "text": [
      "Requirement already satisfied: tensorflow in /home/kathrin/.pyenv/versions/3.10.6/envs/fake_news/lib/python3.10/site-packages (2.10.0)\n",
      "Requirement already satisfied: absl-py>=1.0.0 in /home/kathrin/.pyenv/versions/3.10.6/envs/fake_news/lib/python3.10/site-packages (from tensorflow) (2.1.0)\n",
      "Requirement already satisfied: astunparse>=1.6.0 in /home/kathrin/.pyenv/versions/3.10.6/envs/fake_news/lib/python3.10/site-packages (from tensorflow) (1.6.3)\n",
      "Requirement already satisfied: flatbuffers>=2.0 in /home/kathrin/.pyenv/versions/3.10.6/envs/fake_news/lib/python3.10/site-packages (from tensorflow) (25.1.24)\n",
      "Requirement already satisfied: gast<=0.4.0,>=0.2.1 in /home/kathrin/.pyenv/versions/3.10.6/envs/fake_news/lib/python3.10/site-packages (from tensorflow) (0.4.0)\n",
      "Requirement already satisfied: google-pasta>=0.1.1 in /home/kathrin/.pyenv/versions/3.10.6/envs/fake_news/lib/python3.10/site-packages (from tensorflow) (0.2.0)\n",
      "Requirement already satisfied: grpcio<2.0,>=1.24.3 in /home/kathrin/.pyenv/versions/3.10.6/envs/fake_news/lib/python3.10/site-packages (from tensorflow) (1.70.0)\n",
      "Requirement already satisfied: h5py>=2.9.0 in /home/kathrin/.pyenv/versions/3.10.6/envs/fake_news/lib/python3.10/site-packages (from tensorflow) (3.10.0)\n",
      "Requirement already satisfied: keras<2.11,>=2.10.0 in /home/kathrin/.pyenv/versions/3.10.6/envs/fake_news/lib/python3.10/site-packages (from tensorflow) (2.10.0)\n",
      "Requirement already satisfied: keras-preprocessing>=1.1.1 in /home/kathrin/.pyenv/versions/3.10.6/envs/fake_news/lib/python3.10/site-packages (from tensorflow) (1.1.2)\n",
      "Requirement already satisfied: libclang>=13.0.0 in /home/kathrin/.pyenv/versions/3.10.6/envs/fake_news/lib/python3.10/site-packages (from tensorflow) (18.1.1)\n",
      "Requirement already satisfied: numpy>=1.20 in /home/kathrin/.pyenv/versions/3.10.6/envs/fake_news/lib/python3.10/site-packages (from tensorflow) (1.23.5)\n",
      "Requirement already satisfied: opt-einsum>=2.3.2 in /home/kathrin/.pyenv/versions/3.10.6/envs/fake_news/lib/python3.10/site-packages (from tensorflow) (3.4.0)\n",
      "Requirement already satisfied: packaging in /home/kathrin/.pyenv/versions/3.10.6/envs/fake_news/lib/python3.10/site-packages (from tensorflow) (22.0)\n",
      "Requirement already satisfied: protobuf<3.20,>=3.9.2 in /home/kathrin/.pyenv/versions/3.10.6/envs/fake_news/lib/python3.10/site-packages (from tensorflow) (3.19.6)\n",
      "Requirement already satisfied: setuptools in /home/kathrin/.pyenv/versions/3.10.6/envs/fake_news/lib/python3.10/site-packages (from tensorflow) (63.2.0)\n",
      "Requirement already satisfied: six>=1.12.0 in /home/kathrin/.pyenv/versions/3.10.6/envs/fake_news/lib/python3.10/site-packages (from tensorflow) (1.17.0)\n",
      "Requirement already satisfied: tensorboard<2.11,>=2.10 in /home/kathrin/.pyenv/versions/3.10.6/envs/fake_news/lib/python3.10/site-packages (from tensorflow) (2.10.1)\n",
      "Requirement already satisfied: tensorflow-io-gcs-filesystem>=0.23.1 in /home/kathrin/.pyenv/versions/3.10.6/envs/fake_news/lib/python3.10/site-packages (from tensorflow) (0.37.1)\n",
      "Requirement already satisfied: tensorflow-estimator<2.11,>=2.10.0 in /home/kathrin/.pyenv/versions/3.10.6/envs/fake_news/lib/python3.10/site-packages (from tensorflow) (2.10.0)\n",
      "Requirement already satisfied: termcolor>=1.1.0 in /home/kathrin/.pyenv/versions/3.10.6/envs/fake_news/lib/python3.10/site-packages (from tensorflow) (2.5.0)\n",
      "Requirement already satisfied: typing-extensions>=3.6.6 in /home/kathrin/.pyenv/versions/3.10.6/envs/fake_news/lib/python3.10/site-packages (from tensorflow) (4.12.2)\n",
      "Requirement already satisfied: wrapt>=1.11.0 in /home/kathrin/.pyenv/versions/3.10.6/envs/fake_news/lib/python3.10/site-packages (from tensorflow) (1.17.2)\n",
      "Requirement already satisfied: wheel<1.0,>=0.23.0 in /home/kathrin/.pyenv/versions/3.10.6/envs/fake_news/lib/python3.10/site-packages (from astunparse>=1.6.0->tensorflow) (0.45.1)\n",
      "Requirement already satisfied: google-auth<3,>=1.6.3 in /home/kathrin/.pyenv/versions/3.10.6/envs/fake_news/lib/python3.10/site-packages (from tensorboard<2.11,>=2.10->tensorflow) (2.38.0)\n",
      "Requirement already satisfied: google-auth-oauthlib<0.5,>=0.4.1 in /home/kathrin/.pyenv/versions/3.10.6/envs/fake_news/lib/python3.10/site-packages (from tensorboard<2.11,>=2.10->tensorflow) (0.4.6)\n",
      "Requirement already satisfied: markdown>=2.6.8 in /home/kathrin/.pyenv/versions/3.10.6/envs/fake_news/lib/python3.10/site-packages (from tensorboard<2.11,>=2.10->tensorflow) (3.7)\n",
      "Requirement already satisfied: requests<3,>=2.21.0 in /home/kathrin/.pyenv/versions/3.10.6/envs/fake_news/lib/python3.10/site-packages (from tensorboard<2.11,>=2.10->tensorflow) (2.32.3)\n",
      "Requirement already satisfied: tensorboard-data-server<0.7.0,>=0.6.0 in /home/kathrin/.pyenv/versions/3.10.6/envs/fake_news/lib/python3.10/site-packages (from tensorboard<2.11,>=2.10->tensorflow) (0.6.1)\n",
      "Requirement already satisfied: tensorboard-plugin-wit>=1.6.0 in /home/kathrin/.pyenv/versions/3.10.6/envs/fake_news/lib/python3.10/site-packages (from tensorboard<2.11,>=2.10->tensorflow) (1.8.1)\n",
      "Requirement already satisfied: werkzeug>=1.0.1 in /home/kathrin/.pyenv/versions/3.10.6/envs/fake_news/lib/python3.10/site-packages (from tensorboard<2.11,>=2.10->tensorflow) (3.1.3)\n",
      "Requirement already satisfied: cachetools<6.0,>=2.0.0 in /home/kathrin/.pyenv/versions/3.10.6/envs/fake_news/lib/python3.10/site-packages (from google-auth<3,>=1.6.3->tensorboard<2.11,>=2.10->tensorflow) (5.5.1)\n",
      "Requirement already satisfied: pyasn1-modules>=0.2.1 in /home/kathrin/.pyenv/versions/3.10.6/envs/fake_news/lib/python3.10/site-packages (from google-auth<3,>=1.6.3->tensorboard<2.11,>=2.10->tensorflow) (0.4.1)\n",
      "Requirement already satisfied: rsa<5,>=3.1.4 in /home/kathrin/.pyenv/versions/3.10.6/envs/fake_news/lib/python3.10/site-packages (from google-auth<3,>=1.6.3->tensorboard<2.11,>=2.10->tensorflow) (4.9)\n",
      "Requirement already satisfied: requests-oauthlib>=0.7.0 in /home/kathrin/.pyenv/versions/3.10.6/envs/fake_news/lib/python3.10/site-packages (from google-auth-oauthlib<0.5,>=0.4.1->tensorboard<2.11,>=2.10->tensorflow) (2.0.0)\n",
      "Requirement already satisfied: charset-normalizer<4,>=2 in /home/kathrin/.pyenv/versions/3.10.6/envs/fake_news/lib/python3.10/site-packages (from requests<3,>=2.21.0->tensorboard<2.11,>=2.10->tensorflow) (3.4.1)\n",
      "Requirement already satisfied: idna<4,>=2.5 in /home/kathrin/.pyenv/versions/3.10.6/envs/fake_news/lib/python3.10/site-packages (from requests<3,>=2.21.0->tensorboard<2.11,>=2.10->tensorflow) (3.10)\n",
      "Requirement already satisfied: urllib3<3,>=1.21.1 in /home/kathrin/.pyenv/versions/3.10.6/envs/fake_news/lib/python3.10/site-packages (from requests<3,>=2.21.0->tensorboard<2.11,>=2.10->tensorflow) (2.3.0)\n",
      "Requirement already satisfied: certifi>=2017.4.17 in /home/kathrin/.pyenv/versions/3.10.6/envs/fake_news/lib/python3.10/site-packages (from requests<3,>=2.21.0->tensorboard<2.11,>=2.10->tensorflow) (2024.12.14)\n",
      "Requirement already satisfied: MarkupSafe>=2.1.1 in /home/kathrin/.pyenv/versions/3.10.6/envs/fake_news/lib/python3.10/site-packages (from werkzeug>=1.0.1->tensorboard<2.11,>=2.10->tensorflow) (3.0.2)\n",
      "Requirement already satisfied: pyasn1<0.7.0,>=0.4.6 in /home/kathrin/.pyenv/versions/3.10.6/envs/fake_news/lib/python3.10/site-packages (from pyasn1-modules>=0.2.1->google-auth<3,>=1.6.3->tensorboard<2.11,>=2.10->tensorflow) (0.6.1)\n",
      "Requirement already satisfied: oauthlib>=3.0.0 in /home/kathrin/.pyenv/versions/3.10.6/envs/fake_news/lib/python3.10/site-packages (from requests-oauthlib>=0.7.0->google-auth-oauthlib<0.5,>=0.4.1->tensorboard<2.11,>=2.10->tensorflow) (3.2.2)\n"
     ]
    }
   ],
   "source": [
    "!pip install tensorflow"
   ]
  },
  {
   "cell_type": "code",
   "execution_count": 100,
   "id": "46362472",
   "metadata": {},
   "outputs": [
    {
     "name": "stdout",
     "output_type": "stream",
     "text": [
      "There are 69664 different words in your corpus\n"
     ]
    }
   ],
   "source": [
    "import numpy as np\n",
    "from tensorflow.keras.preprocessing.sequence import pad_sequences\n",
    "from tensorflow.keras.preprocessing.text import Tokenizer\n",
    "\n",
    "### Let's tokenize the vocabulary \n",
    "tk = Tokenizer(num_words=20000)\n",
    "tk.fit_on_texts(X_train)\n",
    "vocab_size = len(tk.word_index)\n",
    "print(f'There are {vocab_size} different words in your corpus')"
   ]
  },
  {
   "cell_type": "code",
   "execution_count": 101,
   "id": "722694d8",
   "metadata": {},
   "outputs": [],
   "source": [
    "import tensorflow as tf\n",
    "from tensorflow import keras\n",
    "from tensorflow.keras.preprocessing import sequence\n",
    "from tensorflow.keras.models import Sequential\n",
    "from tensorflow.keras.layers import Embedding, LSTM, Dense\n",
    "\n",
    "# Set parameters\n",
    "max_features = 20000  # Maximum number of words to get out of our data\n",
    "max_len = 300  # Maximum sequence length\n",
    "embedding_dim = 50  # Dimensionality of word embeddings"
   ]
  },
  {
   "cell_type": "code",
   "execution_count": 102,
   "id": "a5ae7a96",
   "metadata": {},
   "outputs": [
    {
     "name": "stdout",
     "output_type": "stream",
     "text": [
      "Max index in training data: 19999\n",
      "Max index in test data: 19990\n"
     ]
    }
   ],
   "source": [
    "#tokenization\n",
    "X_train_token = tk.texts_to_sequences(X_train)\n",
    "X_test_token=tk.texts_to_sequences(X_test)\n",
    "\n",
    "# Pad the inputs to a fixed length\n",
    "X_train_pad = pad_sequences(X_train_token,  padding='pre', maxlen=max_len)\n",
    "X_test_pad=pad_sequences(X_test_token,  padding='pre', maxlen=max_len)\n",
    "\n",
    "print(\"Max index in training data:\", np.max(X_train_pad))\n",
    "print(\"Max index in test data:\", np.max(X_test_pad))"
   ]
  },
  {
   "cell_type": "code",
   "execution_count": 158,
   "id": "75b5e66e",
   "metadata": {},
   "outputs": [],
   "source": [
    "# Build the model\n",
    "model = Sequential()\n",
    "model.add(Embedding(max_features, embedding_dim, input_length=max_len))\n",
    "model.add(LSTM(16))\n",
    "model.add(Dense(1, activation='sigmoid'))\n",
    "\n",
    "# Compile the model\n",
    "metrics=['accuracy', 'Precision', 'Recall' ]\n",
    "model.compile(loss='binary_crossentropy', optimizer='adam', metrics=metrics)"
   ]
  },
  {
   "cell_type": "code",
   "execution_count": 159,
   "id": "d1b6152a",
   "metadata": {},
   "outputs": [
    {
     "name": "stdout",
     "output_type": "stream",
     "text": [
      "Model: \"sequential_11\"\n",
      "_________________________________________________________________\n",
      " Layer (type)                Output Shape              Param #   \n",
      "=================================================================\n",
      " embedding_11 (Embedding)    (None, 300, 50)           1000000   \n",
      "                                                                 \n",
      " lstm_11 (LSTM)              (None, 16)                4288      \n",
      "                                                                 \n",
      " dense_11 (Dense)            (None, 1)                 17        \n",
      "                                                                 \n",
      "=================================================================\n",
      "Total params: 1,004,305\n",
      "Trainable params: 1,004,305\n",
      "Non-trainable params: 0\n",
      "_________________________________________________________________\n"
     ]
    }
   ],
   "source": [
    "model.summary()"
   ]
  },
  {
   "cell_type": "code",
   "execution_count": 160,
   "id": "bd07e37c",
   "metadata": {
    "collapsed": true
   },
   "outputs": [
    {
     "name": "stdout",
     "output_type": "stream",
     "text": [
      "Epoch 1/20\n",
      "44/44 [==============================] - 8s 153ms/step - loss: 0.6839 - accuracy: 0.5939 - precision: 0.5715 - recall: 0.7359 - val_loss: 0.6603 - val_accuracy: 0.6750 - val_precision: 0.7232 - val_recall: 0.5863\n",
      "Epoch 2/20\n",
      "44/44 [==============================] - 6s 140ms/step - loss: 0.5256 - accuracy: 0.7887 - precision: 0.8130 - recall: 0.7474 - val_loss: 0.5535 - val_accuracy: 0.7221 - val_precision: 0.7709 - val_recall: 0.6466\n",
      "Epoch 3/20\n",
      "44/44 [==============================] - 5s 108ms/step - loss: 0.3761 - accuracy: 0.8587 - precision: 0.8942 - recall: 0.8123 - val_loss: 0.5674 - val_accuracy: 0.7207 - val_precision: 0.7368 - val_recall: 0.7027\n",
      "Epoch 4/20\n",
      "44/44 [==============================] - 6s 136ms/step - loss: 0.2656 - accuracy: 0.9143 - precision: 0.9414 - recall: 0.8827 - val_loss: 0.6170 - val_accuracy: 0.7179 - val_precision: 0.7227 - val_recall: 0.7237\n",
      "Epoch 5/20\n",
      "44/44 [==============================] - 6s 137ms/step - loss: 0.1750 - accuracy: 0.9498 - precision: 0.9613 - recall: 0.9368 - val_loss: 0.6751 - val_accuracy: 0.7007 - val_precision: 0.7088 - val_recall: 0.6999\n",
      "Epoch 6/20\n",
      "44/44 [==============================] - 6s 143ms/step - loss: 0.1187 - accuracy: 0.9716 - precision: 0.9751 - recall: 0.9677 - val_loss: 0.7398 - val_accuracy: 0.7164 - val_precision: 0.7508 - val_recall: 0.6634\n",
      "Epoch 7/20\n",
      "44/44 [==============================] - 6s 137ms/step - loss: 0.0874 - accuracy: 0.9809 - precision: 0.9862 - recall: 0.9752 - val_loss: 0.8464 - val_accuracy: 0.7186 - val_precision: 0.7085 - val_recall: 0.7602\n",
      "Epoch 8/20\n",
      "44/44 [==============================] - 6s 140ms/step - loss: 0.0677 - accuracy: 0.9852 - precision: 0.9877 - recall: 0.9824 - val_loss: 0.8813 - val_accuracy: 0.6914 - val_precision: 0.7165 - val_recall: 0.6522\n",
      "Epoch 9/20\n",
      "44/44 [==============================] - 5s 110ms/step - loss: 0.0474 - accuracy: 0.9921 - precision: 0.9935 - recall: 0.9907 - val_loss: 0.9143 - val_accuracy: 0.7064 - val_precision: 0.7337 - val_recall: 0.6648\n",
      "Epoch 10/20\n",
      "44/44 [==============================] - 6s 139ms/step - loss: 0.0400 - accuracy: 0.9929 - precision: 0.9939 - recall: 0.9917 - val_loss: 0.9611 - val_accuracy: 0.6964 - val_precision: 0.7156 - val_recall: 0.6704\n",
      "Epoch 11/20\n",
      "44/44 [==============================] - 6s 141ms/step - loss: 0.0342 - accuracy: 0.9939 - precision: 0.9939 - recall: 0.9939 - val_loss: 1.0539 - val_accuracy: 0.6971 - val_precision: 0.6934 - val_recall: 0.7265\n",
      "Epoch 12/20\n",
      "44/44 [==============================] - 6s 139ms/step - loss: 0.0294 - accuracy: 0.9957 - precision: 0.9957 - recall: 0.9957 - val_loss: 1.0452 - val_accuracy: 0.7043 - val_precision: 0.7215 - val_recall: 0.6830\n"
     ]
    },
    {
     "data": {
      "text/plain": [
       "<keras.callbacks.History at 0x7faac28d79a0>"
      ]
     },
     "execution_count": 160,
     "metadata": {},
     "output_type": "execute_result"
    }
   ],
   "source": [
    "from keras.callbacks import EarlyStopping\n",
    "\n",
    "# Define Early Stopping\n",
    "early_stopping = EarlyStopping(\n",
    "    monitor='val_recall',  # Stop when validation loss stops improving\n",
    "    patience=5,          # Wait for 3 epochs without improvement before stopping\n",
    "    mode=\"max\",\n",
    "    restore_best_weights=True  # Restore the best model weights after stopping\n",
    ")\n",
    "\n",
    "# Train the model\n",
    "model.fit(X_train_pad, y_train, batch_size=128, epochs=20, validation_data=(X_test_pad, y_test), callbacks=[early_stopping])"
   ]
  },
  {
   "cell_type": "code",
   "execution_count": 161,
   "id": "2e3896a3",
   "metadata": {
    "collapsed": true
   },
   "outputs": [
    {
     "name": "stdout",
     "output_type": "stream",
     "text": [
      "44/44 [==============================] - 1s 18ms/step - loss: 0.8464 - accuracy: 0.7186 - precision: 0.7085 - recall: 0.7602\n"
     ]
    },
    {
     "data": {
      "text/plain": [
       "{'loss': 0.846418023109436,\n",
       " 'accuracy': 0.7185714244842529,\n",
       " 'precision': 0.7084967494010925,\n",
       " 'recall': 0.7601683139801025}"
      ]
     },
     "execution_count": 161,
     "metadata": {},
     "output_type": "execute_result"
    }
   ],
   "source": [
    "# Evaluate the model\n",
    "model.evaluate(X_test_pad, y_test, return_dict=True)"
   ]
  },
  {
   "cell_type": "code",
   "execution_count": 130,
   "id": "dddabdf6",
   "metadata": {},
   "outputs": [],
   "source": [
    "#define test function for test datasets\n",
    "#create test function\n",
    "def test_score_RNN(model, dataset_name):\n",
    "    \"\"\"\n",
    "    input a pipe (preprocessing and modeling)\n",
    "    output a classification report on the test set\n",
    "    \"\"\"\n",
    "    \n",
    "    #load data\n",
    "    df=pd.read_csv(\"/home/kathrin/code/kbank1/fake_news/raw_data/test/\"+dataset_name+\"_test.csv\")\n",
    "    \n",
    "    #apply preprocessing\n",
    "    df['text'] = df.text.apply(preprocessing)\n",
    "    \n",
    "    #create X and y\n",
    "    X_test_new=df[\"text\"]\n",
    "    y_test_new=df[\"fake\"]\n",
    " \n",
    "    #tokenize\n",
    "    X_test_token_new=tk.texts_to_sequences(X_test_new)\n",
    "    \n",
    "    #pad\n",
    "    X_test_pad_new=pad_sequences(X_test_token_new,  padding='pre', maxlen=max_len)\n",
    "    \n",
    "    #evaluate\n",
    "    report=model.evaluate(X_test_pad_new, y_test_new, return_dict=True)\n",
    "    \n",
    "    return report"
   ]
  },
  {
   "cell_type": "code",
   "execution_count": 162,
   "id": "1dc8c090",
   "metadata": {},
   "outputs": [
    {
     "name": "stdout",
     "output_type": "stream",
     "text": [
      "104/104 [==============================] - 2s 21ms/step - loss: 0.9138 - accuracy: 0.4376 - precision: 0.9465 - recall: 0.4271\n"
     ]
    },
    {
     "data": {
      "text/plain": [
       "{'loss': 0.9138189554214478,\n",
       " 'accuracy': 0.4375757575035095,\n",
       " 'precision': 0.9465430974960327,\n",
       " 'recall': 0.4271470010280609}"
      ]
     },
     "execution_count": 162,
     "metadata": {},
     "output_type": "execute_result"
    }
   ],
   "source": [
    "test_score_RNN(model, \"politifact\")"
   ]
  },
  {
   "cell_type": "code",
   "execution_count": 163,
   "id": "15bcca0c",
   "metadata": {},
   "outputs": [
    {
     "name": "stdout",
     "output_type": "stream",
     "text": [
      "312/312 [==============================] - 7s 21ms/step - loss: 1.3331 - accuracy: 0.5571 - precision: 0.0000e+00 - recall: 0.0000e+00\n"
     ]
    },
    {
     "data": {
      "text/plain": [
       "{'loss': 1.3331115245819092,\n",
       " 'accuracy': 0.5570611357688904,\n",
       " 'precision': 0.0,\n",
       " 'recall': 0.0}"
      ]
     },
     "execution_count": 163,
     "metadata": {},
     "output_type": "execute_result"
    }
   ],
   "source": [
    "test_score_RNN(model, \"guardian\")"
   ]
  },
  {
   "cell_type": "code",
   "execution_count": 164,
   "id": "7f7145e4",
   "metadata": {},
   "outputs": [
    {
     "name": "stdout",
     "output_type": "stream",
     "text": [
      "329/329 [==============================] - 7s 20ms/step - loss: 1.1836 - accuracy: 0.5621 - precision: 1.0000 - recall: 0.5621\n"
     ]
    },
    {
     "data": {
      "text/plain": [
       "{'loss': 1.1836328506469727,\n",
       " 'accuracy': 0.5620834231376648,\n",
       " 'precision': 1.0,\n",
       " 'recall': 0.5620834231376648}"
      ]
     },
     "execution_count": 164,
     "metadata": {},
     "output_type": "execute_result"
    }
   ],
   "source": [
    "test_score_RNN(model, \"corpus\")  "
   ]
  },
  {
   "cell_type": "markdown",
   "id": "bdf996ee",
   "metadata": {},
   "source": [
    "## GloVe embedding"
   ]
  },
  {
   "cell_type": "code",
   "execution_count": null,
   "id": "b8ccdc38",
   "metadata": {},
   "outputs": [],
   "source": [
    "import gensim.downloader\n",
    "\n",
    "print(list(gensim.downloader.info()['models'].keys()))\n",
    "\n",
    "model_wiki = gensim.downloader.load('glove-wiki-gigaword-50')"
   ]
  },
  {
   "cell_type": "code",
   "execution_count": null,
   "id": "a9596123",
   "metadata": {},
   "outputs": [],
   "source": [
    "from tensorflow.keras.preprocessing.sequence import pad_sequences\n",
    "import numpy as np\n",
    "\n",
    "# Function to convert a sentence (list of words) into a matrix representing the words in the embedding space\n",
    "def embed_sentence(word2vec, sentence):\n",
    "    embedded_sentence = []\n",
    "    for word in sentence:\n",
    "        if word in word2vec.wv:\n",
    "            embedded_sentence.append(word2vec.wv[word])\n",
    "        \n",
    "    return np.array(embedded_sentence)\n",
    "\n",
    "# Function that converts a list of sentences into a list of matrices\n",
    "def embedding(word2vec, sentences):\n",
    "    embed = []\n",
    "    \n",
    "    for sentence in sentences:\n",
    "        embedded_sentence = embed_sentence(word2vec, sentence)\n",
    "        embed.append(embedded_sentence)\n",
    "        \n",
    "    return embed\n",
    "\n",
    "# Embed the training and test sentences\n",
    "X_train_embed = embedding(word2vec, X_train)\n",
    "X_test_embed = embedding(word2vec, X_test)\n",
    "\n",
    "\n",
    "# Pad the training and test embedded sentences\n",
    "X_train_pad = pad_sequences(X_train_embed, dtype='float32', padding='post', maxlen=200)\n",
    "X_test_pad = pad_sequences(X_test_embed, dtype='float32', padding='post', maxlen=200)"
   ]
  },
  {
   "cell_type": "markdown",
   "id": "6d9eebf9",
   "metadata": {},
   "source": [
    "# BERT"
   ]
  },
  {
   "cell_type": "code",
   "execution_count": null,
   "id": "f042dc55",
   "metadata": {},
   "outputs": [],
   "source": []
  }
 ],
 "metadata": {
  "kernelspec": {
   "display_name": "Python 3 (ipykernel)",
   "language": "python",
   "name": "python3"
  },
  "language_info": {
   "codemirror_mode": {
    "name": "ipython",
    "version": 3
   },
   "file_extension": ".py",
   "mimetype": "text/x-python",
   "name": "python",
   "nbconvert_exporter": "python",
   "pygments_lexer": "ipython3",
   "version": "3.10.6"
  },
  "toc": {
   "base_numbering": 1,
   "nav_menu": {},
   "number_sections": true,
   "sideBar": true,
   "skip_h1_title": false,
   "title_cell": "Table of Contents",
   "title_sidebar": "Contents",
   "toc_cell": false,
   "toc_position": {},
   "toc_section_display": true,
   "toc_window_display": false
  }
 },
 "nbformat": 4,
 "nbformat_minor": 5
}
