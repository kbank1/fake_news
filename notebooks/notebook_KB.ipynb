{
 "cells": [
  {
   "cell_type": "code",
   "execution_count": 1,
   "id": "31167258",
   "metadata": {},
   "outputs": [],
   "source": [
    "import pandas as pd"
   ]
  },
  {
   "cell_type": "markdown",
   "id": "99e2e6cc",
   "metadata": {},
   "source": [
    "# Data Fake News Detection (Fakenewsnet)"
   ]
  },
  {
   "cell_type": "markdown",
   "id": "bf00afed",
   "metadata": {},
   "source": [
    "## Import & basic cleaning"
   ]
  },
  {
   "cell_type": "markdown",
   "id": "27e8db8d",
   "metadata": {},
   "source": [
    "### Import Data"
   ]
  },
  {
   "cell_type": "code",
   "execution_count": 2,
   "id": "c7bc0614",
   "metadata": {
    "collapsed": true
   },
   "outputs": [
    {
     "data": {
      "text/html": [
       "<div>\n",
       "<style scoped>\n",
       "    .dataframe tbody tr th:only-of-type {\n",
       "        vertical-align: middle;\n",
       "    }\n",
       "\n",
       "    .dataframe tbody tr th {\n",
       "        vertical-align: top;\n",
       "    }\n",
       "\n",
       "    .dataframe thead th {\n",
       "        text-align: right;\n",
       "    }\n",
       "</style>\n",
       "<table border=\"1\" class=\"dataframe\">\n",
       "  <thead>\n",
       "    <tr style=\"text-align: right;\">\n",
       "      <th></th>\n",
       "      <th>id</th>\n",
       "      <th>text</th>\n",
       "      <th>title</th>\n",
       "      <th>description</th>\n",
       "    </tr>\n",
       "  </thead>\n",
       "  <tbody>\n",
       "    <tr>\n",
       "      <th>0</th>\n",
       "      <td>politifact8769</td>\n",
       "      <td>The award-winning, nonpartisan intel you can t...</td>\n",
       "      <td>Legislative Tracking Software</td>\n",
       "      <td>Track federal legislation with expert policy a...</td>\n",
       "    </tr>\n",
       "    <tr>\n",
       "      <th>1</th>\n",
       "      <td>politifact12052</td>\n",
       "      <td>At the CNN debate in Miami, GOP candidates spa...</td>\n",
       "      <td>The CNN Miami Republican debate transcript, an...</td>\n",
       "      <td>Washington Post reporters add insight and anal...</td>\n",
       "    </tr>\n",
       "    <tr>\n",
       "      <th>2</th>\n",
       "      <td>politifact4858</td>\n",
       "      <td>It’s that time of year again – white elephant ...</td>\n",
       "      <td>Mitt v Mitt</td>\n",
       "      <td>Yup, Mitt vs Mitt aja. Rame!</td>\n",
       "    </tr>\n",
       "    <tr>\n",
       "      <th>3</th>\n",
       "      <td>politifact10945</td>\n",
       "      <td>Thank you! Oh, thank you all! Thank you so ver...</td>\n",
       "      <td>Hillary Clinton Transcript: Read Full Text of ...</td>\n",
       "      <td>Hillary Clinton held the first major rally of ...</td>\n",
       "    </tr>\n",
       "    <tr>\n",
       "      <th>4</th>\n",
       "      <td>politifact14511</td>\n",
       "      <td>Maddow on Trump indictment: 'He knew it was wr...</td>\n",
       "      <td>'Discriminatory animus': Trump sued on DACA</td>\n",
       "      <td>New York Attorney General Eric Schneiderman ta...</td>\n",
       "    </tr>\n",
       "  </tbody>\n",
       "</table>\n",
       "</div>"
      ],
      "text/plain": [
       "                id                                               text  \\\n",
       "0   politifact8769  The award-winning, nonpartisan intel you can t...   \n",
       "1  politifact12052  At the CNN debate in Miami, GOP candidates spa...   \n",
       "2   politifact4858  It’s that time of year again – white elephant ...   \n",
       "3  politifact10945  Thank you! Oh, thank you all! Thank you so ver...   \n",
       "4  politifact14511  Maddow on Trump indictment: 'He knew it was wr...   \n",
       "\n",
       "                                               title  \\\n",
       "0                      Legislative Tracking Software   \n",
       "1  The CNN Miami Republican debate transcript, an...   \n",
       "2                                        Mitt v Mitt   \n",
       "3  Hillary Clinton Transcript: Read Full Text of ...   \n",
       "4        'Discriminatory animus': Trump sued on DACA   \n",
       "\n",
       "                                         description  \n",
       "0  Track federal legislation with expert policy a...  \n",
       "1  Washington Post reporters add insight and anal...  \n",
       "2                       Yup, Mitt vs Mitt aja. Rame!  \n",
       "3  Hillary Clinton held the first major rally of ...  \n",
       "4  New York Attorney General Eric Schneiderman ta...  "
      ]
     },
     "execution_count": 2,
     "metadata": {},
     "output_type": "execute_result"
    }
   ],
   "source": [
    "pol_real=pd.read_json(\"/home/kathrin/code/kbank1/fake_news/raw_data/politifact_HR.json\", orient='index')\n",
    "pol_real.head()"
   ]
  },
  {
   "cell_type": "code",
   "execution_count": 3,
   "id": "63a6618d",
   "metadata": {
    "collapsed": true
   },
   "outputs": [
    {
     "data": {
      "text/html": [
       "<div>\n",
       "<style scoped>\n",
       "    .dataframe tbody tr th:only-of-type {\n",
       "        vertical-align: middle;\n",
       "    }\n",
       "\n",
       "    .dataframe tbody tr th {\n",
       "        vertical-align: top;\n",
       "    }\n",
       "\n",
       "    .dataframe thead th {\n",
       "        text-align: right;\n",
       "    }\n",
       "</style>\n",
       "<table border=\"1\" class=\"dataframe\">\n",
       "  <thead>\n",
       "    <tr style=\"text-align: right;\">\n",
       "      <th></th>\n",
       "      <th>id</th>\n",
       "      <th>text</th>\n",
       "      <th>title</th>\n",
       "      <th>description</th>\n",
       "    </tr>\n",
       "  </thead>\n",
       "  <tbody>\n",
       "    <tr>\n",
       "      <th>0</th>\n",
       "      <td>politifact11773</td>\n",
       "      <td>Republican attacks on transgendered Americans ...</td>\n",
       "      <td>Virginia Republican Wants Schools To Check Chi...</td>\n",
       "      <td>Republican attacks on transgendered Americans ...</td>\n",
       "    </tr>\n",
       "    <tr>\n",
       "      <th>1</th>\n",
       "      <td>politifact13827</td>\n",
       "      <td>Whoopi Goldberg is in hot water after comments...</td>\n",
       "      <td>Whoopi Goldberg: Navy SEAL Widow was “Looking ...</td>\n",
       "      <td>Whoopi Goldberg is in hot water after comments...</td>\n",
       "    </tr>\n",
       "    <tr>\n",
       "      <th>2</th>\n",
       "      <td>politifact13570</td>\n",
       "      <td>Washington, DC — A former Secret Service agent...</td>\n",
       "      <td>Secret Service Agent Says Obama Is Muslim &amp; Ga...</td>\n",
       "      <td>Washington, DC — A former Secret Service agent...</td>\n",
       "    </tr>\n",
       "    <tr>\n",
       "      <th>3</th>\n",
       "      <td>politifact14947</td>\n",
       "      <td>Bill Clinton’s hitman has confessed to more th...</td>\n",
       "      <td>Bill Clinton’s Hitman Confesses On His Deathbe...</td>\n",
       "      <td>Bill Clinton’s hitman has confessed to more th...</td>\n",
       "    </tr>\n",
       "    <tr>\n",
       "      <th>4</th>\n",
       "      <td>politifact14517</td>\n",
       "      <td>About Trendolizer™\\n\\nTrendolizer™ (patent pen...</td>\n",
       "      <td>UPDATE: Florida Governor Rick Scott Now Listed...</td>\n",
       "      <td>Scott&amp;#8217;s prognosis isn&amp;#8217;t good. (via...</td>\n",
       "    </tr>\n",
       "  </tbody>\n",
       "</table>\n",
       "</div>"
      ],
      "text/plain": [
       "                id                                               text  \\\n",
       "0  politifact11773  Republican attacks on transgendered Americans ...   \n",
       "1  politifact13827  Whoopi Goldberg is in hot water after comments...   \n",
       "2  politifact13570  Washington, DC — A former Secret Service agent...   \n",
       "3  politifact14947  Bill Clinton’s hitman has confessed to more th...   \n",
       "4  politifact14517  About Trendolizer™\\n\\nTrendolizer™ (patent pen...   \n",
       "\n",
       "                                               title  \\\n",
       "0  Virginia Republican Wants Schools To Check Chi...   \n",
       "1  Whoopi Goldberg: Navy SEAL Widow was “Looking ...   \n",
       "2  Secret Service Agent Says Obama Is Muslim & Ga...   \n",
       "3  Bill Clinton’s Hitman Confesses On His Deathbe...   \n",
       "4  UPDATE: Florida Governor Rick Scott Now Listed...   \n",
       "\n",
       "                                         description  \n",
       "0  Republican attacks on transgendered Americans ...  \n",
       "1  Whoopi Goldberg is in hot water after comments...  \n",
       "2  Washington, DC — A former Secret Service agent...  \n",
       "3  Bill Clinton’s hitman has confessed to more th...  \n",
       "4  Scott&#8217;s prognosis isn&#8217;t good. (via...  "
      ]
     },
     "execution_count": 3,
     "metadata": {},
     "output_type": "execute_result"
    }
   ],
   "source": [
    "pol_fake=pd.read_json(\"/home/kathrin/code/kbank1/fake_news/raw_data/politifact_HF.json\", orient='index')\n",
    "pol_fake.head()"
   ]
  },
  {
   "cell_type": "code",
   "execution_count": 4,
   "id": "9b06dd4e",
   "metadata": {
    "collapsed": true
   },
   "outputs": [
    {
     "data": {
      "text/html": [
       "<div>\n",
       "<style scoped>\n",
       "    .dataframe tbody tr th:only-of-type {\n",
       "        vertical-align: middle;\n",
       "    }\n",
       "\n",
       "    .dataframe tbody tr th {\n",
       "        vertical-align: top;\n",
       "    }\n",
       "\n",
       "    .dataframe thead th {\n",
       "        text-align: right;\n",
       "    }\n",
       "</style>\n",
       "<table border=\"1\" class=\"dataframe\">\n",
       "  <thead>\n",
       "    <tr style=\"text-align: right;\">\n",
       "      <th></th>\n",
       "      <th>id</th>\n",
       "      <th>text</th>\n",
       "      <th>title</th>\n",
       "      <th>description</th>\n",
       "    </tr>\n",
       "  </thead>\n",
       "  <tbody>\n",
       "    <tr>\n",
       "      <th>0</th>\n",
       "      <td>gossipcop-1991455469</td>\n",
       "      <td>✕ Close Meghan Markle and Prince Harry have an...</td>\n",
       "      <td>As it happened: Prince Harry and Meghan Markle...</td>\n",
       "      <td>The wedding will take place in spring 2018</td>\n",
       "    </tr>\n",
       "    <tr>\n",
       "      <th>1</th>\n",
       "      <td>gossipcop-7798039260</td>\n",
       "      <td>Kim Kardashian and Kanye West are pulling out ...</td>\n",
       "      <td>Kim &amp; Kanye Install At-Home Panic Room After P...</td>\n",
       "      <td>'Keeping the kids safe is the couples number o...</td>\n",
       "    </tr>\n",
       "    <tr>\n",
       "      <th>2</th>\n",
       "      <td>gossipcop-7817725290</td>\n",
       "      <td>Prince Harry and Meghan currently live at Kens...</td>\n",
       "      <td>£1.4million spent renovating Prince Harry and ...</td>\n",
       "      <td>Prince Harry and Meghan might not be living in...</td>\n",
       "    </tr>\n",
       "    <tr>\n",
       "      <th>3</th>\n",
       "      <td>gossipcop-5111151830</td>\n",
       "      <td>They can't get enough of the Biebs on this sho...</td>\n",
       "      <td>Photos from Dancing With the Stars: Special Gu...</td>\n",
       "      <td>Photos from Dancing With the Stars: Special Gu...</td>\n",
       "    </tr>\n",
       "    <tr>\n",
       "      <th>4</th>\n",
       "      <td>gossipcop-9658632569</td>\n",
       "      <td>Ben Affleck is keeping life with his three kid...</td>\n",
       "      <td>Jennifer Garner ‘Doesn’t Want’ Her Kids Around...</td>\n",
       "      <td>Jennifer Garner ‘doesn’t want’ her three kids ...</td>\n",
       "    </tr>\n",
       "  </tbody>\n",
       "</table>\n",
       "</div>"
      ],
      "text/plain": [
       "                     id                                               text  \\\n",
       "0  gossipcop-1991455469  ✕ Close Meghan Markle and Prince Harry have an...   \n",
       "1  gossipcop-7798039260  Kim Kardashian and Kanye West are pulling out ...   \n",
       "2  gossipcop-7817725290  Prince Harry and Meghan currently live at Kens...   \n",
       "3  gossipcop-5111151830  They can't get enough of the Biebs on this sho...   \n",
       "4  gossipcop-9658632569  Ben Affleck is keeping life with his three kid...   \n",
       "\n",
       "                                               title  \\\n",
       "0  As it happened: Prince Harry and Meghan Markle...   \n",
       "1  Kim & Kanye Install At-Home Panic Room After P...   \n",
       "2  £1.4million spent renovating Prince Harry and ...   \n",
       "3  Photos from Dancing With the Stars: Special Gu...   \n",
       "4  Jennifer Garner ‘Doesn’t Want’ Her Kids Around...   \n",
       "\n",
       "                                         description  \n",
       "0         The wedding will take place in spring 2018  \n",
       "1  'Keeping the kids safe is the couples number o...  \n",
       "2  Prince Harry and Meghan might not be living in...  \n",
       "3  Photos from Dancing With the Stars: Special Gu...  \n",
       "4  Jennifer Garner ‘doesn’t want’ her three kids ...  "
      ]
     },
     "execution_count": 4,
     "metadata": {},
     "output_type": "execute_result"
    }
   ],
   "source": [
    "gossip_fake=pd.read_json(\"/home/kathrin/code/kbank1/fake_news/raw_data/gossip_HF.json\", orient='index')\n",
    "gossip_fake.head()"
   ]
  },
  {
   "cell_type": "code",
   "execution_count": 5,
   "id": "6ee0d3a5",
   "metadata": {
    "collapsed": true
   },
   "outputs": [
    {
     "data": {
      "text/html": [
       "<div>\n",
       "<style scoped>\n",
       "    .dataframe tbody tr th:only-of-type {\n",
       "        vertical-align: middle;\n",
       "    }\n",
       "\n",
       "    .dataframe tbody tr th {\n",
       "        vertical-align: top;\n",
       "    }\n",
       "\n",
       "    .dataframe thead th {\n",
       "        text-align: right;\n",
       "    }\n",
       "</style>\n",
       "<table border=\"1\" class=\"dataframe\">\n",
       "  <thead>\n",
       "    <tr style=\"text-align: right;\">\n",
       "      <th></th>\n",
       "      <th>id</th>\n",
       "      <th>text</th>\n",
       "      <th>title</th>\n",
       "      <th>description</th>\n",
       "    </tr>\n",
       "  </thead>\n",
       "  <tbody>\n",
       "    <tr>\n",
       "      <th>0</th>\n",
       "      <td>gossipcop-951329</td>\n",
       "      <td>11 Summer Camp Movies That'll Make You Nostalg...</td>\n",
       "      <td>11 Summer Camp Movies That'll Make You Nostalg...</td>\n",
       "      <td>Nothing says summer like watching a movie all ...</td>\n",
       "    </tr>\n",
       "    <tr>\n",
       "      <th>1</th>\n",
       "      <td>gossipcop-861360</td>\n",
       "      <td>Info Category: Richest Business › Executives N...</td>\n",
       "      <td>Charrisse Jackson Jordan Net Worth</td>\n",
       "      <td>What is Charrisse Jackson Jordan's net worth?</td>\n",
       "    </tr>\n",
       "    <tr>\n",
       "      <th>2</th>\n",
       "      <td>gossipcop-911046</td>\n",
       "      <td>Warning: This story contains major spoilers fr...</td>\n",
       "      <td>Raúl Esparza exits Law &amp; Order: SVU after six ...</td>\n",
       "      <td>The actor reveals why he decided to leave the ...</td>\n",
       "    </tr>\n",
       "    <tr>\n",
       "      <th>3</th>\n",
       "      <td>gossipcop-899120</td>\n",
       "      <td>Lil Peep died of an overdose of fentanyl and g...</td>\n",
       "      <td>Lil Peep Cause of Death Revealed</td>\n",
       "      <td>Pima County Office of the Medical Examiner con...</td>\n",
       "    </tr>\n",
       "    <tr>\n",
       "      <th>4</th>\n",
       "      <td>gossipcop-919455</td>\n",
       "      <td>Goop is kicking off its weekly podcast in a bi...</td>\n",
       "      <td>Gwyneth Paltrow, Oprah talk Weinstein, #MeToo’...</td>\n",
       "      <td>Goop is kicking off its weekly podcast in a bi...</td>\n",
       "    </tr>\n",
       "  </tbody>\n",
       "</table>\n",
       "</div>"
      ],
      "text/plain": [
       "                 id                                               text  \\\n",
       "0  gossipcop-951329  11 Summer Camp Movies That'll Make You Nostalg...   \n",
       "1  gossipcop-861360  Info Category: Richest Business › Executives N...   \n",
       "2  gossipcop-911046  Warning: This story contains major spoilers fr...   \n",
       "3  gossipcop-899120  Lil Peep died of an overdose of fentanyl and g...   \n",
       "4  gossipcop-919455  Goop is kicking off its weekly podcast in a bi...   \n",
       "\n",
       "                                               title  \\\n",
       "0  11 Summer Camp Movies That'll Make You Nostalg...   \n",
       "1                 Charrisse Jackson Jordan Net Worth   \n",
       "2  Raúl Esparza exits Law & Order: SVU after six ...   \n",
       "3                   Lil Peep Cause of Death Revealed   \n",
       "4  Gwyneth Paltrow, Oprah talk Weinstein, #MeToo’...   \n",
       "\n",
       "                                         description  \n",
       "0  Nothing says summer like watching a movie all ...  \n",
       "1      What is Charrisse Jackson Jordan's net worth?  \n",
       "2  The actor reveals why he decided to leave the ...  \n",
       "3  Pima County Office of the Medical Examiner con...  \n",
       "4  Goop is kicking off its weekly podcast in a bi...  "
      ]
     },
     "execution_count": 5,
     "metadata": {},
     "output_type": "execute_result"
    }
   ],
   "source": [
    "gossip_real=pd.read_json(\"/home/kathrin/code/kbank1/fake_news/raw_data/gossip_HR.json\", orient='index')\n",
    "gossip_real.head()"
   ]
  },
  {
   "cell_type": "markdown",
   "id": "c9afa54d",
   "metadata": {},
   "source": [
    "### Concat Data"
   ]
  },
  {
   "cell_type": "code",
   "execution_count": 6,
   "id": "c7d5e75d",
   "metadata": {},
   "outputs": [
    {
     "name": "stdout",
     "output_type": "stream",
     "text": [
      "(194, 4)\n",
      "(97, 4)\n",
      "(8168, 4)\n",
      "(4084, 4)\n"
     ]
    }
   ],
   "source": [
    "print(pol_real.shape)\n",
    "print(pol_fake.shape)\n",
    "print(gossip_real.shape)\n",
    "print(gossip_fake.shape)"
   ]
  },
  {
   "cell_type": "code",
   "execution_count": 7,
   "id": "ee247ea2",
   "metadata": {},
   "outputs": [],
   "source": [
    "pol_real[\"fake\"]=0\n",
    "pol_fake[\"fake\"]=1\n",
    "gossip_real[\"fake\"]=0\n",
    "gossip_fake[\"fake\"]=1"
   ]
  },
  {
   "cell_type": "code",
   "execution_count": 8,
   "id": "46618d37",
   "metadata": {},
   "outputs": [],
   "source": [
    "data=pd.concat((pol_fake, pol_real, gossip_fake, gossip_real),axis=0, ignore_index=True)"
   ]
  },
  {
   "cell_type": "code",
   "execution_count": 9,
   "id": "7d96a6bd",
   "metadata": {},
   "outputs": [
    {
     "data": {
      "text/plain": [
       "(12543, 5)"
      ]
     },
     "execution_count": 9,
     "metadata": {},
     "output_type": "execute_result"
    }
   ],
   "source": [
    "data.shape"
   ]
  },
  {
   "cell_type": "code",
   "execution_count": 10,
   "id": "260c6345",
   "metadata": {
    "collapsed": true
   },
   "outputs": [
    {
     "data": {
      "text/html": [
       "<div>\n",
       "<style scoped>\n",
       "    .dataframe tbody tr th:only-of-type {\n",
       "        vertical-align: middle;\n",
       "    }\n",
       "\n",
       "    .dataframe tbody tr th {\n",
       "        vertical-align: top;\n",
       "    }\n",
       "\n",
       "    .dataframe thead th {\n",
       "        text-align: right;\n",
       "    }\n",
       "</style>\n",
       "<table border=\"1\" class=\"dataframe\">\n",
       "  <thead>\n",
       "    <tr style=\"text-align: right;\">\n",
       "      <th></th>\n",
       "      <th>id</th>\n",
       "      <th>text</th>\n",
       "      <th>title</th>\n",
       "      <th>description</th>\n",
       "      <th>fake</th>\n",
       "    </tr>\n",
       "  </thead>\n",
       "  <tbody>\n",
       "    <tr>\n",
       "      <th>0</th>\n",
       "      <td>politifact11773</td>\n",
       "      <td>Republican attacks on transgendered Americans ...</td>\n",
       "      <td>Virginia Republican Wants Schools To Check Chi...</td>\n",
       "      <td>Republican attacks on transgendered Americans ...</td>\n",
       "      <td>1</td>\n",
       "    </tr>\n",
       "    <tr>\n",
       "      <th>1</th>\n",
       "      <td>politifact13827</td>\n",
       "      <td>Whoopi Goldberg is in hot water after comments...</td>\n",
       "      <td>Whoopi Goldberg: Navy SEAL Widow was “Looking ...</td>\n",
       "      <td>Whoopi Goldberg is in hot water after comments...</td>\n",
       "      <td>1</td>\n",
       "    </tr>\n",
       "    <tr>\n",
       "      <th>2</th>\n",
       "      <td>politifact13570</td>\n",
       "      <td>Washington, DC — A former Secret Service agent...</td>\n",
       "      <td>Secret Service Agent Says Obama Is Muslim &amp; Ga...</td>\n",
       "      <td>Washington, DC — A former Secret Service agent...</td>\n",
       "      <td>1</td>\n",
       "    </tr>\n",
       "    <tr>\n",
       "      <th>3</th>\n",
       "      <td>politifact14947</td>\n",
       "      <td>Bill Clinton’s hitman has confessed to more th...</td>\n",
       "      <td>Bill Clinton’s Hitman Confesses On His Deathbe...</td>\n",
       "      <td>Bill Clinton’s hitman has confessed to more th...</td>\n",
       "      <td>1</td>\n",
       "    </tr>\n",
       "    <tr>\n",
       "      <th>4</th>\n",
       "      <td>politifact14517</td>\n",
       "      <td>About Trendolizer™\\n\\nTrendolizer™ (patent pen...</td>\n",
       "      <td>UPDATE: Florida Governor Rick Scott Now Listed...</td>\n",
       "      <td>Scott&amp;#8217;s prognosis isn&amp;#8217;t good. (via...</td>\n",
       "      <td>1</td>\n",
       "    </tr>\n",
       "  </tbody>\n",
       "</table>\n",
       "</div>"
      ],
      "text/plain": [
       "                id                                               text  \\\n",
       "0  politifact11773  Republican attacks on transgendered Americans ...   \n",
       "1  politifact13827  Whoopi Goldberg is in hot water after comments...   \n",
       "2  politifact13570  Washington, DC — A former Secret Service agent...   \n",
       "3  politifact14947  Bill Clinton’s hitman has confessed to more th...   \n",
       "4  politifact14517  About Trendolizer™\\n\\nTrendolizer™ (patent pen...   \n",
       "\n",
       "                                               title  \\\n",
       "0  Virginia Republican Wants Schools To Check Chi...   \n",
       "1  Whoopi Goldberg: Navy SEAL Widow was “Looking ...   \n",
       "2  Secret Service Agent Says Obama Is Muslim & Ga...   \n",
       "3  Bill Clinton’s Hitman Confesses On His Deathbe...   \n",
       "4  UPDATE: Florida Governor Rick Scott Now Listed...   \n",
       "\n",
       "                                         description  fake  \n",
       "0  Republican attacks on transgendered Americans ...     1  \n",
       "1  Whoopi Goldberg is in hot water after comments...     1  \n",
       "2  Washington, DC — A former Secret Service agent...     1  \n",
       "3  Bill Clinton’s hitman has confessed to more th...     1  \n",
       "4  Scott&#8217;s prognosis isn&#8217;t good. (via...     1  "
      ]
     },
     "execution_count": 10,
     "metadata": {},
     "output_type": "execute_result"
    }
   ],
   "source": [
    "data.head()"
   ]
  },
  {
   "cell_type": "code",
   "execution_count": 11,
   "id": "5ee4e455",
   "metadata": {},
   "outputs": [
    {
     "data": {
      "text/plain": [
       "fake\n",
       "0    8362\n",
       "1    4181\n",
       "Name: count, dtype: int64"
      ]
     },
     "execution_count": 11,
     "metadata": {},
     "output_type": "execute_result"
    }
   ],
   "source": [
    "data[\"fake\"].value_counts()"
   ]
  },
  {
   "cell_type": "markdown",
   "id": "b4d7c15f",
   "metadata": {},
   "source": [
    "### Check for duplicates and missing values, remove duplicate texts"
   ]
  },
  {
   "cell_type": "code",
   "execution_count": 12,
   "id": "41e09b67",
   "metadata": {
    "scrolled": true
   },
   "outputs": [
    {
     "data": {
      "text/html": [
       "<div>\n",
       "<style scoped>\n",
       "    .dataframe tbody tr th:only-of-type {\n",
       "        vertical-align: middle;\n",
       "    }\n",
       "\n",
       "    .dataframe tbody tr th {\n",
       "        vertical-align: top;\n",
       "    }\n",
       "\n",
       "    .dataframe thead th {\n",
       "        text-align: right;\n",
       "    }\n",
       "</style>\n",
       "<table border=\"1\" class=\"dataframe\">\n",
       "  <thead>\n",
       "    <tr style=\"text-align: right;\">\n",
       "      <th></th>\n",
       "      <th>id</th>\n",
       "      <th>text</th>\n",
       "      <th>title</th>\n",
       "      <th>description</th>\n",
       "      <th>fake</th>\n",
       "    </tr>\n",
       "  </thead>\n",
       "  <tbody>\n",
       "  </tbody>\n",
       "</table>\n",
       "</div>"
      ],
      "text/plain": [
       "Empty DataFrame\n",
       "Columns: [id, text, title, description, fake]\n",
       "Index: []"
      ]
     },
     "execution_count": 12,
     "metadata": {},
     "output_type": "execute_result"
    }
   ],
   "source": [
    "data[data.duplicated()]"
   ]
  },
  {
   "cell_type": "code",
   "execution_count": 13,
   "id": "371fa56f",
   "metadata": {
    "collapsed": true
   },
   "outputs": [
    {
     "name": "stdout",
     "output_type": "stream",
     "text": [
      "<class 'pandas.core.frame.DataFrame'>\n",
      "RangeIndex: 12543 entries, 0 to 12542\n",
      "Data columns (total 5 columns):\n",
      " #   Column       Non-Null Count  Dtype \n",
      "---  ------       --------------  ----- \n",
      " 0   id           12543 non-null  object\n",
      " 1   text         12543 non-null  object\n",
      " 2   title        12543 non-null  object\n",
      " 3   description  12543 non-null  object\n",
      " 4   fake         12543 non-null  int64 \n",
      "dtypes: int64(1), object(4)\n",
      "memory usage: 490.1+ KB\n"
     ]
    }
   ],
   "source": [
    "data.info()"
   ]
  },
  {
   "cell_type": "markdown",
   "id": "8753d867",
   "metadata": {},
   "source": [
    "#### Delete duplicates from within fake/real categories (keep 1)"
   ]
  },
  {
   "cell_type": "code",
   "execution_count": 14,
   "id": "48703c6d",
   "metadata": {
    "collapsed": true
   },
   "outputs": [
    {
     "data": {
      "text/html": [
       "<div>\n",
       "<style scoped>\n",
       "    .dataframe tbody tr th:only-of-type {\n",
       "        vertical-align: middle;\n",
       "    }\n",
       "\n",
       "    .dataframe tbody tr th {\n",
       "        vertical-align: top;\n",
       "    }\n",
       "\n",
       "    .dataframe thead th {\n",
       "        text-align: right;\n",
       "    }\n",
       "</style>\n",
       "<table border=\"1\" class=\"dataframe\">\n",
       "  <thead>\n",
       "    <tr style=\"text-align: right;\">\n",
       "      <th></th>\n",
       "      <th>id</th>\n",
       "      <th>text</th>\n",
       "      <th>title</th>\n",
       "      <th>description</th>\n",
       "      <th>fake</th>\n",
       "    </tr>\n",
       "  </thead>\n",
       "  <tbody>\n",
       "    <tr>\n",
       "      <th>20</th>\n",
       "      <td>politifact14490</td>\n",
       "      <td>About Trendolizer™\\n\\nTrendolizer™ (patent pen...</td>\n",
       "      <td>BREAKING NEWS: Prince William and Harry donate...</td>\n",
       "      <td>Hurricane Harvey has devastated communities ac...</td>\n",
       "      <td>1</td>\n",
       "    </tr>\n",
       "    <tr>\n",
       "      <th>23</th>\n",
       "      <td>politifact14859</td>\n",
       "      <td>About Trendolizer™\\n\\nTrendolizer™ (patent pen...</td>\n",
       "      <td>Alabama State Police Arrest 3 Poll Workers In ...</td>\n",
       "      <td>Alabama State Police have arrested three women...</td>\n",
       "      <td>1</td>\n",
       "    </tr>\n",
       "    <tr>\n",
       "      <th>75</th>\n",
       "      <td>politifact13816</td>\n",
       "      <td>The Bodybuilding community has long coveted th...</td>\n",
       "      <td>Historical blog about Seattle, as well as the ...</td>\n",
       "      <td>Tribune</td>\n",
       "      <td>1</td>\n",
       "    </tr>\n",
       "    <tr>\n",
       "      <th>94</th>\n",
       "      <td>politifact15419</td>\n",
       "      <td>Yes, you can transfer your domain to any regis...</td>\n",
       "      <td>JumboReport.com is for sale</td>\n",
       "      <td>Shop a wide selection of domains at HugeDomain...</td>\n",
       "      <td>1</td>\n",
       "    </tr>\n",
       "    <tr>\n",
       "      <th>108</th>\n",
       "      <td>politifact4411</td>\n",
       "      <td>The award-winning, nonpartisan intel you can t...</td>\n",
       "      <td>Legislative Tracking Software</td>\n",
       "      <td>Track federal legislation with expert policy a...</td>\n",
       "      <td>0</td>\n",
       "    </tr>\n",
       "    <tr>\n",
       "      <th>...</th>\n",
       "      <td>...</td>\n",
       "      <td>...</td>\n",
       "      <td>...</td>\n",
       "      <td>...</td>\n",
       "      <td>...</td>\n",
       "    </tr>\n",
       "    <tr>\n",
       "      <th>12502</th>\n",
       "      <td>gossipcop-846427</td>\n",
       "      <td>Or sign in with one of these services</td>\n",
       "      <td>The Awards and Nominations Thread</td>\n",
       "      <td>Quote\\n\\t\\n\\n\\t\\n\\t\\t\\n\\t\\t\\tHe[ Sam] is way b...</td>\n",
       "      <td>0</td>\n",
       "    </tr>\n",
       "    <tr>\n",
       "      <th>12508</th>\n",
       "      <td>gossipcop-898681</td>\n",
       "      <td>Unbothered\\n\\nI Anglicized My Name For My Care...</td>\n",
       "      <td>Dax Shepard Raising Daughters Empowered, Feminist</td>\n",
       "      <td>The \"CHiPs\" star insists it's not that hard.</td>\n",
       "      <td>0</td>\n",
       "    </tr>\n",
       "    <tr>\n",
       "      <th>12518</th>\n",
       "      <td>gossipcop-944231</td>\n",
       "      <td>My name is Nwando Kate (Kartia) Onyeka. I am a...</td>\n",
       "      <td>Why Frances McDormand’s Green Pantsuit and Fur...</td>\n",
       "      <td>my style by katia</td>\n",
       "      <td>0</td>\n",
       "    </tr>\n",
       "    <tr>\n",
       "      <th>12526</th>\n",
       "      <td>gossipcop-882057</td>\n",
       "      <td>It's hard to believe, but \"The Bachelor\" and i...</td>\n",
       "      <td>Here are all the couples from 'The Bachelor' a...</td>\n",
       "      <td>It's hard to believe, but there have been 34 s...</td>\n",
       "      <td>0</td>\n",
       "    </tr>\n",
       "    <tr>\n",
       "      <th>12537</th>\n",
       "      <td>gossipcop-861230</td>\n",
       "      <td>Unbothered\\n\\nTwo Men Convicted For The 1965 A...</td>\n",
       "      <td>Karrueche Tran Chris Brown Permanent Restraini...</td>\n",
       "      <td>She says she fears for her safety due to her e...</td>\n",
       "      <td>0</td>\n",
       "    </tr>\n",
       "  </tbody>\n",
       "</table>\n",
       "<p>1098 rows × 5 columns</p>\n",
       "</div>"
      ],
      "text/plain": [
       "                     id                                               text  \\\n",
       "20      politifact14490  About Trendolizer™\\n\\nTrendolizer™ (patent pen...   \n",
       "23      politifact14859  About Trendolizer™\\n\\nTrendolizer™ (patent pen...   \n",
       "75      politifact13816  The Bodybuilding community has long coveted th...   \n",
       "94      politifact15419  Yes, you can transfer your domain to any regis...   \n",
       "108      politifact4411  The award-winning, nonpartisan intel you can t...   \n",
       "...                 ...                                                ...   \n",
       "12502  gossipcop-846427              Or sign in with one of these services   \n",
       "12508  gossipcop-898681  Unbothered\\n\\nI Anglicized My Name For My Care...   \n",
       "12518  gossipcop-944231  My name is Nwando Kate (Kartia) Onyeka. I am a...   \n",
       "12526  gossipcop-882057  It's hard to believe, but \"The Bachelor\" and i...   \n",
       "12537  gossipcop-861230  Unbothered\\n\\nTwo Men Convicted For The 1965 A...   \n",
       "\n",
       "                                                   title  \\\n",
       "20     BREAKING NEWS: Prince William and Harry donate...   \n",
       "23     Alabama State Police Arrest 3 Poll Workers In ...   \n",
       "75     Historical blog about Seattle, as well as the ...   \n",
       "94                           JumboReport.com is for sale   \n",
       "108                        Legislative Tracking Software   \n",
       "...                                                  ...   \n",
       "12502                  The Awards and Nominations Thread   \n",
       "12508  Dax Shepard Raising Daughters Empowered, Feminist   \n",
       "12518  Why Frances McDormand’s Green Pantsuit and Fur...   \n",
       "12526  Here are all the couples from 'The Bachelor' a...   \n",
       "12537  Karrueche Tran Chris Brown Permanent Restraini...   \n",
       "\n",
       "                                             description  fake  \n",
       "20     Hurricane Harvey has devastated communities ac...     1  \n",
       "23     Alabama State Police have arrested three women...     1  \n",
       "75                                               Tribune     1  \n",
       "94     Shop a wide selection of domains at HugeDomain...     1  \n",
       "108    Track federal legislation with expert policy a...     0  \n",
       "...                                                  ...   ...  \n",
       "12502  Quote\\n\\t\\n\\n\\t\\n\\t\\t\\n\\t\\t\\tHe[ Sam] is way b...     0  \n",
       "12508       The \"CHiPs\" star insists it's not that hard.     0  \n",
       "12518                                  my style by katia     0  \n",
       "12526  It's hard to believe, but there have been 34 s...     0  \n",
       "12537  She says she fears for her safety due to her e...     0  \n",
       "\n",
       "[1098 rows x 5 columns]"
      ]
     },
     "execution_count": 14,
     "metadata": {},
     "output_type": "execute_result"
    }
   ],
   "source": [
    "data[data.duplicated(subset=(\"text\", \"fake\"))]"
   ]
  },
  {
   "cell_type": "code",
   "execution_count": 14,
   "id": "6cba0372",
   "metadata": {},
   "outputs": [],
   "source": [
    "data=data.drop_duplicates(subset=(\"text\", \"fake\"), keep='first', ignore_index=True)"
   ]
  },
  {
   "cell_type": "code",
   "execution_count": 15,
   "id": "09eab40f",
   "metadata": {},
   "outputs": [
    {
     "data": {
      "text/plain": [
       "(11445, 5)"
      ]
     },
     "execution_count": 15,
     "metadata": {},
     "output_type": "execute_result"
    }
   ],
   "source": [
    "data.shape"
   ]
  },
  {
   "cell_type": "code",
   "execution_count": 16,
   "id": "1d29b085",
   "metadata": {
    "scrolled": true
   },
   "outputs": [
    {
     "data": {
      "text/plain": [
       "fake\n",
       "0    7764\n",
       "1    3681\n",
       "Name: count, dtype: int64"
      ]
     },
     "execution_count": 16,
     "metadata": {},
     "output_type": "execute_result"
    }
   ],
   "source": [
    "data[\"fake\"].value_counts()"
   ]
  },
  {
   "cell_type": "markdown",
   "id": "618df0fb",
   "metadata": {},
   "source": [
    "#### Delete duplicates from within fake/real categories (delete both)"
   ]
  },
  {
   "cell_type": "code",
   "execution_count": 17,
   "id": "3d4f6504",
   "metadata": {
    "collapsed": true
   },
   "outputs": [
    {
     "data": {
      "text/html": [
       "<div>\n",
       "<style scoped>\n",
       "    .dataframe tbody tr th:only-of-type {\n",
       "        vertical-align: middle;\n",
       "    }\n",
       "\n",
       "    .dataframe tbody tr th {\n",
       "        vertical-align: top;\n",
       "    }\n",
       "\n",
       "    .dataframe thead th {\n",
       "        text-align: right;\n",
       "    }\n",
       "</style>\n",
       "<table border=\"1\" class=\"dataframe\">\n",
       "  <thead>\n",
       "    <tr style=\"text-align: right;\">\n",
       "      <th></th>\n",
       "      <th>id</th>\n",
       "      <th>text</th>\n",
       "      <th>title</th>\n",
       "      <th>description</th>\n",
       "      <th>fake</th>\n",
       "    </tr>\n",
       "  </thead>\n",
       "  <tbody>\n",
       "    <tr>\n",
       "      <th>219</th>\n",
       "      <td>politifact14940</td>\n",
       "      <td>It is for that reason that I rise today, to ta...</td>\n",
       "      <td>Full text: Jeff Flake on Trump speech transcript</td>\n",
       "      <td>Sen. Flake delivered the speech to the Senate ...</td>\n",
       "      <td>0</td>\n",
       "    </tr>\n",
       "    <tr>\n",
       "      <th>3890</th>\n",
       "      <td>gossipcop-921150</td>\n",
       "      <td>Yes, you can transfer your domain to any regis...</td>\n",
       "      <td>WuShack.com is for sale</td>\n",
       "      <td>Customer service is our #1 priority. Get a pre...</td>\n",
       "      <td>0</td>\n",
       "    </tr>\n",
       "    <tr>\n",
       "      <th>3896</th>\n",
       "      <td>gossipcop-892835</td>\n",
       "      <td>Melanie “Mel B” Brown and husband Stephen Bela...</td>\n",
       "      <td>Mel B and Estranged Husband Stephen Belafonte ...</td>\n",
       "      <td>Melanie \"Mel B\" Brown and husband Stephen Bela...</td>\n",
       "      <td>0</td>\n",
       "    </tr>\n",
       "    <tr>\n",
       "      <th>3905</th>\n",
       "      <td>gossipcop-859786</td>\n",
       "      <td>Sunday marked a big night for “Hello, Dolly!” ...</td>\n",
       "      <td>Tony Awards 2017: Complete Winners List</td>\n",
       "      <td>Sunday marked a big night for “Hello, Dolly!” ...</td>\n",
       "      <td>0</td>\n",
       "    </tr>\n",
       "    <tr>\n",
       "      <th>3945</th>\n",
       "      <td>gossipcop-896317</td>\n",
       "      <td>By clicking Subscribe, you confirm that you ha...</td>\n",
       "      <td>WINNER - BEST NEW - Image 1 from Soul Train Aw...</td>\n",
       "      <td>Check out the Soul Train Awards winners.</td>\n",
       "      <td>0</td>\n",
       "    </tr>\n",
       "    <tr>\n",
       "      <th>...</th>\n",
       "      <td>...</td>\n",
       "      <td>...</td>\n",
       "      <td>...</td>\n",
       "      <td>...</td>\n",
       "      <td>...</td>\n",
       "    </tr>\n",
       "    <tr>\n",
       "      <th>10709</th>\n",
       "      <td>gossipcop-869945</td>\n",
       "      <td>George Clooney is one proud papa! The Academy ...</td>\n",
       "      <td>George Clooney Shows Off Pics of His Twins, Jo...</td>\n",
       "      <td>George Clooney showed off pics of his twins wi...</td>\n",
       "      <td>0</td>\n",
       "    </tr>\n",
       "    <tr>\n",
       "      <th>10867</th>\n",
       "      <td>gossipcop-858455</td>\n",
       "      <td>For those wondering how much Taylor Swift is s...</td>\n",
       "      <td>How Taylor Swift and Joe Alwyn's Private Roman...</td>\n",
       "      <td>A rare status update, in case you were concerned.</td>\n",
       "      <td>0</td>\n",
       "    </tr>\n",
       "    <tr>\n",
       "      <th>11041</th>\n",
       "      <td>gossipcop-940492</td>\n",
       "      <td>Speaking her truth. Nicole Kidman opened up ab...</td>\n",
       "      <td>Nicole Kidman Had Two Miscarriages During Tom ...</td>\n",
       "      <td>Nicole Kidman reflected on her relationship wi...</td>\n",
       "      <td>0</td>\n",
       "    </tr>\n",
       "    <tr>\n",
       "      <th>11085</th>\n",
       "      <td>gossipcop-866892</td>\n",
       "      <td>DWTS judge and actress Julianne Hough married ...</td>\n",
       "      <td>Julianne Hough Wedding: Derek Hough on Sister ...</td>\n",
       "      <td>The DWTS star served as a groomsman in his sis...</td>\n",
       "      <td>0</td>\n",
       "    </tr>\n",
       "    <tr>\n",
       "      <th>11382</th>\n",
       "      <td>gossipcop-896770</td>\n",
       "      <td>The 2018 Grammys, the 60th installment of the ...</td>\n",
       "      <td>Grammy winners 2018: the complete list</td>\n",
       "      <td>Bruno Mars was the night’s biggest winner, tak...</td>\n",
       "      <td>0</td>\n",
       "    </tr>\n",
       "  </tbody>\n",
       "</table>\n",
       "<p>95 rows × 5 columns</p>\n",
       "</div>"
      ],
      "text/plain": [
       "                     id                                               text  \\\n",
       "219     politifact14940  It is for that reason that I rise today, to ta...   \n",
       "3890   gossipcop-921150  Yes, you can transfer your domain to any regis...   \n",
       "3896   gossipcop-892835  Melanie “Mel B” Brown and husband Stephen Bela...   \n",
       "3905   gossipcop-859786  Sunday marked a big night for “Hello, Dolly!” ...   \n",
       "3945   gossipcop-896317  By clicking Subscribe, you confirm that you ha...   \n",
       "...                 ...                                                ...   \n",
       "10709  gossipcop-869945  George Clooney is one proud papa! The Academy ...   \n",
       "10867  gossipcop-858455  For those wondering how much Taylor Swift is s...   \n",
       "11041  gossipcop-940492  Speaking her truth. Nicole Kidman opened up ab...   \n",
       "11085  gossipcop-866892  DWTS judge and actress Julianne Hough married ...   \n",
       "11382  gossipcop-896770  The 2018 Grammys, the 60th installment of the ...   \n",
       "\n",
       "                                                   title  \\\n",
       "219     Full text: Jeff Flake on Trump speech transcript   \n",
       "3890                             WuShack.com is for sale   \n",
       "3896   Mel B and Estranged Husband Stephen Belafonte ...   \n",
       "3905             Tony Awards 2017: Complete Winners List   \n",
       "3945   WINNER - BEST NEW - Image 1 from Soul Train Aw...   \n",
       "...                                                  ...   \n",
       "10709  George Clooney Shows Off Pics of His Twins, Jo...   \n",
       "10867  How Taylor Swift and Joe Alwyn's Private Roman...   \n",
       "11041  Nicole Kidman Had Two Miscarriages During Tom ...   \n",
       "11085  Julianne Hough Wedding: Derek Hough on Sister ...   \n",
       "11382             Grammy winners 2018: the complete list   \n",
       "\n",
       "                                             description  fake  \n",
       "219    Sen. Flake delivered the speech to the Senate ...     0  \n",
       "3890   Customer service is our #1 priority. Get a pre...     0  \n",
       "3896   Melanie \"Mel B\" Brown and husband Stephen Bela...     0  \n",
       "3905   Sunday marked a big night for “Hello, Dolly!” ...     0  \n",
       "3945            Check out the Soul Train Awards winners.     0  \n",
       "...                                                  ...   ...  \n",
       "10709  George Clooney showed off pics of his twins wi...     0  \n",
       "10867  A rare status update, in case you were concerned.     0  \n",
       "11041  Nicole Kidman reflected on her relationship wi...     0  \n",
       "11085  The DWTS star served as a groomsman in his sis...     0  \n",
       "11382  Bruno Mars was the night’s biggest winner, tak...     0  \n",
       "\n",
       "[95 rows x 5 columns]"
      ]
     },
     "execution_count": 17,
     "metadata": {},
     "output_type": "execute_result"
    }
   ],
   "source": [
    "data[data.duplicated(subset=(\"text\"))]"
   ]
  },
  {
   "cell_type": "code",
   "execution_count": 18,
   "id": "4d68a681",
   "metadata": {},
   "outputs": [],
   "source": [
    "data=data.drop_duplicates(subset=(\"text\"), keep=False, ignore_index=True)"
   ]
  },
  {
   "cell_type": "code",
   "execution_count": 19,
   "id": "604bca5a",
   "metadata": {},
   "outputs": [
    {
     "data": {
      "text/plain": [
       "(11255, 5)"
      ]
     },
     "execution_count": 19,
     "metadata": {},
     "output_type": "execute_result"
    }
   ],
   "source": [
    "data.shape"
   ]
  },
  {
   "cell_type": "code",
   "execution_count": 20,
   "id": "acfb8935",
   "metadata": {},
   "outputs": [
    {
     "data": {
      "text/plain": [
       "fake\n",
       "0    7669\n",
       "1    3586\n",
       "Name: count, dtype: int64"
      ]
     },
     "execution_count": 20,
     "metadata": {},
     "output_type": "execute_result"
    }
   ],
   "source": [
    "data[\"fake\"].value_counts()"
   ]
  },
  {
   "cell_type": "markdown",
   "id": "ef26b12a",
   "metadata": {},
   "source": [
    "### Check for invalid texts, remove invalid texts"
   ]
  },
  {
   "cell_type": "code",
   "execution_count": 21,
   "id": "d931ce40",
   "metadata": {},
   "outputs": [],
   "source": [
    "data[\"text_len\"] = data['text'].str.len()\n",
    "data[\"title_len\"]=data['title'].str.len()"
   ]
  },
  {
   "cell_type": "code",
   "execution_count": 22,
   "id": "75980b88",
   "metadata": {
    "scrolled": false
   },
   "outputs": [
    {
     "data": {
      "text/plain": [
       "(22, 7)"
      ]
     },
     "execution_count": 22,
     "metadata": {},
     "output_type": "execute_result"
    }
   ],
   "source": [
    "data[data[\"text_len\"]<data[\"title_len\"]].shape"
   ]
  },
  {
   "cell_type": "code",
   "execution_count": 23,
   "id": "9c9c68f8",
   "metadata": {
    "collapsed": true
   },
   "outputs": [
    {
     "data": {
      "text/html": [
       "<div>\n",
       "<style scoped>\n",
       "    .dataframe tbody tr th:only-of-type {\n",
       "        vertical-align: middle;\n",
       "    }\n",
       "\n",
       "    .dataframe tbody tr th {\n",
       "        vertical-align: top;\n",
       "    }\n",
       "\n",
       "    .dataframe thead th {\n",
       "        text-align: right;\n",
       "    }\n",
       "</style>\n",
       "<table border=\"1\" class=\"dataframe\">\n",
       "  <thead>\n",
       "    <tr style=\"text-align: right;\">\n",
       "      <th></th>\n",
       "      <th>id</th>\n",
       "      <th>text</th>\n",
       "      <th>title</th>\n",
       "      <th>description</th>\n",
       "      <th>fake</th>\n",
       "      <th>text_len</th>\n",
       "      <th>title_len</th>\n",
       "    </tr>\n",
       "  </thead>\n",
       "  <tbody>\n",
       "    <tr>\n",
       "      <th>40</th>\n",
       "      <td>politifact14794</td>\n",
       "      <td>ARE YOU READY? GET IT NOW!\\n\\nIncrease more th...</td>\n",
       "      <td>Singer Tina Turner: “This Thanksgiving Is The ...</td>\n",
       "      <td>Actress Tina Turner: “This Thanksgiving Is The...</td>\n",
       "      <td>1</td>\n",
       "      <td>134</td>\n",
       "      <td>200</td>\n",
       "    </tr>\n",
       "    <tr>\n",
       "      <th>131</th>\n",
       "      <td>politifact14225</td>\n",
       "      <td>Log in to comment on videos and join in on the...</td>\n",
       "      <td>Ivanka Trump: Father feels 'vindicated' after ...</td>\n",
       "      <td>The president's daughter weighs in</td>\n",
       "      <td>0</td>\n",
       "      <td>51</td>\n",
       "      <td>59</td>\n",
       "    </tr>\n",
       "    <tr>\n",
       "      <th>1304</th>\n",
       "      <td>gossipcop-5832684435</td>\n",
       "      <td>Passengers 'infuriated' by dad's behaviour on ...</td>\n",
       "      <td>Parenting - Latest news headlines in Australia...</td>\n",
       "      <td>Check out how-to tips, news and advice on ever...</td>\n",
       "      <td>1</td>\n",
       "      <td>102</td>\n",
       "      <td>115</td>\n",
       "    </tr>\n",
       "    <tr>\n",
       "      <th>1314</th>\n",
       "      <td>gossipcop-7938752346</td>\n",
       "      <td>Is this Zendaya's new boyfriend?</td>\n",
       "      <td>Is this Lady Gaga's new boyfriend?</td>\n",
       "      <td>She's been seen getting close to Christian Carino</td>\n",
       "      <td>1</td>\n",
       "      <td>32</td>\n",
       "      <td>34</td>\n",
       "    </tr>\n",
       "    <tr>\n",
       "      <th>1475</th>\n",
       "      <td>gossipcop-7134675583</td>\n",
       "      <td>Up Next 'Transformers: Rise of the Beasts' Fin...</td>\n",
       "      <td>Ellen DeGeneres and Portia De Rossi Rock Coord...</td>\n",
       "      <td>The lovebirds stepped out on Sunday in Los Ang...</td>\n",
       "      <td>1</td>\n",
       "      <td>56</td>\n",
       "      <td>92</td>\n",
       "    </tr>\n",
       "    <tr>\n",
       "      <th>1671</th>\n",
       "      <td>gossipcop-6751025589</td>\n",
       "      <td>UFOmania - the truth is out there</td>\n",
       "      <td>Beyoncé Caught Shapeshifting In Front Of Celeb...</td>\n",
       "      <td>Beyoncé’s legions of fans were dealt a devasta...</td>\n",
       "      <td>1</td>\n",
       "      <td>33</td>\n",
       "      <td>75</td>\n",
       "    </tr>\n",
       "    <tr>\n",
       "      <th>1759</th>\n",
       "      <td>gossipcop-9755892564</td>\n",
       "      <td>Up Next 'Average Joe' Official Trailer (Exclus...</td>\n",
       "      <td>Kim Kardashian Reveals Her Limit on Kids With ...</td>\n",
       "      <td>The reality star opened up about her family li...</td>\n",
       "      <td>1</td>\n",
       "      <td>50</td>\n",
       "      <td>56</td>\n",
       "    </tr>\n",
       "    <tr>\n",
       "      <th>1948</th>\n",
       "      <td>gossipcop-6250034139</td>\n",
       "      <td>The Ultimate Source\\n\\nFor all the best News f...</td>\n",
       "      <td>Jennifer Aniston showing off “Revenge Body” fo...</td>\n",
       "      <td>﻿\\r\\nJennifer Aniston showing off “Revenge Bod...</td>\n",
       "      <td>1</td>\n",
       "      <td>62</td>\n",
       "      <td>73</td>\n",
       "    </tr>\n",
       "    <tr>\n",
       "      <th>2202</th>\n",
       "      <td>gossipcop-3836977114</td>\n",
       "      <td>Might watch this just for Jennifer Lawrence.</td>\n",
       "      <td>Jennifer Lawrence Looks Terrified (But Still H...</td>\n",
       "      <td>Might watch this just for Jennifer Lawrence.</td>\n",
       "      <td>1</td>\n",
       "      <td>44</td>\n",
       "      <td>74</td>\n",
       "    </tr>\n",
       "    <tr>\n",
       "      <th>2266</th>\n",
       "      <td>gossipcop-6630473431</td>\n",
       "      <td>Up Next Shawn Mendes and Camila Cabello Show O...</td>\n",
       "      <td>Jessica Biel Was Shocked By the Pressure to Lo...</td>\n",
       "      <td>The actress and her business partner, Saundra ...</td>\n",
       "      <td>1</td>\n",
       "      <td>59</td>\n",
       "      <td>74</td>\n",
       "    </tr>\n",
       "    <tr>\n",
       "      <th>3313</th>\n",
       "      <td>gossipcop-8306634484</td>\n",
       "      <td>6\\n\\nWhen She Did This in Public and Solidifie...</td>\n",
       "      <td>Warning: These Sexy Gigi Hadid Moments Will Le...</td>\n",
       "      <td>Just in case you forgot that Gigi Hadid is one...</td>\n",
       "      <td>1</td>\n",
       "      <td>82</td>\n",
       "      <td>83</td>\n",
       "    </tr>\n",
       "    <tr>\n",
       "      <th>4041</th>\n",
       "      <td>gossipcop-936991</td>\n",
       "      <td>Sign up for our daily newsletter HERE!</td>\n",
       "      <td>Photobombs to teary eyes: All the viral moment...</td>\n",
       "      <td>Photobombs to teary eyes: All the viral moment...</td>\n",
       "      <td>0</td>\n",
       "      <td>38</td>\n",
       "      <td>71</td>\n",
       "    </tr>\n",
       "    <tr>\n",
       "      <th>4921</th>\n",
       "      <td>gossipcop-901135</td>\n",
       "      <td>El Poder en Ti</td>\n",
       "      <td>Khloe Kardashian Covers Her Baby Bump With Bab...</td>\n",
       "      <td>These cute cousins look like they're filled wi...</td>\n",
       "      <td>0</td>\n",
       "      <td>14</td>\n",
       "      <td>97</td>\n",
       "    </tr>\n",
       "    <tr>\n",
       "      <th>5119</th>\n",
       "      <td>gossipcop-875225</td>\n",
       "      <td>Stars step out in Los Angeles for the network’...</td>\n",
       "      <td>MTV Video Music Awards 2017: Red Carpet Arriva...</td>\n",
       "      <td>Stars step out in Los Angeles for the network'...</td>\n",
       "      <td>0</td>\n",
       "      <td>66</td>\n",
       "      <td>80</td>\n",
       "    </tr>\n",
       "    <tr>\n",
       "      <th>6695</th>\n",
       "      <td>gossipcop-859486</td>\n",
       "      <td>There's a lot more to the man than you might t...</td>\n",
       "      <td>James Corden: British Actor, TV Presenter &amp; Ca...</td>\n",
       "      <td>James Corden: The latest news, photos &amp; videos...</td>\n",
       "      <td>0</td>\n",
       "      <td>50</td>\n",
       "      <td>65</td>\n",
       "    </tr>\n",
       "    <tr>\n",
       "      <th>8153</th>\n",
       "      <td>gossipcop-880321</td>\n",
       "      <td>Sorry, ”Manifest“: You ran into that ”Roseanne...</td>\n",
       "      <td>21 New Fall TV Shows Ranked by Premiere Viewer...</td>\n",
       "      <td>Sorry, \"Manifest\": You ran into that \"Roseanne...</td>\n",
       "      <td>0</td>\n",
       "      <td>55</td>\n",
       "      <td>89</td>\n",
       "    </tr>\n",
       "    <tr>\n",
       "      <th>8301</th>\n",
       "      <td>gossipcop-867983</td>\n",
       "      <td>Not every Hall H panel is created equal</td>\n",
       "      <td>Comic-Con 2017: The Winners and Losers (Photos)</td>\n",
       "      <td>Not every Hall H panel is created equal</td>\n",
       "      <td>0</td>\n",
       "      <td>39</td>\n",
       "      <td>47</td>\n",
       "    </tr>\n",
       "    <tr>\n",
       "      <th>8443</th>\n",
       "      <td>gossipcop-930693</td>\n",
       "      <td>Engaged stars hit up the biggest country music...</td>\n",
       "      <td>Joe Jonas, Sophie Turner and More Stars Flock ...</td>\n",
       "      <td>Engaged stars hit up the biggest country music...</td>\n",
       "      <td>0</td>\n",
       "      <td>68</td>\n",
       "      <td>88</td>\n",
       "    </tr>\n",
       "    <tr>\n",
       "      <th>8548</th>\n",
       "      <td>gossipcop-915010</td>\n",
       "      <td>How will Jazmine Sullivan and Eric Church soun...</td>\n",
       "      <td>13 Worst Celebrity National Anthem Performance...</td>\n",
       "      <td>How will Jazmine Sullivan and Eric Church soun...</td>\n",
       "      <td>0</td>\n",
       "      <td>84</td>\n",
       "      <td>99</td>\n",
       "    </tr>\n",
       "    <tr>\n",
       "      <th>8688</th>\n",
       "      <td>gossipcop-849701</td>\n",
       "      <td>Including a bar brawl, a lawsuit and a show ca...</td>\n",
       "      <td>7 Most Outrageous HGTV Scandals: From ‘Propert...</td>\n",
       "      <td>Including a bar brawl, a lawsuit and a show ca...</td>\n",
       "      <td>0</td>\n",
       "      <td>82</td>\n",
       "      <td>84</td>\n",
       "    </tr>\n",
       "    <tr>\n",
       "      <th>10373</th>\n",
       "      <td>gossipcop-907442</td>\n",
       "      <td>Your First Look at The Real Housewives of Atla...</td>\n",
       "      <td>Watch Your First Look at The Real Housewives o...</td>\n",
       "      <td>Season 11 Preview: Get ready for new 'Wives, n...</td>\n",
       "      <td>0</td>\n",
       "      <td>59</td>\n",
       "      <td>65</td>\n",
       "    </tr>\n",
       "    <tr>\n",
       "      <th>11104</th>\n",
       "      <td>gossipcop-951505</td>\n",
       "      <td>Keep up to date\\n\\nGet the latest Over60 news,...</td>\n",
       "      <td>The truth about Michael J. Fox and Tracy Polla...</td>\n",
       "      <td>Michael J. Fox and Tracy Pollan share how they...</td>\n",
       "      <td>0</td>\n",
       "      <td>65</td>\n",
       "      <td>78</td>\n",
       "    </tr>\n",
       "  </tbody>\n",
       "</table>\n",
       "</div>"
      ],
      "text/plain": [
       "                         id  \\\n",
       "40          politifact14794   \n",
       "131         politifact14225   \n",
       "1304   gossipcop-5832684435   \n",
       "1314   gossipcop-7938752346   \n",
       "1475   gossipcop-7134675583   \n",
       "1671   gossipcop-6751025589   \n",
       "1759   gossipcop-9755892564   \n",
       "1948   gossipcop-6250034139   \n",
       "2202   gossipcop-3836977114   \n",
       "2266   gossipcop-6630473431   \n",
       "3313   gossipcop-8306634484   \n",
       "4041       gossipcop-936991   \n",
       "4921       gossipcop-901135   \n",
       "5119       gossipcop-875225   \n",
       "6695       gossipcop-859486   \n",
       "8153       gossipcop-880321   \n",
       "8301       gossipcop-867983   \n",
       "8443       gossipcop-930693   \n",
       "8548       gossipcop-915010   \n",
       "8688       gossipcop-849701   \n",
       "10373      gossipcop-907442   \n",
       "11104      gossipcop-951505   \n",
       "\n",
       "                                                    text  \\\n",
       "40     ARE YOU READY? GET IT NOW!\\n\\nIncrease more th...   \n",
       "131    Log in to comment on videos and join in on the...   \n",
       "1304   Passengers 'infuriated' by dad's behaviour on ...   \n",
       "1314                    Is this Zendaya's new boyfriend?   \n",
       "1475   Up Next 'Transformers: Rise of the Beasts' Fin...   \n",
       "1671                   UFOmania - the truth is out there   \n",
       "1759   Up Next 'Average Joe' Official Trailer (Exclus...   \n",
       "1948   The Ultimate Source\\n\\nFor all the best News f...   \n",
       "2202        Might watch this just for Jennifer Lawrence.   \n",
       "2266   Up Next Shawn Mendes and Camila Cabello Show O...   \n",
       "3313   6\\n\\nWhen She Did This in Public and Solidifie...   \n",
       "4041              Sign up for our daily newsletter HERE!   \n",
       "4921                                      El Poder en Ti   \n",
       "5119   Stars step out in Los Angeles for the network’...   \n",
       "6695   There's a lot more to the man than you might t...   \n",
       "8153   Sorry, ”Manifest“: You ran into that ”Roseanne...   \n",
       "8301             Not every Hall H panel is created equal   \n",
       "8443   Engaged stars hit up the biggest country music...   \n",
       "8548   How will Jazmine Sullivan and Eric Church soun...   \n",
       "8688   Including a bar brawl, a lawsuit and a show ca...   \n",
       "10373  Your First Look at The Real Housewives of Atla...   \n",
       "11104  Keep up to date\\n\\nGet the latest Over60 news,...   \n",
       "\n",
       "                                                   title  \\\n",
       "40     Singer Tina Turner: “This Thanksgiving Is The ...   \n",
       "131    Ivanka Trump: Father feels 'vindicated' after ...   \n",
       "1304   Parenting - Latest news headlines in Australia...   \n",
       "1314                  Is this Lady Gaga's new boyfriend?   \n",
       "1475   Ellen DeGeneres and Portia De Rossi Rock Coord...   \n",
       "1671   Beyoncé Caught Shapeshifting In Front Of Celeb...   \n",
       "1759   Kim Kardashian Reveals Her Limit on Kids With ...   \n",
       "1948   Jennifer Aniston showing off “Revenge Body” fo...   \n",
       "2202   Jennifer Lawrence Looks Terrified (But Still H...   \n",
       "2266   Jessica Biel Was Shocked By the Pressure to Lo...   \n",
       "3313   Warning: These Sexy Gigi Hadid Moments Will Le...   \n",
       "4041   Photobombs to teary eyes: All the viral moment...   \n",
       "4921   Khloe Kardashian Covers Her Baby Bump With Bab...   \n",
       "5119   MTV Video Music Awards 2017: Red Carpet Arriva...   \n",
       "6695   James Corden: British Actor, TV Presenter & Ca...   \n",
       "8153   21 New Fall TV Shows Ranked by Premiere Viewer...   \n",
       "8301     Comic-Con 2017: The Winners and Losers (Photos)   \n",
       "8443   Joe Jonas, Sophie Turner and More Stars Flock ...   \n",
       "8548   13 Worst Celebrity National Anthem Performance...   \n",
       "8688   7 Most Outrageous HGTV Scandals: From ‘Propert...   \n",
       "10373  Watch Your First Look at The Real Housewives o...   \n",
       "11104  The truth about Michael J. Fox and Tracy Polla...   \n",
       "\n",
       "                                             description  fake  text_len  \\\n",
       "40     Actress Tina Turner: “This Thanksgiving Is The...     1       134   \n",
       "131                   The president's daughter weighs in     0        51   \n",
       "1304   Check out how-to tips, news and advice on ever...     1       102   \n",
       "1314   She's been seen getting close to Christian Carino     1        32   \n",
       "1475   The lovebirds stepped out on Sunday in Los Ang...     1        56   \n",
       "1671   Beyoncé’s legions of fans were dealt a devasta...     1        33   \n",
       "1759   The reality star opened up about her family li...     1        50   \n",
       "1948   ﻿\\r\\nJennifer Aniston showing off “Revenge Bod...     1        62   \n",
       "2202        Might watch this just for Jennifer Lawrence.     1        44   \n",
       "2266   The actress and her business partner, Saundra ...     1        59   \n",
       "3313   Just in case you forgot that Gigi Hadid is one...     1        82   \n",
       "4041   Photobombs to teary eyes: All the viral moment...     0        38   \n",
       "4921   These cute cousins look like they're filled wi...     0        14   \n",
       "5119   Stars step out in Los Angeles for the network'...     0        66   \n",
       "6695   James Corden: The latest news, photos & videos...     0        50   \n",
       "8153   Sorry, \"Manifest\": You ran into that \"Roseanne...     0        55   \n",
       "8301             Not every Hall H panel is created equal     0        39   \n",
       "8443   Engaged stars hit up the biggest country music...     0        68   \n",
       "8548   How will Jazmine Sullivan and Eric Church soun...     0        84   \n",
       "8688   Including a bar brawl, a lawsuit and a show ca...     0        82   \n",
       "10373  Season 11 Preview: Get ready for new 'Wives, n...     0        59   \n",
       "11104  Michael J. Fox and Tracy Pollan share how they...     0        65   \n",
       "\n",
       "       title_len  \n",
       "40           200  \n",
       "131           59  \n",
       "1304         115  \n",
       "1314          34  \n",
       "1475          92  \n",
       "1671          75  \n",
       "1759          56  \n",
       "1948          73  \n",
       "2202          74  \n",
       "2266          74  \n",
       "3313          83  \n",
       "4041          71  \n",
       "4921          97  \n",
       "5119          80  \n",
       "6695          65  \n",
       "8153          89  \n",
       "8301          47  \n",
       "8443          88  \n",
       "8548          99  \n",
       "8688          84  \n",
       "10373         65  \n",
       "11104         78  "
      ]
     },
     "execution_count": 23,
     "metadata": {},
     "output_type": "execute_result"
    }
   ],
   "source": [
    "data[data[\"text_len\"]<data[\"title_len\"]]"
   ]
  },
  {
   "cell_type": "code",
   "execution_count": 24,
   "id": "10f1199e",
   "metadata": {},
   "outputs": [],
   "source": [
    "data=data[data[\"text_len\"]>=data[\"title_len\"]]"
   ]
  },
  {
   "cell_type": "code",
   "execution_count": 25,
   "id": "6e6432e1",
   "metadata": {},
   "outputs": [
    {
     "data": {
      "text/plain": [
       "(11233, 7)"
      ]
     },
     "execution_count": 25,
     "metadata": {},
     "output_type": "execute_result"
    }
   ],
   "source": [
    "data.shape"
   ]
  },
  {
   "cell_type": "code",
   "execution_count": 26,
   "id": "ddba9a62",
   "metadata": {
    "scrolled": true
   },
   "outputs": [
    {
     "data": {
      "text/plain": [
       "fake\n",
       "0    7657\n",
       "1    3576\n",
       "Name: count, dtype: int64"
      ]
     },
     "execution_count": 26,
     "metadata": {},
     "output_type": "execute_result"
    }
   ],
   "source": [
    "data[\"fake\"].value_counts()"
   ]
  },
  {
   "cell_type": "markdown",
   "id": "89ffaaa0",
   "metadata": {},
   "source": [
    "# Cleaning functions"
   ]
  },
  {
   "cell_type": "code",
   "execution_count": 61,
   "id": "cf77fb43",
   "metadata": {},
   "outputs": [],
   "source": [
    "def load_target_concat():\n",
    "    \n",
    "    #load data\n",
    "    pol_real=pd.read_json(\"/home/kathrin/code/kbank1/fake_news/raw_data/politifact_HR.json\", orient='index')\n",
    "    pol_fake=pd.read_json(\"/home/kathrin/code/kbank1/fake_news/raw_data/politifact_HF.json\", orient='index')\n",
    "    gossip_fake=pd.read_json(\"/home/kathrin/code/kbank1/fake_news/raw_data/gossip_HF.json\", orient='index')\n",
    "    gossip_real=pd.read_json(\"/home/kathrin/code/kbank1/fake_news/raw_data/gossip_HR.json\", orient='index')\n",
    "    \n",
    "    #define target\n",
    "    pol_real[\"fake\"]=0\n",
    "    pol_fake[\"fake\"]=1\n",
    "    gossip_real[\"fake\"]=0\n",
    "    gossip_fake[\"fake\"]=1\n",
    "    \n",
    "    #concat\n",
    "    data=pd.concat((pol_fake, pol_real, gossip_fake, gossip_real),axis=0, ignore_index=True)\n",
    "    \n",
    "    print(\"✅ data loaded, target defined, data concatenated\")\n",
    "    \n",
    "    return data"
   ]
  },
  {
   "cell_type": "code",
   "execution_count": 62,
   "id": "b3ce8bfb",
   "metadata": {},
   "outputs": [
    {
     "name": "stdout",
     "output_type": "stream",
     "text": [
      "✅ data loaded, target defined, data concatenated\n"
     ]
    }
   ],
   "source": [
    "data=load_target_concat()"
   ]
  },
  {
   "cell_type": "code",
   "execution_count": 63,
   "id": "9603baff",
   "metadata": {},
   "outputs": [
    {
     "data": {
      "text/plain": [
       "(12543, 5)"
      ]
     },
     "execution_count": 63,
     "metadata": {},
     "output_type": "execute_result"
    }
   ],
   "source": [
    "data.shape"
   ]
  },
  {
   "cell_type": "code",
   "execution_count": 64,
   "id": "44fbc595",
   "metadata": {},
   "outputs": [],
   "source": [
    "def remove_duplicates_errors(data: pd.DataFrame) -> pd.DataFrame:\n",
    "    \"\"\"\n",
    "    Clean raw data by\n",
    "    - removing duplicates within fake-category (keep 1)\n",
    "    - removing duplicates across fake-categories (delete both)\n",
    "    - deleting texts that are shorter than their title (error messages, headers etc.)\n",
    "    \"\"\"\n",
    "    # Remove duplicates within fake-category\n",
    "    data =data.drop_duplicates(subset=(\"text\", \"fake\"), keep='first', ignore_index=True)\n",
    "\n",
    "    # Remove duplicates across fake-category\n",
    "    data=data.drop_duplicates(subset=(\"text\"), keep=False, ignore_index=True)\n",
    "\n",
    "    # Delete false texts\n",
    "    data[\"text_len\"] = data['text'].str.len()\n",
    "    data[\"title_len\"]=data['title'].str.len()\n",
    "    data=data[data[\"text_len\"]>=data[\"title_len\"]]\n",
    "\n",
    "    print(\"✅ duplicates and errors removed\")\n",
    "\n",
    "    return data"
   ]
  },
  {
   "cell_type": "code",
   "execution_count": 65,
   "id": "308ebef4",
   "metadata": {},
   "outputs": [
    {
     "name": "stdout",
     "output_type": "stream",
     "text": [
      "✅ duplicates and errors removed\n"
     ]
    }
   ],
   "source": [
    "data=remove_duplicates_errors(data)"
   ]
  },
  {
   "cell_type": "code",
   "execution_count": 66,
   "id": "4c654af0",
   "metadata": {},
   "outputs": [
    {
     "data": {
      "text/plain": [
       "(11233, 7)"
      ]
     },
     "execution_count": 66,
     "metadata": {},
     "output_type": "execute_result"
    }
   ],
   "source": [
    "data.shape"
   ]
  },
  {
   "cell_type": "code",
   "execution_count": 57,
   "id": "77a6e97d",
   "metadata": {
    "collapsed": true
   },
   "outputs": [
    {
     "name": "stdout",
     "output_type": "stream",
     "text": [
      "Collecting nltk\n",
      "  Downloading nltk-3.9.1-py3-none-any.whl.metadata (2.9 kB)\n",
      "Collecting click (from nltk)\n",
      "  Using cached click-8.1.8-py3-none-any.whl.metadata (2.3 kB)\n",
      "Requirement already satisfied: joblib in /home/kathrin/.pyenv/versions/3.10.6/envs/fake_news/lib/python3.10/site-packages (from nltk) (1.4.2)\n",
      "Collecting regex>=2021.8.3 (from nltk)\n",
      "  Using cached regex-2024.11.6-cp310-cp310-manylinux_2_17_x86_64.manylinux2014_x86_64.whl.metadata (40 kB)\n",
      "Collecting tqdm (from nltk)\n",
      "  Using cached tqdm-4.67.1-py3-none-any.whl.metadata (57 kB)\n",
      "Downloading nltk-3.9.1-py3-none-any.whl (1.5 MB)\n",
      "\u001b[2K   \u001b[90m━━━━━━━━━━━━━━━━━━━━━━━━━━━━━━━━━━━━━━━━\u001b[0m \u001b[32m1.5/1.5 MB\u001b[0m \u001b[31m9.8 MB/s\u001b[0m eta \u001b[36m0:00:00\u001b[0m\n",
      "\u001b[?25hUsing cached regex-2024.11.6-cp310-cp310-manylinux_2_17_x86_64.manylinux2014_x86_64.whl (781 kB)\n",
      "Using cached click-8.1.8-py3-none-any.whl (98 kB)\n",
      "Using cached tqdm-4.67.1-py3-none-any.whl (78 kB)\n",
      "Installing collected packages: tqdm, regex, click, nltk\n",
      "Successfully installed click-8.1.8 nltk-3.9.1 regex-2024.11.6 tqdm-4.67.1\n"
     ]
    }
   ],
   "source": [
    "!pip install nltk"
   ]
  },
  {
   "cell_type": "code",
   "execution_count": 82,
   "id": "47fa1557",
   "metadata": {},
   "outputs": [
    {
     "name": "stderr",
     "output_type": "stream",
     "text": [
      "[nltk_data] Downloading package stopwords to\n",
      "[nltk_data]     /home/kathrin/nltk_data...\n",
      "[nltk_data]   Package stopwords is already up-to-date!\n",
      "[nltk_data] Downloading package punkt to /home/kathrin/nltk_data...\n",
      "[nltk_data]   Package punkt is already up-to-date!\n",
      "[nltk_data] Downloading package wordnet to /home/kathrin/nltk_data...\n",
      "[nltk_data]   Package wordnet is already up-to-date!\n",
      "[nltk_data] Downloading package omw-1.4 to /home/kathrin/nltk_data...\n",
      "[nltk_data]   Package omw-1.4 is already up-to-date!\n",
      "[nltk_data] Downloading package punkt_tab to\n",
      "[nltk_data]     /home/kathrin/nltk_data...\n",
      "[nltk_data]   Unzipping tokenizers/punkt_tab.zip.\n"
     ]
    },
    {
     "data": {
      "text/plain": [
       "True"
      ]
     },
     "execution_count": 82,
     "metadata": {},
     "output_type": "execute_result"
    }
   ],
   "source": [
    "import nltk\n",
    "\n",
    "nltk.download('stopwords')\n",
    "nltk.download('punkt')\n",
    "nltk.download('wordnet')\n",
    "nltk.download('omw-1.4')\n",
    "nltk.download('punkt_tab')"
   ]
  },
  {
   "cell_type": "code",
   "execution_count": 83,
   "id": "f308d587",
   "metadata": {},
   "outputs": [],
   "source": [
    "import string\n",
    "from nltk import word_tokenize\n",
    "from nltk.corpus import stopwords"
   ]
  },
  {
   "cell_type": "code",
   "execution_count": 84,
   "id": "966991dd",
   "metadata": {},
   "outputs": [],
   "source": [
    "#strip + lowercase + numbers + punctuation/symbols + tokenizing + removing stopwords\n",
    "def preprocessing(text):\n",
    "\n",
    "    # Removing whitespaces\n",
    "    text = text.strip()\n",
    "    # Lowercasing\n",
    "    text = text.lower()\n",
    "    # Removing numbers\n",
    "    text = ''.join(char for char in text if not char.isdigit())\n",
    "    # Removing punctuation\n",
    "    for punctuation in string.punctuation:\n",
    "        text = text.replace(punctuation, '')\n",
    "    # Tokenizing\n",
    "    tokenized = word_tokenize(text)\n",
    "    # Removing stopwords\n",
    "    stop_words = set(stopwords.words('english')) \n",
    "    without_stopwords = [word for word in tokenized if not word in stop_words]\n",
    "    \n",
    "    return without_stopwords\n"
   ]
  },
  {
   "cell_type": "code",
   "execution_count": 85,
   "id": "4a876cba",
   "metadata": {},
   "outputs": [],
   "source": [
    "data['text'] = data.text.apply(preprocessing)"
   ]
  },
  {
   "cell_type": "code",
   "execution_count": 86,
   "id": "6f0e6f93",
   "metadata": {},
   "outputs": [
    {
     "data": {
      "text/plain": [
       "(11233, 7)"
      ]
     },
     "execution_count": 86,
     "metadata": {},
     "output_type": "execute_result"
    }
   ],
   "source": [
    "data.shape"
   ]
  },
  {
   "cell_type": "code",
   "execution_count": 87,
   "id": "c223e4b9",
   "metadata": {},
   "outputs": [
    {
     "data": {
      "text/html": [
       "<div>\n",
       "<style scoped>\n",
       "    .dataframe tbody tr th:only-of-type {\n",
       "        vertical-align: middle;\n",
       "    }\n",
       "\n",
       "    .dataframe tbody tr th {\n",
       "        vertical-align: top;\n",
       "    }\n",
       "\n",
       "    .dataframe thead th {\n",
       "        text-align: right;\n",
       "    }\n",
       "</style>\n",
       "<table border=\"1\" class=\"dataframe\">\n",
       "  <thead>\n",
       "    <tr style=\"text-align: right;\">\n",
       "      <th></th>\n",
       "      <th>id</th>\n",
       "      <th>text</th>\n",
       "      <th>title</th>\n",
       "      <th>description</th>\n",
       "      <th>fake</th>\n",
       "      <th>text_len</th>\n",
       "      <th>title_len</th>\n",
       "    </tr>\n",
       "  </thead>\n",
       "  <tbody>\n",
       "    <tr>\n",
       "      <th>0</th>\n",
       "      <td>politifact11773</td>\n",
       "      <td>[republican, attacks, transgendered, americans...</td>\n",
       "      <td>Virginia Republican Wants Schools To Check Chi...</td>\n",
       "      <td>Republican attacks on transgendered Americans ...</td>\n",
       "      <td>1</td>\n",
       "      <td>1995</td>\n",
       "      <td>84</td>\n",
       "    </tr>\n",
       "    <tr>\n",
       "      <th>1</th>\n",
       "      <td>politifact13827</td>\n",
       "      <td>[whoopi, goldberg, hot, water, comments, made,...</td>\n",
       "      <td>Whoopi Goldberg: Navy SEAL Widow was “Looking ...</td>\n",
       "      <td>Whoopi Goldberg is in hot water after comments...</td>\n",
       "      <td>1</td>\n",
       "      <td>771</td>\n",
       "      <td>60</td>\n",
       "    </tr>\n",
       "    <tr>\n",
       "      <th>2</th>\n",
       "      <td>politifact13570</td>\n",
       "      <td>[washington, dc, —, former, secret, service, a...</td>\n",
       "      <td>Secret Service Agent Says Obama Is Muslim &amp; Ga...</td>\n",
       "      <td>Washington, DC — A former Secret Service agent...</td>\n",
       "      <td>1</td>\n",
       "      <td>2523</td>\n",
       "      <td>68</td>\n",
       "    </tr>\n",
       "    <tr>\n",
       "      <th>3</th>\n",
       "      <td>politifact14947</td>\n",
       "      <td>[bill, clinton, ’, hitman, confessed, murders,...</td>\n",
       "      <td>Bill Clinton’s Hitman Confesses On His Deathbe...</td>\n",
       "      <td>Bill Clinton’s hitman has confessed to more th...</td>\n",
       "      <td>1</td>\n",
       "      <td>1691</td>\n",
       "      <td>65</td>\n",
       "    </tr>\n",
       "    <tr>\n",
       "      <th>4</th>\n",
       "      <td>politifact14840</td>\n",
       "      <td>[fda, published, conclusive, proof, website, d...</td>\n",
       "      <td>NOW IT’S OFFICIAL: FDA Announced That Vaccines...</td>\n",
       "      <td>The FDA has published conclusive proof on thei...</td>\n",
       "      <td>1</td>\n",
       "      <td>4591</td>\n",
       "      <td>66</td>\n",
       "    </tr>\n",
       "  </tbody>\n",
       "</table>\n",
       "</div>"
      ],
      "text/plain": [
       "                id                                               text  \\\n",
       "0  politifact11773  [republican, attacks, transgendered, americans...   \n",
       "1  politifact13827  [whoopi, goldberg, hot, water, comments, made,...   \n",
       "2  politifact13570  [washington, dc, —, former, secret, service, a...   \n",
       "3  politifact14947  [bill, clinton, ’, hitman, confessed, murders,...   \n",
       "4  politifact14840  [fda, published, conclusive, proof, website, d...   \n",
       "\n",
       "                                               title  \\\n",
       "0  Virginia Republican Wants Schools To Check Chi...   \n",
       "1  Whoopi Goldberg: Navy SEAL Widow was “Looking ...   \n",
       "2  Secret Service Agent Says Obama Is Muslim & Ga...   \n",
       "3  Bill Clinton’s Hitman Confesses On His Deathbe...   \n",
       "4  NOW IT’S OFFICIAL: FDA Announced That Vaccines...   \n",
       "\n",
       "                                         description  fake  text_len  \\\n",
       "0  Republican attacks on transgendered Americans ...     1      1995   \n",
       "1  Whoopi Goldberg is in hot water after comments...     1       771   \n",
       "2  Washington, DC — A former Secret Service agent...     1      2523   \n",
       "3  Bill Clinton’s hitman has confessed to more th...     1      1691   \n",
       "4  The FDA has published conclusive proof on thei...     1      4591   \n",
       "\n",
       "   title_len  \n",
       "0         84  \n",
       "1         60  \n",
       "2         68  \n",
       "3         65  \n",
       "4         66  "
      ]
     },
     "execution_count": 87,
     "metadata": {},
     "output_type": "execute_result"
    }
   ],
   "source": [
    "data.head()"
   ]
  },
  {
   "cell_type": "code",
   "execution_count": null,
   "id": "d63a99ce",
   "metadata": {},
   "outputs": [],
   "source": []
  }
 ],
 "metadata": {
  "kernelspec": {
   "display_name": "Python 3 (ipykernel)",
   "language": "python",
   "name": "python3"
  },
  "language_info": {
   "codemirror_mode": {
    "name": "ipython",
    "version": 3
   },
   "file_extension": ".py",
   "mimetype": "text/x-python",
   "name": "python",
   "nbconvert_exporter": "python",
   "pygments_lexer": "ipython3",
   "version": "3.10.6"
  },
  "toc": {
   "base_numbering": 1,
   "nav_menu": {},
   "number_sections": true,
   "sideBar": true,
   "skip_h1_title": false,
   "title_cell": "Table of Contents",
   "title_sidebar": "Contents",
   "toc_cell": false,
   "toc_position": {},
   "toc_section_display": true,
   "toc_window_display": false
  }
 },
 "nbformat": 4,
 "nbformat_minor": 5
}
