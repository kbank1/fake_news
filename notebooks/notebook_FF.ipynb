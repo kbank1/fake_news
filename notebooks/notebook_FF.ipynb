{
 "cells": [
  {
   "cell_type": "code",
   "execution_count": 1,
   "id": "c8bdd5ab",
   "metadata": {},
   "outputs": [],
   "source": [
    "#Import all the necessary libraries\n",
    "\n",
    "import pandas as pd\n",
    "import numpy as np\n",
    "\n",
    "from sklearn.pipeline import make_pipeline\n",
    "from sklearn.model_selection import train_test_split\n",
    "from sklearn.naive_bayes import MultinomialNB\n",
    "from sklearn.feature_extraction.text import CountVectorizer, TfidfVectorizer\n",
    "\n",
    "import nltk\n",
    "import string\n",
    "from nltk import word_tokenize\n",
    "from nltk.corpus import stopwords\n",
    "\n",
    "from sklearn.metrics import classification_report"
   ]
  },
  {
   "cell_type": "code",
   "execution_count": 2,
   "id": "4587492b",
   "metadata": {},
   "outputs": [],
   "source": [
    "#Load the four JSON files\n",
    "\n",
    "politifact_hf = pd.read_json('../raw_data/politifact_hf.json', orient='index')\n",
    "politifact_hr = pd.read_json('../raw_data/politifact_hr.json', orient='index')\n",
    "\n",
    "gossipcop_hf = pd.read_json('../raw_data/gossipcop_hf.json', orient='index')\n",
    "gossipcop_hr = pd.read_json('../raw_data/gossipcop_hr.json', orient='index')"
   ]
  },
  {
   "cell_type": "code",
   "execution_count": 3,
   "id": "73446e6a",
   "metadata": {},
   "outputs": [],
   "source": [
    "#Add results column\n",
    "\n",
    "politifact_hf[['fake']] = 1\n",
    "politifact_hr[['fake']] = 0\n",
    "\n",
    "gossipcop_hf[['fake']] = 1\n",
    "gossipcop_hr[['fake']] = 0"
   ]
  },
  {
   "cell_type": "code",
   "execution_count": 4,
   "id": "bad021e1",
   "metadata": {},
   "outputs": [
    {
     "data": {
      "text/html": [
       "<div>\n",
       "<style scoped>\n",
       "    .dataframe tbody tr th:only-of-type {\n",
       "        vertical-align: middle;\n",
       "    }\n",
       "\n",
       "    .dataframe tbody tr th {\n",
       "        vertical-align: top;\n",
       "    }\n",
       "\n",
       "    .dataframe thead th {\n",
       "        text-align: right;\n",
       "    }\n",
       "</style>\n",
       "<table border=\"1\" class=\"dataframe\">\n",
       "  <thead>\n",
       "    <tr style=\"text-align: right;\">\n",
       "      <th></th>\n",
       "      <th>id</th>\n",
       "      <th>text</th>\n",
       "      <th>title</th>\n",
       "      <th>description</th>\n",
       "      <th>fake</th>\n",
       "    </tr>\n",
       "  </thead>\n",
       "  <tbody>\n",
       "    <tr>\n",
       "      <th>0</th>\n",
       "      <td>politifact11773</td>\n",
       "      <td>Republican attacks on transgendered Americans ...</td>\n",
       "      <td>Virginia Republican Wants Schools To Check Chi...</td>\n",
       "      <td>Republican attacks on transgendered Americans ...</td>\n",
       "      <td>1</td>\n",
       "    </tr>\n",
       "    <tr>\n",
       "      <th>1</th>\n",
       "      <td>politifact13827</td>\n",
       "      <td>Whoopi Goldberg is in hot water after comments...</td>\n",
       "      <td>Whoopi Goldberg: Navy SEAL Widow was “Looking ...</td>\n",
       "      <td>Whoopi Goldberg is in hot water after comments...</td>\n",
       "      <td>1</td>\n",
       "    </tr>\n",
       "    <tr>\n",
       "      <th>2</th>\n",
       "      <td>politifact13570</td>\n",
       "      <td>Washington, DC — A former Secret Service agent...</td>\n",
       "      <td>Secret Service Agent Says Obama Is Muslim &amp; Ga...</td>\n",
       "      <td>Washington, DC — A former Secret Service agent...</td>\n",
       "      <td>1</td>\n",
       "    </tr>\n",
       "    <tr>\n",
       "      <th>3</th>\n",
       "      <td>politifact14947</td>\n",
       "      <td>Bill Clinton’s hitman has confessed to more th...</td>\n",
       "      <td>Bill Clinton’s Hitman Confesses On His Deathbe...</td>\n",
       "      <td>Bill Clinton’s hitman has confessed to more th...</td>\n",
       "      <td>1</td>\n",
       "    </tr>\n",
       "    <tr>\n",
       "      <th>4</th>\n",
       "      <td>politifact14517</td>\n",
       "      <td>About Trendolizer™\\n\\nTrendolizer™ (patent pen...</td>\n",
       "      <td>UPDATE: Florida Governor Rick Scott Now Listed...</td>\n",
       "      <td>Scott&amp;#8217;s prognosis isn&amp;#8217;t good. (via...</td>\n",
       "      <td>1</td>\n",
       "    </tr>\n",
       "    <tr>\n",
       "      <th>...</th>\n",
       "      <td>...</td>\n",
       "      <td>...</td>\n",
       "      <td>...</td>\n",
       "      <td>...</td>\n",
       "      <td>...</td>\n",
       "    </tr>\n",
       "    <tr>\n",
       "      <th>12538</th>\n",
       "      <td>gossipcop-875489</td>\n",
       "      <td>For free real time breaking news alerts sent s...</td>\n",
       "      <td>The top interior design trends for millennials</td>\n",
       "      <td>From hand-baked clay tiles to LED lights that ...</td>\n",
       "      <td>0</td>\n",
       "    </tr>\n",
       "    <tr>\n",
       "      <th>12539</th>\n",
       "      <td>gossipcop-844263</td>\n",
       "      <td>Gilmore Girls: A Year in the Life made its Net...</td>\n",
       "      <td>Gilmore Girls Video: Lauren Graham, Alexis Ble...</td>\n",
       "      <td>Gilmore Girls: A Year in the Life made its Net...</td>\n",
       "      <td>0</td>\n",
       "    </tr>\n",
       "    <tr>\n",
       "      <th>12540</th>\n",
       "      <td>gossipcop-917467</td>\n",
       "      <td>Why Is It Airing Now?\\n\\nAccording to the exec...</td>\n",
       "      <td>The O.J. Simpson Interview on Fox: Gripping, G...</td>\n",
       "      <td>On Sunday Fox aired “O.J. Simpson: The Lost Co...</td>\n",
       "      <td>0</td>\n",
       "    </tr>\n",
       "    <tr>\n",
       "      <th>12541</th>\n",
       "      <td>gossipcop-924877</td>\n",
       "      <td>Just when you thought this season of Vanderpum...</td>\n",
       "      <td>Kristen Doute and James Kennedy Hooked Up Rumo...</td>\n",
       "      <td>Just when you thought this season of Vanderpum...</td>\n",
       "      <td>0</td>\n",
       "    </tr>\n",
       "    <tr>\n",
       "      <th>12542</th>\n",
       "      <td>gossipcop-897086</td>\n",
       "      <td>A cringeworthy video of Katie Couric talking a...</td>\n",
       "      <td>Katie Couric Once Said Matt Lauer 'Pinches Me ...</td>\n",
       "      <td>Video from 2012 shows the former \"Today\" host ...</td>\n",
       "      <td>0</td>\n",
       "    </tr>\n",
       "  </tbody>\n",
       "</table>\n",
       "<p>12543 rows × 5 columns</p>\n",
       "</div>"
      ],
      "text/plain": [
       "                     id                                               text  \\\n",
       "0       politifact11773  Republican attacks on transgendered Americans ...   \n",
       "1       politifact13827  Whoopi Goldberg is in hot water after comments...   \n",
       "2       politifact13570  Washington, DC — A former Secret Service agent...   \n",
       "3       politifact14947  Bill Clinton’s hitman has confessed to more th...   \n",
       "4       politifact14517  About Trendolizer™\\n\\nTrendolizer™ (patent pen...   \n",
       "...                 ...                                                ...   \n",
       "12538  gossipcop-875489  For free real time breaking news alerts sent s...   \n",
       "12539  gossipcop-844263  Gilmore Girls: A Year in the Life made its Net...   \n",
       "12540  gossipcop-917467  Why Is It Airing Now?\\n\\nAccording to the exec...   \n",
       "12541  gossipcop-924877  Just when you thought this season of Vanderpum...   \n",
       "12542  gossipcop-897086  A cringeworthy video of Katie Couric talking a...   \n",
       "\n",
       "                                                   title  \\\n",
       "0      Virginia Republican Wants Schools To Check Chi...   \n",
       "1      Whoopi Goldberg: Navy SEAL Widow was “Looking ...   \n",
       "2      Secret Service Agent Says Obama Is Muslim & Ga...   \n",
       "3      Bill Clinton’s Hitman Confesses On His Deathbe...   \n",
       "4      UPDATE: Florida Governor Rick Scott Now Listed...   \n",
       "...                                                  ...   \n",
       "12538     The top interior design trends for millennials   \n",
       "12539  Gilmore Girls Video: Lauren Graham, Alexis Ble...   \n",
       "12540  The O.J. Simpson Interview on Fox: Gripping, G...   \n",
       "12541  Kristen Doute and James Kennedy Hooked Up Rumo...   \n",
       "12542  Katie Couric Once Said Matt Lauer 'Pinches Me ...   \n",
       "\n",
       "                                             description  fake  \n",
       "0      Republican attacks on transgendered Americans ...     1  \n",
       "1      Whoopi Goldberg is in hot water after comments...     1  \n",
       "2      Washington, DC — A former Secret Service agent...     1  \n",
       "3      Bill Clinton’s hitman has confessed to more th...     1  \n",
       "4      Scott&#8217;s prognosis isn&#8217;t good. (via...     1  \n",
       "...                                                  ...   ...  \n",
       "12538  From hand-baked clay tiles to LED lights that ...     0  \n",
       "12539  Gilmore Girls: A Year in the Life made its Net...     0  \n",
       "12540  On Sunday Fox aired “O.J. Simpson: The Lost Co...     0  \n",
       "12541  Just when you thought this season of Vanderpum...     0  \n",
       "12542  Video from 2012 shows the former \"Today\" host ...     0  \n",
       "\n",
       "[12543 rows x 5 columns]"
      ]
     },
     "execution_count": 4,
     "metadata": {},
     "output_type": "execute_result"
    }
   ],
   "source": [
    "#Create dataframe\n",
    "\n",
    "files = [politifact_hf, politifact_hr, gossipcop_hf, gossipcop_hr]\n",
    "\n",
    "data = pd.concat(files, ignore_index=True)\n",
    "data"
   ]
  },
  {
   "cell_type": "code",
   "execution_count": 5,
   "id": "b9ee0a83",
   "metadata": {},
   "outputs": [],
   "source": [
    "def remove_duplicates_errors(data: pd.DataFrame) -> pd.DataFrame:\n",
    "    \"\"\"\n",
    "    Clean raw data by\n",
    "    - removing duplicates within fake-category (keep 1)\n",
    "    - removing duplicates across fake-categories (delete both)\n",
    "    - deleting texts that are shorter than their title (error messages, headers etc.)\n",
    "    \"\"\"\n",
    "    # Remove duplicates within fake-category\n",
    "    data =data.drop_duplicates(subset=(\"text\", \"fake\"), keep='first', ignore_index=True)\n",
    "\n",
    "    # Remove duplicates across fake-category\n",
    "    data=data.drop_duplicates(subset=(\"text\"), keep=False, ignore_index=True)\n",
    "\n",
    "    # Delete false texts\n",
    "    data[\"text_len\"] = data['text'].str.len()\n",
    "    data[\"title_len\"]=data['title'].str.len()\n",
    "    data=data[data[\"text_len\"]>=data[\"title_len\"]]\n",
    "\n",
    "    return data"
   ]
  },
  {
   "cell_type": "code",
   "execution_count": 6,
   "id": "ee2d77d9",
   "metadata": {},
   "outputs": [
    {
     "data": {
      "text/plain": [
       "(11233, 7)"
      ]
     },
     "execution_count": 6,
     "metadata": {},
     "output_type": "execute_result"
    }
   ],
   "source": [
    "data = remove_duplicates_errors(data)\n",
    "data.shape"
   ]
  },
  {
   "cell_type": "code",
   "execution_count": 7,
   "id": "b7d8a32f",
   "metadata": {},
   "outputs": [
    {
     "data": {
      "text/plain": [
       "(3500, 7)"
      ]
     },
     "execution_count": 7,
     "metadata": {},
     "output_type": "execute_result"
    }
   ],
   "source": [
    "true = data[data['fake'] == 0].sample(n=3500)\n",
    "true.shape"
   ]
  },
  {
   "cell_type": "code",
   "execution_count": 8,
   "id": "87d57857",
   "metadata": {},
   "outputs": [
    {
     "data": {
      "text/plain": [
       "(3500, 7)"
      ]
     },
     "execution_count": 8,
     "metadata": {},
     "output_type": "execute_result"
    }
   ],
   "source": [
    "false = data[data['fake'] == 1].sample(n=3500)\n",
    "false.shape"
   ]
  },
  {
   "cell_type": "code",
   "execution_count": 9,
   "id": "5d4aa901",
   "metadata": {},
   "outputs": [
    {
     "data": {
      "text/plain": [
       "(7000, 7)"
      ]
     },
     "execution_count": 9,
     "metadata": {},
     "output_type": "execute_result"
    }
   ],
   "source": [
    "files = [true, false]\n",
    "\n",
    "data = pd.concat(files, ignore_index=True)\n",
    "data.shape"
   ]
  },
  {
   "cell_type": "code",
   "execution_count": 10,
   "id": "f4fe689a",
   "metadata": {},
   "outputs": [],
   "source": [
    "#nltk.download('stopwords')\n",
    "#nltk.download('punkt')\n",
    "#nltk.download('wordnet')\n",
    "#nltk.download('omw-1.4')\n",
    "#nltk.download('punkt_tab')"
   ]
  },
  {
   "cell_type": "code",
   "execution_count": 11,
   "id": "9ed7725d",
   "metadata": {},
   "outputs": [],
   "source": [
    "def preprocessing(text):\n",
    "\n",
    "    # Removing whitespaces\n",
    "    text = text.strip()\n",
    "    # Lowercasing\n",
    "    text = text.lower()\n",
    "    # Removing numbers\n",
    "    text = ''.join(char for char in text if not char.isdigit())\n",
    "    # Removing punctuation\n",
    "    for punctuation in string.punctuation:\n",
    "        text = text.replace(punctuation, '')\n",
    "    # Tokenizing\n",
    "    tokenized = word_tokenize(text)\n",
    "    \n",
    "    # Removing stopwords\n",
    "    stop_words = set(stopwords.words('english')) \n",
    "    without_stopwords = [word for word in tokenized if not word in stop_words]\n",
    "    \n",
    "    cleaned_sentence = \" \".join(without_stopwords)\n",
    "    \n",
    "    return cleaned_sentence"
   ]
  },
  {
   "cell_type": "code",
   "execution_count": 12,
   "id": "ef49e54a",
   "metadata": {},
   "outputs": [],
   "source": [
    "#X = data.text.apply(preprocessing)"
   ]
  },
  {
   "cell_type": "code",
   "execution_count": 13,
   "id": "773a294f",
   "metadata": {},
   "outputs": [],
   "source": [
    "# Split the dataframe into features and target\n",
    "\n",
    "X = data['text']\n",
    "y = data['fake']"
   ]
  },
  {
   "cell_type": "code",
   "execution_count": 14,
   "id": "72f7e5d3",
   "metadata": {},
   "outputs": [
    {
     "data": {
      "text/plain": [
       "0    0.5\n",
       "1    0.5\n",
       "Name: fake, dtype: float64"
      ]
     },
     "execution_count": 14,
     "metadata": {},
     "output_type": "execute_result"
    }
   ],
   "source": [
    "# Check the balance of the dataset\n",
    "\n",
    "round(y.value_counts(normalize = True), 2)"
   ]
  },
  {
   "cell_type": "code",
   "execution_count": 15,
   "id": "9d7f5508",
   "metadata": {},
   "outputs": [],
   "source": [
    "# Create a train/test split\n",
    "\n",
    "X_train, X_test, y_train, y_test = train_test_split(X, y, test_size = 0.20, random_state=0)"
   ]
  },
  {
   "cell_type": "code",
   "execution_count": 16,
   "id": "c486ee46",
   "metadata": {},
   "outputs": [
    {
     "data": {
      "text/html": [
       "<style>#sk-container-id-1 {color: black;}#sk-container-id-1 pre{padding: 0;}#sk-container-id-1 div.sk-toggleable {background-color: white;}#sk-container-id-1 label.sk-toggleable__label {cursor: pointer;display: block;width: 100%;margin-bottom: 0;padding: 0.3em;box-sizing: border-box;text-align: center;}#sk-container-id-1 label.sk-toggleable__label-arrow:before {content: \"▸\";float: left;margin-right: 0.25em;color: #696969;}#sk-container-id-1 label.sk-toggleable__label-arrow:hover:before {color: black;}#sk-container-id-1 div.sk-estimator:hover label.sk-toggleable__label-arrow:before {color: black;}#sk-container-id-1 div.sk-toggleable__content {max-height: 0;max-width: 0;overflow: hidden;text-align: left;background-color: #f0f8ff;}#sk-container-id-1 div.sk-toggleable__content pre {margin: 0.2em;color: black;border-radius: 0.25em;background-color: #f0f8ff;}#sk-container-id-1 input.sk-toggleable__control:checked~div.sk-toggleable__content {max-height: 200px;max-width: 100%;overflow: auto;}#sk-container-id-1 input.sk-toggleable__control:checked~label.sk-toggleable__label-arrow:before {content: \"▾\";}#sk-container-id-1 div.sk-estimator input.sk-toggleable__control:checked~label.sk-toggleable__label {background-color: #d4ebff;}#sk-container-id-1 div.sk-label input.sk-toggleable__control:checked~label.sk-toggleable__label {background-color: #d4ebff;}#sk-container-id-1 input.sk-hidden--visually {border: 0;clip: rect(1px 1px 1px 1px);clip: rect(1px, 1px, 1px, 1px);height: 1px;margin: -1px;overflow: hidden;padding: 0;position: absolute;width: 1px;}#sk-container-id-1 div.sk-estimator {font-family: monospace;background-color: #f0f8ff;border: 1px dotted black;border-radius: 0.25em;box-sizing: border-box;margin-bottom: 0.5em;}#sk-container-id-1 div.sk-estimator:hover {background-color: #d4ebff;}#sk-container-id-1 div.sk-parallel-item::after {content: \"\";width: 100%;border-bottom: 1px solid gray;flex-grow: 1;}#sk-container-id-1 div.sk-label:hover label.sk-toggleable__label {background-color: #d4ebff;}#sk-container-id-1 div.sk-serial::before {content: \"\";position: absolute;border-left: 1px solid gray;box-sizing: border-box;top: 0;bottom: 0;left: 50%;z-index: 0;}#sk-container-id-1 div.sk-serial {display: flex;flex-direction: column;align-items: center;background-color: white;padding-right: 0.2em;padding-left: 0.2em;position: relative;}#sk-container-id-1 div.sk-item {position: relative;z-index: 1;}#sk-container-id-1 div.sk-parallel {display: flex;align-items: stretch;justify-content: center;background-color: white;position: relative;}#sk-container-id-1 div.sk-item::before, #sk-container-id-1 div.sk-parallel-item::before {content: \"\";position: absolute;border-left: 1px solid gray;box-sizing: border-box;top: 0;bottom: 0;left: 50%;z-index: -1;}#sk-container-id-1 div.sk-parallel-item {display: flex;flex-direction: column;z-index: 1;position: relative;background-color: white;}#sk-container-id-1 div.sk-parallel-item:first-child::after {align-self: flex-end;width: 50%;}#sk-container-id-1 div.sk-parallel-item:last-child::after {align-self: flex-start;width: 50%;}#sk-container-id-1 div.sk-parallel-item:only-child::after {width: 0;}#sk-container-id-1 div.sk-dashed-wrapped {border: 1px dashed gray;margin: 0 0.4em 0.5em 0.4em;box-sizing: border-box;padding-bottom: 0.4em;background-color: white;}#sk-container-id-1 div.sk-label label {font-family: monospace;font-weight: bold;display: inline-block;line-height: 1.2em;}#sk-container-id-1 div.sk-label-container {text-align: center;}#sk-container-id-1 div.sk-container {/* jupyter's `normalize.less` sets `[hidden] { display: none; }` but bootstrap.min.css set `[hidden] { display: none !important; }` so we also need the `!important` here to be able to override the default hidden behavior on the sphinx rendered scikit-learn.org. See: https://github.com/scikit-learn/scikit-learn/issues/21755 */display: inline-block !important;position: relative;}#sk-container-id-1 div.sk-text-repr-fallback {display: none;}</style><div id=\"sk-container-id-1\" class=\"sk-top-container\"><div class=\"sk-text-repr-fallback\"><pre>Pipeline(steps=[(&#x27;countvectorizer&#x27;, CountVectorizer()),\n",
       "                (&#x27;multinomialnb&#x27;, MultinomialNB())])</pre><b>In a Jupyter environment, please rerun this cell to show the HTML representation or trust the notebook. <br />On GitHub, the HTML representation is unable to render, please try loading this page with nbviewer.org.</b></div><div class=\"sk-container\" hidden><div class=\"sk-item sk-dashed-wrapped\"><div class=\"sk-label-container\"><div class=\"sk-label sk-toggleable\"><input class=\"sk-toggleable__control sk-hidden--visually\" id=\"sk-estimator-id-1\" type=\"checkbox\" ><label for=\"sk-estimator-id-1\" class=\"sk-toggleable__label sk-toggleable__label-arrow\">Pipeline</label><div class=\"sk-toggleable__content\"><pre>Pipeline(steps=[(&#x27;countvectorizer&#x27;, CountVectorizer()),\n",
       "                (&#x27;multinomialnb&#x27;, MultinomialNB())])</pre></div></div></div><div class=\"sk-serial\"><div class=\"sk-item\"><div class=\"sk-estimator sk-toggleable\"><input class=\"sk-toggleable__control sk-hidden--visually\" id=\"sk-estimator-id-2\" type=\"checkbox\" ><label for=\"sk-estimator-id-2\" class=\"sk-toggleable__label sk-toggleable__label-arrow\">CountVectorizer</label><div class=\"sk-toggleable__content\"><pre>CountVectorizer()</pre></div></div></div><div class=\"sk-item\"><div class=\"sk-estimator sk-toggleable\"><input class=\"sk-toggleable__control sk-hidden--visually\" id=\"sk-estimator-id-3\" type=\"checkbox\" ><label for=\"sk-estimator-id-3\" class=\"sk-toggleable__label sk-toggleable__label-arrow\">MultinomialNB</label><div class=\"sk-toggleable__content\"><pre>MultinomialNB()</pre></div></div></div></div></div></div></div>"
      ],
      "text/plain": [
       "Pipeline(steps=[('countvectorizer', CountVectorizer()),\n",
       "                ('multinomialnb', MultinomialNB())])"
      ]
     },
     "execution_count": 16,
     "metadata": {},
     "output_type": "execute_result"
    }
   ],
   "source": [
    "# Create the model pipeline\n",
    "\n",
    "pipe = make_pipeline(CountVectorizer(), MultinomialNB())\n",
    "pipe"
   ]
  },
  {
   "cell_type": "code",
   "execution_count": 17,
   "id": "72638607",
   "metadata": {},
   "outputs": [
    {
     "data": {
      "text/plain": [
       "0.7685714285714286"
      ]
     },
     "execution_count": 17,
     "metadata": {},
     "output_type": "execute_result"
    }
   ],
   "source": [
    "# Train the pipeline and score\n",
    "\n",
    "pipe.fit(X_train, y_train)\n",
    "\n",
    "pipe.score(X_test, y_test)"
   ]
  },
  {
   "cell_type": "code",
   "execution_count": 18,
   "id": "540a7efe",
   "metadata": {},
   "outputs": [
    {
     "data": {
      "text/plain": [
       "{'0': {'precision': 0.7813953488372093,\n",
       "  'recall': 0.7336244541484717,\n",
       "  'f1-score': 0.7567567567567567,\n",
       "  'support': 687.0},\n",
       " '1': {'precision': 0.7576158940397351,\n",
       "  'recall': 0.8022440392706872,\n",
       "  'f1-score': 0.7792915531335151,\n",
       "  'support': 713.0},\n",
       " 'accuracy': 0.7685714285714286,\n",
       " 'macro avg': {'precision': 0.7695056214384721,\n",
       "  'recall': 0.7679342467095794,\n",
       "  'f1-score': 0.7680241549451359,\n",
       "  'support': 1400.0},\n",
       " 'weighted avg': {'precision': 0.7692848122153529,\n",
       "  'recall': 0.7685714285714286,\n",
       "  'f1-score': 0.7682334066257772,\n",
       "  'support': 1400.0}}"
      ]
     },
     "execution_count": 18,
     "metadata": {},
     "output_type": "execute_result"
    }
   ],
   "source": [
    "y_pred = pipe.predict(X_test)\n",
    "\n",
    "classification_report(y_test, y_pred, output_dict=True)"
   ]
  }
 ],
 "metadata": {
  "kernelspec": {
   "display_name": "Python 3 (ipykernel)",
   "language": "python",
   "name": "python3"
  },
  "language_info": {
   "codemirror_mode": {
    "name": "ipython",
    "version": 3
   },
   "file_extension": ".py",
   "mimetype": "text/x-python",
   "name": "python",
   "nbconvert_exporter": "python",
   "pygments_lexer": "ipython3",
   "version": "3.10.6"
  },
  "toc": {
   "base_numbering": 1,
   "nav_menu": {},
   "number_sections": true,
   "sideBar": true,
   "skip_h1_title": false,
   "title_cell": "Table of Contents",
   "title_sidebar": "Contents",
   "toc_cell": false,
   "toc_position": {},
   "toc_section_display": true,
   "toc_window_display": false
  }
 },
 "nbformat": 4,
 "nbformat_minor": 5
}
