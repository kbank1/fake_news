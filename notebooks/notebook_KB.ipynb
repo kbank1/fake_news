{
 "cells": [
  {
   "cell_type": "code",
   "execution_count": 1,
   "id": "31167258",
   "metadata": {},
   "outputs": [],
   "source": [
    "#Import all the necessary libraries\n",
    "\n",
    "import pandas as pd\n",
    "import numpy as np\n",
    "\n",
    "from sklearn.pipeline import make_pipeline\n",
    "from sklearn.model_selection import train_test_split\n",
    "from sklearn.naive_bayes import MultinomialNB\n",
    "from sklearn.feature_extraction.text import CountVectorizer, TfidfVectorizer\n",
    "\n",
    "import nltk\n",
    "import string\n",
    "from nltk import word_tokenize\n",
    "from nltk.corpus import stopwords\n",
    "\n",
    "from sklearn.metrics import classification_report"
   ]
  },
  {
   "cell_type": "markdown",
   "id": "99e2e6cc",
   "metadata": {},
   "source": [
    "# Data Fake News Detection (Fakenewsnet)"
   ]
  },
  {
   "cell_type": "markdown",
   "id": "bf00afed",
   "metadata": {},
   "source": [
    "## Import & basic cleaning"
   ]
  },
  {
   "cell_type": "markdown",
   "id": "27e8db8d",
   "metadata": {},
   "source": [
    "### Import Data"
   ]
  },
  {
   "cell_type": "code",
   "execution_count": 2,
   "id": "c7bc0614",
   "metadata": {
    "collapsed": true
   },
   "outputs": [
    {
     "data": {
      "text/html": [
       "<div>\n",
       "<style scoped>\n",
       "    .dataframe tbody tr th:only-of-type {\n",
       "        vertical-align: middle;\n",
       "    }\n",
       "\n",
       "    .dataframe tbody tr th {\n",
       "        vertical-align: top;\n",
       "    }\n",
       "\n",
       "    .dataframe thead th {\n",
       "        text-align: right;\n",
       "    }\n",
       "</style>\n",
       "<table border=\"1\" class=\"dataframe\">\n",
       "  <thead>\n",
       "    <tr style=\"text-align: right;\">\n",
       "      <th></th>\n",
       "      <th>id</th>\n",
       "      <th>text</th>\n",
       "      <th>title</th>\n",
       "      <th>description</th>\n",
       "    </tr>\n",
       "  </thead>\n",
       "  <tbody>\n",
       "    <tr>\n",
       "      <th>0</th>\n",
       "      <td>politifact8769</td>\n",
       "      <td>The award-winning, nonpartisan intel you can t...</td>\n",
       "      <td>Legislative Tracking Software</td>\n",
       "      <td>Track federal legislation with expert policy a...</td>\n",
       "    </tr>\n",
       "    <tr>\n",
       "      <th>1</th>\n",
       "      <td>politifact12052</td>\n",
       "      <td>At the CNN debate in Miami, GOP candidates spa...</td>\n",
       "      <td>The CNN Miami Republican debate transcript, an...</td>\n",
       "      <td>Washington Post reporters add insight and anal...</td>\n",
       "    </tr>\n",
       "    <tr>\n",
       "      <th>2</th>\n",
       "      <td>politifact4858</td>\n",
       "      <td>It’s that time of year again – white elephant ...</td>\n",
       "      <td>Mitt v Mitt</td>\n",
       "      <td>Yup, Mitt vs Mitt aja. Rame!</td>\n",
       "    </tr>\n",
       "    <tr>\n",
       "      <th>3</th>\n",
       "      <td>politifact10945</td>\n",
       "      <td>Thank you! Oh, thank you all! Thank you so ver...</td>\n",
       "      <td>Hillary Clinton Transcript: Read Full Text of ...</td>\n",
       "      <td>Hillary Clinton held the first major rally of ...</td>\n",
       "    </tr>\n",
       "    <tr>\n",
       "      <th>4</th>\n",
       "      <td>politifact14511</td>\n",
       "      <td>Maddow on Trump indictment: 'He knew it was wr...</td>\n",
       "      <td>'Discriminatory animus': Trump sued on DACA</td>\n",
       "      <td>New York Attorney General Eric Schneiderman ta...</td>\n",
       "    </tr>\n",
       "  </tbody>\n",
       "</table>\n",
       "</div>"
      ],
      "text/plain": [
       "                id                                               text  \\\n",
       "0   politifact8769  The award-winning, nonpartisan intel you can t...   \n",
       "1  politifact12052  At the CNN debate in Miami, GOP candidates spa...   \n",
       "2   politifact4858  It’s that time of year again – white elephant ...   \n",
       "3  politifact10945  Thank you! Oh, thank you all! Thank you so ver...   \n",
       "4  politifact14511  Maddow on Trump indictment: 'He knew it was wr...   \n",
       "\n",
       "                                               title  \\\n",
       "0                      Legislative Tracking Software   \n",
       "1  The CNN Miami Republican debate transcript, an...   \n",
       "2                                        Mitt v Mitt   \n",
       "3  Hillary Clinton Transcript: Read Full Text of ...   \n",
       "4        'Discriminatory animus': Trump sued on DACA   \n",
       "\n",
       "                                         description  \n",
       "0  Track federal legislation with expert policy a...  \n",
       "1  Washington Post reporters add insight and anal...  \n",
       "2                       Yup, Mitt vs Mitt aja. Rame!  \n",
       "3  Hillary Clinton held the first major rally of ...  \n",
       "4  New York Attorney General Eric Schneiderman ta...  "
      ]
     },
     "execution_count": 2,
     "metadata": {},
     "output_type": "execute_result"
    }
   ],
   "source": [
    "pol_real=pd.read_json(\"/home/kathrin/code/kbank1/fake_news/raw_data/politifact_HR.json\", orient='index')\n",
    "pol_real.head()"
   ]
  },
  {
   "cell_type": "code",
   "execution_count": 3,
   "id": "63a6618d",
   "metadata": {
    "collapsed": true
   },
   "outputs": [
    {
     "data": {
      "text/html": [
       "<div>\n",
       "<style scoped>\n",
       "    .dataframe tbody tr th:only-of-type {\n",
       "        vertical-align: middle;\n",
       "    }\n",
       "\n",
       "    .dataframe tbody tr th {\n",
       "        vertical-align: top;\n",
       "    }\n",
       "\n",
       "    .dataframe thead th {\n",
       "        text-align: right;\n",
       "    }\n",
       "</style>\n",
       "<table border=\"1\" class=\"dataframe\">\n",
       "  <thead>\n",
       "    <tr style=\"text-align: right;\">\n",
       "      <th></th>\n",
       "      <th>id</th>\n",
       "      <th>text</th>\n",
       "      <th>title</th>\n",
       "      <th>description</th>\n",
       "    </tr>\n",
       "  </thead>\n",
       "  <tbody>\n",
       "    <tr>\n",
       "      <th>0</th>\n",
       "      <td>politifact11773</td>\n",
       "      <td>Republican attacks on transgendered Americans ...</td>\n",
       "      <td>Virginia Republican Wants Schools To Check Chi...</td>\n",
       "      <td>Republican attacks on transgendered Americans ...</td>\n",
       "    </tr>\n",
       "    <tr>\n",
       "      <th>1</th>\n",
       "      <td>politifact13827</td>\n",
       "      <td>Whoopi Goldberg is in hot water after comments...</td>\n",
       "      <td>Whoopi Goldberg: Navy SEAL Widow was “Looking ...</td>\n",
       "      <td>Whoopi Goldberg is in hot water after comments...</td>\n",
       "    </tr>\n",
       "    <tr>\n",
       "      <th>2</th>\n",
       "      <td>politifact13570</td>\n",
       "      <td>Washington, DC — A former Secret Service agent...</td>\n",
       "      <td>Secret Service Agent Says Obama Is Muslim &amp; Ga...</td>\n",
       "      <td>Washington, DC — A former Secret Service agent...</td>\n",
       "    </tr>\n",
       "    <tr>\n",
       "      <th>3</th>\n",
       "      <td>politifact14947</td>\n",
       "      <td>Bill Clinton’s hitman has confessed to more th...</td>\n",
       "      <td>Bill Clinton’s Hitman Confesses On His Deathbe...</td>\n",
       "      <td>Bill Clinton’s hitman has confessed to more th...</td>\n",
       "    </tr>\n",
       "    <tr>\n",
       "      <th>4</th>\n",
       "      <td>politifact14517</td>\n",
       "      <td>About Trendolizer™\\n\\nTrendolizer™ (patent pen...</td>\n",
       "      <td>UPDATE: Florida Governor Rick Scott Now Listed...</td>\n",
       "      <td>Scott&amp;#8217;s prognosis isn&amp;#8217;t good. (via...</td>\n",
       "    </tr>\n",
       "  </tbody>\n",
       "</table>\n",
       "</div>"
      ],
      "text/plain": [
       "                id                                               text  \\\n",
       "0  politifact11773  Republican attacks on transgendered Americans ...   \n",
       "1  politifact13827  Whoopi Goldberg is in hot water after comments...   \n",
       "2  politifact13570  Washington, DC — A former Secret Service agent...   \n",
       "3  politifact14947  Bill Clinton’s hitman has confessed to more th...   \n",
       "4  politifact14517  About Trendolizer™\\n\\nTrendolizer™ (patent pen...   \n",
       "\n",
       "                                               title  \\\n",
       "0  Virginia Republican Wants Schools To Check Chi...   \n",
       "1  Whoopi Goldberg: Navy SEAL Widow was “Looking ...   \n",
       "2  Secret Service Agent Says Obama Is Muslim & Ga...   \n",
       "3  Bill Clinton’s Hitman Confesses On His Deathbe...   \n",
       "4  UPDATE: Florida Governor Rick Scott Now Listed...   \n",
       "\n",
       "                                         description  \n",
       "0  Republican attacks on transgendered Americans ...  \n",
       "1  Whoopi Goldberg is in hot water after comments...  \n",
       "2  Washington, DC — A former Secret Service agent...  \n",
       "3  Bill Clinton’s hitman has confessed to more th...  \n",
       "4  Scott&#8217;s prognosis isn&#8217;t good. (via...  "
      ]
     },
     "execution_count": 3,
     "metadata": {},
     "output_type": "execute_result"
    }
   ],
   "source": [
    "pol_fake=pd.read_json(\"/home/kathrin/code/kbank1/fake_news/raw_data/politifact_HF.json\", orient='index')\n",
    "pol_fake.head()"
   ]
  },
  {
   "cell_type": "code",
   "execution_count": 4,
   "id": "9b06dd4e",
   "metadata": {
    "collapsed": true
   },
   "outputs": [
    {
     "data": {
      "text/html": [
       "<div>\n",
       "<style scoped>\n",
       "    .dataframe tbody tr th:only-of-type {\n",
       "        vertical-align: middle;\n",
       "    }\n",
       "\n",
       "    .dataframe tbody tr th {\n",
       "        vertical-align: top;\n",
       "    }\n",
       "\n",
       "    .dataframe thead th {\n",
       "        text-align: right;\n",
       "    }\n",
       "</style>\n",
       "<table border=\"1\" class=\"dataframe\">\n",
       "  <thead>\n",
       "    <tr style=\"text-align: right;\">\n",
       "      <th></th>\n",
       "      <th>id</th>\n",
       "      <th>text</th>\n",
       "      <th>title</th>\n",
       "      <th>description</th>\n",
       "    </tr>\n",
       "  </thead>\n",
       "  <tbody>\n",
       "    <tr>\n",
       "      <th>0</th>\n",
       "      <td>gossipcop-1991455469</td>\n",
       "      <td>✕ Close Meghan Markle and Prince Harry have an...</td>\n",
       "      <td>As it happened: Prince Harry and Meghan Markle...</td>\n",
       "      <td>The wedding will take place in spring 2018</td>\n",
       "    </tr>\n",
       "    <tr>\n",
       "      <th>1</th>\n",
       "      <td>gossipcop-7798039260</td>\n",
       "      <td>Kim Kardashian and Kanye West are pulling out ...</td>\n",
       "      <td>Kim &amp; Kanye Install At-Home Panic Room After P...</td>\n",
       "      <td>'Keeping the kids safe is the couples number o...</td>\n",
       "    </tr>\n",
       "    <tr>\n",
       "      <th>2</th>\n",
       "      <td>gossipcop-7817725290</td>\n",
       "      <td>Prince Harry and Meghan currently live at Kens...</td>\n",
       "      <td>£1.4million spent renovating Prince Harry and ...</td>\n",
       "      <td>Prince Harry and Meghan might not be living in...</td>\n",
       "    </tr>\n",
       "    <tr>\n",
       "      <th>3</th>\n",
       "      <td>gossipcop-5111151830</td>\n",
       "      <td>They can't get enough of the Biebs on this sho...</td>\n",
       "      <td>Photos from Dancing With the Stars: Special Gu...</td>\n",
       "      <td>Photos from Dancing With the Stars: Special Gu...</td>\n",
       "    </tr>\n",
       "    <tr>\n",
       "      <th>4</th>\n",
       "      <td>gossipcop-9658632569</td>\n",
       "      <td>Ben Affleck is keeping life with his three kid...</td>\n",
       "      <td>Jennifer Garner ‘Doesn’t Want’ Her Kids Around...</td>\n",
       "      <td>Jennifer Garner ‘doesn’t want’ her three kids ...</td>\n",
       "    </tr>\n",
       "  </tbody>\n",
       "</table>\n",
       "</div>"
      ],
      "text/plain": [
       "                     id                                               text  \\\n",
       "0  gossipcop-1991455469  ✕ Close Meghan Markle and Prince Harry have an...   \n",
       "1  gossipcop-7798039260  Kim Kardashian and Kanye West are pulling out ...   \n",
       "2  gossipcop-7817725290  Prince Harry and Meghan currently live at Kens...   \n",
       "3  gossipcop-5111151830  They can't get enough of the Biebs on this sho...   \n",
       "4  gossipcop-9658632569  Ben Affleck is keeping life with his three kid...   \n",
       "\n",
       "                                               title  \\\n",
       "0  As it happened: Prince Harry and Meghan Markle...   \n",
       "1  Kim & Kanye Install At-Home Panic Room After P...   \n",
       "2  £1.4million spent renovating Prince Harry and ...   \n",
       "3  Photos from Dancing With the Stars: Special Gu...   \n",
       "4  Jennifer Garner ‘Doesn’t Want’ Her Kids Around...   \n",
       "\n",
       "                                         description  \n",
       "0         The wedding will take place in spring 2018  \n",
       "1  'Keeping the kids safe is the couples number o...  \n",
       "2  Prince Harry and Meghan might not be living in...  \n",
       "3  Photos from Dancing With the Stars: Special Gu...  \n",
       "4  Jennifer Garner ‘doesn’t want’ her three kids ...  "
      ]
     },
     "execution_count": 4,
     "metadata": {},
     "output_type": "execute_result"
    }
   ],
   "source": [
    "gossip_fake=pd.read_json(\"/home/kathrin/code/kbank1/fake_news/raw_data/gossip_HF.json\", orient='index')\n",
    "gossip_fake.head()"
   ]
  },
  {
   "cell_type": "code",
   "execution_count": 5,
   "id": "6ee0d3a5",
   "metadata": {
    "collapsed": true
   },
   "outputs": [
    {
     "data": {
      "text/html": [
       "<div>\n",
       "<style scoped>\n",
       "    .dataframe tbody tr th:only-of-type {\n",
       "        vertical-align: middle;\n",
       "    }\n",
       "\n",
       "    .dataframe tbody tr th {\n",
       "        vertical-align: top;\n",
       "    }\n",
       "\n",
       "    .dataframe thead th {\n",
       "        text-align: right;\n",
       "    }\n",
       "</style>\n",
       "<table border=\"1\" class=\"dataframe\">\n",
       "  <thead>\n",
       "    <tr style=\"text-align: right;\">\n",
       "      <th></th>\n",
       "      <th>id</th>\n",
       "      <th>text</th>\n",
       "      <th>title</th>\n",
       "      <th>description</th>\n",
       "    </tr>\n",
       "  </thead>\n",
       "  <tbody>\n",
       "    <tr>\n",
       "      <th>0</th>\n",
       "      <td>gossipcop-951329</td>\n",
       "      <td>11 Summer Camp Movies That'll Make You Nostalg...</td>\n",
       "      <td>11 Summer Camp Movies That'll Make You Nostalg...</td>\n",
       "      <td>Nothing says summer like watching a movie all ...</td>\n",
       "    </tr>\n",
       "    <tr>\n",
       "      <th>1</th>\n",
       "      <td>gossipcop-861360</td>\n",
       "      <td>Info Category: Richest Business › Executives N...</td>\n",
       "      <td>Charrisse Jackson Jordan Net Worth</td>\n",
       "      <td>What is Charrisse Jackson Jordan's net worth?</td>\n",
       "    </tr>\n",
       "    <tr>\n",
       "      <th>2</th>\n",
       "      <td>gossipcop-911046</td>\n",
       "      <td>Warning: This story contains major spoilers fr...</td>\n",
       "      <td>Raúl Esparza exits Law &amp; Order: SVU after six ...</td>\n",
       "      <td>The actor reveals why he decided to leave the ...</td>\n",
       "    </tr>\n",
       "    <tr>\n",
       "      <th>3</th>\n",
       "      <td>gossipcop-899120</td>\n",
       "      <td>Lil Peep died of an overdose of fentanyl and g...</td>\n",
       "      <td>Lil Peep Cause of Death Revealed</td>\n",
       "      <td>Pima County Office of the Medical Examiner con...</td>\n",
       "    </tr>\n",
       "    <tr>\n",
       "      <th>4</th>\n",
       "      <td>gossipcop-919455</td>\n",
       "      <td>Goop is kicking off its weekly podcast in a bi...</td>\n",
       "      <td>Gwyneth Paltrow, Oprah talk Weinstein, #MeToo’...</td>\n",
       "      <td>Goop is kicking off its weekly podcast in a bi...</td>\n",
       "    </tr>\n",
       "  </tbody>\n",
       "</table>\n",
       "</div>"
      ],
      "text/plain": [
       "                 id                                               text  \\\n",
       "0  gossipcop-951329  11 Summer Camp Movies That'll Make You Nostalg...   \n",
       "1  gossipcop-861360  Info Category: Richest Business › Executives N...   \n",
       "2  gossipcop-911046  Warning: This story contains major spoilers fr...   \n",
       "3  gossipcop-899120  Lil Peep died of an overdose of fentanyl and g...   \n",
       "4  gossipcop-919455  Goop is kicking off its weekly podcast in a bi...   \n",
       "\n",
       "                                               title  \\\n",
       "0  11 Summer Camp Movies That'll Make You Nostalg...   \n",
       "1                 Charrisse Jackson Jordan Net Worth   \n",
       "2  Raúl Esparza exits Law & Order: SVU after six ...   \n",
       "3                   Lil Peep Cause of Death Revealed   \n",
       "4  Gwyneth Paltrow, Oprah talk Weinstein, #MeToo’...   \n",
       "\n",
       "                                         description  \n",
       "0  Nothing says summer like watching a movie all ...  \n",
       "1      What is Charrisse Jackson Jordan's net worth?  \n",
       "2  The actor reveals why he decided to leave the ...  \n",
       "3  Pima County Office of the Medical Examiner con...  \n",
       "4  Goop is kicking off its weekly podcast in a bi...  "
      ]
     },
     "execution_count": 5,
     "metadata": {},
     "output_type": "execute_result"
    }
   ],
   "source": [
    "gossip_real=pd.read_json(\"/home/kathrin/code/kbank1/fake_news/raw_data/gossip_HR.json\", orient='index')\n",
    "gossip_real.head()"
   ]
  },
  {
   "cell_type": "markdown",
   "id": "c9afa54d",
   "metadata": {},
   "source": [
    "### Concat Data"
   ]
  },
  {
   "cell_type": "code",
   "execution_count": 6,
   "id": "c7d5e75d",
   "metadata": {},
   "outputs": [
    {
     "name": "stdout",
     "output_type": "stream",
     "text": [
      "(194, 4)\n",
      "(97, 4)\n",
      "(8168, 4)\n",
      "(4084, 4)\n"
     ]
    }
   ],
   "source": [
    "print(pol_real.shape)\n",
    "print(pol_fake.shape)\n",
    "print(gossip_real.shape)\n",
    "print(gossip_fake.shape)"
   ]
  },
  {
   "cell_type": "code",
   "execution_count": 7,
   "id": "ee247ea2",
   "metadata": {},
   "outputs": [],
   "source": [
    "pol_real[\"fake\"]=0\n",
    "pol_fake[\"fake\"]=1\n",
    "gossip_real[\"fake\"]=0\n",
    "gossip_fake[\"fake\"]=1"
   ]
  },
  {
   "cell_type": "code",
   "execution_count": 8,
   "id": "46618d37",
   "metadata": {},
   "outputs": [],
   "source": [
    "data=pd.concat((pol_fake, pol_real, gossip_fake, gossip_real),axis=0, ignore_index=True)"
   ]
  },
  {
   "cell_type": "code",
   "execution_count": 9,
   "id": "7d96a6bd",
   "metadata": {},
   "outputs": [
    {
     "data": {
      "text/plain": [
       "(12543, 5)"
      ]
     },
     "execution_count": 9,
     "metadata": {},
     "output_type": "execute_result"
    }
   ],
   "source": [
    "data.shape"
   ]
  },
  {
   "cell_type": "code",
   "execution_count": 10,
   "id": "260c6345",
   "metadata": {
    "collapsed": true
   },
   "outputs": [
    {
     "data": {
      "text/html": [
       "<div>\n",
       "<style scoped>\n",
       "    .dataframe tbody tr th:only-of-type {\n",
       "        vertical-align: middle;\n",
       "    }\n",
       "\n",
       "    .dataframe tbody tr th {\n",
       "        vertical-align: top;\n",
       "    }\n",
       "\n",
       "    .dataframe thead th {\n",
       "        text-align: right;\n",
       "    }\n",
       "</style>\n",
       "<table border=\"1\" class=\"dataframe\">\n",
       "  <thead>\n",
       "    <tr style=\"text-align: right;\">\n",
       "      <th></th>\n",
       "      <th>id</th>\n",
       "      <th>text</th>\n",
       "      <th>title</th>\n",
       "      <th>description</th>\n",
       "      <th>fake</th>\n",
       "    </tr>\n",
       "  </thead>\n",
       "  <tbody>\n",
       "    <tr>\n",
       "      <th>0</th>\n",
       "      <td>politifact11773</td>\n",
       "      <td>Republican attacks on transgendered Americans ...</td>\n",
       "      <td>Virginia Republican Wants Schools To Check Chi...</td>\n",
       "      <td>Republican attacks on transgendered Americans ...</td>\n",
       "      <td>1</td>\n",
       "    </tr>\n",
       "    <tr>\n",
       "      <th>1</th>\n",
       "      <td>politifact13827</td>\n",
       "      <td>Whoopi Goldberg is in hot water after comments...</td>\n",
       "      <td>Whoopi Goldberg: Navy SEAL Widow was “Looking ...</td>\n",
       "      <td>Whoopi Goldberg is in hot water after comments...</td>\n",
       "      <td>1</td>\n",
       "    </tr>\n",
       "    <tr>\n",
       "      <th>2</th>\n",
       "      <td>politifact13570</td>\n",
       "      <td>Washington, DC — A former Secret Service agent...</td>\n",
       "      <td>Secret Service Agent Says Obama Is Muslim &amp; Ga...</td>\n",
       "      <td>Washington, DC — A former Secret Service agent...</td>\n",
       "      <td>1</td>\n",
       "    </tr>\n",
       "    <tr>\n",
       "      <th>3</th>\n",
       "      <td>politifact14947</td>\n",
       "      <td>Bill Clinton’s hitman has confessed to more th...</td>\n",
       "      <td>Bill Clinton’s Hitman Confesses On His Deathbe...</td>\n",
       "      <td>Bill Clinton’s hitman has confessed to more th...</td>\n",
       "      <td>1</td>\n",
       "    </tr>\n",
       "    <tr>\n",
       "      <th>4</th>\n",
       "      <td>politifact14517</td>\n",
       "      <td>About Trendolizer™\\n\\nTrendolizer™ (patent pen...</td>\n",
       "      <td>UPDATE: Florida Governor Rick Scott Now Listed...</td>\n",
       "      <td>Scott&amp;#8217;s prognosis isn&amp;#8217;t good. (via...</td>\n",
       "      <td>1</td>\n",
       "    </tr>\n",
       "  </tbody>\n",
       "</table>\n",
       "</div>"
      ],
      "text/plain": [
       "                id                                               text  \\\n",
       "0  politifact11773  Republican attacks on transgendered Americans ...   \n",
       "1  politifact13827  Whoopi Goldberg is in hot water after comments...   \n",
       "2  politifact13570  Washington, DC — A former Secret Service agent...   \n",
       "3  politifact14947  Bill Clinton’s hitman has confessed to more th...   \n",
       "4  politifact14517  About Trendolizer™\\n\\nTrendolizer™ (patent pen...   \n",
       "\n",
       "                                               title  \\\n",
       "0  Virginia Republican Wants Schools To Check Chi...   \n",
       "1  Whoopi Goldberg: Navy SEAL Widow was “Looking ...   \n",
       "2  Secret Service Agent Says Obama Is Muslim & Ga...   \n",
       "3  Bill Clinton’s Hitman Confesses On His Deathbe...   \n",
       "4  UPDATE: Florida Governor Rick Scott Now Listed...   \n",
       "\n",
       "                                         description  fake  \n",
       "0  Republican attacks on transgendered Americans ...     1  \n",
       "1  Whoopi Goldberg is in hot water after comments...     1  \n",
       "2  Washington, DC — A former Secret Service agent...     1  \n",
       "3  Bill Clinton’s hitman has confessed to more th...     1  \n",
       "4  Scott&#8217;s prognosis isn&#8217;t good. (via...     1  "
      ]
     },
     "execution_count": 10,
     "metadata": {},
     "output_type": "execute_result"
    }
   ],
   "source": [
    "data.head()"
   ]
  },
  {
   "cell_type": "code",
   "execution_count": 11,
   "id": "5ee4e455",
   "metadata": {},
   "outputs": [
    {
     "data": {
      "text/plain": [
       "fake\n",
       "0    8362\n",
       "1    4181\n",
       "Name: count, dtype: int64"
      ]
     },
     "execution_count": 11,
     "metadata": {},
     "output_type": "execute_result"
    }
   ],
   "source": [
    "data[\"fake\"].value_counts()"
   ]
  },
  {
   "cell_type": "markdown",
   "id": "b4d7c15f",
   "metadata": {},
   "source": [
    "### Check for duplicates and missing values, remove duplicate texts"
   ]
  },
  {
   "cell_type": "code",
   "execution_count": 12,
   "id": "41e09b67",
   "metadata": {
    "scrolled": true
   },
   "outputs": [
    {
     "data": {
      "text/html": [
       "<div>\n",
       "<style scoped>\n",
       "    .dataframe tbody tr th:only-of-type {\n",
       "        vertical-align: middle;\n",
       "    }\n",
       "\n",
       "    .dataframe tbody tr th {\n",
       "        vertical-align: top;\n",
       "    }\n",
       "\n",
       "    .dataframe thead th {\n",
       "        text-align: right;\n",
       "    }\n",
       "</style>\n",
       "<table border=\"1\" class=\"dataframe\">\n",
       "  <thead>\n",
       "    <tr style=\"text-align: right;\">\n",
       "      <th></th>\n",
       "      <th>id</th>\n",
       "      <th>text</th>\n",
       "      <th>title</th>\n",
       "      <th>description</th>\n",
       "      <th>fake</th>\n",
       "    </tr>\n",
       "  </thead>\n",
       "  <tbody>\n",
       "  </tbody>\n",
       "</table>\n",
       "</div>"
      ],
      "text/plain": [
       "Empty DataFrame\n",
       "Columns: [id, text, title, description, fake]\n",
       "Index: []"
      ]
     },
     "execution_count": 12,
     "metadata": {},
     "output_type": "execute_result"
    }
   ],
   "source": [
    "data[data.duplicated()]"
   ]
  },
  {
   "cell_type": "code",
   "execution_count": 13,
   "id": "371fa56f",
   "metadata": {
    "collapsed": true
   },
   "outputs": [
    {
     "name": "stdout",
     "output_type": "stream",
     "text": [
      "<class 'pandas.core.frame.DataFrame'>\n",
      "RangeIndex: 12543 entries, 0 to 12542\n",
      "Data columns (total 5 columns):\n",
      " #   Column       Non-Null Count  Dtype \n",
      "---  ------       --------------  ----- \n",
      " 0   id           12543 non-null  object\n",
      " 1   text         12543 non-null  object\n",
      " 2   title        12543 non-null  object\n",
      " 3   description  12543 non-null  object\n",
      " 4   fake         12543 non-null  int64 \n",
      "dtypes: int64(1), object(4)\n",
      "memory usage: 490.1+ KB\n"
     ]
    }
   ],
   "source": [
    "data.info()"
   ]
  },
  {
   "cell_type": "markdown",
   "id": "8753d867",
   "metadata": {},
   "source": [
    "#### Delete duplicates from within fake/real categories (keep 1)"
   ]
  },
  {
   "cell_type": "code",
   "execution_count": 14,
   "id": "48703c6d",
   "metadata": {
    "collapsed": true
   },
   "outputs": [
    {
     "data": {
      "text/html": [
       "<div>\n",
       "<style scoped>\n",
       "    .dataframe tbody tr th:only-of-type {\n",
       "        vertical-align: middle;\n",
       "    }\n",
       "\n",
       "    .dataframe tbody tr th {\n",
       "        vertical-align: top;\n",
       "    }\n",
       "\n",
       "    .dataframe thead th {\n",
       "        text-align: right;\n",
       "    }\n",
       "</style>\n",
       "<table border=\"1\" class=\"dataframe\">\n",
       "  <thead>\n",
       "    <tr style=\"text-align: right;\">\n",
       "      <th></th>\n",
       "      <th>id</th>\n",
       "      <th>text</th>\n",
       "      <th>title</th>\n",
       "      <th>description</th>\n",
       "      <th>fake</th>\n",
       "    </tr>\n",
       "  </thead>\n",
       "  <tbody>\n",
       "    <tr>\n",
       "      <th>20</th>\n",
       "      <td>politifact14490</td>\n",
       "      <td>About Trendolizer™\\n\\nTrendolizer™ (patent pen...</td>\n",
       "      <td>BREAKING NEWS: Prince William and Harry donate...</td>\n",
       "      <td>Hurricane Harvey has devastated communities ac...</td>\n",
       "      <td>1</td>\n",
       "    </tr>\n",
       "    <tr>\n",
       "      <th>23</th>\n",
       "      <td>politifact14859</td>\n",
       "      <td>About Trendolizer™\\n\\nTrendolizer™ (patent pen...</td>\n",
       "      <td>Alabama State Police Arrest 3 Poll Workers In ...</td>\n",
       "      <td>Alabama State Police have arrested three women...</td>\n",
       "      <td>1</td>\n",
       "    </tr>\n",
       "    <tr>\n",
       "      <th>75</th>\n",
       "      <td>politifact13816</td>\n",
       "      <td>The Bodybuilding community has long coveted th...</td>\n",
       "      <td>Historical blog about Seattle, as well as the ...</td>\n",
       "      <td>Tribune</td>\n",
       "      <td>1</td>\n",
       "    </tr>\n",
       "    <tr>\n",
       "      <th>94</th>\n",
       "      <td>politifact15419</td>\n",
       "      <td>Yes, you can transfer your domain to any regis...</td>\n",
       "      <td>JumboReport.com is for sale</td>\n",
       "      <td>Shop a wide selection of domains at HugeDomain...</td>\n",
       "      <td>1</td>\n",
       "    </tr>\n",
       "    <tr>\n",
       "      <th>108</th>\n",
       "      <td>politifact4411</td>\n",
       "      <td>The award-winning, nonpartisan intel you can t...</td>\n",
       "      <td>Legislative Tracking Software</td>\n",
       "      <td>Track federal legislation with expert policy a...</td>\n",
       "      <td>0</td>\n",
       "    </tr>\n",
       "    <tr>\n",
       "      <th>...</th>\n",
       "      <td>...</td>\n",
       "      <td>...</td>\n",
       "      <td>...</td>\n",
       "      <td>...</td>\n",
       "      <td>...</td>\n",
       "    </tr>\n",
       "    <tr>\n",
       "      <th>12502</th>\n",
       "      <td>gossipcop-846427</td>\n",
       "      <td>Or sign in with one of these services</td>\n",
       "      <td>The Awards and Nominations Thread</td>\n",
       "      <td>Quote\\n\\t\\n\\n\\t\\n\\t\\t\\n\\t\\t\\tHe[ Sam] is way b...</td>\n",
       "      <td>0</td>\n",
       "    </tr>\n",
       "    <tr>\n",
       "      <th>12508</th>\n",
       "      <td>gossipcop-898681</td>\n",
       "      <td>Unbothered\\n\\nI Anglicized My Name For My Care...</td>\n",
       "      <td>Dax Shepard Raising Daughters Empowered, Feminist</td>\n",
       "      <td>The \"CHiPs\" star insists it's not that hard.</td>\n",
       "      <td>0</td>\n",
       "    </tr>\n",
       "    <tr>\n",
       "      <th>12518</th>\n",
       "      <td>gossipcop-944231</td>\n",
       "      <td>My name is Nwando Kate (Kartia) Onyeka. I am a...</td>\n",
       "      <td>Why Frances McDormand’s Green Pantsuit and Fur...</td>\n",
       "      <td>my style by katia</td>\n",
       "      <td>0</td>\n",
       "    </tr>\n",
       "    <tr>\n",
       "      <th>12526</th>\n",
       "      <td>gossipcop-882057</td>\n",
       "      <td>It's hard to believe, but \"The Bachelor\" and i...</td>\n",
       "      <td>Here are all the couples from 'The Bachelor' a...</td>\n",
       "      <td>It's hard to believe, but there have been 34 s...</td>\n",
       "      <td>0</td>\n",
       "    </tr>\n",
       "    <tr>\n",
       "      <th>12537</th>\n",
       "      <td>gossipcop-861230</td>\n",
       "      <td>Unbothered\\n\\nTwo Men Convicted For The 1965 A...</td>\n",
       "      <td>Karrueche Tran Chris Brown Permanent Restraini...</td>\n",
       "      <td>She says she fears for her safety due to her e...</td>\n",
       "      <td>0</td>\n",
       "    </tr>\n",
       "  </tbody>\n",
       "</table>\n",
       "<p>1098 rows × 5 columns</p>\n",
       "</div>"
      ],
      "text/plain": [
       "                     id                                               text  \\\n",
       "20      politifact14490  About Trendolizer™\\n\\nTrendolizer™ (patent pen...   \n",
       "23      politifact14859  About Trendolizer™\\n\\nTrendolizer™ (patent pen...   \n",
       "75      politifact13816  The Bodybuilding community has long coveted th...   \n",
       "94      politifact15419  Yes, you can transfer your domain to any regis...   \n",
       "108      politifact4411  The award-winning, nonpartisan intel you can t...   \n",
       "...                 ...                                                ...   \n",
       "12502  gossipcop-846427              Or sign in with one of these services   \n",
       "12508  gossipcop-898681  Unbothered\\n\\nI Anglicized My Name For My Care...   \n",
       "12518  gossipcop-944231  My name is Nwando Kate (Kartia) Onyeka. I am a...   \n",
       "12526  gossipcop-882057  It's hard to believe, but \"The Bachelor\" and i...   \n",
       "12537  gossipcop-861230  Unbothered\\n\\nTwo Men Convicted For The 1965 A...   \n",
       "\n",
       "                                                   title  \\\n",
       "20     BREAKING NEWS: Prince William and Harry donate...   \n",
       "23     Alabama State Police Arrest 3 Poll Workers In ...   \n",
       "75     Historical blog about Seattle, as well as the ...   \n",
       "94                           JumboReport.com is for sale   \n",
       "108                        Legislative Tracking Software   \n",
       "...                                                  ...   \n",
       "12502                  The Awards and Nominations Thread   \n",
       "12508  Dax Shepard Raising Daughters Empowered, Feminist   \n",
       "12518  Why Frances McDormand’s Green Pantsuit and Fur...   \n",
       "12526  Here are all the couples from 'The Bachelor' a...   \n",
       "12537  Karrueche Tran Chris Brown Permanent Restraini...   \n",
       "\n",
       "                                             description  fake  \n",
       "20     Hurricane Harvey has devastated communities ac...     1  \n",
       "23     Alabama State Police have arrested three women...     1  \n",
       "75                                               Tribune     1  \n",
       "94     Shop a wide selection of domains at HugeDomain...     1  \n",
       "108    Track federal legislation with expert policy a...     0  \n",
       "...                                                  ...   ...  \n",
       "12502  Quote\\n\\t\\n\\n\\t\\n\\t\\t\\n\\t\\t\\tHe[ Sam] is way b...     0  \n",
       "12508       The \"CHiPs\" star insists it's not that hard.     0  \n",
       "12518                                  my style by katia     0  \n",
       "12526  It's hard to believe, but there have been 34 s...     0  \n",
       "12537  She says she fears for her safety due to her e...     0  \n",
       "\n",
       "[1098 rows x 5 columns]"
      ]
     },
     "execution_count": 14,
     "metadata": {},
     "output_type": "execute_result"
    }
   ],
   "source": [
    "data[data.duplicated(subset=(\"text\", \"fake\"))]"
   ]
  },
  {
   "cell_type": "code",
   "execution_count": 15,
   "id": "6cba0372",
   "metadata": {},
   "outputs": [],
   "source": [
    "data=data.drop_duplicates(subset=(\"text\", \"fake\"), keep='first', ignore_index=True)"
   ]
  },
  {
   "cell_type": "code",
   "execution_count": 16,
   "id": "09eab40f",
   "metadata": {},
   "outputs": [
    {
     "data": {
      "text/plain": [
       "(11445, 5)"
      ]
     },
     "execution_count": 16,
     "metadata": {},
     "output_type": "execute_result"
    }
   ],
   "source": [
    "data.shape"
   ]
  },
  {
   "cell_type": "code",
   "execution_count": 17,
   "id": "1d29b085",
   "metadata": {
    "scrolled": true
   },
   "outputs": [
    {
     "data": {
      "text/plain": [
       "fake\n",
       "0    7764\n",
       "1    3681\n",
       "Name: count, dtype: int64"
      ]
     },
     "execution_count": 17,
     "metadata": {},
     "output_type": "execute_result"
    }
   ],
   "source": [
    "data[\"fake\"].value_counts()"
   ]
  },
  {
   "cell_type": "markdown",
   "id": "618df0fb",
   "metadata": {},
   "source": [
    "#### Delete duplicates from within fake/real categories (delete both)"
   ]
  },
  {
   "cell_type": "code",
   "execution_count": 18,
   "id": "3d4f6504",
   "metadata": {
    "collapsed": true
   },
   "outputs": [
    {
     "data": {
      "text/html": [
       "<div>\n",
       "<style scoped>\n",
       "    .dataframe tbody tr th:only-of-type {\n",
       "        vertical-align: middle;\n",
       "    }\n",
       "\n",
       "    .dataframe tbody tr th {\n",
       "        vertical-align: top;\n",
       "    }\n",
       "\n",
       "    .dataframe thead th {\n",
       "        text-align: right;\n",
       "    }\n",
       "</style>\n",
       "<table border=\"1\" class=\"dataframe\">\n",
       "  <thead>\n",
       "    <tr style=\"text-align: right;\">\n",
       "      <th></th>\n",
       "      <th>id</th>\n",
       "      <th>text</th>\n",
       "      <th>title</th>\n",
       "      <th>description</th>\n",
       "      <th>fake</th>\n",
       "    </tr>\n",
       "  </thead>\n",
       "  <tbody>\n",
       "    <tr>\n",
       "      <th>219</th>\n",
       "      <td>politifact14940</td>\n",
       "      <td>It is for that reason that I rise today, to ta...</td>\n",
       "      <td>Full text: Jeff Flake on Trump speech transcript</td>\n",
       "      <td>Sen. Flake delivered the speech to the Senate ...</td>\n",
       "      <td>0</td>\n",
       "    </tr>\n",
       "    <tr>\n",
       "      <th>3890</th>\n",
       "      <td>gossipcop-921150</td>\n",
       "      <td>Yes, you can transfer your domain to any regis...</td>\n",
       "      <td>WuShack.com is for sale</td>\n",
       "      <td>Customer service is our #1 priority. Get a pre...</td>\n",
       "      <td>0</td>\n",
       "    </tr>\n",
       "    <tr>\n",
       "      <th>3896</th>\n",
       "      <td>gossipcop-892835</td>\n",
       "      <td>Melanie “Mel B” Brown and husband Stephen Bela...</td>\n",
       "      <td>Mel B and Estranged Husband Stephen Belafonte ...</td>\n",
       "      <td>Melanie \"Mel B\" Brown and husband Stephen Bela...</td>\n",
       "      <td>0</td>\n",
       "    </tr>\n",
       "    <tr>\n",
       "      <th>3905</th>\n",
       "      <td>gossipcop-859786</td>\n",
       "      <td>Sunday marked a big night for “Hello, Dolly!” ...</td>\n",
       "      <td>Tony Awards 2017: Complete Winners List</td>\n",
       "      <td>Sunday marked a big night for “Hello, Dolly!” ...</td>\n",
       "      <td>0</td>\n",
       "    </tr>\n",
       "    <tr>\n",
       "      <th>3945</th>\n",
       "      <td>gossipcop-896317</td>\n",
       "      <td>By clicking Subscribe, you confirm that you ha...</td>\n",
       "      <td>WINNER - BEST NEW - Image 1 from Soul Train Aw...</td>\n",
       "      <td>Check out the Soul Train Awards winners.</td>\n",
       "      <td>0</td>\n",
       "    </tr>\n",
       "    <tr>\n",
       "      <th>...</th>\n",
       "      <td>...</td>\n",
       "      <td>...</td>\n",
       "      <td>...</td>\n",
       "      <td>...</td>\n",
       "      <td>...</td>\n",
       "    </tr>\n",
       "    <tr>\n",
       "      <th>10709</th>\n",
       "      <td>gossipcop-869945</td>\n",
       "      <td>George Clooney is one proud papa! The Academy ...</td>\n",
       "      <td>George Clooney Shows Off Pics of His Twins, Jo...</td>\n",
       "      <td>George Clooney showed off pics of his twins wi...</td>\n",
       "      <td>0</td>\n",
       "    </tr>\n",
       "    <tr>\n",
       "      <th>10867</th>\n",
       "      <td>gossipcop-858455</td>\n",
       "      <td>For those wondering how much Taylor Swift is s...</td>\n",
       "      <td>How Taylor Swift and Joe Alwyn's Private Roman...</td>\n",
       "      <td>A rare status update, in case you were concerned.</td>\n",
       "      <td>0</td>\n",
       "    </tr>\n",
       "    <tr>\n",
       "      <th>11041</th>\n",
       "      <td>gossipcop-940492</td>\n",
       "      <td>Speaking her truth. Nicole Kidman opened up ab...</td>\n",
       "      <td>Nicole Kidman Had Two Miscarriages During Tom ...</td>\n",
       "      <td>Nicole Kidman reflected on her relationship wi...</td>\n",
       "      <td>0</td>\n",
       "    </tr>\n",
       "    <tr>\n",
       "      <th>11085</th>\n",
       "      <td>gossipcop-866892</td>\n",
       "      <td>DWTS judge and actress Julianne Hough married ...</td>\n",
       "      <td>Julianne Hough Wedding: Derek Hough on Sister ...</td>\n",
       "      <td>The DWTS star served as a groomsman in his sis...</td>\n",
       "      <td>0</td>\n",
       "    </tr>\n",
       "    <tr>\n",
       "      <th>11382</th>\n",
       "      <td>gossipcop-896770</td>\n",
       "      <td>The 2018 Grammys, the 60th installment of the ...</td>\n",
       "      <td>Grammy winners 2018: the complete list</td>\n",
       "      <td>Bruno Mars was the night’s biggest winner, tak...</td>\n",
       "      <td>0</td>\n",
       "    </tr>\n",
       "  </tbody>\n",
       "</table>\n",
       "<p>95 rows × 5 columns</p>\n",
       "</div>"
      ],
      "text/plain": [
       "                     id                                               text  \\\n",
       "219     politifact14940  It is for that reason that I rise today, to ta...   \n",
       "3890   gossipcop-921150  Yes, you can transfer your domain to any regis...   \n",
       "3896   gossipcop-892835  Melanie “Mel B” Brown and husband Stephen Bela...   \n",
       "3905   gossipcop-859786  Sunday marked a big night for “Hello, Dolly!” ...   \n",
       "3945   gossipcop-896317  By clicking Subscribe, you confirm that you ha...   \n",
       "...                 ...                                                ...   \n",
       "10709  gossipcop-869945  George Clooney is one proud papa! The Academy ...   \n",
       "10867  gossipcop-858455  For those wondering how much Taylor Swift is s...   \n",
       "11041  gossipcop-940492  Speaking her truth. Nicole Kidman opened up ab...   \n",
       "11085  gossipcop-866892  DWTS judge and actress Julianne Hough married ...   \n",
       "11382  gossipcop-896770  The 2018 Grammys, the 60th installment of the ...   \n",
       "\n",
       "                                                   title  \\\n",
       "219     Full text: Jeff Flake on Trump speech transcript   \n",
       "3890                             WuShack.com is for sale   \n",
       "3896   Mel B and Estranged Husband Stephen Belafonte ...   \n",
       "3905             Tony Awards 2017: Complete Winners List   \n",
       "3945   WINNER - BEST NEW - Image 1 from Soul Train Aw...   \n",
       "...                                                  ...   \n",
       "10709  George Clooney Shows Off Pics of His Twins, Jo...   \n",
       "10867  How Taylor Swift and Joe Alwyn's Private Roman...   \n",
       "11041  Nicole Kidman Had Two Miscarriages During Tom ...   \n",
       "11085  Julianne Hough Wedding: Derek Hough on Sister ...   \n",
       "11382             Grammy winners 2018: the complete list   \n",
       "\n",
       "                                             description  fake  \n",
       "219    Sen. Flake delivered the speech to the Senate ...     0  \n",
       "3890   Customer service is our #1 priority. Get a pre...     0  \n",
       "3896   Melanie \"Mel B\" Brown and husband Stephen Bela...     0  \n",
       "3905   Sunday marked a big night for “Hello, Dolly!” ...     0  \n",
       "3945            Check out the Soul Train Awards winners.     0  \n",
       "...                                                  ...   ...  \n",
       "10709  George Clooney showed off pics of his twins wi...     0  \n",
       "10867  A rare status update, in case you were concerned.     0  \n",
       "11041  Nicole Kidman reflected on her relationship wi...     0  \n",
       "11085  The DWTS star served as a groomsman in his sis...     0  \n",
       "11382  Bruno Mars was the night’s biggest winner, tak...     0  \n",
       "\n",
       "[95 rows x 5 columns]"
      ]
     },
     "execution_count": 18,
     "metadata": {},
     "output_type": "execute_result"
    }
   ],
   "source": [
    "data[data.duplicated(subset=(\"text\"))]"
   ]
  },
  {
   "cell_type": "code",
   "execution_count": 19,
   "id": "4d68a681",
   "metadata": {},
   "outputs": [],
   "source": [
    "data=data.drop_duplicates(subset=(\"text\"), keep=False, ignore_index=True)"
   ]
  },
  {
   "cell_type": "code",
   "execution_count": 20,
   "id": "604bca5a",
   "metadata": {},
   "outputs": [
    {
     "data": {
      "text/plain": [
       "(11255, 5)"
      ]
     },
     "execution_count": 20,
     "metadata": {},
     "output_type": "execute_result"
    }
   ],
   "source": [
    "data.shape"
   ]
  },
  {
   "cell_type": "code",
   "execution_count": 21,
   "id": "acfb8935",
   "metadata": {},
   "outputs": [
    {
     "data": {
      "text/plain": [
       "fake\n",
       "0    7669\n",
       "1    3586\n",
       "Name: count, dtype: int64"
      ]
     },
     "execution_count": 21,
     "metadata": {},
     "output_type": "execute_result"
    }
   ],
   "source": [
    "data[\"fake\"].value_counts()"
   ]
  },
  {
   "cell_type": "markdown",
   "id": "ef26b12a",
   "metadata": {},
   "source": [
    "### Check for invalid texts, remove invalid texts"
   ]
  },
  {
   "cell_type": "code",
   "execution_count": 22,
   "id": "d931ce40",
   "metadata": {},
   "outputs": [],
   "source": [
    "data[\"text_len\"] = data['text'].str.len()\n",
    "data[\"title_len\"]=data['title'].str.len()"
   ]
  },
  {
   "cell_type": "code",
   "execution_count": 23,
   "id": "75980b88",
   "metadata": {
    "scrolled": false
   },
   "outputs": [
    {
     "data": {
      "text/plain": [
       "(22, 7)"
      ]
     },
     "execution_count": 23,
     "metadata": {},
     "output_type": "execute_result"
    }
   ],
   "source": [
    "data[data[\"text_len\"]<data[\"title_len\"]].shape"
   ]
  },
  {
   "cell_type": "code",
   "execution_count": 24,
   "id": "9c9c68f8",
   "metadata": {
    "collapsed": true
   },
   "outputs": [
    {
     "data": {
      "text/html": [
       "<div>\n",
       "<style scoped>\n",
       "    .dataframe tbody tr th:only-of-type {\n",
       "        vertical-align: middle;\n",
       "    }\n",
       "\n",
       "    .dataframe tbody tr th {\n",
       "        vertical-align: top;\n",
       "    }\n",
       "\n",
       "    .dataframe thead th {\n",
       "        text-align: right;\n",
       "    }\n",
       "</style>\n",
       "<table border=\"1\" class=\"dataframe\">\n",
       "  <thead>\n",
       "    <tr style=\"text-align: right;\">\n",
       "      <th></th>\n",
       "      <th>id</th>\n",
       "      <th>text</th>\n",
       "      <th>title</th>\n",
       "      <th>description</th>\n",
       "      <th>fake</th>\n",
       "      <th>text_len</th>\n",
       "      <th>title_len</th>\n",
       "    </tr>\n",
       "  </thead>\n",
       "  <tbody>\n",
       "    <tr>\n",
       "      <th>40</th>\n",
       "      <td>politifact14794</td>\n",
       "      <td>ARE YOU READY? GET IT NOW!\\n\\nIncrease more th...</td>\n",
       "      <td>Singer Tina Turner: “This Thanksgiving Is The ...</td>\n",
       "      <td>Actress Tina Turner: “This Thanksgiving Is The...</td>\n",
       "      <td>1</td>\n",
       "      <td>134</td>\n",
       "      <td>200</td>\n",
       "    </tr>\n",
       "    <tr>\n",
       "      <th>131</th>\n",
       "      <td>politifact14225</td>\n",
       "      <td>Log in to comment on videos and join in on the...</td>\n",
       "      <td>Ivanka Trump: Father feels 'vindicated' after ...</td>\n",
       "      <td>The president's daughter weighs in</td>\n",
       "      <td>0</td>\n",
       "      <td>51</td>\n",
       "      <td>59</td>\n",
       "    </tr>\n",
       "    <tr>\n",
       "      <th>1304</th>\n",
       "      <td>gossipcop-5832684435</td>\n",
       "      <td>Passengers 'infuriated' by dad's behaviour on ...</td>\n",
       "      <td>Parenting - Latest news headlines in Australia...</td>\n",
       "      <td>Check out how-to tips, news and advice on ever...</td>\n",
       "      <td>1</td>\n",
       "      <td>102</td>\n",
       "      <td>115</td>\n",
       "    </tr>\n",
       "    <tr>\n",
       "      <th>1314</th>\n",
       "      <td>gossipcop-7938752346</td>\n",
       "      <td>Is this Zendaya's new boyfriend?</td>\n",
       "      <td>Is this Lady Gaga's new boyfriend?</td>\n",
       "      <td>She's been seen getting close to Christian Carino</td>\n",
       "      <td>1</td>\n",
       "      <td>32</td>\n",
       "      <td>34</td>\n",
       "    </tr>\n",
       "    <tr>\n",
       "      <th>1475</th>\n",
       "      <td>gossipcop-7134675583</td>\n",
       "      <td>Up Next 'Transformers: Rise of the Beasts' Fin...</td>\n",
       "      <td>Ellen DeGeneres and Portia De Rossi Rock Coord...</td>\n",
       "      <td>The lovebirds stepped out on Sunday in Los Ang...</td>\n",
       "      <td>1</td>\n",
       "      <td>56</td>\n",
       "      <td>92</td>\n",
       "    </tr>\n",
       "    <tr>\n",
       "      <th>1671</th>\n",
       "      <td>gossipcop-6751025589</td>\n",
       "      <td>UFOmania - the truth is out there</td>\n",
       "      <td>Beyoncé Caught Shapeshifting In Front Of Celeb...</td>\n",
       "      <td>Beyoncé’s legions of fans were dealt a devasta...</td>\n",
       "      <td>1</td>\n",
       "      <td>33</td>\n",
       "      <td>75</td>\n",
       "    </tr>\n",
       "    <tr>\n",
       "      <th>1759</th>\n",
       "      <td>gossipcop-9755892564</td>\n",
       "      <td>Up Next 'Average Joe' Official Trailer (Exclus...</td>\n",
       "      <td>Kim Kardashian Reveals Her Limit on Kids With ...</td>\n",
       "      <td>The reality star opened up about her family li...</td>\n",
       "      <td>1</td>\n",
       "      <td>50</td>\n",
       "      <td>56</td>\n",
       "    </tr>\n",
       "    <tr>\n",
       "      <th>1948</th>\n",
       "      <td>gossipcop-6250034139</td>\n",
       "      <td>The Ultimate Source\\n\\nFor all the best News f...</td>\n",
       "      <td>Jennifer Aniston showing off “Revenge Body” fo...</td>\n",
       "      <td>﻿\\r\\nJennifer Aniston showing off “Revenge Bod...</td>\n",
       "      <td>1</td>\n",
       "      <td>62</td>\n",
       "      <td>73</td>\n",
       "    </tr>\n",
       "    <tr>\n",
       "      <th>2202</th>\n",
       "      <td>gossipcop-3836977114</td>\n",
       "      <td>Might watch this just for Jennifer Lawrence.</td>\n",
       "      <td>Jennifer Lawrence Looks Terrified (But Still H...</td>\n",
       "      <td>Might watch this just for Jennifer Lawrence.</td>\n",
       "      <td>1</td>\n",
       "      <td>44</td>\n",
       "      <td>74</td>\n",
       "    </tr>\n",
       "    <tr>\n",
       "      <th>2266</th>\n",
       "      <td>gossipcop-6630473431</td>\n",
       "      <td>Up Next Shawn Mendes and Camila Cabello Show O...</td>\n",
       "      <td>Jessica Biel Was Shocked By the Pressure to Lo...</td>\n",
       "      <td>The actress and her business partner, Saundra ...</td>\n",
       "      <td>1</td>\n",
       "      <td>59</td>\n",
       "      <td>74</td>\n",
       "    </tr>\n",
       "    <tr>\n",
       "      <th>3313</th>\n",
       "      <td>gossipcop-8306634484</td>\n",
       "      <td>6\\n\\nWhen She Did This in Public and Solidifie...</td>\n",
       "      <td>Warning: These Sexy Gigi Hadid Moments Will Le...</td>\n",
       "      <td>Just in case you forgot that Gigi Hadid is one...</td>\n",
       "      <td>1</td>\n",
       "      <td>82</td>\n",
       "      <td>83</td>\n",
       "    </tr>\n",
       "    <tr>\n",
       "      <th>4041</th>\n",
       "      <td>gossipcop-936991</td>\n",
       "      <td>Sign up for our daily newsletter HERE!</td>\n",
       "      <td>Photobombs to teary eyes: All the viral moment...</td>\n",
       "      <td>Photobombs to teary eyes: All the viral moment...</td>\n",
       "      <td>0</td>\n",
       "      <td>38</td>\n",
       "      <td>71</td>\n",
       "    </tr>\n",
       "    <tr>\n",
       "      <th>4921</th>\n",
       "      <td>gossipcop-901135</td>\n",
       "      <td>El Poder en Ti</td>\n",
       "      <td>Khloe Kardashian Covers Her Baby Bump With Bab...</td>\n",
       "      <td>These cute cousins look like they're filled wi...</td>\n",
       "      <td>0</td>\n",
       "      <td>14</td>\n",
       "      <td>97</td>\n",
       "    </tr>\n",
       "    <tr>\n",
       "      <th>5119</th>\n",
       "      <td>gossipcop-875225</td>\n",
       "      <td>Stars step out in Los Angeles for the network’...</td>\n",
       "      <td>MTV Video Music Awards 2017: Red Carpet Arriva...</td>\n",
       "      <td>Stars step out in Los Angeles for the network'...</td>\n",
       "      <td>0</td>\n",
       "      <td>66</td>\n",
       "      <td>80</td>\n",
       "    </tr>\n",
       "    <tr>\n",
       "      <th>6695</th>\n",
       "      <td>gossipcop-859486</td>\n",
       "      <td>There's a lot more to the man than you might t...</td>\n",
       "      <td>James Corden: British Actor, TV Presenter &amp; Ca...</td>\n",
       "      <td>James Corden: The latest news, photos &amp; videos...</td>\n",
       "      <td>0</td>\n",
       "      <td>50</td>\n",
       "      <td>65</td>\n",
       "    </tr>\n",
       "    <tr>\n",
       "      <th>8153</th>\n",
       "      <td>gossipcop-880321</td>\n",
       "      <td>Sorry, ”Manifest“: You ran into that ”Roseanne...</td>\n",
       "      <td>21 New Fall TV Shows Ranked by Premiere Viewer...</td>\n",
       "      <td>Sorry, \"Manifest\": You ran into that \"Roseanne...</td>\n",
       "      <td>0</td>\n",
       "      <td>55</td>\n",
       "      <td>89</td>\n",
       "    </tr>\n",
       "    <tr>\n",
       "      <th>8301</th>\n",
       "      <td>gossipcop-867983</td>\n",
       "      <td>Not every Hall H panel is created equal</td>\n",
       "      <td>Comic-Con 2017: The Winners and Losers (Photos)</td>\n",
       "      <td>Not every Hall H panel is created equal</td>\n",
       "      <td>0</td>\n",
       "      <td>39</td>\n",
       "      <td>47</td>\n",
       "    </tr>\n",
       "    <tr>\n",
       "      <th>8443</th>\n",
       "      <td>gossipcop-930693</td>\n",
       "      <td>Engaged stars hit up the biggest country music...</td>\n",
       "      <td>Joe Jonas, Sophie Turner and More Stars Flock ...</td>\n",
       "      <td>Engaged stars hit up the biggest country music...</td>\n",
       "      <td>0</td>\n",
       "      <td>68</td>\n",
       "      <td>88</td>\n",
       "    </tr>\n",
       "    <tr>\n",
       "      <th>8548</th>\n",
       "      <td>gossipcop-915010</td>\n",
       "      <td>How will Jazmine Sullivan and Eric Church soun...</td>\n",
       "      <td>13 Worst Celebrity National Anthem Performance...</td>\n",
       "      <td>How will Jazmine Sullivan and Eric Church soun...</td>\n",
       "      <td>0</td>\n",
       "      <td>84</td>\n",
       "      <td>99</td>\n",
       "    </tr>\n",
       "    <tr>\n",
       "      <th>8688</th>\n",
       "      <td>gossipcop-849701</td>\n",
       "      <td>Including a bar brawl, a lawsuit and a show ca...</td>\n",
       "      <td>7 Most Outrageous HGTV Scandals: From ‘Propert...</td>\n",
       "      <td>Including a bar brawl, a lawsuit and a show ca...</td>\n",
       "      <td>0</td>\n",
       "      <td>82</td>\n",
       "      <td>84</td>\n",
       "    </tr>\n",
       "    <tr>\n",
       "      <th>10373</th>\n",
       "      <td>gossipcop-907442</td>\n",
       "      <td>Your First Look at The Real Housewives of Atla...</td>\n",
       "      <td>Watch Your First Look at The Real Housewives o...</td>\n",
       "      <td>Season 11 Preview: Get ready for new 'Wives, n...</td>\n",
       "      <td>0</td>\n",
       "      <td>59</td>\n",
       "      <td>65</td>\n",
       "    </tr>\n",
       "    <tr>\n",
       "      <th>11104</th>\n",
       "      <td>gossipcop-951505</td>\n",
       "      <td>Keep up to date\\n\\nGet the latest Over60 news,...</td>\n",
       "      <td>The truth about Michael J. Fox and Tracy Polla...</td>\n",
       "      <td>Michael J. Fox and Tracy Pollan share how they...</td>\n",
       "      <td>0</td>\n",
       "      <td>65</td>\n",
       "      <td>78</td>\n",
       "    </tr>\n",
       "  </tbody>\n",
       "</table>\n",
       "</div>"
      ],
      "text/plain": [
       "                         id  \\\n",
       "40          politifact14794   \n",
       "131         politifact14225   \n",
       "1304   gossipcop-5832684435   \n",
       "1314   gossipcop-7938752346   \n",
       "1475   gossipcop-7134675583   \n",
       "1671   gossipcop-6751025589   \n",
       "1759   gossipcop-9755892564   \n",
       "1948   gossipcop-6250034139   \n",
       "2202   gossipcop-3836977114   \n",
       "2266   gossipcop-6630473431   \n",
       "3313   gossipcop-8306634484   \n",
       "4041       gossipcop-936991   \n",
       "4921       gossipcop-901135   \n",
       "5119       gossipcop-875225   \n",
       "6695       gossipcop-859486   \n",
       "8153       gossipcop-880321   \n",
       "8301       gossipcop-867983   \n",
       "8443       gossipcop-930693   \n",
       "8548       gossipcop-915010   \n",
       "8688       gossipcop-849701   \n",
       "10373      gossipcop-907442   \n",
       "11104      gossipcop-951505   \n",
       "\n",
       "                                                    text  \\\n",
       "40     ARE YOU READY? GET IT NOW!\\n\\nIncrease more th...   \n",
       "131    Log in to comment on videos and join in on the...   \n",
       "1304   Passengers 'infuriated' by dad's behaviour on ...   \n",
       "1314                    Is this Zendaya's new boyfriend?   \n",
       "1475   Up Next 'Transformers: Rise of the Beasts' Fin...   \n",
       "1671                   UFOmania - the truth is out there   \n",
       "1759   Up Next 'Average Joe' Official Trailer (Exclus...   \n",
       "1948   The Ultimate Source\\n\\nFor all the best News f...   \n",
       "2202        Might watch this just for Jennifer Lawrence.   \n",
       "2266   Up Next Shawn Mendes and Camila Cabello Show O...   \n",
       "3313   6\\n\\nWhen She Did This in Public and Solidifie...   \n",
       "4041              Sign up for our daily newsletter HERE!   \n",
       "4921                                      El Poder en Ti   \n",
       "5119   Stars step out in Los Angeles for the network’...   \n",
       "6695   There's a lot more to the man than you might t...   \n",
       "8153   Sorry, ”Manifest“: You ran into that ”Roseanne...   \n",
       "8301             Not every Hall H panel is created equal   \n",
       "8443   Engaged stars hit up the biggest country music...   \n",
       "8548   How will Jazmine Sullivan and Eric Church soun...   \n",
       "8688   Including a bar brawl, a lawsuit and a show ca...   \n",
       "10373  Your First Look at The Real Housewives of Atla...   \n",
       "11104  Keep up to date\\n\\nGet the latest Over60 news,...   \n",
       "\n",
       "                                                   title  \\\n",
       "40     Singer Tina Turner: “This Thanksgiving Is The ...   \n",
       "131    Ivanka Trump: Father feels 'vindicated' after ...   \n",
       "1304   Parenting - Latest news headlines in Australia...   \n",
       "1314                  Is this Lady Gaga's new boyfriend?   \n",
       "1475   Ellen DeGeneres and Portia De Rossi Rock Coord...   \n",
       "1671   Beyoncé Caught Shapeshifting In Front Of Celeb...   \n",
       "1759   Kim Kardashian Reveals Her Limit on Kids With ...   \n",
       "1948   Jennifer Aniston showing off “Revenge Body” fo...   \n",
       "2202   Jennifer Lawrence Looks Terrified (But Still H...   \n",
       "2266   Jessica Biel Was Shocked By the Pressure to Lo...   \n",
       "3313   Warning: These Sexy Gigi Hadid Moments Will Le...   \n",
       "4041   Photobombs to teary eyes: All the viral moment...   \n",
       "4921   Khloe Kardashian Covers Her Baby Bump With Bab...   \n",
       "5119   MTV Video Music Awards 2017: Red Carpet Arriva...   \n",
       "6695   James Corden: British Actor, TV Presenter & Ca...   \n",
       "8153   21 New Fall TV Shows Ranked by Premiere Viewer...   \n",
       "8301     Comic-Con 2017: The Winners and Losers (Photos)   \n",
       "8443   Joe Jonas, Sophie Turner and More Stars Flock ...   \n",
       "8548   13 Worst Celebrity National Anthem Performance...   \n",
       "8688   7 Most Outrageous HGTV Scandals: From ‘Propert...   \n",
       "10373  Watch Your First Look at The Real Housewives o...   \n",
       "11104  The truth about Michael J. Fox and Tracy Polla...   \n",
       "\n",
       "                                             description  fake  text_len  \\\n",
       "40     Actress Tina Turner: “This Thanksgiving Is The...     1       134   \n",
       "131                   The president's daughter weighs in     0        51   \n",
       "1304   Check out how-to tips, news and advice on ever...     1       102   \n",
       "1314   She's been seen getting close to Christian Carino     1        32   \n",
       "1475   The lovebirds stepped out on Sunday in Los Ang...     1        56   \n",
       "1671   Beyoncé’s legions of fans were dealt a devasta...     1        33   \n",
       "1759   The reality star opened up about her family li...     1        50   \n",
       "1948   ﻿\\r\\nJennifer Aniston showing off “Revenge Bod...     1        62   \n",
       "2202        Might watch this just for Jennifer Lawrence.     1        44   \n",
       "2266   The actress and her business partner, Saundra ...     1        59   \n",
       "3313   Just in case you forgot that Gigi Hadid is one...     1        82   \n",
       "4041   Photobombs to teary eyes: All the viral moment...     0        38   \n",
       "4921   These cute cousins look like they're filled wi...     0        14   \n",
       "5119   Stars step out in Los Angeles for the network'...     0        66   \n",
       "6695   James Corden: The latest news, photos & videos...     0        50   \n",
       "8153   Sorry, \"Manifest\": You ran into that \"Roseanne...     0        55   \n",
       "8301             Not every Hall H panel is created equal     0        39   \n",
       "8443   Engaged stars hit up the biggest country music...     0        68   \n",
       "8548   How will Jazmine Sullivan and Eric Church soun...     0        84   \n",
       "8688   Including a bar brawl, a lawsuit and a show ca...     0        82   \n",
       "10373  Season 11 Preview: Get ready for new 'Wives, n...     0        59   \n",
       "11104  Michael J. Fox and Tracy Pollan share how they...     0        65   \n",
       "\n",
       "       title_len  \n",
       "40           200  \n",
       "131           59  \n",
       "1304         115  \n",
       "1314          34  \n",
       "1475          92  \n",
       "1671          75  \n",
       "1759          56  \n",
       "1948          73  \n",
       "2202          74  \n",
       "2266          74  \n",
       "3313          83  \n",
       "4041          71  \n",
       "4921          97  \n",
       "5119          80  \n",
       "6695          65  \n",
       "8153          89  \n",
       "8301          47  \n",
       "8443          88  \n",
       "8548          99  \n",
       "8688          84  \n",
       "10373         65  \n",
       "11104         78  "
      ]
     },
     "execution_count": 24,
     "metadata": {},
     "output_type": "execute_result"
    }
   ],
   "source": [
    "data[data[\"text_len\"]<data[\"title_len\"]]"
   ]
  },
  {
   "cell_type": "code",
   "execution_count": 25,
   "id": "10f1199e",
   "metadata": {},
   "outputs": [],
   "source": [
    "data=data[data[\"text_len\"]>=data[\"title_len\"]]"
   ]
  },
  {
   "cell_type": "code",
   "execution_count": 26,
   "id": "6e6432e1",
   "metadata": {},
   "outputs": [
    {
     "data": {
      "text/plain": [
       "(11233, 7)"
      ]
     },
     "execution_count": 26,
     "metadata": {},
     "output_type": "execute_result"
    }
   ],
   "source": [
    "data.shape"
   ]
  },
  {
   "cell_type": "code",
   "execution_count": 27,
   "id": "ddba9a62",
   "metadata": {
    "scrolled": true
   },
   "outputs": [
    {
     "data": {
      "text/plain": [
       "fake\n",
       "0    7657\n",
       "1    3576\n",
       "Name: count, dtype: int64"
      ]
     },
     "execution_count": 27,
     "metadata": {},
     "output_type": "execute_result"
    }
   ],
   "source": [
    "data[\"fake\"].value_counts()"
   ]
  },
  {
   "cell_type": "markdown",
   "id": "89ffaaa0",
   "metadata": {},
   "source": [
    "# Cleaning functions"
   ]
  },
  {
   "cell_type": "code",
   "execution_count": 28,
   "id": "cf77fb43",
   "metadata": {},
   "outputs": [],
   "source": [
    "def load_target_concat():\n",
    "    \n",
    "    #load data\n",
    "    pol_real=pd.read_json(\"/home/kathrin/code/kbank1/fake_news/raw_data/politifact_HR.json\", orient='index')\n",
    "    pol_fake=pd.read_json(\"/home/kathrin/code/kbank1/fake_news/raw_data/politifact_HF.json\", orient='index')\n",
    "    gossip_fake=pd.read_json(\"/home/kathrin/code/kbank1/fake_news/raw_data/gossip_HF.json\", orient='index')\n",
    "    gossip_real=pd.read_json(\"/home/kathrin/code/kbank1/fake_news/raw_data/gossip_HR.json\", orient='index')\n",
    "    \n",
    "    #define target\n",
    "    pol_real[\"fake\"]=0\n",
    "    pol_fake[\"fake\"]=1\n",
    "    gossip_real[\"fake\"]=0\n",
    "    gossip_fake[\"fake\"]=1\n",
    "    \n",
    "    #concat\n",
    "    data=pd.concat((pol_fake, pol_real, gossip_fake, gossip_real),axis=0, ignore_index=True)\n",
    "    \n",
    "    print(\"✅ data loaded, target defined, data concatenated\")\n",
    "    \n",
    "    return data"
   ]
  },
  {
   "cell_type": "code",
   "execution_count": 29,
   "id": "b3ce8bfb",
   "metadata": {},
   "outputs": [
    {
     "name": "stdout",
     "output_type": "stream",
     "text": [
      "✅ data loaded, target defined, data concatenated\n"
     ]
    }
   ],
   "source": [
    "data=load_target_concat()"
   ]
  },
  {
   "cell_type": "code",
   "execution_count": 30,
   "id": "9603baff",
   "metadata": {},
   "outputs": [
    {
     "data": {
      "text/plain": [
       "(12543, 5)"
      ]
     },
     "execution_count": 30,
     "metadata": {},
     "output_type": "execute_result"
    }
   ],
   "source": [
    "data.shape"
   ]
  },
  {
   "cell_type": "code",
   "execution_count": 31,
   "id": "44fbc595",
   "metadata": {},
   "outputs": [],
   "source": [
    "def remove_duplicates_errors(data: pd.DataFrame) -> pd.DataFrame:\n",
    "    \"\"\"\n",
    "    Clean raw data by\n",
    "    - removing duplicates within fake-category (keep 1)\n",
    "    - removing duplicates across fake-categories (delete both)\n",
    "    - deleting texts that are shorter than their title (error messages, headers etc.)\n",
    "    \"\"\"\n",
    "    # Remove duplicates within fake-category\n",
    "    data =data.drop_duplicates(subset=(\"text\", \"fake\"), keep='first', ignore_index=True)\n",
    "\n",
    "    # Remove duplicates across fake-category\n",
    "    data=data.drop_duplicates(subset=(\"text\"), keep=False, ignore_index=True)\n",
    "\n",
    "    # Delete false texts\n",
    "    data[\"text_len\"] = data['text'].str.len()\n",
    "    data[\"title_len\"]=data['title'].str.len()\n",
    "    data=data[data[\"text_len\"]>=data[\"title_len\"]]\n",
    "\n",
    "    print(\"✅ duplicates and errors removed\")\n",
    "\n",
    "    return data"
   ]
  },
  {
   "cell_type": "code",
   "execution_count": 32,
   "id": "308ebef4",
   "metadata": {},
   "outputs": [
    {
     "name": "stdout",
     "output_type": "stream",
     "text": [
      "✅ duplicates and errors removed\n"
     ]
    }
   ],
   "source": [
    "data=remove_duplicates_errors(data)"
   ]
  },
  {
   "cell_type": "code",
   "execution_count": 33,
   "id": "4c654af0",
   "metadata": {},
   "outputs": [
    {
     "data": {
      "text/plain": [
       "(11233, 7)"
      ]
     },
     "execution_count": 33,
     "metadata": {},
     "output_type": "execute_result"
    }
   ],
   "source": [
    "data.shape"
   ]
  },
  {
   "cell_type": "code",
   "execution_count": 34,
   "id": "77a6e97d",
   "metadata": {},
   "outputs": [
    {
     "name": "stdout",
     "output_type": "stream",
     "text": [
      "Requirement already satisfied: nltk in /home/kathrin/.pyenv/versions/3.10.6/envs/fake_news/lib/python3.10/site-packages (3.9.1)\r\n",
      "Requirement already satisfied: click in /home/kathrin/.pyenv/versions/3.10.6/envs/fake_news/lib/python3.10/site-packages (from nltk) (8.1.8)\r\n",
      "Requirement already satisfied: joblib in /home/kathrin/.pyenv/versions/3.10.6/envs/fake_news/lib/python3.10/site-packages (from nltk) (1.4.2)\r\n",
      "Requirement already satisfied: regex>=2021.8.3 in /home/kathrin/.pyenv/versions/3.10.6/envs/fake_news/lib/python3.10/site-packages (from nltk) (2024.11.6)\r\n",
      "Requirement already satisfied: tqdm in /home/kathrin/.pyenv/versions/3.10.6/envs/fake_news/lib/python3.10/site-packages (from nltk) (4.67.1)\r\n"
     ]
    }
   ],
   "source": [
    "!pip install nltk"
   ]
  },
  {
   "cell_type": "code",
   "execution_count": 35,
   "id": "47fa1557",
   "metadata": {},
   "outputs": [
    {
     "name": "stderr",
     "output_type": "stream",
     "text": [
      "[nltk_data] Downloading package stopwords to\n",
      "[nltk_data]     /home/kathrin/nltk_data...\n",
      "[nltk_data]   Package stopwords is already up-to-date!\n",
      "[nltk_data] Downloading package punkt to /home/kathrin/nltk_data...\n",
      "[nltk_data]   Package punkt is already up-to-date!\n",
      "[nltk_data] Downloading package wordnet to /home/kathrin/nltk_data...\n",
      "[nltk_data]   Package wordnet is already up-to-date!\n",
      "[nltk_data] Downloading package omw-1.4 to /home/kathrin/nltk_data...\n",
      "[nltk_data]   Package omw-1.4 is already up-to-date!\n",
      "[nltk_data] Downloading package punkt_tab to\n",
      "[nltk_data]     /home/kathrin/nltk_data...\n",
      "[nltk_data]   Package punkt_tab is already up-to-date!\n"
     ]
    },
    {
     "data": {
      "text/plain": [
       "True"
      ]
     },
     "execution_count": 35,
     "metadata": {},
     "output_type": "execute_result"
    }
   ],
   "source": [
    "import nltk\n",
    "\n",
    "nltk.download('stopwords')\n",
    "nltk.download('punkt')\n",
    "nltk.download('wordnet')\n",
    "nltk.download('omw-1.4')\n",
    "nltk.download('punkt_tab')"
   ]
  },
  {
   "cell_type": "code",
   "execution_count": 36,
   "id": "f308d587",
   "metadata": {},
   "outputs": [],
   "source": [
    "import string\n",
    "from nltk import word_tokenize\n",
    "from nltk.corpus import stopwords\n",
    "from nltk.stem import WordNetLemmatizer"
   ]
  },
  {
   "cell_type": "code",
   "execution_count": 37,
   "id": "966991dd",
   "metadata": {},
   "outputs": [],
   "source": [
    "#strip + lowercase + numbers + punctuation/symbols + tokenizing + removing stopwords\n",
    "def preprocessing(text):\n",
    "\n",
    "    # Removing whitespaces\n",
    "    text = text.strip()\n",
    "    # Lowercasing\n",
    "    text = text.lower()\n",
    "    # Removing numbers\n",
    "    text = ''.join(char for char in text if not char.isdigit())\n",
    "    # Removing punctuation\n",
    "    for punctuation in string.punctuation:\n",
    "        text = text.replace(punctuation, '')\n",
    "    # Tokenizing\n",
    "    #tokenized = word_tokenize(text)\n",
    "    # Removing stopwords: test with or without\n",
    "    #stop_words = set(stopwords.words('english')) \n",
    "    #without_stopwords = [word for word in tokenized if not word in stop_words]\n",
    "    # Lemmatizing: test with or without\n",
    "    #lemmatizer = WordNetLemmatizer()\n",
    "    #lemmatized = [lemmatizer.lemmatize(word) for word in without_stopwords]\n",
    "    #cleaned_sentence = \" \".join(lemmatized)\n",
    "    \n",
    "    return text\n",
    "    \n"
   ]
  },
  {
   "cell_type": "code",
   "execution_count": 38,
   "id": "4a876cba",
   "metadata": {},
   "outputs": [],
   "source": [
    "#data['text'] = data.text.apply(preprocessing)"
   ]
  },
  {
   "cell_type": "code",
   "execution_count": 39,
   "id": "6f0e6f93",
   "metadata": {},
   "outputs": [
    {
     "data": {
      "text/plain": [
       "(11233, 7)"
      ]
     },
     "execution_count": 39,
     "metadata": {},
     "output_type": "execute_result"
    }
   ],
   "source": [
    "data.shape"
   ]
  },
  {
   "cell_type": "code",
   "execution_count": 40,
   "id": "c223e4b9",
   "metadata": {},
   "outputs": [
    {
     "data": {
      "text/html": [
       "<div>\n",
       "<style scoped>\n",
       "    .dataframe tbody tr th:only-of-type {\n",
       "        vertical-align: middle;\n",
       "    }\n",
       "\n",
       "    .dataframe tbody tr th {\n",
       "        vertical-align: top;\n",
       "    }\n",
       "\n",
       "    .dataframe thead th {\n",
       "        text-align: right;\n",
       "    }\n",
       "</style>\n",
       "<table border=\"1\" class=\"dataframe\">\n",
       "  <thead>\n",
       "    <tr style=\"text-align: right;\">\n",
       "      <th></th>\n",
       "      <th>id</th>\n",
       "      <th>text</th>\n",
       "      <th>title</th>\n",
       "      <th>description</th>\n",
       "      <th>fake</th>\n",
       "      <th>text_len</th>\n",
       "      <th>title_len</th>\n",
       "    </tr>\n",
       "  </thead>\n",
       "  <tbody>\n",
       "    <tr>\n",
       "      <th>0</th>\n",
       "      <td>politifact11773</td>\n",
       "      <td>Republican attacks on transgendered Americans ...</td>\n",
       "      <td>Virginia Republican Wants Schools To Check Chi...</td>\n",
       "      <td>Republican attacks on transgendered Americans ...</td>\n",
       "      <td>1</td>\n",
       "      <td>1995</td>\n",
       "      <td>84</td>\n",
       "    </tr>\n",
       "    <tr>\n",
       "      <th>1</th>\n",
       "      <td>politifact13827</td>\n",
       "      <td>Whoopi Goldberg is in hot water after comments...</td>\n",
       "      <td>Whoopi Goldberg: Navy SEAL Widow was “Looking ...</td>\n",
       "      <td>Whoopi Goldberg is in hot water after comments...</td>\n",
       "      <td>1</td>\n",
       "      <td>771</td>\n",
       "      <td>60</td>\n",
       "    </tr>\n",
       "    <tr>\n",
       "      <th>2</th>\n",
       "      <td>politifact13570</td>\n",
       "      <td>Washington, DC — A former Secret Service agent...</td>\n",
       "      <td>Secret Service Agent Says Obama Is Muslim &amp; Ga...</td>\n",
       "      <td>Washington, DC — A former Secret Service agent...</td>\n",
       "      <td>1</td>\n",
       "      <td>2523</td>\n",
       "      <td>68</td>\n",
       "    </tr>\n",
       "    <tr>\n",
       "      <th>3</th>\n",
       "      <td>politifact14947</td>\n",
       "      <td>Bill Clinton’s hitman has confessed to more th...</td>\n",
       "      <td>Bill Clinton’s Hitman Confesses On His Deathbe...</td>\n",
       "      <td>Bill Clinton’s hitman has confessed to more th...</td>\n",
       "      <td>1</td>\n",
       "      <td>1691</td>\n",
       "      <td>65</td>\n",
       "    </tr>\n",
       "    <tr>\n",
       "      <th>4</th>\n",
       "      <td>politifact14840</td>\n",
       "      <td>The FDA has published conclusive proof on thei...</td>\n",
       "      <td>NOW IT’S OFFICIAL: FDA Announced That Vaccines...</td>\n",
       "      <td>The FDA has published conclusive proof on thei...</td>\n",
       "      <td>1</td>\n",
       "      <td>4591</td>\n",
       "      <td>66</td>\n",
       "    </tr>\n",
       "  </tbody>\n",
       "</table>\n",
       "</div>"
      ],
      "text/plain": [
       "                id                                               text  \\\n",
       "0  politifact11773  Republican attacks on transgendered Americans ...   \n",
       "1  politifact13827  Whoopi Goldberg is in hot water after comments...   \n",
       "2  politifact13570  Washington, DC — A former Secret Service agent...   \n",
       "3  politifact14947  Bill Clinton’s hitman has confessed to more th...   \n",
       "4  politifact14840  The FDA has published conclusive proof on thei...   \n",
       "\n",
       "                                               title  \\\n",
       "0  Virginia Republican Wants Schools To Check Chi...   \n",
       "1  Whoopi Goldberg: Navy SEAL Widow was “Looking ...   \n",
       "2  Secret Service Agent Says Obama Is Muslim & Ga...   \n",
       "3  Bill Clinton’s Hitman Confesses On His Deathbe...   \n",
       "4  NOW IT’S OFFICIAL: FDA Announced That Vaccines...   \n",
       "\n",
       "                                         description  fake  text_len  \\\n",
       "0  Republican attacks on transgendered Americans ...     1      1995   \n",
       "1  Whoopi Goldberg is in hot water after comments...     1       771   \n",
       "2  Washington, DC — A former Secret Service agent...     1      2523   \n",
       "3  Bill Clinton’s hitman has confessed to more th...     1      1691   \n",
       "4  The FDA has published conclusive proof on thei...     1      4591   \n",
       "\n",
       "   title_len  \n",
       "0         84  \n",
       "1         60  \n",
       "2         68  \n",
       "3         65  \n",
       "4         66  "
      ]
     },
     "execution_count": 40,
     "metadata": {},
     "output_type": "execute_result"
    }
   ],
   "source": [
    "data.head()"
   ]
  },
  {
   "cell_type": "markdown",
   "id": "ec4210c8",
   "metadata": {},
   "source": [
    "## statement length"
   ]
  },
  {
   "cell_type": "code",
   "execution_count": 41,
   "id": "381a9f54",
   "metadata": {
    "scrolled": true
   },
   "outputs": [],
   "source": [
    "data[\"nwords\"] = data[\"text\"].apply(lambda x: len(word_tokenize(x)))"
   ]
  },
  {
   "cell_type": "code",
   "execution_count": 42,
   "id": "5a972e0e",
   "metadata": {},
   "outputs": [],
   "source": [
    "real=data[data[\"fake\"]==0]\n",
    "fake=data[data[\"fake\"]==1]"
   ]
  },
  {
   "cell_type": "code",
   "execution_count": 43,
   "id": "5b40b4f8",
   "metadata": {},
   "outputs": [],
   "source": [
    "import seaborn as sns\n",
    "import matplotlib.pyplot as plt"
   ]
  },
  {
   "cell_type": "code",
   "execution_count": 44,
   "id": "c3ee4ed9",
   "metadata": {},
   "outputs": [
    {
     "data": {
      "image/png": "[encoded data removed]",
      "text/plain": [
       "<Figure size 500x500 with 1 Axes>"
      ]
     },
     "metadata": {},
     "output_type": "display_data"
    }
   ],
   "source": [
    "sns.displot(x='nwords', data=real);\n",
    "\n",
    "plt.title(\"Distribution lenght of statement, real text\");"
   ]
  },
  {
   "cell_type": "code",
   "execution_count": 45,
   "id": "198acc52",
   "metadata": {},
   "outputs": [
    {
     "data": {
      "image/png": "[encoded data removed]",
      "text/plain": [
       "<Figure size 500x500 with 1 Axes>"
      ]
     },
     "metadata": {},
     "output_type": "display_data"
    }
   ],
   "source": [
    "sns.displot(x='nwords', data=fake);\n",
    "\n",
    "plt.title(\"Distribution lenght of statement, fake text\");"
   ]
  },
  {
   "cell_type": "code",
   "execution_count": 46,
   "id": "e80fa7b6",
   "metadata": {},
   "outputs": [
    {
     "data": {
      "text/html": [
       "<div>\n",
       "<style scoped>\n",
       "    .dataframe tbody tr th:only-of-type {\n",
       "        vertical-align: middle;\n",
       "    }\n",
       "\n",
       "    .dataframe tbody tr th {\n",
       "        vertical-align: top;\n",
       "    }\n",
       "\n",
       "    .dataframe thead th {\n",
       "        text-align: right;\n",
       "    }\n",
       "</style>\n",
       "<table border=\"1\" class=\"dataframe\">\n",
       "  <thead>\n",
       "    <tr style=\"text-align: right;\">\n",
       "      <th></th>\n",
       "      <th>fake</th>\n",
       "      <th>text_len</th>\n",
       "      <th>title_len</th>\n",
       "      <th>nwords</th>\n",
       "    </tr>\n",
       "  </thead>\n",
       "  <tbody>\n",
       "    <tr>\n",
       "      <th>count</th>\n",
       "      <td>7657.0</td>\n",
       "      <td>7657.000000</td>\n",
       "      <td>7657.000000</td>\n",
       "      <td>7657.000000</td>\n",
       "    </tr>\n",
       "    <tr>\n",
       "      <th>mean</th>\n",
       "      <td>0.0</td>\n",
       "      <td>3440.715032</td>\n",
       "      <td>68.343607</td>\n",
       "      <td>708.981716</td>\n",
       "    </tr>\n",
       "    <tr>\n",
       "      <th>std</th>\n",
       "      <td>0.0</td>\n",
       "      <td>6217.620199</td>\n",
       "      <td>19.989224</td>\n",
       "      <td>1292.474618</td>\n",
       "    </tr>\n",
       "    <tr>\n",
       "      <th>min</th>\n",
       "      <td>0.0</td>\n",
       "      <td>21.000000</td>\n",
       "      <td>4.000000</td>\n",
       "      <td>5.000000</td>\n",
       "    </tr>\n",
       "    <tr>\n",
       "      <th>25%</th>\n",
       "      <td>0.0</td>\n",
       "      <td>1342.000000</td>\n",
       "      <td>56.000000</td>\n",
       "      <td>274.000000</td>\n",
       "    </tr>\n",
       "    <tr>\n",
       "      <th>50%</th>\n",
       "      <td>0.0</td>\n",
       "      <td>2100.000000</td>\n",
       "      <td>67.000000</td>\n",
       "      <td>433.000000</td>\n",
       "    </tr>\n",
       "    <tr>\n",
       "      <th>75%</th>\n",
       "      <td>0.0</td>\n",
       "      <td>3403.000000</td>\n",
       "      <td>81.000000</td>\n",
       "      <td>702.000000</td>\n",
       "    </tr>\n",
       "    <tr>\n",
       "      <th>max</th>\n",
       "      <td>0.0</td>\n",
       "      <td>100000.000000</td>\n",
       "      <td>175.000000</td>\n",
       "      <td>21426.000000</td>\n",
       "    </tr>\n",
       "  </tbody>\n",
       "</table>\n",
       "</div>"
      ],
      "text/plain": [
       "         fake       text_len    title_len        nwords\n",
       "count  7657.0    7657.000000  7657.000000   7657.000000\n",
       "mean      0.0    3440.715032    68.343607    708.981716\n",
       "std       0.0    6217.620199    19.989224   1292.474618\n",
       "min       0.0      21.000000     4.000000      5.000000\n",
       "25%       0.0    1342.000000    56.000000    274.000000\n",
       "50%       0.0    2100.000000    67.000000    433.000000\n",
       "75%       0.0    3403.000000    81.000000    702.000000\n",
       "max       0.0  100000.000000   175.000000  21426.000000"
      ]
     },
     "execution_count": 46,
     "metadata": {},
     "output_type": "execute_result"
    }
   ],
   "source": [
    "real.describe()"
   ]
  },
  {
   "cell_type": "code",
   "execution_count": 47,
   "id": "ac52e992",
   "metadata": {},
   "outputs": [
    {
     "data": {
      "text/html": [
       "<div>\n",
       "<style scoped>\n",
       "    .dataframe tbody tr th:only-of-type {\n",
       "        vertical-align: middle;\n",
       "    }\n",
       "\n",
       "    .dataframe tbody tr th {\n",
       "        vertical-align: top;\n",
       "    }\n",
       "\n",
       "    .dataframe thead th {\n",
       "        text-align: right;\n",
       "    }\n",
       "</style>\n",
       "<table border=\"1\" class=\"dataframe\">\n",
       "  <thead>\n",
       "    <tr style=\"text-align: right;\">\n",
       "      <th></th>\n",
       "      <th>fake</th>\n",
       "      <th>text_len</th>\n",
       "      <th>title_len</th>\n",
       "      <th>nwords</th>\n",
       "    </tr>\n",
       "  </thead>\n",
       "  <tbody>\n",
       "    <tr>\n",
       "      <th>count</th>\n",
       "      <td>3576.0</td>\n",
       "      <td>3576.000000</td>\n",
       "      <td>3576.000000</td>\n",
       "      <td>3576.000000</td>\n",
       "    </tr>\n",
       "    <tr>\n",
       "      <th>mean</th>\n",
       "      <td>1.0</td>\n",
       "      <td>2707.906040</td>\n",
       "      <td>70.092841</td>\n",
       "      <td>557.030761</td>\n",
       "    </tr>\n",
       "    <tr>\n",
       "      <th>std</th>\n",
       "      <td>0.0</td>\n",
       "      <td>3770.255239</td>\n",
       "      <td>20.954904</td>\n",
       "      <td>778.688449</td>\n",
       "    </tr>\n",
       "    <tr>\n",
       "      <th>min</th>\n",
       "      <td>1.0</td>\n",
       "      <td>27.000000</td>\n",
       "      <td>5.000000</td>\n",
       "      <td>7.000000</td>\n",
       "    </tr>\n",
       "    <tr>\n",
       "      <th>25%</th>\n",
       "      <td>1.0</td>\n",
       "      <td>1236.500000</td>\n",
       "      <td>57.000000</td>\n",
       "      <td>252.000000</td>\n",
       "    </tr>\n",
       "    <tr>\n",
       "      <th>50%</th>\n",
       "      <td>1.0</td>\n",
       "      <td>1986.000000</td>\n",
       "      <td>69.000000</td>\n",
       "      <td>412.000000</td>\n",
       "    </tr>\n",
       "    <tr>\n",
       "      <th>75%</th>\n",
       "      <td>1.0</td>\n",
       "      <td>2830.250000</td>\n",
       "      <td>83.000000</td>\n",
       "      <td>583.000000</td>\n",
       "    </tr>\n",
       "    <tr>\n",
       "      <th>max</th>\n",
       "      <td>1.0</td>\n",
       "      <td>100000.000000</td>\n",
       "      <td>200.000000</td>\n",
       "      <td>19932.000000</td>\n",
       "    </tr>\n",
       "  </tbody>\n",
       "</table>\n",
       "</div>"
      ],
      "text/plain": [
       "         fake       text_len    title_len        nwords\n",
       "count  3576.0    3576.000000  3576.000000   3576.000000\n",
       "mean      1.0    2707.906040    70.092841    557.030761\n",
       "std       0.0    3770.255239    20.954904    778.688449\n",
       "min       1.0      27.000000     5.000000      7.000000\n",
       "25%       1.0    1236.500000    57.000000    252.000000\n",
       "50%       1.0    1986.000000    69.000000    412.000000\n",
       "75%       1.0    2830.250000    83.000000    583.000000\n",
       "max       1.0  100000.000000   200.000000  19932.000000"
      ]
     },
     "execution_count": 47,
     "metadata": {},
     "output_type": "execute_result"
    }
   ],
   "source": [
    "fake.describe()"
   ]
  },
  {
   "cell_type": "markdown",
   "id": "ba3398a1",
   "metadata": {},
   "source": [
    "# baseline model"
   ]
  },
  {
   "cell_type": "code",
   "execution_count": 48,
   "id": "4373ffbc",
   "metadata": {},
   "outputs": [
    {
     "data": {
      "text/plain": [
       "(3500, 8)"
      ]
     },
     "execution_count": 48,
     "metadata": {},
     "output_type": "execute_result"
    }
   ],
   "source": [
    "true = data[data['fake'] == 0].sample(n=3500)\n",
    "true.shape"
   ]
  },
  {
   "cell_type": "code",
   "execution_count": 49,
   "id": "5ef81545",
   "metadata": {},
   "outputs": [
    {
     "data": {
      "text/plain": [
       "(3500, 8)"
      ]
     },
     "execution_count": 49,
     "metadata": {},
     "output_type": "execute_result"
    }
   ],
   "source": [
    "false = data[data['fake'] == 1].sample(n=3500)\n",
    "false.shape"
   ]
  },
  {
   "cell_type": "code",
   "execution_count": 50,
   "id": "87057230",
   "metadata": {},
   "outputs": [
    {
     "data": {
      "text/plain": [
       "(7000, 8)"
      ]
     },
     "execution_count": 50,
     "metadata": {},
     "output_type": "execute_result"
    }
   ],
   "source": [
    "files = [true, false]\n",
    "\n",
    "data = pd.concat(files, ignore_index=True)\n",
    "data.shape"
   ]
  },
  {
   "cell_type": "code",
   "execution_count": 51,
   "id": "d1cae934",
   "metadata": {},
   "outputs": [],
   "source": [
    "X = data['text']\n",
    "y = data['fake']"
   ]
  },
  {
   "cell_type": "code",
   "execution_count": 52,
   "id": "2822703a",
   "metadata": {
    "scrolled": true
   },
   "outputs": [
    {
     "data": {
      "text/plain": [
       "fake\n",
       "0    0.5\n",
       "1    0.5\n",
       "Name: proportion, dtype: float64"
      ]
     },
     "execution_count": 52,
     "metadata": {},
     "output_type": "execute_result"
    }
   ],
   "source": [
    "# Check the balance of the dataset\n",
    "round(y.value_counts(normalize = True), 2)"
   ]
  },
  {
   "cell_type": "code",
   "execution_count": 53,
   "id": "5eec8915",
   "metadata": {},
   "outputs": [],
   "source": [
    "# Create a train/test split\n",
    "\n",
    "X_train, X_test, y_train, y_test = train_test_split(X, y, test_size = 0.20, random_state=0)"
   ]
  },
  {
   "cell_type": "code",
   "execution_count": 54,
   "id": "77560c9f",
   "metadata": {},
   "outputs": [
    {
     "data": {
      "text/html": [
       "<style>#sk-container-id-1 {\n",
       "  /* Definition of color scheme common for light and dark mode */\n",
       "  --sklearn-color-text: #000;\n",
       "  --sklearn-color-text-muted: #666;\n",
       "  --sklearn-color-line: gray;\n",
       "  /* Definition of color scheme for unfitted estimators */\n",
       "  --sklearn-color-unfitted-level-0: #fff5e6;\n",
       "  --sklearn-color-unfitted-level-1: #f6e4d2;\n",
       "  --sklearn-color-unfitted-level-2: #ffe0b3;\n",
       "  --sklearn-color-unfitted-level-3: chocolate;\n",
       "  /* Definition of color scheme for fitted estimators */\n",
       "  --sklearn-color-fitted-level-0: #f0f8ff;\n",
       "  --sklearn-color-fitted-level-1: #d4ebff;\n",
       "  --sklearn-color-fitted-level-2: #b3dbfd;\n",
       "  --sklearn-color-fitted-level-3: cornflowerblue;\n",
       "\n",
       "  /* Specific color for light theme */\n",
       "  --sklearn-color-text-on-default-background: var(--sg-text-color, var(--theme-code-foreground, var(--jp-content-font-color1, black)));\n",
       "  --sklearn-color-background: var(--sg-background-color, var(--theme-background, var(--jp-layout-color0, white)));\n",
       "  --sklearn-color-border-box: var(--sg-text-color, var(--theme-code-foreground, var(--jp-content-font-color1, black)));\n",
       "  --sklearn-color-icon: #696969;\n",
       "\n",
       "  @media (prefers-color-scheme: dark) {\n",
       "    /* Redefinition of color scheme for dark theme */\n",
       "    --sklearn-color-text-on-default-background: var(--sg-text-color, var(--theme-code-foreground, var(--jp-content-font-color1, white)));\n",
       "    --sklearn-color-background: var(--sg-background-color, var(--theme-background, var(--jp-layout-color0, #111)));\n",
       "    --sklearn-color-border-box: var(--sg-text-color, var(--theme-code-foreground, var(--jp-content-font-color1, white)));\n",
       "    --sklearn-color-icon: #878787;\n",
       "  }\n",
       "}\n",
       "\n",
       "#sk-container-id-1 {\n",
       "  color: var(--sklearn-color-text);\n",
       "}\n",
       "\n",
       "#sk-container-id-1 pre {\n",
       "  padding: 0;\n",
       "}\n",
       "\n",
       "#sk-container-id-1 input.sk-hidden--visually {\n",
       "  border: 0;\n",
       "  clip: rect(1px 1px 1px 1px);\n",
       "  clip: rect(1px, 1px, 1px, 1px);\n",
       "  height: 1px;\n",
       "  margin: -1px;\n",
       "  overflow: hidden;\n",
       "  padding: 0;\n",
       "  position: absolute;\n",
       "  width: 1px;\n",
       "}\n",
       "\n",
       "#sk-container-id-1 div.sk-dashed-wrapped {\n",
       "  border: 1px dashed var(--sklearn-color-line);\n",
       "  margin: 0 0.4em 0.5em 0.4em;\n",
       "  box-sizing: border-box;\n",
       "  padding-bottom: 0.4em;\n",
       "  background-color: var(--sklearn-color-background);\n",
       "}\n",
       "\n",
       "#sk-container-id-1 div.sk-container {\n",
       "  /* jupyter's `normalize.less` sets `[hidden] { display: none; }`\n",
       "     but bootstrap.min.css set `[hidden] { display: none !important; }`\n",
       "     so we also need the `!important` here to be able to override the\n",
       "     default hidden behavior on the sphinx rendered scikit-learn.org.\n",
       "     See: https://github.com/scikit-learn/scikit-learn/issues/21755 */\n",
       "  display: inline-block !important;\n",
       "  position: relative;\n",
       "}\n",
       "\n",
       "#sk-container-id-1 div.sk-text-repr-fallback {\n",
       "  display: none;\n",
       "}\n",
       "\n",
       "div.sk-parallel-item,\n",
       "div.sk-serial,\n",
       "div.sk-item {\n",
       "  /* draw centered vertical line to link estimators */\n",
       "  background-image: linear-gradient(var(--sklearn-color-text-on-default-background), var(--sklearn-color-text-on-default-background));\n",
       "  background-size: 2px 100%;\n",
       "  background-repeat: no-repeat;\n",
       "  background-position: center center;\n",
       "}\n",
       "\n",
       "/* Parallel-specific style estimator block */\n",
       "\n",
       "#sk-container-id-1 div.sk-parallel-item::after {\n",
       "  content: \"\";\n",
       "  width: 100%;\n",
       "  border-bottom: 2px solid var(--sklearn-color-text-on-default-background);\n",
       "  flex-grow: 1;\n",
       "}\n",
       "\n",
       "#sk-container-id-1 div.sk-parallel {\n",
       "  display: flex;\n",
       "  align-items: stretch;\n",
       "  justify-content: center;\n",
       "  background-color: var(--sklearn-color-background);\n",
       "  position: relative;\n",
       "}\n",
       "\n",
       "#sk-container-id-1 div.sk-parallel-item {\n",
       "  display: flex;\n",
       "  flex-direction: column;\n",
       "}\n",
       "\n",
       "#sk-container-id-1 div.sk-parallel-item:first-child::after {\n",
       "  align-self: flex-end;\n",
       "  width: 50%;\n",
       "}\n",
       "\n",
       "#sk-container-id-1 div.sk-parallel-item:last-child::after {\n",
       "  align-self: flex-start;\n",
       "  width: 50%;\n",
       "}\n",
       "\n",
       "#sk-container-id-1 div.sk-parallel-item:only-child::after {\n",
       "  width: 0;\n",
       "}\n",
       "\n",
       "/* Serial-specific style estimator block */\n",
       "\n",
       "#sk-container-id-1 div.sk-serial {\n",
       "  display: flex;\n",
       "  flex-direction: column;\n",
       "  align-items: center;\n",
       "  background-color: var(--sklearn-color-background);\n",
       "  padding-right: 1em;\n",
       "  padding-left: 1em;\n",
       "}\n",
       "\n",
       "\n",
       "/* Toggleable style: style used for estimator/Pipeline/ColumnTransformer box that is\n",
       "clickable and can be expanded/collapsed.\n",
       "- Pipeline and ColumnTransformer use this feature and define the default style\n",
       "- Estimators will overwrite some part of the style using the `sk-estimator` class\n",
       "*/\n",
       "\n",
       "/* Pipeline and ColumnTransformer style (default) */\n",
       "\n",
       "#sk-container-id-1 div.sk-toggleable {\n",
       "  /* Default theme specific background. It is overwritten whether we have a\n",
       "  specific estimator or a Pipeline/ColumnTransformer */\n",
       "  background-color: var(--sklearn-color-background);\n",
       "}\n",
       "\n",
       "/* Toggleable label */\n",
       "#sk-container-id-1 label.sk-toggleable__label {\n",
       "  cursor: pointer;\n",
       "  display: flex;\n",
       "  width: 100%;\n",
       "  margin-bottom: 0;\n",
       "  padding: 0.5em;\n",
       "  box-sizing: border-box;\n",
       "  text-align: center;\n",
       "  align-items: start;\n",
       "  justify-content: space-between;\n",
       "  gap: 0.5em;\n",
       "}\n",
       "\n",
       "#sk-container-id-1 label.sk-toggleable__label .caption {\n",
       "  font-size: 0.6rem;\n",
       "  font-weight: lighter;\n",
       "  color: var(--sklearn-color-text-muted);\n",
       "}\n",
       "\n",
       "#sk-container-id-1 label.sk-toggleable__label-arrow:before {\n",
       "  /* Arrow on the left of the label */\n",
       "  content: \"▸\";\n",
       "  float: left;\n",
       "  margin-right: 0.25em;\n",
       "  color: var(--sklearn-color-icon);\n",
       "}\n",
       "\n",
       "#sk-container-id-1 label.sk-toggleable__label-arrow:hover:before {\n",
       "  color: var(--sklearn-color-text);\n",
       "}\n",
       "\n",
       "/* Toggleable content - dropdown */\n",
       "\n",
       "#sk-container-id-1 div.sk-toggleable__content {\n",
       "  max-height: 0;\n",
       "  max-width: 0;\n",
       "  overflow: hidden;\n",
       "  text-align: left;\n",
       "  /* unfitted */\n",
       "  background-color: var(--sklearn-color-unfitted-level-0);\n",
       "}\n",
       "\n",
       "#sk-container-id-1 div.sk-toggleable__content.fitted {\n",
       "  /* fitted */\n",
       "  background-color: var(--sklearn-color-fitted-level-0);\n",
       "}\n",
       "\n",
       "#sk-container-id-1 div.sk-toggleable__content pre {\n",
       "  margin: 0.2em;\n",
       "  border-radius: 0.25em;\n",
       "  color: var(--sklearn-color-text);\n",
       "  /* unfitted */\n",
       "  background-color: var(--sklearn-color-unfitted-level-0);\n",
       "}\n",
       "\n",
       "#sk-container-id-1 div.sk-toggleable__content.fitted pre {\n",
       "  /* unfitted */\n",
       "  background-color: var(--sklearn-color-fitted-level-0);\n",
       "}\n",
       "\n",
       "#sk-container-id-1 input.sk-toggleable__control:checked~div.sk-toggleable__content {\n",
       "  /* Expand drop-down */\n",
       "  max-height: 200px;\n",
       "  max-width: 100%;\n",
       "  overflow: auto;\n",
       "}\n",
       "\n",
       "#sk-container-id-1 input.sk-toggleable__control:checked~label.sk-toggleable__label-arrow:before {\n",
       "  content: \"▾\";\n",
       "}\n",
       "\n",
       "/* Pipeline/ColumnTransformer-specific style */\n",
       "\n",
       "#sk-container-id-1 div.sk-label input.sk-toggleable__control:checked~label.sk-toggleable__label {\n",
       "  color: var(--sklearn-color-text);\n",
       "  background-color: var(--sklearn-color-unfitted-level-2);\n",
       "}\n",
       "\n",
       "#sk-container-id-1 div.sk-label.fitted input.sk-toggleable__control:checked~label.sk-toggleable__label {\n",
       "  background-color: var(--sklearn-color-fitted-level-2);\n",
       "}\n",
       "\n",
       "/* Estimator-specific style */\n",
       "\n",
       "/* Colorize estimator box */\n",
       "#sk-container-id-1 div.sk-estimator input.sk-toggleable__control:checked~label.sk-toggleable__label {\n",
       "  /* unfitted */\n",
       "  background-color: var(--sklearn-color-unfitted-level-2);\n",
       "}\n",
       "\n",
       "#sk-container-id-1 div.sk-estimator.fitted input.sk-toggleable__control:checked~label.sk-toggleable__label {\n",
       "  /* fitted */\n",
       "  background-color: var(--sklearn-color-fitted-level-2);\n",
       "}\n",
       "\n",
       "#sk-container-id-1 div.sk-label label.sk-toggleable__label,\n",
       "#sk-container-id-1 div.sk-label label {\n",
       "  /* The background is the default theme color */\n",
       "  color: var(--sklearn-color-text-on-default-background);\n",
       "}\n",
       "\n",
       "/* On hover, darken the color of the background */\n",
       "#sk-container-id-1 div.sk-label:hover label.sk-toggleable__label {\n",
       "  color: var(--sklearn-color-text);\n",
       "  background-color: var(--sklearn-color-unfitted-level-2);\n",
       "}\n",
       "\n",
       "/* Label box, darken color on hover, fitted */\n",
       "#sk-container-id-1 div.sk-label.fitted:hover label.sk-toggleable__label.fitted {\n",
       "  color: var(--sklearn-color-text);\n",
       "  background-color: var(--sklearn-color-fitted-level-2);\n",
       "}\n",
       "\n",
       "/* Estimator label */\n",
       "\n",
       "#sk-container-id-1 div.sk-label label {\n",
       "  font-family: monospace;\n",
       "  font-weight: bold;\n",
       "  display: inline-block;\n",
       "  line-height: 1.2em;\n",
       "}\n",
       "\n",
       "#sk-container-id-1 div.sk-label-container {\n",
       "  text-align: center;\n",
       "}\n",
       "\n",
       "/* Estimator-specific */\n",
       "#sk-container-id-1 div.sk-estimator {\n",
       "  font-family: monospace;\n",
       "  border: 1px dotted var(--sklearn-color-border-box);\n",
       "  border-radius: 0.25em;\n",
       "  box-sizing: border-box;\n",
       "  margin-bottom: 0.5em;\n",
       "  /* unfitted */\n",
       "  background-color: var(--sklearn-color-unfitted-level-0);\n",
       "}\n",
       "\n",
       "#sk-container-id-1 div.sk-estimator.fitted {\n",
       "  /* fitted */\n",
       "  background-color: var(--sklearn-color-fitted-level-0);\n",
       "}\n",
       "\n",
       "/* on hover */\n",
       "#sk-container-id-1 div.sk-estimator:hover {\n",
       "  /* unfitted */\n",
       "  background-color: var(--sklearn-color-unfitted-level-2);\n",
       "}\n",
       "\n",
       "#sk-container-id-1 div.sk-estimator.fitted:hover {\n",
       "  /* fitted */\n",
       "  background-color: var(--sklearn-color-fitted-level-2);\n",
       "}\n",
       "\n",
       "/* Specification for estimator info (e.g. \"i\" and \"?\") */\n",
       "\n",
       "/* Common style for \"i\" and \"?\" */\n",
       "\n",
       ".sk-estimator-doc-link,\n",
       "a:link.sk-estimator-doc-link,\n",
       "a:visited.sk-estimator-doc-link {\n",
       "  float: right;\n",
       "  font-size: smaller;\n",
       "  line-height: 1em;\n",
       "  font-family: monospace;\n",
       "  background-color: var(--sklearn-color-background);\n",
       "  border-radius: 1em;\n",
       "  height: 1em;\n",
       "  width: 1em;\n",
       "  text-decoration: none !important;\n",
       "  margin-left: 0.5em;\n",
       "  text-align: center;\n",
       "  /* unfitted */\n",
       "  border: var(--sklearn-color-unfitted-level-1) 1pt solid;\n",
       "  color: var(--sklearn-color-unfitted-level-1);\n",
       "}\n",
       "\n",
       ".sk-estimator-doc-link.fitted,\n",
       "a:link.sk-estimator-doc-link.fitted,\n",
       "a:visited.sk-estimator-doc-link.fitted {\n",
       "  /* fitted */\n",
       "  border: var(--sklearn-color-fitted-level-1) 1pt solid;\n",
       "  color: var(--sklearn-color-fitted-level-1);\n",
       "}\n",
       "\n",
       "/* On hover */\n",
       "div.sk-estimator:hover .sk-estimator-doc-link:hover,\n",
       ".sk-estimator-doc-link:hover,\n",
       "div.sk-label-container:hover .sk-estimator-doc-link:hover,\n",
       ".sk-estimator-doc-link:hover {\n",
       "  /* unfitted */\n",
       "  background-color: var(--sklearn-color-unfitted-level-3);\n",
       "  color: var(--sklearn-color-background);\n",
       "  text-decoration: none;\n",
       "}\n",
       "\n",
       "div.sk-estimator.fitted:hover .sk-estimator-doc-link.fitted:hover,\n",
       ".sk-estimator-doc-link.fitted:hover,\n",
       "div.sk-label-container:hover .sk-estimator-doc-link.fitted:hover,\n",
       ".sk-estimator-doc-link.fitted:hover {\n",
       "  /* fitted */\n",
       "  background-color: var(--sklearn-color-fitted-level-3);\n",
       "  color: var(--sklearn-color-background);\n",
       "  text-decoration: none;\n",
       "}\n",
       "\n",
       "/* Span, style for the box shown on hovering the info icon */\n",
       ".sk-estimator-doc-link span {\n",
       "  display: none;\n",
       "  z-index: 9999;\n",
       "  position: relative;\n",
       "  font-weight: normal;\n",
       "  right: .2ex;\n",
       "  padding: .5ex;\n",
       "  margin: .5ex;\n",
       "  width: min-content;\n",
       "  min-width: 20ex;\n",
       "  max-width: 50ex;\n",
       "  color: var(--sklearn-color-text);\n",
       "  box-shadow: 2pt 2pt 4pt #999;\n",
       "  /* unfitted */\n",
       "  background: var(--sklearn-color-unfitted-level-0);\n",
       "  border: .5pt solid var(--sklearn-color-unfitted-level-3);\n",
       "}\n",
       "\n",
       ".sk-estimator-doc-link.fitted span {\n",
       "  /* fitted */\n",
       "  background: var(--sklearn-color-fitted-level-0);\n",
       "  border: var(--sklearn-color-fitted-level-3);\n",
       "}\n",
       "\n",
       ".sk-estimator-doc-link:hover span {\n",
       "  display: block;\n",
       "}\n",
       "\n",
       "/* \"?\"-specific style due to the `<a>` HTML tag */\n",
       "\n",
       "#sk-container-id-1 a.estimator_doc_link {\n",
       "  float: right;\n",
       "  font-size: 1rem;\n",
       "  line-height: 1em;\n",
       "  font-family: monospace;\n",
       "  background-color: var(--sklearn-color-background);\n",
       "  border-radius: 1rem;\n",
       "  height: 1rem;\n",
       "  width: 1rem;\n",
       "  text-decoration: none;\n",
       "  /* unfitted */\n",
       "  color: var(--sklearn-color-unfitted-level-1);\n",
       "  border: var(--sklearn-color-unfitted-level-1) 1pt solid;\n",
       "}\n",
       "\n",
       "#sk-container-id-1 a.estimator_doc_link.fitted {\n",
       "  /* fitted */\n",
       "  border: var(--sklearn-color-fitted-level-1) 1pt solid;\n",
       "  color: var(--sklearn-color-fitted-level-1);\n",
       "}\n",
       "\n",
       "/* On hover */\n",
       "#sk-container-id-1 a.estimator_doc_link:hover {\n",
       "  /* unfitted */\n",
       "  background-color: var(--sklearn-color-unfitted-level-3);\n",
       "  color: var(--sklearn-color-background);\n",
       "  text-decoration: none;\n",
       "}\n",
       "\n",
       "#sk-container-id-1 a.estimator_doc_link.fitted:hover {\n",
       "  /* fitted */\n",
       "  background-color: var(--sklearn-color-fitted-level-3);\n",
       "}\n",
       "</style><div id=\"sk-container-id-1\" class=\"sk-top-container\"><div class=\"sk-text-repr-fallback\"><pre>Pipeline(steps=[(&#x27;countvectorizer&#x27;, CountVectorizer()),\n",
       "                (&#x27;multinomialnb&#x27;, MultinomialNB())])</pre><b>In a Jupyter environment, please rerun this cell to show the HTML representation or trust the notebook. <br />On GitHub, the HTML representation is unable to render, please try loading this page with nbviewer.org.</b></div><div class=\"sk-container\" hidden><div class=\"sk-item sk-dashed-wrapped\"><div class=\"sk-label-container\"><div class=\"sk-label  sk-toggleable\"><input class=\"sk-toggleable__control sk-hidden--visually\" id=\"sk-estimator-id-1\" type=\"checkbox\" ><label for=\"sk-estimator-id-1\" class=\"sk-toggleable__label  sk-toggleable__label-arrow\"><div><div>Pipeline</div></div><div><a class=\"sk-estimator-doc-link \" rel=\"noreferrer\" target=\"_blank\" href=\"https://scikit-learn.org/1.6/modules/generated/sklearn.pipeline.Pipeline.html\">?<span>Documentation for Pipeline</span></a><span class=\"sk-estimator-doc-link \">i<span>Not fitted</span></span></div></label><div class=\"sk-toggleable__content \"><pre>Pipeline(steps=[(&#x27;countvectorizer&#x27;, CountVectorizer()),\n",
       "                (&#x27;multinomialnb&#x27;, MultinomialNB())])</pre></div> </div></div><div class=\"sk-serial\"><div class=\"sk-item\"><div class=\"sk-estimator  sk-toggleable\"><input class=\"sk-toggleable__control sk-hidden--visually\" id=\"sk-estimator-id-2\" type=\"checkbox\" ><label for=\"sk-estimator-id-2\" class=\"sk-toggleable__label  sk-toggleable__label-arrow\"><div><div>CountVectorizer</div></div><div><a class=\"sk-estimator-doc-link \" rel=\"noreferrer\" target=\"_blank\" href=\"https://scikit-learn.org/1.6/modules/generated/sklearn.feature_extraction.text.CountVectorizer.html\">?<span>Documentation for CountVectorizer</span></a></div></label><div class=\"sk-toggleable__content \"><pre>CountVectorizer()</pre></div> </div></div><div class=\"sk-item\"><div class=\"sk-estimator  sk-toggleable\"><input class=\"sk-toggleable__control sk-hidden--visually\" id=\"sk-estimator-id-3\" type=\"checkbox\" ><label for=\"sk-estimator-id-3\" class=\"sk-toggleable__label  sk-toggleable__label-arrow\"><div><div>MultinomialNB</div></div><div><a class=\"sk-estimator-doc-link \" rel=\"noreferrer\" target=\"_blank\" href=\"https://scikit-learn.org/1.6/modules/generated/sklearn.naive_bayes.MultinomialNB.html\">?<span>Documentation for MultinomialNB</span></a></div></label><div class=\"sk-toggleable__content \"><pre>MultinomialNB()</pre></div> </div></div></div></div></div></div>"
      ],
      "text/plain": [
       "Pipeline(steps=[('countvectorizer', CountVectorizer()),\n",
       "                ('multinomialnb', MultinomialNB())])"
      ]
     },
     "execution_count": 54,
     "metadata": {},
     "output_type": "execute_result"
    }
   ],
   "source": [
    "# Create the model pipeline\n",
    "\n",
    "pipe = make_pipeline(CountVectorizer(), MultinomialNB())\n",
    "pipe"
   ]
  },
  {
   "cell_type": "code",
   "execution_count": 55,
   "id": "6ebe1c21",
   "metadata": {},
   "outputs": [
    {
     "data": {
      "text/html": [
       "<style>#sk-container-id-2 {\n",
       "  /* Definition of color scheme common for light and dark mode */\n",
       "  --sklearn-color-text: #000;\n",
       "  --sklearn-color-text-muted: #666;\n",
       "  --sklearn-color-line: gray;\n",
       "  /* Definition of color scheme for unfitted estimators */\n",
       "  --sklearn-color-unfitted-level-0: #fff5e6;\n",
       "  --sklearn-color-unfitted-level-1: #f6e4d2;\n",
       "  --sklearn-color-unfitted-level-2: #ffe0b3;\n",
       "  --sklearn-color-unfitted-level-3: chocolate;\n",
       "  /* Definition of color scheme for fitted estimators */\n",
       "  --sklearn-color-fitted-level-0: #f0f8ff;\n",
       "  --sklearn-color-fitted-level-1: #d4ebff;\n",
       "  --sklearn-color-fitted-level-2: #b3dbfd;\n",
       "  --sklearn-color-fitted-level-3: cornflowerblue;\n",
       "\n",
       "  /* Specific color for light theme */\n",
       "  --sklearn-color-text-on-default-background: var(--sg-text-color, var(--theme-code-foreground, var(--jp-content-font-color1, black)));\n",
       "  --sklearn-color-background: var(--sg-background-color, var(--theme-background, var(--jp-layout-color0, white)));\n",
       "  --sklearn-color-border-box: var(--sg-text-color, var(--theme-code-foreground, var(--jp-content-font-color1, black)));\n",
       "  --sklearn-color-icon: #696969;\n",
       "\n",
       "  @media (prefers-color-scheme: dark) {\n",
       "    /* Redefinition of color scheme for dark theme */\n",
       "    --sklearn-color-text-on-default-background: var(--sg-text-color, var(--theme-code-foreground, var(--jp-content-font-color1, white)));\n",
       "    --sklearn-color-background: var(--sg-background-color, var(--theme-background, var(--jp-layout-color0, #111)));\n",
       "    --sklearn-color-border-box: var(--sg-text-color, var(--theme-code-foreground, var(--jp-content-font-color1, white)));\n",
       "    --sklearn-color-icon: #878787;\n",
       "  }\n",
       "}\n",
       "\n",
       "#sk-container-id-2 {\n",
       "  color: var(--sklearn-color-text);\n",
       "}\n",
       "\n",
       "#sk-container-id-2 pre {\n",
       "  padding: 0;\n",
       "}\n",
       "\n",
       "#sk-container-id-2 input.sk-hidden--visually {\n",
       "  border: 0;\n",
       "  clip: rect(1px 1px 1px 1px);\n",
       "  clip: rect(1px, 1px, 1px, 1px);\n",
       "  height: 1px;\n",
       "  margin: -1px;\n",
       "  overflow: hidden;\n",
       "  padding: 0;\n",
       "  position: absolute;\n",
       "  width: 1px;\n",
       "}\n",
       "\n",
       "#sk-container-id-2 div.sk-dashed-wrapped {\n",
       "  border: 1px dashed var(--sklearn-color-line);\n",
       "  margin: 0 0.4em 0.5em 0.4em;\n",
       "  box-sizing: border-box;\n",
       "  padding-bottom: 0.4em;\n",
       "  background-color: var(--sklearn-color-background);\n",
       "}\n",
       "\n",
       "#sk-container-id-2 div.sk-container {\n",
       "  /* jupyter's `normalize.less` sets `[hidden] { display: none; }`\n",
       "     but bootstrap.min.css set `[hidden] { display: none !important; }`\n",
       "     so we also need the `!important` here to be able to override the\n",
       "     default hidden behavior on the sphinx rendered scikit-learn.org.\n",
       "     See: https://github.com/scikit-learn/scikit-learn/issues/21755 */\n",
       "  display: inline-block !important;\n",
       "  position: relative;\n",
       "}\n",
       "\n",
       "#sk-container-id-2 div.sk-text-repr-fallback {\n",
       "  display: none;\n",
       "}\n",
       "\n",
       "div.sk-parallel-item,\n",
       "div.sk-serial,\n",
       "div.sk-item {\n",
       "  /* draw centered vertical line to link estimators */\n",
       "  background-image: linear-gradient(var(--sklearn-color-text-on-default-background), var(--sklearn-color-text-on-default-background));\n",
       "  background-size: 2px 100%;\n",
       "  background-repeat: no-repeat;\n",
       "  background-position: center center;\n",
       "}\n",
       "\n",
       "/* Parallel-specific style estimator block */\n",
       "\n",
       "#sk-container-id-2 div.sk-parallel-item::after {\n",
       "  content: \"\";\n",
       "  width: 100%;\n",
       "  border-bottom: 2px solid var(--sklearn-color-text-on-default-background);\n",
       "  flex-grow: 1;\n",
       "}\n",
       "\n",
       "#sk-container-id-2 div.sk-parallel {\n",
       "  display: flex;\n",
       "  align-items: stretch;\n",
       "  justify-content: center;\n",
       "  background-color: var(--sklearn-color-background);\n",
       "  position: relative;\n",
       "}\n",
       "\n",
       "#sk-container-id-2 div.sk-parallel-item {\n",
       "  display: flex;\n",
       "  flex-direction: column;\n",
       "}\n",
       "\n",
       "#sk-container-id-2 div.sk-parallel-item:first-child::after {\n",
       "  align-self: flex-end;\n",
       "  width: 50%;\n",
       "}\n",
       "\n",
       "#sk-container-id-2 div.sk-parallel-item:last-child::after {\n",
       "  align-self: flex-start;\n",
       "  width: 50%;\n",
       "}\n",
       "\n",
       "#sk-container-id-2 div.sk-parallel-item:only-child::after {\n",
       "  width: 0;\n",
       "}\n",
       "\n",
       "/* Serial-specific style estimator block */\n",
       "\n",
       "#sk-container-id-2 div.sk-serial {\n",
       "  display: flex;\n",
       "  flex-direction: column;\n",
       "  align-items: center;\n",
       "  background-color: var(--sklearn-color-background);\n",
       "  padding-right: 1em;\n",
       "  padding-left: 1em;\n",
       "}\n",
       "\n",
       "\n",
       "/* Toggleable style: style used for estimator/Pipeline/ColumnTransformer box that is\n",
       "clickable and can be expanded/collapsed.\n",
       "- Pipeline and ColumnTransformer use this feature and define the default style\n",
       "- Estimators will overwrite some part of the style using the `sk-estimator` class\n",
       "*/\n",
       "\n",
       "/* Pipeline and ColumnTransformer style (default) */\n",
       "\n",
       "#sk-container-id-2 div.sk-toggleable {\n",
       "  /* Default theme specific background. It is overwritten whether we have a\n",
       "  specific estimator or a Pipeline/ColumnTransformer */\n",
       "  background-color: var(--sklearn-color-background);\n",
       "}\n",
       "\n",
       "/* Toggleable label */\n",
       "#sk-container-id-2 label.sk-toggleable__label {\n",
       "  cursor: pointer;\n",
       "  display: flex;\n",
       "  width: 100%;\n",
       "  margin-bottom: 0;\n",
       "  padding: 0.5em;\n",
       "  box-sizing: border-box;\n",
       "  text-align: center;\n",
       "  align-items: start;\n",
       "  justify-content: space-between;\n",
       "  gap: 0.5em;\n",
       "}\n",
       "\n",
       "#sk-container-id-2 label.sk-toggleable__label .caption {\n",
       "  font-size: 0.6rem;\n",
       "  font-weight: lighter;\n",
       "  color: var(--sklearn-color-text-muted);\n",
       "}\n",
       "\n",
       "#sk-container-id-2 label.sk-toggleable__label-arrow:before {\n",
       "  /* Arrow on the left of the label */\n",
       "  content: \"▸\";\n",
       "  float: left;\n",
       "  margin-right: 0.25em;\n",
       "  color: var(--sklearn-color-icon);\n",
       "}\n",
       "\n",
       "#sk-container-id-2 label.sk-toggleable__label-arrow:hover:before {\n",
       "  color: var(--sklearn-color-text);\n",
       "}\n",
       "\n",
       "/* Toggleable content - dropdown */\n",
       "\n",
       "#sk-container-id-2 div.sk-toggleable__content {\n",
       "  max-height: 0;\n",
       "  max-width: 0;\n",
       "  overflow: hidden;\n",
       "  text-align: left;\n",
       "  /* unfitted */\n",
       "  background-color: var(--sklearn-color-unfitted-level-0);\n",
       "}\n",
       "\n",
       "#sk-container-id-2 div.sk-toggleable__content.fitted {\n",
       "  /* fitted */\n",
       "  background-color: var(--sklearn-color-fitted-level-0);\n",
       "}\n",
       "\n",
       "#sk-container-id-2 div.sk-toggleable__content pre {\n",
       "  margin: 0.2em;\n",
       "  border-radius: 0.25em;\n",
       "  color: var(--sklearn-color-text);\n",
       "  /* unfitted */\n",
       "  background-color: var(--sklearn-color-unfitted-level-0);\n",
       "}\n",
       "\n",
       "#sk-container-id-2 div.sk-toggleable__content.fitted pre {\n",
       "  /* unfitted */\n",
       "  background-color: var(--sklearn-color-fitted-level-0);\n",
       "}\n",
       "\n",
       "#sk-container-id-2 input.sk-toggleable__control:checked~div.sk-toggleable__content {\n",
       "  /* Expand drop-down */\n",
       "  max-height: 200px;\n",
       "  max-width: 100%;\n",
       "  overflow: auto;\n",
       "}\n",
       "\n",
       "#sk-container-id-2 input.sk-toggleable__control:checked~label.sk-toggleable__label-arrow:before {\n",
       "  content: \"▾\";\n",
       "}\n",
       "\n",
       "/* Pipeline/ColumnTransformer-specific style */\n",
       "\n",
       "#sk-container-id-2 div.sk-label input.sk-toggleable__control:checked~label.sk-toggleable__label {\n",
       "  color: var(--sklearn-color-text);\n",
       "  background-color: var(--sklearn-color-unfitted-level-2);\n",
       "}\n",
       "\n",
       "#sk-container-id-2 div.sk-label.fitted input.sk-toggleable__control:checked~label.sk-toggleable__label {\n",
       "  background-color: var(--sklearn-color-fitted-level-2);\n",
       "}\n",
       "\n",
       "/* Estimator-specific style */\n",
       "\n",
       "/* Colorize estimator box */\n",
       "#sk-container-id-2 div.sk-estimator input.sk-toggleable__control:checked~label.sk-toggleable__label {\n",
       "  /* unfitted */\n",
       "  background-color: var(--sklearn-color-unfitted-level-2);\n",
       "}\n",
       "\n",
       "#sk-container-id-2 div.sk-estimator.fitted input.sk-toggleable__control:checked~label.sk-toggleable__label {\n",
       "  /* fitted */\n",
       "  background-color: var(--sklearn-color-fitted-level-2);\n",
       "}\n",
       "\n",
       "#sk-container-id-2 div.sk-label label.sk-toggleable__label,\n",
       "#sk-container-id-2 div.sk-label label {\n",
       "  /* The background is the default theme color */\n",
       "  color: var(--sklearn-color-text-on-default-background);\n",
       "}\n",
       "\n",
       "/* On hover, darken the color of the background */\n",
       "#sk-container-id-2 div.sk-label:hover label.sk-toggleable__label {\n",
       "  color: var(--sklearn-color-text);\n",
       "  background-color: var(--sklearn-color-unfitted-level-2);\n",
       "}\n",
       "\n",
       "/* Label box, darken color on hover, fitted */\n",
       "#sk-container-id-2 div.sk-label.fitted:hover label.sk-toggleable__label.fitted {\n",
       "  color: var(--sklearn-color-text);\n",
       "  background-color: var(--sklearn-color-fitted-level-2);\n",
       "}\n",
       "\n",
       "/* Estimator label */\n",
       "\n",
       "#sk-container-id-2 div.sk-label label {\n",
       "  font-family: monospace;\n",
       "  font-weight: bold;\n",
       "  display: inline-block;\n",
       "  line-height: 1.2em;\n",
       "}\n",
       "\n",
       "#sk-container-id-2 div.sk-label-container {\n",
       "  text-align: center;\n",
       "}\n",
       "\n",
       "/* Estimator-specific */\n",
       "#sk-container-id-2 div.sk-estimator {\n",
       "  font-family: monospace;\n",
       "  border: 1px dotted var(--sklearn-color-border-box);\n",
       "  border-radius: 0.25em;\n",
       "  box-sizing: border-box;\n",
       "  margin-bottom: 0.5em;\n",
       "  /* unfitted */\n",
       "  background-color: var(--sklearn-color-unfitted-level-0);\n",
       "}\n",
       "\n",
       "#sk-container-id-2 div.sk-estimator.fitted {\n",
       "  /* fitted */\n",
       "  background-color: var(--sklearn-color-fitted-level-0);\n",
       "}\n",
       "\n",
       "/* on hover */\n",
       "#sk-container-id-2 div.sk-estimator:hover {\n",
       "  /* unfitted */\n",
       "  background-color: var(--sklearn-color-unfitted-level-2);\n",
       "}\n",
       "\n",
       "#sk-container-id-2 div.sk-estimator.fitted:hover {\n",
       "  /* fitted */\n",
       "  background-color: var(--sklearn-color-fitted-level-2);\n",
       "}\n",
       "\n",
       "/* Specification for estimator info (e.g. \"i\" and \"?\") */\n",
       "\n",
       "/* Common style for \"i\" and \"?\" */\n",
       "\n",
       ".sk-estimator-doc-link,\n",
       "a:link.sk-estimator-doc-link,\n",
       "a:visited.sk-estimator-doc-link {\n",
       "  float: right;\n",
       "  font-size: smaller;\n",
       "  line-height: 1em;\n",
       "  font-family: monospace;\n",
       "  background-color: var(--sklearn-color-background);\n",
       "  border-radius: 1em;\n",
       "  height: 1em;\n",
       "  width: 1em;\n",
       "  text-decoration: none !important;\n",
       "  margin-left: 0.5em;\n",
       "  text-align: center;\n",
       "  /* unfitted */\n",
       "  border: var(--sklearn-color-unfitted-level-1) 1pt solid;\n",
       "  color: var(--sklearn-color-unfitted-level-1);\n",
       "}\n",
       "\n",
       ".sk-estimator-doc-link.fitted,\n",
       "a:link.sk-estimator-doc-link.fitted,\n",
       "a:visited.sk-estimator-doc-link.fitted {\n",
       "  /* fitted */\n",
       "  border: var(--sklearn-color-fitted-level-1) 1pt solid;\n",
       "  color: var(--sklearn-color-fitted-level-1);\n",
       "}\n",
       "\n",
       "/* On hover */\n",
       "div.sk-estimator:hover .sk-estimator-doc-link:hover,\n",
       ".sk-estimator-doc-link:hover,\n",
       "div.sk-label-container:hover .sk-estimator-doc-link:hover,\n",
       ".sk-estimator-doc-link:hover {\n",
       "  /* unfitted */\n",
       "  background-color: var(--sklearn-color-unfitted-level-3);\n",
       "  color: var(--sklearn-color-background);\n",
       "  text-decoration: none;\n",
       "}\n",
       "\n",
       "div.sk-estimator.fitted:hover .sk-estimator-doc-link.fitted:hover,\n",
       ".sk-estimator-doc-link.fitted:hover,\n",
       "div.sk-label-container:hover .sk-estimator-doc-link.fitted:hover,\n",
       ".sk-estimator-doc-link.fitted:hover {\n",
       "  /* fitted */\n",
       "  background-color: var(--sklearn-color-fitted-level-3);\n",
       "  color: var(--sklearn-color-background);\n",
       "  text-decoration: none;\n",
       "}\n",
       "\n",
       "/* Span, style for the box shown on hovering the info icon */\n",
       ".sk-estimator-doc-link span {\n",
       "  display: none;\n",
       "  z-index: 9999;\n",
       "  position: relative;\n",
       "  font-weight: normal;\n",
       "  right: .2ex;\n",
       "  padding: .5ex;\n",
       "  margin: .5ex;\n",
       "  width: min-content;\n",
       "  min-width: 20ex;\n",
       "  max-width: 50ex;\n",
       "  color: var(--sklearn-color-text);\n",
       "  box-shadow: 2pt 2pt 4pt #999;\n",
       "  /* unfitted */\n",
       "  background: var(--sklearn-color-unfitted-level-0);\n",
       "  border: .5pt solid var(--sklearn-color-unfitted-level-3);\n",
       "}\n",
       "\n",
       ".sk-estimator-doc-link.fitted span {\n",
       "  /* fitted */\n",
       "  background: var(--sklearn-color-fitted-level-0);\n",
       "  border: var(--sklearn-color-fitted-level-3);\n",
       "}\n",
       "\n",
       ".sk-estimator-doc-link:hover span {\n",
       "  display: block;\n",
       "}\n",
       "\n",
       "/* \"?\"-specific style due to the `<a>` HTML tag */\n",
       "\n",
       "#sk-container-id-2 a.estimator_doc_link {\n",
       "  float: right;\n",
       "  font-size: 1rem;\n",
       "  line-height: 1em;\n",
       "  font-family: monospace;\n",
       "  background-color: var(--sklearn-color-background);\n",
       "  border-radius: 1rem;\n",
       "  height: 1rem;\n",
       "  width: 1rem;\n",
       "  text-decoration: none;\n",
       "  /* unfitted */\n",
       "  color: var(--sklearn-color-unfitted-level-1);\n",
       "  border: var(--sklearn-color-unfitted-level-1) 1pt solid;\n",
       "}\n",
       "\n",
       "#sk-container-id-2 a.estimator_doc_link.fitted {\n",
       "  /* fitted */\n",
       "  border: var(--sklearn-color-fitted-level-1) 1pt solid;\n",
       "  color: var(--sklearn-color-fitted-level-1);\n",
       "}\n",
       "\n",
       "/* On hover */\n",
       "#sk-container-id-2 a.estimator_doc_link:hover {\n",
       "  /* unfitted */\n",
       "  background-color: var(--sklearn-color-unfitted-level-3);\n",
       "  color: var(--sklearn-color-background);\n",
       "  text-decoration: none;\n",
       "}\n",
       "\n",
       "#sk-container-id-2 a.estimator_doc_link.fitted:hover {\n",
       "  /* fitted */\n",
       "  background-color: var(--sklearn-color-fitted-level-3);\n",
       "}\n",
       "</style><div id=\"sk-container-id-2\" class=\"sk-top-container\"><div class=\"sk-text-repr-fallback\"><pre>Pipeline(steps=[(&#x27;countvectorizer&#x27;, CountVectorizer()),\n",
       "                (&#x27;multinomialnb&#x27;, MultinomialNB())])</pre><b>In a Jupyter environment, please rerun this cell to show the HTML representation or trust the notebook. <br />On GitHub, the HTML representation is unable to render, please try loading this page with nbviewer.org.</b></div><div class=\"sk-container\" hidden><div class=\"sk-item sk-dashed-wrapped\"><div class=\"sk-label-container\"><div class=\"sk-label fitted sk-toggleable\"><input class=\"sk-toggleable__control sk-hidden--visually\" id=\"sk-estimator-id-4\" type=\"checkbox\" ><label for=\"sk-estimator-id-4\" class=\"sk-toggleable__label fitted sk-toggleable__label-arrow\"><div><div>Pipeline</div></div><div><a class=\"sk-estimator-doc-link fitted\" rel=\"noreferrer\" target=\"_blank\" href=\"https://scikit-learn.org/1.6/modules/generated/sklearn.pipeline.Pipeline.html\">?<span>Documentation for Pipeline</span></a><span class=\"sk-estimator-doc-link fitted\">i<span>Fitted</span></span></div></label><div class=\"sk-toggleable__content fitted\"><pre>Pipeline(steps=[(&#x27;countvectorizer&#x27;, CountVectorizer()),\n",
       "                (&#x27;multinomialnb&#x27;, MultinomialNB())])</pre></div> </div></div><div class=\"sk-serial\"><div class=\"sk-item\"><div class=\"sk-estimator fitted sk-toggleable\"><input class=\"sk-toggleable__control sk-hidden--visually\" id=\"sk-estimator-id-5\" type=\"checkbox\" ><label for=\"sk-estimator-id-5\" class=\"sk-toggleable__label fitted sk-toggleable__label-arrow\"><div><div>CountVectorizer</div></div><div><a class=\"sk-estimator-doc-link fitted\" rel=\"noreferrer\" target=\"_blank\" href=\"https://scikit-learn.org/1.6/modules/generated/sklearn.feature_extraction.text.CountVectorizer.html\">?<span>Documentation for CountVectorizer</span></a></div></label><div class=\"sk-toggleable__content fitted\"><pre>CountVectorizer()</pre></div> </div></div><div class=\"sk-item\"><div class=\"sk-estimator fitted sk-toggleable\"><input class=\"sk-toggleable__control sk-hidden--visually\" id=\"sk-estimator-id-6\" type=\"checkbox\" ><label for=\"sk-estimator-id-6\" class=\"sk-toggleable__label fitted sk-toggleable__label-arrow\"><div><div>MultinomialNB</div></div><div><a class=\"sk-estimator-doc-link fitted\" rel=\"noreferrer\" target=\"_blank\" href=\"https://scikit-learn.org/1.6/modules/generated/sklearn.naive_bayes.MultinomialNB.html\">?<span>Documentation for MultinomialNB</span></a></div></label><div class=\"sk-toggleable__content fitted\"><pre>MultinomialNB()</pre></div> </div></div></div></div></div></div>"
      ],
      "text/plain": [
       "Pipeline(steps=[('countvectorizer', CountVectorizer()),\n",
       "                ('multinomialnb', MultinomialNB())])"
      ]
     },
     "execution_count": 55,
     "metadata": {},
     "output_type": "execute_result"
    }
   ],
   "source": [
    "# Train the pipeline and score\n",
    "\n",
    "pipe.fit(X_train, y_train)\n",
    "\n",
    "#pipe.score(X_test, y_test)"
   ]
  },
  {
   "cell_type": "code",
   "execution_count": 56,
   "id": "9f7906ab",
   "metadata": {
    "scrolled": false
   },
   "outputs": [
    {
     "data": {
      "text/plain": [
       "{'0': {'precision': 0.7723214285714286,\n",
       "  'recall': 0.7554585152838428,\n",
       "  'f1-score': 0.7637969094922737,\n",
       "  'support': 687.0},\n",
       " '1': {'precision': 0.7692307692307693,\n",
       "  'recall': 0.7854137447405329,\n",
       "  'f1-score': 0.7772380291464261,\n",
       "  'support': 713.0},\n",
       " 'accuracy': 0.7707142857142857,\n",
       " 'macro avg': {'precision': 0.770776098901099,\n",
       "  'recall': 0.7704361300121878,\n",
       "  'f1-score': 0.77051746931935,\n",
       "  'support': 1400.0},\n",
       " 'weighted avg': {'precision': 0.7707473999215071,\n",
       "  'recall': 0.7707142857142857,\n",
       "  'f1-score': 0.7706422797161385,\n",
       "  'support': 1400.0}}"
      ]
     },
     "execution_count": 56,
     "metadata": {},
     "output_type": "execute_result"
    }
   ],
   "source": [
    "y_pred = pipe.predict(X_test)\n",
    "\n",
    "classification_report(y_test, y_pred, output_dict=True)"
   ]
  },
  {
   "cell_type": "code",
   "execution_count": null,
   "id": "fe537b14",
   "metadata": {},
   "outputs": [],
   "source": [
    "y_prob=np.round(pipe.predict_proba(X_test),2)\n",
    "y_prob"
   ]
  },
  {
   "cell_type": "code",
   "execution_count": null,
   "id": "d9e3439d",
   "metadata": {},
   "outputs": [],
   "source": [
    "np.unique(y_prob)"
   ]
  },
  {
   "cell_type": "code",
   "execution_count": null,
   "id": "756178fe",
   "metadata": {},
   "outputs": [],
   "source": [
    "y_prob_df=pd.DataFrame(y_prob)"
   ]
  },
  {
   "cell_type": "code",
   "execution_count": null,
   "id": "e9db3f0e",
   "metadata": {},
   "outputs": [],
   "source": [
    "y_prob_df.value_counts()"
   ]
  },
  {
   "cell_type": "markdown",
   "id": "b9882d60",
   "metadata": {},
   "source": [
    "# tests with new data"
   ]
  },
  {
   "cell_type": "markdown",
   "id": "ba9671bf",
   "metadata": {},
   "source": [
    "## isot"
   ]
  },
  {
   "cell_type": "code",
   "execution_count": 58,
   "id": "b150ce6f",
   "metadata": {
    "collapsed": true
   },
   "outputs": [
    {
     "data": {
      "text/html": [
       "<div>\n",
       "<style scoped>\n",
       "    .dataframe tbody tr th:only-of-type {\n",
       "        vertical-align: middle;\n",
       "    }\n",
       "\n",
       "    .dataframe tbody tr th {\n",
       "        vertical-align: top;\n",
       "    }\n",
       "\n",
       "    .dataframe thead th {\n",
       "        text-align: right;\n",
       "    }\n",
       "</style>\n",
       "<table border=\"1\" class=\"dataframe\">\n",
       "  <thead>\n",
       "    <tr style=\"text-align: right;\">\n",
       "      <th></th>\n",
       "      <th>title</th>\n",
       "      <th>text</th>\n",
       "      <th>subject</th>\n",
       "      <th>date</th>\n",
       "    </tr>\n",
       "  </thead>\n",
       "  <tbody>\n",
       "    <tr>\n",
       "      <th>0</th>\n",
       "      <td>As U.S. budget fight looms, Republicans flip t...</td>\n",
       "      <td>WASHINGTON (Reuters) - The head of a conservat...</td>\n",
       "      <td>politicsNews</td>\n",
       "      <td>December 31, 2017</td>\n",
       "    </tr>\n",
       "    <tr>\n",
       "      <th>1</th>\n",
       "      <td>U.S. military to accept transgender recruits o...</td>\n",
       "      <td>WASHINGTON (Reuters) - Transgender people will...</td>\n",
       "      <td>politicsNews</td>\n",
       "      <td>December 29, 2017</td>\n",
       "    </tr>\n",
       "    <tr>\n",
       "      <th>2</th>\n",
       "      <td>Senior U.S. Republican senator: 'Let Mr. Muell...</td>\n",
       "      <td>WASHINGTON (Reuters) - The special counsel inv...</td>\n",
       "      <td>politicsNews</td>\n",
       "      <td>December 31, 2017</td>\n",
       "    </tr>\n",
       "    <tr>\n",
       "      <th>3</th>\n",
       "      <td>FBI Russia probe helped by Australian diplomat...</td>\n",
       "      <td>WASHINGTON (Reuters) - Trump campaign adviser ...</td>\n",
       "      <td>politicsNews</td>\n",
       "      <td>December 30, 2017</td>\n",
       "    </tr>\n",
       "    <tr>\n",
       "      <th>4</th>\n",
       "      <td>Trump wants Postal Service to charge 'much mor...</td>\n",
       "      <td>SEATTLE/WASHINGTON (Reuters) - President Donal...</td>\n",
       "      <td>politicsNews</td>\n",
       "      <td>December 29, 2017</td>\n",
       "    </tr>\n",
       "  </tbody>\n",
       "</table>\n",
       "</div>"
      ],
      "text/plain": [
       "                                               title  \\\n",
       "0  As U.S. budget fight looms, Republicans flip t...   \n",
       "1  U.S. military to accept transgender recruits o...   \n",
       "2  Senior U.S. Republican senator: 'Let Mr. Muell...   \n",
       "3  FBI Russia probe helped by Australian diplomat...   \n",
       "4  Trump wants Postal Service to charge 'much mor...   \n",
       "\n",
       "                                                text       subject  \\\n",
       "0  WASHINGTON (Reuters) - The head of a conservat...  politicsNews   \n",
       "1  WASHINGTON (Reuters) - Transgender people will...  politicsNews   \n",
       "2  WASHINGTON (Reuters) - The special counsel inv...  politicsNews   \n",
       "3  WASHINGTON (Reuters) - Trump campaign adviser ...  politicsNews   \n",
       "4  SEATTLE/WASHINGTON (Reuters) - President Donal...  politicsNews   \n",
       "\n",
       "                 date  \n",
       "0  December 31, 2017   \n",
       "1  December 29, 2017   \n",
       "2  December 31, 2017   \n",
       "3  December 30, 2017   \n",
       "4  December 29, 2017   "
      ]
     },
     "execution_count": 58,
     "metadata": {},
     "output_type": "execute_result"
    }
   ],
   "source": [
    "#load new data\n",
    "isot_real=pd.read_csv(\"/home/kathrin/code/kbank1/fake_news/raw_data/isot/True.csv\")\n",
    "isot_real.head()"
   ]
  },
  {
   "cell_type": "code",
   "execution_count": 60,
   "id": "698fecd4",
   "metadata": {},
   "outputs": [
    {
     "data": {
      "text/plain": [
       "(21417, 4)"
      ]
     },
     "execution_count": 60,
     "metadata": {},
     "output_type": "execute_result"
    }
   ],
   "source": [
    "isot_real.shape"
   ]
  },
  {
   "cell_type": "code",
   "execution_count": 59,
   "id": "aae73609",
   "metadata": {
    "collapsed": true
   },
   "outputs": [
    {
     "data": {
      "text/html": [
       "<div>\n",
       "<style scoped>\n",
       "    .dataframe tbody tr th:only-of-type {\n",
       "        vertical-align: middle;\n",
       "    }\n",
       "\n",
       "    .dataframe tbody tr th {\n",
       "        vertical-align: top;\n",
       "    }\n",
       "\n",
       "    .dataframe thead th {\n",
       "        text-align: right;\n",
       "    }\n",
       "</style>\n",
       "<table border=\"1\" class=\"dataframe\">\n",
       "  <thead>\n",
       "    <tr style=\"text-align: right;\">\n",
       "      <th></th>\n",
       "      <th>title</th>\n",
       "      <th>text</th>\n",
       "      <th>subject</th>\n",
       "      <th>date</th>\n",
       "    </tr>\n",
       "  </thead>\n",
       "  <tbody>\n",
       "    <tr>\n",
       "      <th>0</th>\n",
       "      <td>Donald Trump Sends Out Embarrassing New Year’...</td>\n",
       "      <td>Donald Trump just couldn t wish all Americans ...</td>\n",
       "      <td>News</td>\n",
       "      <td>December 31, 2017</td>\n",
       "    </tr>\n",
       "    <tr>\n",
       "      <th>1</th>\n",
       "      <td>Drunk Bragging Trump Staffer Started Russian ...</td>\n",
       "      <td>House Intelligence Committee Chairman Devin Nu...</td>\n",
       "      <td>News</td>\n",
       "      <td>December 31, 2017</td>\n",
       "    </tr>\n",
       "    <tr>\n",
       "      <th>2</th>\n",
       "      <td>Sheriff David Clarke Becomes An Internet Joke...</td>\n",
       "      <td>On Friday, it was revealed that former Milwauk...</td>\n",
       "      <td>News</td>\n",
       "      <td>December 30, 2017</td>\n",
       "    </tr>\n",
       "    <tr>\n",
       "      <th>3</th>\n",
       "      <td>Trump Is So Obsessed He Even Has Obama’s Name...</td>\n",
       "      <td>On Christmas day, Donald Trump announced that ...</td>\n",
       "      <td>News</td>\n",
       "      <td>December 29, 2017</td>\n",
       "    </tr>\n",
       "    <tr>\n",
       "      <th>4</th>\n",
       "      <td>Pope Francis Just Called Out Donald Trump Dur...</td>\n",
       "      <td>Pope Francis used his annual Christmas Day mes...</td>\n",
       "      <td>News</td>\n",
       "      <td>December 25, 2017</td>\n",
       "    </tr>\n",
       "  </tbody>\n",
       "</table>\n",
       "</div>"
      ],
      "text/plain": [
       "                                               title  \\\n",
       "0   Donald Trump Sends Out Embarrassing New Year’...   \n",
       "1   Drunk Bragging Trump Staffer Started Russian ...   \n",
       "2   Sheriff David Clarke Becomes An Internet Joke...   \n",
       "3   Trump Is So Obsessed He Even Has Obama’s Name...   \n",
       "4   Pope Francis Just Called Out Donald Trump Dur...   \n",
       "\n",
       "                                                text subject  \\\n",
       "0  Donald Trump just couldn t wish all Americans ...    News   \n",
       "1  House Intelligence Committee Chairman Devin Nu...    News   \n",
       "2  On Friday, it was revealed that former Milwauk...    News   \n",
       "3  On Christmas day, Donald Trump announced that ...    News   \n",
       "4  Pope Francis used his annual Christmas Day mes...    News   \n",
       "\n",
       "                date  \n",
       "0  December 31, 2017  \n",
       "1  December 31, 2017  \n",
       "2  December 30, 2017  \n",
       "3  December 29, 2017  \n",
       "4  December 25, 2017  "
      ]
     },
     "execution_count": 59,
     "metadata": {},
     "output_type": "execute_result"
    }
   ],
   "source": [
    "isot_fake=pd.read_csv(\"/home/kathrin/code/kbank1/fake_news/raw_data/isot/Fake.csv\")\n",
    "isot_fake.head()"
   ]
  },
  {
   "cell_type": "code",
   "execution_count": 61,
   "id": "b2beeb82",
   "metadata": {},
   "outputs": [
    {
     "data": {
      "text/plain": [
       "(23481, 4)"
      ]
     },
     "execution_count": 61,
     "metadata": {},
     "output_type": "execute_result"
    }
   ],
   "source": [
    "isot_fake.shape"
   ]
  },
  {
   "cell_type": "markdown",
   "id": "7a5425be",
   "metadata": {},
   "source": [
    "Isot is too old and uses politifact -> we might have data leakage.\n",
    "LIAR is also old and also uses Politifact."
   ]
  },
  {
   "cell_type": "markdown",
   "id": "8d9a4fd3",
   "metadata": {},
   "source": [
    "## test with one recent article"
   ]
  },
  {
   "cell_type": "code",
   "execution_count": 66,
   "id": "1a020070",
   "metadata": {
    "scrolled": true
   },
   "outputs": [
    {
     "data": {
      "text/plain": [
       "2849    TV host Anne-Marie Losique has again defended ...\n",
       "1235    Exactly one year ago, Ciara married Russell Wi...\n",
       "2883    Kelly Rowland is wearing her heart on her hand...\n",
       "4764    Ed Sheeran did not “break” the “friendship cod...\n",
       "521     What is Reza Farahan's Net Worth and Salary?\\n...\n",
       "                              ...                        \n",
       "3438    This content is imported from poll. You may be...\n",
       "2769    One Monday morning last September, Britain wok...\n",
       "1246    The singer ignored recent reports he's refusin...\n",
       "675     CNN —\\n\\nActor Reg E. Cathey, better known for...\n",
       "381     On the Today show Tuesday morning, Savannah Gu...\n",
       "Name: text, Length: 1400, dtype: object"
      ]
     },
     "execution_count": 66,
     "metadata": {},
     "output_type": "execute_result"
    }
   ],
   "source": [
    "X_test"
   ]
  },
  {
   "cell_type": "code",
   "execution_count": 73,
   "id": "b93a17d7",
   "metadata": {},
   "outputs": [],
   "source": [
    "text=\"US President Donald Trump has offered buyout packages to almost all federal employees, a major move designed to shrink and reform the US government. In an email sent on Tuesday, his administration told workers they had to decide by 6 February whether they wanted to be part of a deferred resignation programme. If they agree by then to quit in September, the message said, they would receive about eight months worth of salary as a severance package. The Trump administration expects up to 10% of employees to accept the offer - which equates to about 200,000 of the more than two million people who work for the federal government, according to the BBCs US partner CBS News. Senior Trump officials told US media that the buyouts could save the government up to $100bn (£80bn). The message from the US Office of Personnel Management (OPM), the governments HR agency, highlighted planned reforms to the government, including a requirement that most employees work in their offices five days a week. Since returning to the White House last week, Trump has already declared the end of Covid-era home working practices. The OPM said the offer was available to all full-time federal employees - excluding certain staff such as postal workers, members of the military, immigration officials, and some national security teams. Workers wishing to take the deal were asked to reply to the email with the word resign in the subject line. The offer includes both pay and benefits for workers until 30 September, and has been described as very generous by the White House. The message also warned of future downsizing that could impact those who chose to stay. We cannot give you full assurance regarding the certainty of your position or agency but should your position be eliminated you will be treated with dignity, it read. Stephen Miller, the White House deputy chief of staff for policy, told CNN that the governments workers were overwhelmingly left of centre, and that it was essential for Trump to get control of government. The move has been condemned. In a statement to US media, the head of the American Federation of Government Employees (AFGE) union warned that this purging process would have vast, unintended consequences that will cause chaos for the Americans who depend on a functioning federal government. Democratic Senator Tim Kaine was among those questioning Trumps power to make such deals. If you accept that offer and resign, hell stiff you just like he stiffed contractors, he said. He doesnt have any authority to do this. Do not be fooled by this guy. The returning US president repeatedly pledged to cut the size of the government and slash federal spending while on the campaign trail. He tasked Elon Musk and Vivek Ramaswamy with leading an advisory body focused on cutting regulations, spending, and headcounts within the federal government. Ramaswamy has since left this new Department of Government Efficiency (Doge). But the email on Tuesday bore resemblance to one sent to employees of Twitter, now X, in late 2022 after Musk bought the social media platform. He asked for an emailed response if they wanted to remain at the company. The mass buyout offer came at the end of an at-times chaotic day in Washington, following a memo Trump issued which said he would pause federal grants, loans and other assistance. A district judge suspended the order - which was initially set to go into effect on Tuesday afternoon - until next Monday. In the hours before that decision, there was widespread confusion over which federal programmes and organisations would be impacted. The White House repeatedly sought to assuage concerns that Social Security payments and Medicaid access could be disrupted.  In a letter to the White House, top Democrats expressed extreme alarm about the plan to pause funding. Also on Tuesday, Trump signed an executive order aimed at restricting gender care for young people. The order, titled Protecting Children from Chemical and Surgical Mutilation, says it would prevent those aged under 19 from making life-altering choices. It is the policy of the United States that it will not fund, sponsor, promote, assist, or support the so-called transition of a child from one sex to another, the order said. It is unclear, however, how the order would be implemented and it is likely to be challenged in court.\""
   ]
  },
  {
   "cell_type": "code",
   "execution_count": 74,
   "id": "6d5be2ee",
   "metadata": {},
   "outputs": [],
   "source": [
    "df = pd.DataFrame({\"text\": [text]})"
   ]
  },
  {
   "cell_type": "code",
   "execution_count": 76,
   "id": "7ac02918",
   "metadata": {},
   "outputs": [],
   "source": [
    "X_test_new=df[\"text\"]"
   ]
  },
  {
   "cell_type": "code",
   "execution_count": 77,
   "id": "0ca1ece2",
   "metadata": {},
   "outputs": [
    {
     "data": {
      "text/plain": [
       "0    US President Donald Trump has offered buyout p...\n",
       "Name: text, dtype: object"
      ]
     },
     "execution_count": 77,
     "metadata": {},
     "output_type": "execute_result"
    }
   ],
   "source": [
    "X_test_new"
   ]
  },
  {
   "cell_type": "code",
   "execution_count": 78,
   "id": "af394735",
   "metadata": {},
   "outputs": [],
   "source": [
    "y_pred_new=pipe.predict(X_test_new)"
   ]
  },
  {
   "cell_type": "code",
   "execution_count": 80,
   "id": "2a841b6d",
   "metadata": {},
   "outputs": [
    {
     "data": {
      "text/plain": [
       "array([0])"
      ]
     },
     "execution_count": 80,
     "metadata": {},
     "output_type": "execute_result"
    }
   ],
   "source": [
    "y_pred_new"
   ]
  },
  {
   "cell_type": "code",
   "execution_count": 93,
   "id": "4c753171",
   "metadata": {},
   "outputs": [
    {
     "data": {
      "text/plain": [
       "array([[1., 0.]])"
      ]
     },
     "execution_count": 93,
     "metadata": {},
     "output_type": "execute_result"
    }
   ],
   "source": [
    "y_prob_new=np.round(pipe.predict_proba(X_test_new),5)\n",
    "y_prob_new"
   ]
  },
  {
   "cell_type": "markdown",
   "id": "40dbf4a2",
   "metadata": {},
   "source": [
    "## test with 2023 guardian articles"
   ]
  },
  {
   "cell_type": "code",
   "execution_count": 124,
   "id": "1d341a0d",
   "metadata": {},
   "outputs": [
    {
     "data": {
      "text/html": [
       "<div>\n",
       "<style scoped>\n",
       "    .dataframe tbody tr th:only-of-type {\n",
       "        vertical-align: middle;\n",
       "    }\n",
       "\n",
       "    .dataframe tbody tr th {\n",
       "        vertical-align: top;\n",
       "    }\n",
       "\n",
       "    .dataframe thead th {\n",
       "        text-align: right;\n",
       "    }\n",
       "</style>\n",
       "<table border=\"1\" class=\"dataframe\">\n",
       "  <thead>\n",
       "    <tr style=\"text-align: right;\">\n",
       "      <th></th>\n",
       "      <th>URL</th>\n",
       "      <th>Title</th>\n",
       "      <th>Description</th>\n",
       "      <th>Content</th>\n",
       "      <th>Time</th>\n",
       "      <th>Tags</th>\n",
       "    </tr>\n",
       "  </thead>\n",
       "  <tbody>\n",
       "    <tr>\n",
       "      <th>187997</th>\n",
       "      <td>https://www.theguardian.com/money/2023/nov/22/...</td>\n",
       "      <td>Seasonal cherrypicker from Chile files unfair ...</td>\n",
       "      <td>Julia Quecaño Casimiro becomes first worker on...</td>\n",
       "      <td>When Julia Quecaño Casimiro left Chile to pick...</td>\n",
       "      <td>Wed 22 Nov 2023 00.00 EST</td>\n",
       "      <td>['Employment tribunals', 'Employment law', 'Fo...</td>\n",
       "    </tr>\n",
       "    <tr>\n",
       "      <th>187998</th>\n",
       "      <td>https://www.theguardian.com/money/2023/nov/23/...</td>\n",
       "      <td>What is national insurance and who will benefi...</td>\n",
       "      <td>With national insurance at the centre of the a...</td>\n",
       "      <td>A big national insurance cut was the centrepie...</td>\n",
       "      <td>Thu 23 Nov 2023 10.20 EST</td>\n",
       "      <td>['National insurance', 'Tax', 'Jeremy Hunt', '...</td>\n",
       "    </tr>\n",
       "    <tr>\n",
       "      <th>187999</th>\n",
       "      <td>https://www.theguardian.com/money/2023/nov/23/...</td>\n",
       "      <td>Ofgem energy price cap: what does the new year...</td>\n",
       "      <td>Campaigners say the rise comes at the ‘worst p...</td>\n",
       "      <td>The Ofgem price cap is climbing again and will...</td>\n",
       "      <td>Thu 23 Nov 2023 06.27 EST</td>\n",
       "      <td>['Energy bills', 'Consumer affairs', 'Househol...</td>\n",
       "    </tr>\n",
       "    <tr>\n",
       "      <th>188000</th>\n",
       "      <td>https://www.theguardian.com/money/2023/nov/23/...</td>\n",
       "      <td>Energy bills in Great Britain to rise by 5% fr...</td>\n",
       "      <td>Ofgem increases maximum price suppliers can ch...</td>\n",
       "      <td>Households will begin the new year with a 5% i...</td>\n",
       "      <td>Thu 23 Nov 2023 04.00 EST</td>\n",
       "      <td>['Energy bills', 'Energy industry', 'Consumer ...</td>\n",
       "    </tr>\n",
       "    <tr>\n",
       "      <th>188001</th>\n",
       "      <td>https://www.theguardian.com/money/2023/nov/23/...</td>\n",
       "      <td>HP says I should have known its £399 laptop ba...</td>\n",
       "      <td>Then it grabbed it back mid-delivery and is bl...</td>\n",
       "      <td>HP kept emailing me special offers so I checke...</td>\n",
       "      <td>Thu 23 Nov 2023 02.00 EST</td>\n",
       "      <td>['Consumer rights', 'Your problems, with Anna ...</td>\n",
       "    </tr>\n",
       "  </tbody>\n",
       "</table>\n",
       "</div>"
      ],
      "text/plain": [
       "                                                      URL  \\\n",
       "187997  https://www.theguardian.com/money/2023/nov/22/...   \n",
       "187998  https://www.theguardian.com/money/2023/nov/23/...   \n",
       "187999  https://www.theguardian.com/money/2023/nov/23/...   \n",
       "188000  https://www.theguardian.com/money/2023/nov/23/...   \n",
       "188001  https://www.theguardian.com/money/2023/nov/23/...   \n",
       "\n",
       "                                                    Title  \\\n",
       "187997  Seasonal cherrypicker from Chile files unfair ...   \n",
       "187998  What is national insurance and who will benefi...   \n",
       "187999  Ofgem energy price cap: what does the new year...   \n",
       "188000  Energy bills in Great Britain to rise by 5% fr...   \n",
       "188001  HP says I should have known its £399 laptop ba...   \n",
       "\n",
       "                                              Description  \\\n",
       "187997  Julia Quecaño Casimiro becomes first worker on...   \n",
       "187998  With national insurance at the centre of the a...   \n",
       "187999  Campaigners say the rise comes at the ‘worst p...   \n",
       "188000  Ofgem increases maximum price suppliers can ch...   \n",
       "188001  Then it grabbed it back mid-delivery and is bl...   \n",
       "\n",
       "                                                  Content  \\\n",
       "187997  When Julia Quecaño Casimiro left Chile to pick...   \n",
       "187998  A big national insurance cut was the centrepie...   \n",
       "187999  The Ofgem price cap is climbing again and will...   \n",
       "188000  Households will begin the new year with a 5% i...   \n",
       "188001  HP kept emailing me special offers so I checke...   \n",
       "\n",
       "                             Time  \\\n",
       "187997  Wed 22 Nov 2023 00.00 EST   \n",
       "187998  Thu 23 Nov 2023 10.20 EST   \n",
       "187999  Thu 23 Nov 2023 06.27 EST   \n",
       "188000  Thu 23 Nov 2023 04.00 EST   \n",
       "188001  Thu 23 Nov 2023 02.00 EST   \n",
       "\n",
       "                                                     Tags  \n",
       "187997  ['Employment tribunals', 'Employment law', 'Fo...  \n",
       "187998  ['National insurance', 'Tax', 'Jeremy Hunt', '...  \n",
       "187999  ['Energy bills', 'Consumer affairs', 'Househol...  \n",
       "188000  ['Energy bills', 'Energy industry', 'Consumer ...  \n",
       "188001  ['Consumer rights', 'Your problems, with Anna ...  "
      ]
     },
     "execution_count": 124,
     "metadata": {},
     "output_type": "execute_result"
    }
   ],
   "source": [
    "#import guardian data, test model on 2023 guardian articles\n",
    "#load new data\n",
    "guardian=pd.read_csv(\"/home/kathrin/code/kbank1/fake_news/raw_data/guardian/the_guardian_full.csv\")\n",
    "guardian.tail()"
   ]
  },
  {
   "cell_type": "code",
   "execution_count": 125,
   "id": "30b50dfe",
   "metadata": {},
   "outputs": [],
   "source": [
    "#newest articles are on the end\n",
    "#take the newest 1000\n",
    "guardian=guardian.tail(1000)"
   ]
  },
  {
   "cell_type": "code",
   "execution_count": 126,
   "id": "abea9310",
   "metadata": {},
   "outputs": [
    {
     "data": {
      "text/html": [
       "<div>\n",
       "<style scoped>\n",
       "    .dataframe tbody tr th:only-of-type {\n",
       "        vertical-align: middle;\n",
       "    }\n",
       "\n",
       "    .dataframe tbody tr th {\n",
       "        vertical-align: top;\n",
       "    }\n",
       "\n",
       "    .dataframe thead th {\n",
       "        text-align: right;\n",
       "    }\n",
       "</style>\n",
       "<table border=\"1\" class=\"dataframe\">\n",
       "  <thead>\n",
       "    <tr style=\"text-align: right;\">\n",
       "      <th></th>\n",
       "      <th>URL</th>\n",
       "      <th>Title</th>\n",
       "      <th>Description</th>\n",
       "      <th>Content</th>\n",
       "      <th>Time</th>\n",
       "      <th>Tags</th>\n",
       "    </tr>\n",
       "  </thead>\n",
       "  <tbody>\n",
       "    <tr>\n",
       "      <th>187002</th>\n",
       "      <td>https://www.theguardian.com/football/2023/nov/...</td>\n",
       "      <td>‘I’m old school’: Ange Postecoglou bemoans use...</td>\n",
       "      <td>With Spurs’ 4-1 defeat to Chelsea marked by nu...</td>\n",
       "      <td>Ange Postecoglou said that VAR has made footba...</td>\n",
       "      <td>Mon 6 Nov 2023 18.58 EST</td>\n",
       "      <td>['Tottenham Hotspur', 'Chelsea', 'Ange Posteco...</td>\n",
       "    </tr>\n",
       "    <tr>\n",
       "      <th>187003</th>\n",
       "      <td>https://www.theguardian.com/football/2023/nov/...</td>\n",
       "      <td>Tottenham’s chaotic derby defeat reveals first...</td>\n",
       "      <td>While two red cards caused pandemonium, Ange P...</td>\n",
       "      <td>The record books will show that Chelsea won it...</td>\n",
       "      <td>Mon 6 Nov 2023 18.44 EST</td>\n",
       "      <td>['Tottenham Hotspur', 'Sportblog', 'Chelsea', ...</td>\n",
       "    </tr>\n",
       "    <tr>\n",
       "      <th>187004</th>\n",
       "      <td>https://www.theguardian.com/football/2023/nov/...</td>\n",
       "      <td>Nicolas Jackson hat-trick leads Chelsea past n...</td>\n",
       "      <td>A second-half hat-trick from Nicolas Jackson g...</td>\n",
       "      <td>After everything that had gone before, it was ...</td>\n",
       "      <td>Mon 6 Nov 2023 17.20 EST</td>\n",
       "      <td>['Premier League', 'Tottenham Hotspur', 'Chels...</td>\n",
       "    </tr>\n",
       "    <tr>\n",
       "      <th>187005</th>\n",
       "      <td>https://www.theguardian.com/football/2023/nov/...</td>\n",
       "      <td>Champions League roundup: Shakhtar stun Barcel...</td>\n",
       "      <td>Danylo Sikan gave Shakhtar Donetsk a 1-0 win o...</td>\n",
       "      <td>Danylo Sikan’s towering header gave Shakhtar D...</td>\n",
       "      <td>Tue 7 Nov 2023 18.00 EST</td>\n",
       "      <td>['Champions League', 'European club football',...</td>\n",
       "    </tr>\n",
       "    <tr>\n",
       "      <th>187006</th>\n",
       "      <td>https://www.theguardian.com/football/2023/nov/...</td>\n",
       "      <td>Mikel Arteta goes all in as rage over VAR over...</td>\n",
       "      <td>The Arsenal manager is reluctant to drop his c...</td>\n",
       "      <td>What comes after the doubling down on a positi...</td>\n",
       "      <td>Tue 7 Nov 2023 17.30 EST</td>\n",
       "      <td>['Arsenal', 'Mikel Arteta', 'Sevilla', 'Europe...</td>\n",
       "    </tr>\n",
       "  </tbody>\n",
       "</table>\n",
       "</div>"
      ],
      "text/plain": [
       "                                                      URL  \\\n",
       "187002  https://www.theguardian.com/football/2023/nov/...   \n",
       "187003  https://www.theguardian.com/football/2023/nov/...   \n",
       "187004  https://www.theguardian.com/football/2023/nov/...   \n",
       "187005  https://www.theguardian.com/football/2023/nov/...   \n",
       "187006  https://www.theguardian.com/football/2023/nov/...   \n",
       "\n",
       "                                                    Title  \\\n",
       "187002  ‘I’m old school’: Ange Postecoglou bemoans use...   \n",
       "187003  Tottenham’s chaotic derby defeat reveals first...   \n",
       "187004  Nicolas Jackson hat-trick leads Chelsea past n...   \n",
       "187005  Champions League roundup: Shakhtar stun Barcel...   \n",
       "187006  Mikel Arteta goes all in as rage over VAR over...   \n",
       "\n",
       "                                              Description  \\\n",
       "187002  With Spurs’ 4-1 defeat to Chelsea marked by nu...   \n",
       "187003  While two red cards caused pandemonium, Ange P...   \n",
       "187004  A second-half hat-trick from Nicolas Jackson g...   \n",
       "187005  Danylo Sikan gave Shakhtar Donetsk a 1-0 win o...   \n",
       "187006  The Arsenal manager is reluctant to drop his c...   \n",
       "\n",
       "                                                  Content  \\\n",
       "187002  Ange Postecoglou said that VAR has made footba...   \n",
       "187003  The record books will show that Chelsea won it...   \n",
       "187004  After everything that had gone before, it was ...   \n",
       "187005  Danylo Sikan’s towering header gave Shakhtar D...   \n",
       "187006  What comes after the doubling down on a positi...   \n",
       "\n",
       "                            Time  \\\n",
       "187002  Mon 6 Nov 2023 18.58 EST   \n",
       "187003  Mon 6 Nov 2023 18.44 EST   \n",
       "187004  Mon 6 Nov 2023 17.20 EST   \n",
       "187005  Tue 7 Nov 2023 18.00 EST   \n",
       "187006  Tue 7 Nov 2023 17.30 EST   \n",
       "\n",
       "                                                     Tags  \n",
       "187002  ['Tottenham Hotspur', 'Chelsea', 'Ange Posteco...  \n",
       "187003  ['Tottenham Hotspur', 'Sportblog', 'Chelsea', ...  \n",
       "187004  ['Premier League', 'Tottenham Hotspur', 'Chels...  \n",
       "187005  ['Champions League', 'European club football',...  \n",
       "187006  ['Arsenal', 'Mikel Arteta', 'Sevilla', 'Europe...  "
      ]
     },
     "execution_count": 126,
     "metadata": {},
     "output_type": "execute_result"
    }
   ],
   "source": [
    "guardian.head()"
   ]
  },
  {
   "cell_type": "code",
   "execution_count": 128,
   "id": "ee6a6571",
   "metadata": {},
   "outputs": [],
   "source": [
    "X_test_new=guardian[\"Content\"]"
   ]
  },
  {
   "cell_type": "code",
   "execution_count": 129,
   "id": "c8434529",
   "metadata": {},
   "outputs": [],
   "source": [
    "y_pred_new=pipe.predict(X_test_new)"
   ]
  },
  {
   "cell_type": "code",
   "execution_count": 132,
   "id": "3e0ef460",
   "metadata": {},
   "outputs": [
    {
     "data": {
      "text/plain": [
       "array([0, 1])"
      ]
     },
     "execution_count": 132,
     "metadata": {},
     "output_type": "execute_result"
    }
   ],
   "source": [
    "np.unique(y_pred_new)"
   ]
  },
  {
   "cell_type": "code",
   "execution_count": 133,
   "id": "4b291459",
   "metadata": {},
   "outputs": [],
   "source": [
    "y_pred_new_df=pd.DataFrame(y_pred_new)"
   ]
  },
  {
   "cell_type": "code",
   "execution_count": 137,
   "id": "b6ab6522",
   "metadata": {},
   "outputs": [
    {
     "data": {
      "text/plain": [
       "0\n",
       "0    950\n",
       "1     50\n",
       "Name: count, dtype: int64"
      ]
     },
     "execution_count": 137,
     "metadata": {},
     "output_type": "execute_result"
    }
   ],
   "source": [
    "y_pred_new_df.value_counts()"
   ]
  },
  {
   "cell_type": "code",
   "execution_count": 139,
   "id": "a1c02f61",
   "metadata": {},
   "outputs": [],
   "source": [
    "y_prob_new=np.round(pipe.predict_proba(X_test_new),2)"
   ]
  },
  {
   "cell_type": "code",
   "execution_count": 140,
   "id": "2d24cfb7",
   "metadata": {},
   "outputs": [],
   "source": [
    "y_prob_new_df=pd.DataFrame(y_prob_new)"
   ]
  },
  {
   "cell_type": "code",
   "execution_count": 144,
   "id": "71aaf895",
   "metadata": {
    "collapsed": true
   },
   "outputs": [
    {
     "data": {
      "text/plain": [
       "0     1   \n",
       "1.00  0.00    908\n",
       "0.00  1.00     27\n",
       "0.99  0.01     16\n",
       "0.01  0.99      8\n",
       "0.98  0.02      4\n",
       "0.85  0.15      3\n",
       "0.02  0.98      3\n",
       "0.95  0.05      3\n",
       "0.03  0.97      2\n",
       "0.87  0.13      2\n",
       "0.23  0.77      2\n",
       "0.29  0.71      1\n",
       "0.34  0.66      1\n",
       "0.04  0.96      1\n",
       "0.09  0.91      1\n",
       "0.10  0.90      1\n",
       "0.26  0.74      1\n",
       "0.68  0.32      1\n",
       "0.64  0.36      1\n",
       "0.63  0.37      1\n",
       "0.55  0.45      1\n",
       "0.42  0.58      1\n",
       "0.37  0.63      1\n",
       "0.77  0.23      1\n",
       "0.79  0.21      1\n",
       "0.92  0.08      1\n",
       "0.82  0.18      1\n",
       "0.80  0.20      1\n",
       "0.81  0.19      1\n",
       "0.96  0.04      1\n",
       "0.94  0.06      1\n",
       "0.93  0.07      1\n",
       "0.97  0.03      1\n",
       "Name: count, dtype: int64"
      ]
     },
     "execution_count": 144,
     "metadata": {},
     "output_type": "execute_result"
    }
   ],
   "source": [
    "y_prob_new_df.value_counts()"
   ]
  },
  {
   "cell_type": "markdown",
   "id": "09f11055",
   "metadata": {},
   "source": [
    "## test on politifact data post 2019 (fakenewsnet is from 2018/19)"
   ]
  },
  {
   "cell_type": "code",
   "execution_count": 201,
   "id": "9fbfc956",
   "metadata": {},
   "outputs": [
    {
     "data": {
      "text/html": [
       "<div>\n",
       "<style scoped>\n",
       "    .dataframe tbody tr th:only-of-type {\n",
       "        vertical-align: middle;\n",
       "    }\n",
       "\n",
       "    .dataframe tbody tr th {\n",
       "        vertical-align: top;\n",
       "    }\n",
       "\n",
       "    .dataframe thead th {\n",
       "        text-align: right;\n",
       "    }\n",
       "</style>\n",
       "<table border=\"1\" class=\"dataframe\">\n",
       "  <thead>\n",
       "    <tr style=\"text-align: right;\">\n",
       "      <th></th>\n",
       "      <th>verdict</th>\n",
       "      <th>statement_originator</th>\n",
       "      <th>statement</th>\n",
       "      <th>statement_date</th>\n",
       "      <th>statement_source</th>\n",
       "      <th>factchecker</th>\n",
       "      <th>factcheck_date</th>\n",
       "      <th>factcheck_analysis_link</th>\n",
       "    </tr>\n",
       "  </thead>\n",
       "  <tbody>\n",
       "    <tr>\n",
       "      <th>0</th>\n",
       "      <td>true</td>\n",
       "      <td>Barack Obama</td>\n",
       "      <td>John McCain opposed bankruptcy protections for...</td>\n",
       "      <td>6/11/2008</td>\n",
       "      <td>speech</td>\n",
       "      <td>Adriel Bettelheim</td>\n",
       "      <td>6/16/2008</td>\n",
       "      <td>https://www.politifact.com/factchecks/2008/jun...</td>\n",
       "    </tr>\n",
       "    <tr>\n",
       "      <th>1</th>\n",
       "      <td>false</td>\n",
       "      <td>Matt Gaetz</td>\n",
       "      <td>\"Bennie Thompson actively cheer-led riots in t...</td>\n",
       "      <td>6/7/2022</td>\n",
       "      <td>television</td>\n",
       "      <td>Yacob Reyes</td>\n",
       "      <td>6/13/2022</td>\n",
       "      <td>https://www.politifact.com/factchecks/2022/jun...</td>\n",
       "    </tr>\n",
       "    <tr>\n",
       "      <th>2</th>\n",
       "      <td>mostly-true</td>\n",
       "      <td>Kelly Ayotte</td>\n",
       "      <td>Says Maggie Hassan was \"out of state on 30 day...</td>\n",
       "      <td>5/18/2016</td>\n",
       "      <td>news</td>\n",
       "      <td>Clay Wirestone</td>\n",
       "      <td>5/27/2016</td>\n",
       "      <td>https://www.politifact.com/factchecks/2016/may...</td>\n",
       "    </tr>\n",
       "    <tr>\n",
       "      <th>3</th>\n",
       "      <td>false</td>\n",
       "      <td>Bloggers</td>\n",
       "      <td>\"BUSTED: CDC Inflated COVID Numbers, Accused o...</td>\n",
       "      <td>2/1/2021</td>\n",
       "      <td>blog</td>\n",
       "      <td>Madison Czopek</td>\n",
       "      <td>2/5/2021</td>\n",
       "      <td>https://www.politifact.com/factchecks/2021/feb...</td>\n",
       "    </tr>\n",
       "    <tr>\n",
       "      <th>4</th>\n",
       "      <td>half-true</td>\n",
       "      <td>Bobby Jindal</td>\n",
       "      <td>\"I'm the only (Republican) candidate that has ...</td>\n",
       "      <td>8/30/2015</td>\n",
       "      <td>television</td>\n",
       "      <td>Linda Qiu</td>\n",
       "      <td>8/30/2015</td>\n",
       "      <td>https://www.politifact.com/factchecks/2015/aug...</td>\n",
       "    </tr>\n",
       "  </tbody>\n",
       "</table>\n",
       "</div>"
      ],
      "text/plain": [
       "       verdict statement_originator  \\\n",
       "0         true         Barack Obama   \n",
       "1        false           Matt Gaetz   \n",
       "2  mostly-true         Kelly Ayotte   \n",
       "3        false             Bloggers   \n",
       "4    half-true         Bobby Jindal   \n",
       "\n",
       "                                           statement statement_date  \\\n",
       "0  John McCain opposed bankruptcy protections for...      6/11/2008   \n",
       "1  \"Bennie Thompson actively cheer-led riots in t...       6/7/2022   \n",
       "2  Says Maggie Hassan was \"out of state on 30 day...      5/18/2016   \n",
       "3  \"BUSTED: CDC Inflated COVID Numbers, Accused o...       2/1/2021   \n",
       "4  \"I'm the only (Republican) candidate that has ...      8/30/2015   \n",
       "\n",
       "  statement_source        factchecker factcheck_date  \\\n",
       "0           speech  Adriel Bettelheim      6/16/2008   \n",
       "1       television        Yacob Reyes      6/13/2022   \n",
       "2             news     Clay Wirestone      5/27/2016   \n",
       "3             blog     Madison Czopek       2/5/2021   \n",
       "4       television          Linda Qiu      8/30/2015   \n",
       "\n",
       "                             factcheck_analysis_link  \n",
       "0  https://www.politifact.com/factchecks/2008/jun...  \n",
       "1  https://www.politifact.com/factchecks/2022/jun...  \n",
       "2  https://www.politifact.com/factchecks/2016/may...  \n",
       "3  https://www.politifact.com/factchecks/2021/feb...  \n",
       "4  https://www.politifact.com/factchecks/2015/aug...  "
      ]
     },
     "execution_count": 201,
     "metadata": {},
     "output_type": "execute_result"
    }
   ],
   "source": [
    "politifact=pd.read_json(\"/home/kathrin/code/kbank1/fake_news/raw_data/politifact/politifact_factcheck_data.json\", lines=True)\n",
    "\n",
    "politifact.head()"
   ]
  },
  {
   "cell_type": "code",
   "execution_count": 202,
   "id": "92fd5152",
   "metadata": {},
   "outputs": [
    {
     "name": "stdout",
     "output_type": "stream",
     "text": [
      "<class 'pandas.core.frame.DataFrame'>\n",
      "RangeIndex: 21152 entries, 0 to 21151\n",
      "Data columns (total 8 columns):\n",
      " #   Column                   Non-Null Count  Dtype \n",
      "---  ------                   --------------  ----- \n",
      " 0   verdict                  21152 non-null  object\n",
      " 1   statement_originator     21152 non-null  object\n",
      " 2   statement                21152 non-null  object\n",
      " 3   statement_date           21152 non-null  object\n",
      " 4   statement_source         21152 non-null  object\n",
      " 5   factchecker              21152 non-null  object\n",
      " 6   factcheck_date           21152 non-null  object\n",
      " 7   factcheck_analysis_link  21152 non-null  object\n",
      "dtypes: object(8)\n",
      "memory usage: 1.3+ MB\n"
     ]
    }
   ],
   "source": [
    "politifact.info()"
   ]
  },
  {
   "cell_type": "code",
   "execution_count": 203,
   "id": "f52ad3f4",
   "metadata": {},
   "outputs": [],
   "source": [
    "politifact['statement_date'] = pd.to_datetime(politifact['statement_date'])"
   ]
  },
  {
   "cell_type": "code",
   "execution_count": 204,
   "id": "967ddaff",
   "metadata": {},
   "outputs": [
    {
     "name": "stdout",
     "output_type": "stream",
     "text": [
      "<class 'pandas.core.frame.DataFrame'>\n",
      "RangeIndex: 21152 entries, 0 to 21151\n",
      "Data columns (total 8 columns):\n",
      " #   Column                   Non-Null Count  Dtype         \n",
      "---  ------                   --------------  -----         \n",
      " 0   verdict                  21152 non-null  object        \n",
      " 1   statement_originator     21152 non-null  object        \n",
      " 2   statement                21152 non-null  object        \n",
      " 3   statement_date           21152 non-null  datetime64[ns]\n",
      " 4   statement_source         21152 non-null  object        \n",
      " 5   factchecker              21152 non-null  object        \n",
      " 6   factcheck_date           21152 non-null  object        \n",
      " 7   factcheck_analysis_link  21152 non-null  object        \n",
      "dtypes: datetime64[ns](1), object(7)\n",
      "memory usage: 1.3+ MB\n"
     ]
    }
   ],
   "source": [
    "politifact.info()"
   ]
  },
  {
   "cell_type": "code",
   "execution_count": 205,
   "id": "e03d2400",
   "metadata": {},
   "outputs": [],
   "source": [
    "politifact[\"year\"]=politifact[\"statement_date\"].dt.year"
   ]
  },
  {
   "cell_type": "code",
   "execution_count": 206,
   "id": "cff5361f",
   "metadata": {},
   "outputs": [
    {
     "data": {
      "text/plain": [
       "year\n",
       "2020    2112\n",
       "2012    1942\n",
       "2011    1898\n",
       "2016    1757\n",
       "2021    1668\n",
       "2010    1574\n",
       "2014    1548\n",
       "2013    1419\n",
       "2018    1375\n",
       "2019    1355\n",
       "2015    1290\n",
       "2017    1275\n",
       "2022     891\n",
       "2009     449\n",
       "2008     438\n",
       "2007     159\n",
       "2000       1\n",
       "2002       1\n",
       "Name: count, dtype: int64"
      ]
     },
     "execution_count": 206,
     "metadata": {},
     "output_type": "execute_result"
    }
   ],
   "source": [
    "politifact.year.value_counts()"
   ]
  },
  {
   "cell_type": "code",
   "execution_count": 207,
   "id": "2ebc69f7",
   "metadata": {},
   "outputs": [
    {
     "data": {
      "text/plain": [
       "verdict\n",
       "false           5625\n",
       "half-true       3597\n",
       "mostly-false    3432\n",
       "mostly-true     3332\n",
       "pants-fire      2703\n",
       "true            2463\n",
       "Name: count, dtype: int64"
      ]
     },
     "execution_count": 207,
     "metadata": {},
     "output_type": "execute_result"
    }
   ],
   "source": [
    "politifact.verdict.value_counts()"
   ]
  },
  {
   "cell_type": "code",
   "execution_count": 208,
   "id": "f3dc9947",
   "metadata": {},
   "outputs": [],
   "source": [
    "politifact=politifact[politifact[\"year\"]>2019]"
   ]
  },
  {
   "cell_type": "code",
   "execution_count": 209,
   "id": "56c8304e",
   "metadata": {},
   "outputs": [
    {
     "data": {
      "text/plain": [
       "verdict\n",
       "false           2299\n",
       "pants-fire       810\n",
       "mostly-false     653\n",
       "half-true        438\n",
       "mostly-true      280\n",
       "true             191\n",
       "Name: count, dtype: int64"
      ]
     },
     "execution_count": 209,
     "metadata": {},
     "output_type": "execute_result"
    }
   ],
   "source": [
    "politifact.verdict.value_counts()"
   ]
  },
  {
   "cell_type": "code",
   "execution_count": 210,
   "id": "f4e3a2c8",
   "metadata": {},
   "outputs": [],
   "source": [
    "politifact= politifact[politifact[\"verdict\"].isin([\"false\", \"pants-fire\", \"true\"])]"
   ]
  },
  {
   "cell_type": "code",
   "execution_count": 211,
   "id": "7c028026",
   "metadata": {},
   "outputs": [],
   "source": [
    "politifact[\"fake\"] = 0  # Default to 0\n",
    "politifact.loc[politifact[\"verdict\"].isin([\"false\", \"pants-fire\"]), \"fake\"] = 1"
   ]
  },
  {
   "cell_type": "code",
   "execution_count": 212,
   "id": "57a1fd7d",
   "metadata": {},
   "outputs": [
    {
     "data": {
      "text/html": [
       "<div>\n",
       "<style scoped>\n",
       "    .dataframe tbody tr th:only-of-type {\n",
       "        vertical-align: middle;\n",
       "    }\n",
       "\n",
       "    .dataframe tbody tr th {\n",
       "        vertical-align: top;\n",
       "    }\n",
       "\n",
       "    .dataframe thead th {\n",
       "        text-align: right;\n",
       "    }\n",
       "</style>\n",
       "<table border=\"1\" class=\"dataframe\">\n",
       "  <thead>\n",
       "    <tr style=\"text-align: right;\">\n",
       "      <th></th>\n",
       "      <th>verdict</th>\n",
       "      <th>statement_originator</th>\n",
       "      <th>statement</th>\n",
       "      <th>statement_date</th>\n",
       "      <th>statement_source</th>\n",
       "      <th>factchecker</th>\n",
       "      <th>factcheck_date</th>\n",
       "      <th>factcheck_analysis_link</th>\n",
       "      <th>year</th>\n",
       "      <th>fake</th>\n",
       "    </tr>\n",
       "  </thead>\n",
       "  <tbody>\n",
       "    <tr>\n",
       "      <th>1</th>\n",
       "      <td>false</td>\n",
       "      <td>Matt Gaetz</td>\n",
       "      <td>\"Bennie Thompson actively cheer-led riots in t...</td>\n",
       "      <td>2022-06-07</td>\n",
       "      <td>television</td>\n",
       "      <td>Yacob Reyes</td>\n",
       "      <td>6/13/2022</td>\n",
       "      <td>https://www.politifact.com/factchecks/2022/jun...</td>\n",
       "      <td>2022</td>\n",
       "      <td>1</td>\n",
       "    </tr>\n",
       "    <tr>\n",
       "      <th>3</th>\n",
       "      <td>false</td>\n",
       "      <td>Bloggers</td>\n",
       "      <td>\"BUSTED: CDC Inflated COVID Numbers, Accused o...</td>\n",
       "      <td>2021-02-01</td>\n",
       "      <td>blog</td>\n",
       "      <td>Madison Czopek</td>\n",
       "      <td>2/5/2021</td>\n",
       "      <td>https://www.politifact.com/factchecks/2021/feb...</td>\n",
       "      <td>2021</td>\n",
       "      <td>1</td>\n",
       "    </tr>\n",
       "    <tr>\n",
       "      <th>9</th>\n",
       "      <td>true</td>\n",
       "      <td>Mandela Barnes</td>\n",
       "      <td>\"Since 1978, CEO compensation rose over 1,000%...</td>\n",
       "      <td>2021-05-23</td>\n",
       "      <td>social_media</td>\n",
       "      <td>Madeline Heim</td>\n",
       "      <td>6/2/2021</td>\n",
       "      <td>https://www.politifact.com/factchecks/2021/jun...</td>\n",
       "      <td>2021</td>\n",
       "      <td>0</td>\n",
       "    </tr>\n",
       "    <tr>\n",
       "      <th>13</th>\n",
       "      <td>false</td>\n",
       "      <td>Sidney Powell</td>\n",
       "      <td>\"At least 450,000 ballots in the key states .....</td>\n",
       "      <td>2020-11-08</td>\n",
       "      <td>news</td>\n",
       "      <td>Samantha Putterman</td>\n",
       "      <td>11/20/2020</td>\n",
       "      <td>https://www.politifact.com/factchecks/2020/nov...</td>\n",
       "      <td>2020</td>\n",
       "      <td>1</td>\n",
       "    </tr>\n",
       "    <tr>\n",
       "      <th>19</th>\n",
       "      <td>false</td>\n",
       "      <td>The Gateway Pundit</td>\n",
       "      <td>\"Newly discovered video shows late night deliv...</td>\n",
       "      <td>2021-02-05</td>\n",
       "      <td>news</td>\n",
       "      <td>Clara Hendrickson</td>\n",
       "      <td>2/5/2021</td>\n",
       "      <td>https://www.politifact.com/factchecks/2021/feb...</td>\n",
       "      <td>2021</td>\n",
       "      <td>1</td>\n",
       "    </tr>\n",
       "  </tbody>\n",
       "</table>\n",
       "</div>"
      ],
      "text/plain": [
       "   verdict statement_originator  \\\n",
       "1    false           Matt Gaetz   \n",
       "3    false             Bloggers   \n",
       "9     true       Mandela Barnes   \n",
       "13   false        Sidney Powell   \n",
       "19   false   The Gateway Pundit   \n",
       "\n",
       "                                            statement statement_date  \\\n",
       "1   \"Bennie Thompson actively cheer-led riots in t...     2022-06-07   \n",
       "3   \"BUSTED: CDC Inflated COVID Numbers, Accused o...     2021-02-01   \n",
       "9   \"Since 1978, CEO compensation rose over 1,000%...     2021-05-23   \n",
       "13  \"At least 450,000 ballots in the key states .....     2020-11-08   \n",
       "19  \"Newly discovered video shows late night deliv...     2021-02-05   \n",
       "\n",
       "   statement_source         factchecker factcheck_date  \\\n",
       "1        television         Yacob Reyes      6/13/2022   \n",
       "3              blog      Madison Czopek       2/5/2021   \n",
       "9      social_media       Madeline Heim       6/2/2021   \n",
       "13             news  Samantha Putterman     11/20/2020   \n",
       "19             news   Clara Hendrickson       2/5/2021   \n",
       "\n",
       "                              factcheck_analysis_link  year  fake  \n",
       "1   https://www.politifact.com/factchecks/2022/jun...  2022     1  \n",
       "3   https://www.politifact.com/factchecks/2021/feb...  2021     1  \n",
       "9   https://www.politifact.com/factchecks/2021/jun...  2021     0  \n",
       "13  https://www.politifact.com/factchecks/2020/nov...  2020     1  \n",
       "19  https://www.politifact.com/factchecks/2021/feb...  2021     1  "
      ]
     },
     "execution_count": 212,
     "metadata": {},
     "output_type": "execute_result"
    }
   ],
   "source": [
    "politifact.head()"
   ]
  },
  {
   "cell_type": "code",
   "execution_count": 213,
   "id": "dca3aff6",
   "metadata": {},
   "outputs": [],
   "source": [
    "X_test_new=politifact[\"statement\"]\n",
    "y_test_new=politifact[\"fake\"]"
   ]
  },
  {
   "cell_type": "code",
   "execution_count": 214,
   "id": "22bd19a5",
   "metadata": {},
   "outputs": [],
   "source": [
    "y_pred_new=pipe.predict(X_test_new)"
   ]
  },
  {
   "cell_type": "code",
   "execution_count": 215,
   "id": "f24376f3",
   "metadata": {},
   "outputs": [
    {
     "data": {
      "text/plain": [
       "{'0': {'precision': 0.07142857142857142,\n",
       "  'recall': 0.8900523560209425,\n",
       "  'f1-score': 0.13224426293271102,\n",
       "  'support': 191.0},\n",
       " '1': {'precision': 0.9771739130434782,\n",
       "  'recall': 0.28916050176905755,\n",
       "  'f1-score': 0.4462645817820799,\n",
       "  'support': 3109.0},\n",
       " 'accuracy': 0.3239393939393939,\n",
       " 'macro avg': {'precision': 0.5243012422360248,\n",
       "  'recall': 0.589606428895,\n",
       "  'f1-score': 0.28925442235739546,\n",
       "  'support': 3300.0},\n",
       " 'weighted avg': {'precision': 0.9247504705439488,\n",
       "  'recall': 0.3239393939393939,\n",
       "  'f1-score': 0.4280894663577679,\n",
       "  'support': 3300.0}}"
      ]
     },
     "execution_count": 215,
     "metadata": {},
     "output_type": "execute_result"
    }
   ],
   "source": [
    "classification_report(y_test_new, y_pred_new, output_dict=True)"
   ]
  },
  {
   "cell_type": "markdown",
   "id": "b52a0570",
   "metadata": {},
   "source": [
    "model is able to detect 89% of the real statements, but only 28% of the fake ones.\n",
    "the overall accuracy is 32% only."
   ]
  },
  {
   "cell_type": "code",
   "execution_count": 218,
   "id": "418fa3ef",
   "metadata": {
    "collapsed": true
   },
   "outputs": [
    {
     "data": {
      "text/plain": [
       "verdict\n",
       "false         2299\n",
       "pants-fire     810\n",
       "true           191\n",
       "Name: count, dtype: int64"
      ]
     },
     "execution_count": 218,
     "metadata": {},
     "output_type": "execute_result"
    }
   ],
   "source": [
    "politifact.verdict.value_counts()"
   ]
  },
  {
   "cell_type": "code",
   "execution_count": 219,
   "id": "716d25a6",
   "metadata": {
    "collapsed": true
   },
   "outputs": [
    {
     "data": {
      "text/plain": [
       "statement_source\n",
       "social_media     2297\n",
       "news              334\n",
       "blog              267\n",
       "speech            124\n",
       "advertisement      52\n",
       "other              49\n",
       "television         49\n",
       "radio              36\n",
       "campaign           34\n",
       "statement          27\n",
       "email              11\n",
       "testimony          11\n",
       "meeting             9\n",
       "Name: count, dtype: int64"
      ]
     },
     "execution_count": 219,
     "metadata": {},
     "output_type": "execute_result"
    }
   ],
   "source": [
    "politifact.statement_source.value_counts()"
   ]
  },
  {
   "cell_type": "markdown",
   "id": "c1f1c55e",
   "metadata": {},
   "source": [
    "### test on news only"
   ]
  },
  {
   "cell_type": "code",
   "execution_count": 220,
   "id": "765c9b97",
   "metadata": {},
   "outputs": [],
   "source": [
    "politifact=politifact[politifact[\"statement_source\"]==\"news\"]"
   ]
  },
  {
   "cell_type": "code",
   "execution_count": 224,
   "id": "df7e7133",
   "metadata": {},
   "outputs": [
    {
     "data": {
      "text/plain": [
       "verdict\n",
       "false         212\n",
       "pants-fire     65\n",
       "true           57\n",
       "Name: count, dtype: int64"
      ]
     },
     "execution_count": 224,
     "metadata": {},
     "output_type": "execute_result"
    }
   ],
   "source": [
    "politifact.verdict.value_counts()"
   ]
  },
  {
   "cell_type": "code",
   "execution_count": 221,
   "id": "87c2548f",
   "metadata": {},
   "outputs": [],
   "source": [
    "X_test_new=politifact[\"statement\"]\n",
    "y_test_new=politifact[\"fake\"]"
   ]
  },
  {
   "cell_type": "code",
   "execution_count": 222,
   "id": "f0430977",
   "metadata": {},
   "outputs": [],
   "source": [
    "y_pred_new=pipe.predict(X_test_new)"
   ]
  },
  {
   "cell_type": "code",
   "execution_count": 223,
   "id": "2e7a589a",
   "metadata": {},
   "outputs": [
    {
     "data": {
      "text/plain": [
       "{'0': {'precision': 0.19391634980988592,\n",
       "  'recall': 0.8947368421052632,\n",
       "  'f1-score': 0.31875,\n",
       "  'support': 57.0},\n",
       " '1': {'precision': 0.9154929577464789,\n",
       "  'recall': 0.23465703971119134,\n",
       "  'f1-score': 0.3735632183908046,\n",
       "  'support': 277.0},\n",
       " 'accuracy': 0.3473053892215569,\n",
       " 'macro avg': {'precision': 0.5547046537781823,\n",
       "  'recall': 0.5646969409082272,\n",
       "  'f1-score': 0.34615660919540225,\n",
       "  'support': 334.0},\n",
       " 'weighted avg': {'precision': 0.7923496444159824,\n",
       "  'recall': 0.3473053892215569,\n",
       "  'f1-score': 0.36420886674926006,\n",
       "  'support': 334.0}}"
      ]
     },
     "execution_count": 223,
     "metadata": {},
     "output_type": "execute_result"
    }
   ],
   "source": [
    "classification_report(y_test_new, y_pred_new, output_dict=True)"
   ]
  },
  {
   "cell_type": "code",
   "execution_count": null,
   "id": "ed13dcc0",
   "metadata": {},
   "outputs": [],
   "source": []
  }
 ],
 "metadata": {
  "kernelspec": {
   "display_name": "Python 3 (ipykernel)",
   "language": "python",
   "name": "python3"
  },
  "language_info": {
   "codemirror_mode": {
    "name": "ipython",
    "version": 3
   },
   "file_extension": ".py",
   "mimetype": "text/x-python",
   "name": "python",
   "nbconvert_exporter": "python",
   "pygments_lexer": "ipython3",
   "version": "3.10.6"
  },
  "toc": {
   "base_numbering": 1,
   "nav_menu": {},
   "number_sections": true,
   "sideBar": true,
   "skip_h1_title": false,
   "title_cell": "Table of Contents",
   "title_sidebar": "Contents",
   "toc_cell": false,
   "toc_position": {},
   "toc_section_display": true,
   "toc_window_display": false
  }
 },
 "nbformat": 4,
 "nbformat_minor": 5
}
